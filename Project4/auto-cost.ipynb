{
 "cells": [
  {
   "cell_type": "markdown",
   "metadata": {},
   "source": [
    "# Определение стоимости автомобилей\n",
    "# Описание проекта"
   ]
  },
  {
   "cell_type": "markdown",
   "metadata": {},
   "source": [
    "Сервис по продаже автомобилей с пробегом разрабатывает приложение для привлечения новых клиентов. В нём можно быстро узнать рыночную стоимость своего автомобиля. В вашем распоряжении исторические данные: технические характеристики, комплектации и цены автомобилей. Вам нужно построить модель для определения стоимости. "
   ]
  },
  {
   "cell_type": "markdown",
   "metadata": {},
   "source": [
    "# Описание данных\n",
    "Данные находятся в файле `/datasets/autos.csv`\n",
    "\n",
    "**Признаки:**\n",
    "* DateCrawled — дата скачивания анкеты из базы\n",
    "* VehicleType — тип автомобильного кузова\n",
    "* RegistrationYear — год регистрации автомобиля\n",
    "* Gearbox — тип коробки передач\n",
    "* Power — мощность (л. с.)\n",
    "* Model — модель автомобиля\n",
    "* Kilometer — пробег (км)\n",
    "* RegistrationMonth — месяц регистрации автомобиля\n",
    "* FuelType — тип топлива\n",
    "* Brand — марка автомобиля\n",
    "* NotRepaired — была машина в ремонте или нет\n",
    "* DateCreated — дата создания анкеты\n",
    "* NumberOfPictures — количество фотографий автомобиля\n",
    "* PostalCode — почтовый индекс владельца анкеты (пользователя)\n",
    "* LastSeen — дата последней активности пользователя\n",
    "\n",
    "**Целевой признак:**\n",
    "* Price — цена (евро)"
   ]
  },
  {
   "cell_type": "markdown",
   "metadata": {},
   "source": [
    "# План работы\n",
    "\n",
    "**1. Загрузка данных**\n",
    "\n",
    "Загрузите данные и выполните их первичный осмотр.\n",
    "\n",
    "**2. Исследовательский анализ и предобработка данных**\n",
    "\n",
    "Изучите данные. Заполните пропущенные значения и обработайте аномалии в столбцах. Если среди признаков имеются неинформативные, удалите их.\n",
    "\n",
    "**3. Подготовка выборок для обучения моделей**\n",
    "\n",
    "Разделить данные на три выборки для обучения, валидации и теста моделей.\n",
    "\n",
    "**4. Обучение моделей машинного обучения**\n",
    "\n",
    "Обучить разные модели на основе бустинга, а также модель не бустинг\n",
    "\n",
    "**5. Анализ времени обучения, времени предсказания и качествв моделей**\n",
    "\n",
    "Для каждой модели замерить время обучения и предсказания, а также провести оценку качества модели при помощи RMSE.\n",
    "\n",
    "**6. Выбор лучшей модели**\n",
    "\n",
    "На основе полученных данных составить таблицу времени и точности моделец. Наилучшую модель протестировать на тестовых данных.\n",
    "\n",
    "**7. Общий вывод и рекомендации заказчику**\n",
    "\n",
    "Сделайте общий вывод о проделанной работе: опишите основные этапы работы, полученные результаты и дайте рекомендации для бизнеса.\n"
   ]
  },
  {
   "cell_type": "markdown",
   "metadata": {},
   "source": [
    "## Подготовка данных"
   ]
  },
  {
   "cell_type": "code",
   "execution_count": 1,
   "metadata": {},
   "outputs": [],
   "source": [
    "!pip install phik -q\n",
    "!pip install --upgrade scikit-learn -q\n",
    "\n",
    "import pandas as pd\n",
    "import numpy as np\n",
    "import matplotlib.pyplot as plt\n",
    "import seaborn as sns\n",
    "from time import time\n",
    "\n",
    "import phik\n",
    "import sklearn\n",
    "\n",
    "# Предобработка данных\n",
    "from sklearn.model_selection import train_test_split\n",
    "from sklearn.preprocessing import OneHotEncoder\n",
    "from sklearn.preprocessing import StandardScaler\n",
    "\n",
    "# Модели обучение\n",
    "from sklearn.linear_model import LinearRegression\n",
    "from lightgbm import LGBMRegressor\n",
    "from catboost import CatBoostRegressor\n",
    "\n",
    "# Метрики\n",
    "from sklearn.metrics import root_mean_squared_error\n",
    "from sklearn.model_selection import cross_val_score\n",
    "from sklearn.model_selection import GridSearchCV\n",
    "\n",
    "\n",
    "RANDOM_STATE = 3"
   ]
  },
  {
   "cell_type": "code",
   "execution_count": 2,
   "metadata": {},
   "outputs": [],
   "source": [
    "df = pd.read_csv('/datasets/autos.csv', parse_dates=['DateCrawled', 'DateCreated', 'LastSeen'])"
   ]
  },
  {
   "cell_type": "code",
   "execution_count": 3,
   "metadata": {},
   "outputs": [
    {
     "data": {
      "text/html": [
       "<div>\n",
       "<style scoped>\n",
       "    .dataframe tbody tr th:only-of-type {\n",
       "        vertical-align: middle;\n",
       "    }\n",
       "\n",
       "    .dataframe tbody tr th {\n",
       "        vertical-align: top;\n",
       "    }\n",
       "\n",
       "    .dataframe thead th {\n",
       "        text-align: right;\n",
       "    }\n",
       "</style>\n",
       "<table border=\"1\" class=\"dataframe\">\n",
       "  <thead>\n",
       "    <tr style=\"text-align: right;\">\n",
       "      <th></th>\n",
       "      <th>DateCrawled</th>\n",
       "      <th>Price</th>\n",
       "      <th>VehicleType</th>\n",
       "      <th>RegistrationYear</th>\n",
       "      <th>Gearbox</th>\n",
       "      <th>Power</th>\n",
       "      <th>Model</th>\n",
       "      <th>Kilometer</th>\n",
       "      <th>RegistrationMonth</th>\n",
       "      <th>FuelType</th>\n",
       "      <th>Brand</th>\n",
       "      <th>Repaired</th>\n",
       "      <th>DateCreated</th>\n",
       "      <th>NumberOfPictures</th>\n",
       "      <th>PostalCode</th>\n",
       "      <th>LastSeen</th>\n",
       "    </tr>\n",
       "  </thead>\n",
       "  <tbody>\n",
       "    <tr>\n",
       "      <th>351601</th>\n",
       "      <td>2016-03-25 20:38:21</td>\n",
       "      <td>13333</td>\n",
       "      <td>bus</td>\n",
       "      <td>2011</td>\n",
       "      <td>auto</td>\n",
       "      <td>160</td>\n",
       "      <td>altea</td>\n",
       "      <td>60000</td>\n",
       "      <td>8</td>\n",
       "      <td>petrol</td>\n",
       "      <td>seat</td>\n",
       "      <td>no</td>\n",
       "      <td>2016-03-25</td>\n",
       "      <td>0</td>\n",
       "      <td>57439</td>\n",
       "      <td>2016-04-07 02:45:56</td>\n",
       "    </tr>\n",
       "    <tr>\n",
       "      <th>194236</th>\n",
       "      <td>2016-03-10 20:46:42</td>\n",
       "      <td>15999</td>\n",
       "      <td>suv</td>\n",
       "      <td>2010</td>\n",
       "      <td>manual</td>\n",
       "      <td>163</td>\n",
       "      <td>kuga</td>\n",
       "      <td>60000</td>\n",
       "      <td>12</td>\n",
       "      <td>gasoline</td>\n",
       "      <td>ford</td>\n",
       "      <td>no</td>\n",
       "      <td>2016-03-10</td>\n",
       "      <td>0</td>\n",
       "      <td>68649</td>\n",
       "      <td>2016-04-06 07:46:49</td>\n",
       "    </tr>\n",
       "    <tr>\n",
       "      <th>120154</th>\n",
       "      <td>2016-03-27 13:58:57</td>\n",
       "      <td>6450</td>\n",
       "      <td>sedan</td>\n",
       "      <td>2007</td>\n",
       "      <td>manual</td>\n",
       "      <td>116</td>\n",
       "      <td>golf</td>\n",
       "      <td>150000</td>\n",
       "      <td>5</td>\n",
       "      <td>petrol</td>\n",
       "      <td>volkswagen</td>\n",
       "      <td>no</td>\n",
       "      <td>2016-03-27</td>\n",
       "      <td>0</td>\n",
       "      <td>49779</td>\n",
       "      <td>2016-03-27 13:58:57</td>\n",
       "    </tr>\n",
       "    <tr>\n",
       "      <th>237579</th>\n",
       "      <td>2016-03-12 20:39:32</td>\n",
       "      <td>2300</td>\n",
       "      <td>small</td>\n",
       "      <td>1999</td>\n",
       "      <td>manual</td>\n",
       "      <td>101</td>\n",
       "      <td>a2</td>\n",
       "      <td>150000</td>\n",
       "      <td>1</td>\n",
       "      <td>petrol</td>\n",
       "      <td>audi</td>\n",
       "      <td>NaN</td>\n",
       "      <td>2016-03-12</td>\n",
       "      <td>0</td>\n",
       "      <td>48231</td>\n",
       "      <td>2016-03-20 00:44:45</td>\n",
       "    </tr>\n",
       "    <tr>\n",
       "      <th>46672</th>\n",
       "      <td>2016-03-30 08:52:18</td>\n",
       "      <td>490</td>\n",
       "      <td>small</td>\n",
       "      <td>1997</td>\n",
       "      <td>manual</td>\n",
       "      <td>54</td>\n",
       "      <td>corsa</td>\n",
       "      <td>150000</td>\n",
       "      <td>11</td>\n",
       "      <td>petrol</td>\n",
       "      <td>opel</td>\n",
       "      <td>no</td>\n",
       "      <td>2016-03-30</td>\n",
       "      <td>0</td>\n",
       "      <td>29439</td>\n",
       "      <td>2016-03-30 09:39:10</td>\n",
       "    </tr>\n",
       "  </tbody>\n",
       "</table>\n",
       "</div>"
      ],
      "text/plain": [
       "               DateCrawled  Price VehicleType  RegistrationYear Gearbox  \\\n",
       "351601 2016-03-25 20:38:21  13333         bus              2011    auto   \n",
       "194236 2016-03-10 20:46:42  15999         suv              2010  manual   \n",
       "120154 2016-03-27 13:58:57   6450       sedan              2007  manual   \n",
       "237579 2016-03-12 20:39:32   2300       small              1999  manual   \n",
       "46672  2016-03-30 08:52:18    490       small              1997  manual   \n",
       "\n",
       "        Power  Model  Kilometer  RegistrationMonth  FuelType       Brand  \\\n",
       "351601    160  altea      60000                  8    petrol        seat   \n",
       "194236    163   kuga      60000                 12  gasoline        ford   \n",
       "120154    116   golf     150000                  5    petrol  volkswagen   \n",
       "237579    101     a2     150000                  1    petrol        audi   \n",
       "46672      54  corsa     150000                 11    petrol        opel   \n",
       "\n",
       "       Repaired DateCreated  NumberOfPictures  PostalCode            LastSeen  \n",
       "351601       no  2016-03-25                 0       57439 2016-04-07 02:45:56  \n",
       "194236       no  2016-03-10                 0       68649 2016-04-06 07:46:49  \n",
       "120154       no  2016-03-27                 0       49779 2016-03-27 13:58:57  \n",
       "237579      NaN  2016-03-12                 0       48231 2016-03-20 00:44:45  \n",
       "46672        no  2016-03-30                 0       29439 2016-03-30 09:39:10  "
      ]
     },
     "metadata": {},
     "output_type": "display_data"
    },
    {
     "name": "stdout",
     "output_type": "stream",
     "text": [
      "<class 'pandas.core.frame.DataFrame'>\n",
      "RangeIndex: 354369 entries, 0 to 354368\n",
      "Data columns (total 16 columns):\n",
      " #   Column             Non-Null Count   Dtype         \n",
      "---  ------             --------------   -----         \n",
      " 0   DateCrawled        354369 non-null  datetime64[ns]\n",
      " 1   Price              354369 non-null  int64         \n",
      " 2   VehicleType        316879 non-null  object        \n",
      " 3   RegistrationYear   354369 non-null  int64         \n",
      " 4   Gearbox            334536 non-null  object        \n",
      " 5   Power              354369 non-null  int64         \n",
      " 6   Model              334664 non-null  object        \n",
      " 7   Kilometer          354369 non-null  int64         \n",
      " 8   RegistrationMonth  354369 non-null  int64         \n",
      " 9   FuelType           321474 non-null  object        \n",
      " 10  Brand              354369 non-null  object        \n",
      " 11  Repaired           283215 non-null  object        \n",
      " 12  DateCreated        354369 non-null  datetime64[ns]\n",
      " 13  NumberOfPictures   354369 non-null  int64         \n",
      " 14  PostalCode         354369 non-null  int64         \n",
      " 15  LastSeen           354369 non-null  datetime64[ns]\n",
      "dtypes: datetime64[ns](3), int64(7), object(6)\n",
      "memory usage: 43.3+ MB\n"
     ]
    }
   ],
   "source": [
    "display(df.sample(5))\n",
    "df.info()"
   ]
  },
  {
   "cell_type": "code",
   "execution_count": 4,
   "metadata": {},
   "outputs": [
    {
     "data": {
      "text/plain": [
       "DateCrawled           0.00\n",
       "Price                 0.00\n",
       "VehicleType          10.58\n",
       "RegistrationYear      0.00\n",
       "Gearbox               5.60\n",
       "Power                 0.00\n",
       "Model                 5.56\n",
       "Kilometer             0.00\n",
       "RegistrationMonth     0.00\n",
       "FuelType              9.28\n",
       "Brand                 0.00\n",
       "Repaired             20.08\n",
       "DateCreated           0.00\n",
       "NumberOfPictures      0.00\n",
       "PostalCode            0.00\n",
       "LastSeen              0.00\n",
       "dtype: float64"
      ]
     },
     "execution_count": 4,
     "metadata": {},
     "output_type": "execute_result"
    }
   ],
   "source": [
    "round(df.isna().mean()*100, 2)"
   ]
  },
  {
   "cell_type": "markdown",
   "metadata": {},
   "source": [
    "**Вывод** Типы данных при выгрузке соответсвуют своим значениям. Имеются пропуски в данных в некоторых из столбцов. Больше всего пропусков в столбце Repaired состовляющий 20% от общего количества данных. Пропуск в данных вероятно связан с человеческим фактором"
   ]
  },
  {
   "cell_type": "markdown",
   "metadata": {},
   "source": [
    "### Предобработка данных"
   ]
  },
  {
   "cell_type": "code",
   "execution_count": 5,
   "metadata": {},
   "outputs": [
    {
     "name": "stdout",
     "output_type": "stream",
     "text": [
      "4\n",
      "0\n"
     ]
    }
   ],
   "source": [
    "print(df.duplicated().sum())\n",
    "df.drop_duplicates(inplace=True)\n",
    "print(df.duplicated().sum())"
   ]
  },
  {
   "cell_type": "code",
   "execution_count": 6,
   "metadata": {},
   "outputs": [
    {
     "data": {
      "text/html": [
       "<div>\n",
       "<style scoped>\n",
       "    .dataframe tbody tr th:only-of-type {\n",
       "        vertical-align: middle;\n",
       "    }\n",
       "\n",
       "    .dataframe tbody tr th {\n",
       "        vertical-align: top;\n",
       "    }\n",
       "\n",
       "    .dataframe thead th {\n",
       "        text-align: right;\n",
       "    }\n",
       "</style>\n",
       "<table border=\"1\" class=\"dataframe\">\n",
       "  <thead>\n",
       "    <tr style=\"text-align: right;\">\n",
       "      <th></th>\n",
       "      <th>VehicleType</th>\n",
       "      <th>Gearbox</th>\n",
       "      <th>Model</th>\n",
       "      <th>FuelType</th>\n",
       "      <th>Brand</th>\n",
       "      <th>Repaired</th>\n",
       "    </tr>\n",
       "  </thead>\n",
       "  <tbody>\n",
       "    <tr>\n",
       "      <th>count</th>\n",
       "      <td>316875</td>\n",
       "      <td>334532</td>\n",
       "      <td>334660</td>\n",
       "      <td>321470</td>\n",
       "      <td>354365</td>\n",
       "      <td>283211</td>\n",
       "    </tr>\n",
       "    <tr>\n",
       "      <th>unique</th>\n",
       "      <td>8</td>\n",
       "      <td>2</td>\n",
       "      <td>250</td>\n",
       "      <td>7</td>\n",
       "      <td>40</td>\n",
       "      <td>2</td>\n",
       "    </tr>\n",
       "    <tr>\n",
       "      <th>top</th>\n",
       "      <td>sedan</td>\n",
       "      <td>manual</td>\n",
       "      <td>golf</td>\n",
       "      <td>petrol</td>\n",
       "      <td>volkswagen</td>\n",
       "      <td>no</td>\n",
       "    </tr>\n",
       "    <tr>\n",
       "      <th>freq</th>\n",
       "      <td>91457</td>\n",
       "      <td>268249</td>\n",
       "      <td>29232</td>\n",
       "      <td>216349</td>\n",
       "      <td>77012</td>\n",
       "      <td>247158</td>\n",
       "    </tr>\n",
       "  </tbody>\n",
       "</table>\n",
       "</div>"
      ],
      "text/plain": [
       "       VehicleType Gearbox   Model FuelType       Brand Repaired\n",
       "count       316875  334532  334660   321470      354365   283211\n",
       "unique           8       2     250        7          40        2\n",
       "top          sedan  manual    golf   petrol  volkswagen       no\n",
       "freq         91457  268249   29232   216349       77012   247158"
      ]
     },
     "metadata": {},
     "output_type": "display_data"
    },
    {
     "data": {
      "text/html": [
       "<div>\n",
       "<style scoped>\n",
       "    .dataframe tbody tr th:only-of-type {\n",
       "        vertical-align: middle;\n",
       "    }\n",
       "\n",
       "    .dataframe tbody tr th {\n",
       "        vertical-align: top;\n",
       "    }\n",
       "\n",
       "    .dataframe thead th {\n",
       "        text-align: right;\n",
       "    }\n",
       "</style>\n",
       "<table border=\"1\" class=\"dataframe\">\n",
       "  <thead>\n",
       "    <tr style=\"text-align: right;\">\n",
       "      <th></th>\n",
       "      <th>Price</th>\n",
       "      <th>RegistrationYear</th>\n",
       "      <th>Power</th>\n",
       "      <th>Kilometer</th>\n",
       "      <th>RegistrationMonth</th>\n",
       "      <th>NumberOfPictures</th>\n",
       "      <th>PostalCode</th>\n",
       "    </tr>\n",
       "  </thead>\n",
       "  <tbody>\n",
       "    <tr>\n",
       "      <th>count</th>\n",
       "      <td>354365.000000</td>\n",
       "      <td>354365.000000</td>\n",
       "      <td>354365.000000</td>\n",
       "      <td>354365.000000</td>\n",
       "      <td>354365.000000</td>\n",
       "      <td>354365.0</td>\n",
       "      <td>354365.000000</td>\n",
       "    </tr>\n",
       "    <tr>\n",
       "      <th>mean</th>\n",
       "      <td>4416.679830</td>\n",
       "      <td>2004.234481</td>\n",
       "      <td>110.093816</td>\n",
       "      <td>128211.363989</td>\n",
       "      <td>5.714650</td>\n",
       "      <td>0.0</td>\n",
       "      <td>50508.503800</td>\n",
       "    </tr>\n",
       "    <tr>\n",
       "      <th>std</th>\n",
       "      <td>4514.176349</td>\n",
       "      <td>90.228466</td>\n",
       "      <td>189.851330</td>\n",
       "      <td>37905.083858</td>\n",
       "      <td>3.726432</td>\n",
       "      <td>0.0</td>\n",
       "      <td>25783.100078</td>\n",
       "    </tr>\n",
       "    <tr>\n",
       "      <th>min</th>\n",
       "      <td>0.000000</td>\n",
       "      <td>1000.000000</td>\n",
       "      <td>0.000000</td>\n",
       "      <td>5000.000000</td>\n",
       "      <td>0.000000</td>\n",
       "      <td>0.0</td>\n",
       "      <td>1067.000000</td>\n",
       "    </tr>\n",
       "    <tr>\n",
       "      <th>25%</th>\n",
       "      <td>1050.000000</td>\n",
       "      <td>1999.000000</td>\n",
       "      <td>69.000000</td>\n",
       "      <td>125000.000000</td>\n",
       "      <td>3.000000</td>\n",
       "      <td>0.0</td>\n",
       "      <td>30165.000000</td>\n",
       "    </tr>\n",
       "    <tr>\n",
       "      <th>50%</th>\n",
       "      <td>2700.000000</td>\n",
       "      <td>2003.000000</td>\n",
       "      <td>105.000000</td>\n",
       "      <td>150000.000000</td>\n",
       "      <td>6.000000</td>\n",
       "      <td>0.0</td>\n",
       "      <td>49413.000000</td>\n",
       "    </tr>\n",
       "    <tr>\n",
       "      <th>75%</th>\n",
       "      <td>6400.000000</td>\n",
       "      <td>2008.000000</td>\n",
       "      <td>143.000000</td>\n",
       "      <td>150000.000000</td>\n",
       "      <td>9.000000</td>\n",
       "      <td>0.0</td>\n",
       "      <td>71083.000000</td>\n",
       "    </tr>\n",
       "    <tr>\n",
       "      <th>max</th>\n",
       "      <td>20000.000000</td>\n",
       "      <td>9999.000000</td>\n",
       "      <td>20000.000000</td>\n",
       "      <td>150000.000000</td>\n",
       "      <td>12.000000</td>\n",
       "      <td>0.0</td>\n",
       "      <td>99998.000000</td>\n",
       "    </tr>\n",
       "  </tbody>\n",
       "</table>\n",
       "</div>"
      ],
      "text/plain": [
       "               Price  RegistrationYear          Power      Kilometer  \\\n",
       "count  354365.000000     354365.000000  354365.000000  354365.000000   \n",
       "mean     4416.679830       2004.234481     110.093816  128211.363989   \n",
       "std      4514.176349         90.228466     189.851330   37905.083858   \n",
       "min         0.000000       1000.000000       0.000000    5000.000000   \n",
       "25%      1050.000000       1999.000000      69.000000  125000.000000   \n",
       "50%      2700.000000       2003.000000     105.000000  150000.000000   \n",
       "75%      6400.000000       2008.000000     143.000000  150000.000000   \n",
       "max     20000.000000       9999.000000   20000.000000  150000.000000   \n",
       "\n",
       "       RegistrationMonth  NumberOfPictures     PostalCode  \n",
       "count      354365.000000          354365.0  354365.000000  \n",
       "mean            5.714650               0.0   50508.503800  \n",
       "std             3.726432               0.0   25783.100078  \n",
       "min             0.000000               0.0    1067.000000  \n",
       "25%             3.000000               0.0   30165.000000  \n",
       "50%             6.000000               0.0   49413.000000  \n",
       "75%             9.000000               0.0   71083.000000  \n",
       "max            12.000000               0.0   99998.000000  "
      ]
     },
     "execution_count": 6,
     "metadata": {},
     "output_type": "execute_result"
    }
   ],
   "source": [
    "data_new = df.copy()\n",
    "display(data_new.describe(include='object'))\n",
    "data_new.describe()"
   ]
  },
  {
   "cell_type": "code",
   "execution_count": 7,
   "metadata": {},
   "outputs": [
    {
     "data": {
      "text/plain": [
       "DateCrawled          0.000000\n",
       "Price                0.000000\n",
       "VehicleType          0.105795\n",
       "RegistrationYear     0.000000\n",
       "Gearbox              0.000000\n",
       "Power                0.000000\n",
       "Model                0.000000\n",
       "Kilometer            0.000000\n",
       "RegistrationMonth    0.000000\n",
       "FuelType             0.092828\n",
       "Brand                0.000000\n",
       "Repaired             0.000000\n",
       "DateCreated          0.000000\n",
       "NumberOfPictures     0.000000\n",
       "PostalCode           0.000000\n",
       "LastSeen             0.000000\n",
       "dtype: float64"
      ]
     },
     "execution_count": 7,
     "metadata": {},
     "output_type": "execute_result"
    }
   ],
   "source": [
    "data_new.fillna({'Gearbox':'manual','Repaired':'no','Model':'unknown'}, inplace=True)\n",
    "data_new.isna().mean()"
   ]
  },
  {
   "cell_type": "markdown",
   "metadata": {},
   "source": [
    "**Вывод** `Gearbox`, `Repaired` заменил на моду. Пропуски в `Model` заполнил значением `unknown`"
   ]
  },
  {
   "cell_type": "code",
   "execution_count": 8,
   "metadata": {},
   "outputs": [
    {
     "data": {
      "text/plain": [
       "DateCrawled          0.0\n",
       "Price                0.0\n",
       "VehicleType          0.0\n",
       "RegistrationYear     0.0\n",
       "Gearbox              0.0\n",
       "Power                0.0\n",
       "Model                0.0\n",
       "Kilometer            0.0\n",
       "RegistrationMonth    0.0\n",
       "FuelType             0.0\n",
       "Brand                0.0\n",
       "Repaired             0.0\n",
       "DateCreated          0.0\n",
       "NumberOfPictures     0.0\n",
       "PostalCode           0.0\n",
       "LastSeen             0.0\n",
       "dtype: float64"
      ]
     },
     "execution_count": 8,
     "metadata": {},
     "output_type": "execute_result"
    }
   ],
   "source": [
    "data_new['VehicleType'] = (data_new.groupby(['Brand', 'Model'])['VehicleType'].transform(lambda x: x.fillna(value=(x.mode()[0] if not x.mode().empty else \"unknown\"))))\n",
    "data_new['FuelType'] = (data_new.groupby(['Brand', 'Model'])['FuelType'].transform(lambda x: x.fillna(value=(x.mode()[0] if not x.mode().empty else \"unknown\"))))\n",
    "data_new.isnull().sum()\n",
    "data_new.isna().mean()"
   ]
  },
  {
   "cell_type": "markdown",
   "metadata": {},
   "source": [
    "**Вывод** Пропуски в `VehicleType` и `FuelType` заполнил данными из столбцов  `Brand` и `Model`"
   ]
  },
  {
   "cell_type": "code",
   "execution_count": 9,
   "metadata": {},
   "outputs": [
    {
     "data": {
      "text/html": [
       "<div>\n",
       "<style scoped>\n",
       "    .dataframe tbody tr th:only-of-type {\n",
       "        vertical-align: middle;\n",
       "    }\n",
       "\n",
       "    .dataframe tbody tr th {\n",
       "        vertical-align: top;\n",
       "    }\n",
       "\n",
       "    .dataframe thead th {\n",
       "        text-align: right;\n",
       "    }\n",
       "</style>\n",
       "<table border=\"1\" class=\"dataframe\">\n",
       "  <thead>\n",
       "    <tr style=\"text-align: right;\">\n",
       "      <th></th>\n",
       "      <th>Price</th>\n",
       "      <th>RegistrationYear</th>\n",
       "      <th>Power</th>\n",
       "      <th>Kilometer</th>\n",
       "      <th>RegistrationMonth</th>\n",
       "      <th>NumberOfPictures</th>\n",
       "      <th>PostalCode</th>\n",
       "    </tr>\n",
       "  </thead>\n",
       "  <tbody>\n",
       "    <tr>\n",
       "      <th>count</th>\n",
       "      <td>354365.000000</td>\n",
       "      <td>354365.000000</td>\n",
       "      <td>354365.000000</td>\n",
       "      <td>354365.000000</td>\n",
       "      <td>354365.000000</td>\n",
       "      <td>354365.0</td>\n",
       "      <td>354365.000000</td>\n",
       "    </tr>\n",
       "    <tr>\n",
       "      <th>mean</th>\n",
       "      <td>4416.679830</td>\n",
       "      <td>2004.234481</td>\n",
       "      <td>110.093816</td>\n",
       "      <td>128211.363989</td>\n",
       "      <td>5.714650</td>\n",
       "      <td>0.0</td>\n",
       "      <td>50508.503800</td>\n",
       "    </tr>\n",
       "    <tr>\n",
       "      <th>std</th>\n",
       "      <td>4514.176349</td>\n",
       "      <td>90.228466</td>\n",
       "      <td>189.851330</td>\n",
       "      <td>37905.083858</td>\n",
       "      <td>3.726432</td>\n",
       "      <td>0.0</td>\n",
       "      <td>25783.100078</td>\n",
       "    </tr>\n",
       "    <tr>\n",
       "      <th>min</th>\n",
       "      <td>0.000000</td>\n",
       "      <td>1000.000000</td>\n",
       "      <td>0.000000</td>\n",
       "      <td>5000.000000</td>\n",
       "      <td>0.000000</td>\n",
       "      <td>0.0</td>\n",
       "      <td>1067.000000</td>\n",
       "    </tr>\n",
       "    <tr>\n",
       "      <th>25%</th>\n",
       "      <td>1050.000000</td>\n",
       "      <td>1999.000000</td>\n",
       "      <td>69.000000</td>\n",
       "      <td>125000.000000</td>\n",
       "      <td>3.000000</td>\n",
       "      <td>0.0</td>\n",
       "      <td>30165.000000</td>\n",
       "    </tr>\n",
       "    <tr>\n",
       "      <th>50%</th>\n",
       "      <td>2700.000000</td>\n",
       "      <td>2003.000000</td>\n",
       "      <td>105.000000</td>\n",
       "      <td>150000.000000</td>\n",
       "      <td>6.000000</td>\n",
       "      <td>0.0</td>\n",
       "      <td>49413.000000</td>\n",
       "    </tr>\n",
       "    <tr>\n",
       "      <th>75%</th>\n",
       "      <td>6400.000000</td>\n",
       "      <td>2008.000000</td>\n",
       "      <td>143.000000</td>\n",
       "      <td>150000.000000</td>\n",
       "      <td>9.000000</td>\n",
       "      <td>0.0</td>\n",
       "      <td>71083.000000</td>\n",
       "    </tr>\n",
       "    <tr>\n",
       "      <th>max</th>\n",
       "      <td>20000.000000</td>\n",
       "      <td>9999.000000</td>\n",
       "      <td>20000.000000</td>\n",
       "      <td>150000.000000</td>\n",
       "      <td>12.000000</td>\n",
       "      <td>0.0</td>\n",
       "      <td>99998.000000</td>\n",
       "    </tr>\n",
       "  </tbody>\n",
       "</table>\n",
       "</div>"
      ],
      "text/plain": [
       "               Price  RegistrationYear          Power      Kilometer  \\\n",
       "count  354365.000000     354365.000000  354365.000000  354365.000000   \n",
       "mean     4416.679830       2004.234481     110.093816  128211.363989   \n",
       "std      4514.176349         90.228466     189.851330   37905.083858   \n",
       "min         0.000000       1000.000000       0.000000    5000.000000   \n",
       "25%      1050.000000       1999.000000      69.000000  125000.000000   \n",
       "50%      2700.000000       2003.000000     105.000000  150000.000000   \n",
       "75%      6400.000000       2008.000000     143.000000  150000.000000   \n",
       "max     20000.000000       9999.000000   20000.000000  150000.000000   \n",
       "\n",
       "       RegistrationMonth  NumberOfPictures     PostalCode  \n",
       "count      354365.000000          354365.0  354365.000000  \n",
       "mean            5.714650               0.0   50508.503800  \n",
       "std             3.726432               0.0   25783.100078  \n",
       "min             0.000000               0.0    1067.000000  \n",
       "25%             3.000000               0.0   30165.000000  \n",
       "50%             6.000000               0.0   49413.000000  \n",
       "75%             9.000000               0.0   71083.000000  \n",
       "max            12.000000               0.0   99998.000000  "
      ]
     },
     "execution_count": 9,
     "metadata": {},
     "output_type": "execute_result"
    }
   ],
   "source": [
    "data_new.describe()"
   ]
  },
  {
   "cell_type": "code",
   "execution_count": 10,
   "metadata": {},
   "outputs": [],
   "source": [
    "# Мощность и цена должны быть выше нуля\n",
    "data_new = data_new[data_new['Price'] != 0]\n",
    "data_new = data_new[data_new['Power'] != 0]"
   ]
  },
  {
   "cell_type": "code",
   "execution_count": 11,
   "metadata": {},
   "outputs": [
    {
     "name": "stdout",
     "output_type": "stream",
     "text": [
      "[1000 1234 1400 1500 1600 1800 1910 1923 1927 1928 1929 1930 1931 1932\n",
      " 1933 1935 1936 1937 1938 1940 1941 1942 1943 1944 1945 1947 1948 1949\n",
      " 1950 1951 1952 1953 1954 1955 1956 1957 1958 1959 1960 1961 1962 1963\n",
      " 1964 1965 1966 1967 1968 1969 1970 1971 1972 1973 1974 1975 1976 1977\n",
      " 1978 1979 1980 1981 1982 1983 1984 1985 1986 1987 1988 1989 1990 1991\n",
      " 1992 1993 1994 1995 1996 1997 1998 1999 2000 2001 2002 2003 2004 2005\n",
      " 2006 2007 2008 2009 2010 2011 2012 2013 2014 2015 2016 2017 2018 2019\n",
      " 2800 2900 3000 4000 4500 4800 5000 5911 6000 6500 8000 8200 9999]\n"
     ]
    },
    {
     "data": {
      "text/plain": [
       "count    296878.000000\n",
       "mean       2002.818565\n",
       "std           6.529658\n",
       "min        1931.000000\n",
       "25%        1999.000000\n",
       "50%        2003.000000\n",
       "75%        2007.000000\n",
       "max        2016.000000\n",
       "Name: RegistrationYear, dtype: float64"
      ]
     },
     "execution_count": 11,
     "metadata": {},
     "output_type": "execute_result"
    }
   ],
   "source": [
    "# Дата авто должна быть выше 1930 года,и ниже 2025\n",
    "print(np.sort(data_new.RegistrationYear.unique()))\n",
    "data_new = data_new.query('1930 < RegistrationYear < 2017')\n",
    "data_new.RegistrationYear.describe()"
   ]
  },
  {
   "cell_type": "code",
   "execution_count": 12,
   "metadata": {},
   "outputs": [
    {
     "name": "stdout",
     "output_type": "stream",
     "text": [
      "count    296878.000000\n",
      "mean        124.290449\n",
      "std         190.818205\n",
      "min           1.000000\n",
      "25%          75.000000\n",
      "50%         111.000000\n",
      "75%         150.000000\n",
      "max       20000.000000\n",
      "Name: Power, dtype: float64\n"
     ]
    },
    {
     "data": {
      "image/png": "[encoded data removed]",
      "text/plain": [
       "<Figure size 504x504 with 1 Axes>"
      ]
     },
     "metadata": {
      "needs_background": "light"
     },
     "output_type": "display_data"
    }
   ],
   "source": [
    "print(data_new.Power.describe())\n",
    "\n",
    "data_new.Power.plot(kind='box', grid= True, figsize=(7,7))\n",
    "plt.show()"
   ]
  },
  {
   "cell_type": "code",
   "execution_count": 13,
   "metadata": {},
   "outputs": [
    {
     "data": {
      "text/plain": [
       "count    286660.000000\n",
       "mean        123.056855\n",
       "std          52.360980\n",
       "min          51.000000\n",
       "25%          82.000000\n",
       "50%         115.000000\n",
       "75%         150.000000\n",
       "max         490.000000\n",
       "Name: Power, dtype: float64"
      ]
     },
     "execution_count": 13,
     "metadata": {},
     "output_type": "execute_result"
    }
   ],
   "source": [
    "# уберу значения выше 500 л.с. и ниже 50 л.с.\n",
    "\n",
    "data_new = data_new.query('50 < Power < 500')\n",
    "data_new['Power'].describe()"
   ]
  },
  {
   "cell_type": "markdown",
   "metadata": {},
   "source": [
    "Оставлю только те колонки которые необхадимы модели. Колонки PostalCode, LastSeen, RegistrationMonth , DateCrawled для задачи не требуются. "
   ]
  },
  {
   "cell_type": "code",
   "execution_count": 14,
   "metadata": {},
   "outputs": [
    {
     "name": "stdout",
     "output_type": "stream",
     "text": [
      "<class 'pandas.core.frame.DataFrame'>\n",
      "Int64Index: 286660 entries, 1 to 354368\n",
      "Data columns (total 10 columns):\n",
      " #   Column            Non-Null Count   Dtype \n",
      "---  ------            --------------   ----- \n",
      " 0   VehicleType       286660 non-null  object\n",
      " 1   Gearbox           286660 non-null  object\n",
      " 2   Power             286660 non-null  int64 \n",
      " 3   Kilometer         286660 non-null  int64 \n",
      " 4   FuelType          286660 non-null  object\n",
      " 5   Brand             286660 non-null  object\n",
      " 6   Repaired          286660 non-null  object\n",
      " 7   RegistrationYear  286660 non-null  int64 \n",
      " 8   Model             286660 non-null  object\n",
      " 9   Price             286660 non-null  int64 \n",
      "dtypes: int64(4), object(6)\n",
      "memory usage: 24.1+ MB\n"
     ]
    }
   ],
   "source": [
    "data_new = data_new[['VehicleType','Gearbox', 'Power','Kilometer','FuelType','Brand','Repaired','RegistrationYear','Model','Price']]\n",
    "data_new.info()"
   ]
  },
  {
   "cell_type": "code",
   "execution_count": 15,
   "metadata": {},
   "outputs": [
    {
     "data": {
      "text/html": [
       "<div>\n",
       "<style scoped>\n",
       "    .dataframe tbody tr th:only-of-type {\n",
       "        vertical-align: middle;\n",
       "    }\n",
       "\n",
       "    .dataframe tbody tr th {\n",
       "        vertical-align: top;\n",
       "    }\n",
       "\n",
       "    .dataframe thead th {\n",
       "        text-align: right;\n",
       "    }\n",
       "</style>\n",
       "<table border=\"1\" class=\"dataframe\">\n",
       "  <thead>\n",
       "    <tr style=\"text-align: right;\">\n",
       "      <th></th>\n",
       "      <th>VehicleType</th>\n",
       "      <th>Gearbox</th>\n",
       "      <th>Power</th>\n",
       "      <th>Kilometer</th>\n",
       "      <th>FuelType</th>\n",
       "      <th>Brand</th>\n",
       "      <th>Repaired</th>\n",
       "      <th>RegistrationYear</th>\n",
       "      <th>Model</th>\n",
       "      <th>Price</th>\n",
       "    </tr>\n",
       "  </thead>\n",
       "  <tbody>\n",
       "    <tr>\n",
       "      <th>VehicleType</th>\n",
       "      <td>1.000000</td>\n",
       "      <td>0.283668</td>\n",
       "      <td>0.478658</td>\n",
       "      <td>0.181488</td>\n",
       "      <td>0.325594</td>\n",
       "      <td>0.633790</td>\n",
       "      <td>0.060327</td>\n",
       "      <td>0.174462</td>\n",
       "      <td>0.915526</td>\n",
       "      <td>0.255042</td>\n",
       "    </tr>\n",
       "    <tr>\n",
       "      <th>Gearbox</th>\n",
       "      <td>0.283668</td>\n",
       "      <td>1.000000</td>\n",
       "      <td>0.587395</td>\n",
       "      <td>0.026517</td>\n",
       "      <td>0.146983</td>\n",
       "      <td>0.498919</td>\n",
       "      <td>0.026964</td>\n",
       "      <td>0.109502</td>\n",
       "      <td>0.615988</td>\n",
       "      <td>0.328293</td>\n",
       "    </tr>\n",
       "    <tr>\n",
       "      <th>Power</th>\n",
       "      <td>0.478658</td>\n",
       "      <td>0.587395</td>\n",
       "      <td>1.000000</td>\n",
       "      <td>0.104266</td>\n",
       "      <td>0.252209</td>\n",
       "      <td>0.563675</td>\n",
       "      <td>0.059756</td>\n",
       "      <td>0.217270</td>\n",
       "      <td>0.767263</td>\n",
       "      <td>0.506123</td>\n",
       "    </tr>\n",
       "    <tr>\n",
       "      <th>Kilometer</th>\n",
       "      <td>0.181488</td>\n",
       "      <td>0.026517</td>\n",
       "      <td>0.104266</td>\n",
       "      <td>1.000000</td>\n",
       "      <td>0.142458</td>\n",
       "      <td>0.270202</td>\n",
       "      <td>0.090104</td>\n",
       "      <td>0.384854</td>\n",
       "      <td>0.446358</td>\n",
       "      <td>0.319903</td>\n",
       "    </tr>\n",
       "    <tr>\n",
       "      <th>FuelType</th>\n",
       "      <td>0.325594</td>\n",
       "      <td>0.146983</td>\n",
       "      <td>0.252209</td>\n",
       "      <td>0.142458</td>\n",
       "      <td>1.000000</td>\n",
       "      <td>0.288732</td>\n",
       "      <td>0.030086</td>\n",
       "      <td>0.240749</td>\n",
       "      <td>0.535851</td>\n",
       "      <td>0.253389</td>\n",
       "    </tr>\n",
       "    <tr>\n",
       "      <th>Brand</th>\n",
       "      <td>0.633790</td>\n",
       "      <td>0.498919</td>\n",
       "      <td>0.563675</td>\n",
       "      <td>0.270202</td>\n",
       "      <td>0.288732</td>\n",
       "      <td>1.000000</td>\n",
       "      <td>0.082206</td>\n",
       "      <td>0.342013</td>\n",
       "      <td>0.997698</td>\n",
       "      <td>0.360256</td>\n",
       "    </tr>\n",
       "    <tr>\n",
       "      <th>Repaired</th>\n",
       "      <td>0.060327</td>\n",
       "      <td>0.026964</td>\n",
       "      <td>0.059756</td>\n",
       "      <td>0.090104</td>\n",
       "      <td>0.030086</td>\n",
       "      <td>0.082206</td>\n",
       "      <td>1.000000</td>\n",
       "      <td>0.146400</td>\n",
       "      <td>0.127003</td>\n",
       "      <td>0.302537</td>\n",
       "    </tr>\n",
       "    <tr>\n",
       "      <th>RegistrationYear</th>\n",
       "      <td>0.174462</td>\n",
       "      <td>0.109502</td>\n",
       "      <td>0.217270</td>\n",
       "      <td>0.384854</td>\n",
       "      <td>0.240749</td>\n",
       "      <td>0.342013</td>\n",
       "      <td>0.146400</td>\n",
       "      <td>1.000000</td>\n",
       "      <td>0.567386</td>\n",
       "      <td>0.637083</td>\n",
       "    </tr>\n",
       "    <tr>\n",
       "      <th>Model</th>\n",
       "      <td>0.915526</td>\n",
       "      <td>0.615988</td>\n",
       "      <td>0.767263</td>\n",
       "      <td>0.446358</td>\n",
       "      <td>0.535851</td>\n",
       "      <td>0.997698</td>\n",
       "      <td>0.127003</td>\n",
       "      <td>0.567386</td>\n",
       "      <td>1.000000</td>\n",
       "      <td>0.568518</td>\n",
       "    </tr>\n",
       "    <tr>\n",
       "      <th>Price</th>\n",
       "      <td>0.255042</td>\n",
       "      <td>0.328293</td>\n",
       "      <td>0.506123</td>\n",
       "      <td>0.319903</td>\n",
       "      <td>0.253389</td>\n",
       "      <td>0.360256</td>\n",
       "      <td>0.302537</td>\n",
       "      <td>0.637083</td>\n",
       "      <td>0.568518</td>\n",
       "      <td>1.000000</td>\n",
       "    </tr>\n",
       "  </tbody>\n",
       "</table>\n",
       "</div>"
      ],
      "text/plain": [
       "                  VehicleType   Gearbox     Power  Kilometer  FuelType  \\\n",
       "VehicleType          1.000000  0.283668  0.478658   0.181488  0.325594   \n",
       "Gearbox              0.283668  1.000000  0.587395   0.026517  0.146983   \n",
       "Power                0.478658  0.587395  1.000000   0.104266  0.252209   \n",
       "Kilometer            0.181488  0.026517  0.104266   1.000000  0.142458   \n",
       "FuelType             0.325594  0.146983  0.252209   0.142458  1.000000   \n",
       "Brand                0.633790  0.498919  0.563675   0.270202  0.288732   \n",
       "Repaired             0.060327  0.026964  0.059756   0.090104  0.030086   \n",
       "RegistrationYear     0.174462  0.109502  0.217270   0.384854  0.240749   \n",
       "Model                0.915526  0.615988  0.767263   0.446358  0.535851   \n",
       "Price                0.255042  0.328293  0.506123   0.319903  0.253389   \n",
       "\n",
       "                     Brand  Repaired  RegistrationYear     Model     Price  \n",
       "VehicleType       0.633790  0.060327          0.174462  0.915526  0.255042  \n",
       "Gearbox           0.498919  0.026964          0.109502  0.615988  0.328293  \n",
       "Power             0.563675  0.059756          0.217270  0.767263  0.506123  \n",
       "Kilometer         0.270202  0.090104          0.384854  0.446358  0.319903  \n",
       "FuelType          0.288732  0.030086          0.240749  0.535851  0.253389  \n",
       "Brand             1.000000  0.082206          0.342013  0.997698  0.360256  \n",
       "Repaired          0.082206  1.000000          0.146400  0.127003  0.302537  \n",
       "RegistrationYear  0.342013  0.146400          1.000000  0.567386  0.637083  \n",
       "Model             0.997698  0.127003          0.567386  1.000000  0.568518  \n",
       "Price             0.360256  0.302537          0.637083  0.568518  1.000000  "
      ]
     },
     "execution_count": 15,
     "metadata": {},
     "output_type": "execute_result"
    }
   ],
   "source": [
    "data_new.phik_matrix(\n",
    "    interval_cols=data_new.select_dtypes(include='number').columns.tolist())"
   ]
  },
  {
   "cell_type": "code",
   "execution_count": 16,
   "metadata": {},
   "outputs": [
    {
     "name": "stdout",
     "output_type": "stream",
     "text": [
      "['gasoline' 'petrol' 'lpg' 'other' 'hybrid' 'cng' 'electric']\n",
      "['petrol' 'lpg' 'other' 'hybrid' 'cng' 'electric']\n"
     ]
    }
   ],
   "source": [
    "print(data_new.FuelType.unique())\n",
    "data_new.FuelType.replace('gasoline', 'petrol', inplace=True)\n",
    "print(data_new.FuelType.unique())"
   ]
  },
  {
   "cell_type": "code",
   "execution_count": 17,
   "metadata": {},
   "outputs": [
    {
     "data": {
      "image/png": "[encoded data removed]",
      "text/plain": [
       "<Figure size 1440x1080 with 2 Axes>"
      ]
     },
     "metadata": {
      "needs_background": "light"
     },
     "output_type": "display_data"
    }
   ],
   "source": [
    "# Избавлюст от мультиколлинеарности убрав столбец `VehicleType`\n",
    "plt.figure(figsize=(20,15))\n",
    "sns.heatmap(data_new.drop(['VehicleType', 'Brand'], 1).phik_matrix(\n",
    "    interval_cols=data_new.select_dtypes(include='number').columns.tolist()),\n",
    "            annot=True, fmt='.2f', cmap='cividis')\n",
    "plt.show()"
   ]
  },
  {
   "cell_type": "markdown",
   "metadata": {},
   "source": [
    "**Вывод** \n",
    "\n",
    "* В ходе предобработки данных были заполнены пропуски в данных\n",
    "* Присутствовали аномальные значения в небольшом колличестве и убраны\n",
    "* Исправлены альтернативные названия бензины на единый `petrol`\n",
    "* Для устранения мультиколлинеарности в итоговой таблице были вытеснены два столбца `VehicleType` и `Brand`"
   ]
  },
  {
   "cell_type": "markdown",
   "metadata": {},
   "source": [
    "### Подготовка данных для модели"
   ]
  },
  {
   "cell_type": "code",
   "execution_count": 18,
   "metadata": {},
   "outputs": [],
   "source": [
    "X = data_new.drop('Price', 1)\n",
    "y = data_new['Price']\n",
    "\n",
    "X_train, X_test, y_train, y_test = train_test_split(\n",
    "    X, y, \n",
    "    test_size=0.25, \n",
    "    random_state=RANDOM_STATE)"
   ]
  },
  {
   "cell_type": "code",
   "execution_count": 19,
   "metadata": {},
   "outputs": [
    {
     "name": "stdout",
     "output_type": "stream",
     "text": [
      "(214995, 9)\n",
      "(71665, 9)\n",
      "(214995,)\n",
      "(71665,)\n"
     ]
    }
   ],
   "source": [
    "print(X_train.shape)\n",
    "print(X_test.shape)\n",
    "print(y_train.shape)\n",
    "print(y_test.shape)"
   ]
  },
  {
   "cell_type": "code",
   "execution_count": 20,
   "metadata": {},
   "outputs": [
    {
     "name": "stdout",
     "output_type": "stream",
     "text": [
      "['VehicleType', 'Gearbox', 'FuelType', 'Brand', 'Repaired', 'Model']\n",
      "['Power', 'Kilometer', 'RegistrationYear']\n"
     ]
    }
   ],
   "source": [
    "# категориальные признаки для OHE \n",
    "cat_col_names = X_train.select_dtypes(include='object').columns.to_list()\n",
    "print(cat_col_names)\n",
    "num_col_names = X_train.select_dtypes(exclude='object').columns.to_list()\n",
    "print(num_col_names)"
   ]
  },
  {
   "cell_type": "code",
   "execution_count": 21,
   "metadata": {},
   "outputs": [
    {
     "name": "stderr",
     "output_type": "stream",
     "text": [
      "/opt/conda/lib/python3.9/site-packages/sklearn/preprocessing/_encoders.py:242: UserWarning: Found unknown categories in columns [5] during transform. These unknown categories will be encoded as all zeros\n",
      "  warnings.warn(\n"
     ]
    }
   ],
   "source": [
    "# encoder, scaler\n",
    "encoder = OneHotEncoder(drop='first', handle_unknown='ignore', sparse_output=False)\n",
    "X_train_ohe = encoder.fit_transform(X_train[cat_col_names])\n",
    "X_test_ohe = encoder.transform(X_test[cat_col_names])\n",
    "encoder_col_names = encoder.get_feature_names_out()\n",
    "\n",
    "scaler = StandardScaler()\n",
    "X_train_scaled = scaler.fit_transform(X_train[num_col_names])\n",
    "X_test_scaled = scaler.transform(X_test[num_col_names])\n",
    "\n",
    "# DataFrame\n",
    "X_train_ohe = pd.DataFrame(X_train_ohe, columns=encoder_col_names)\n",
    "X_test_ohe = pd.DataFrame(X_test_ohe, columns=encoder_col_names)\n",
    "\n",
    "X_train_scaled = pd.DataFrame(X_train_scaled, columns=num_col_names)\n",
    "X_test_scaled = pd.DataFrame(X_test_scaled, columns=num_col_names)\n",
    "\n",
    "X_train = pd.concat([X_train_ohe, X_train_scaled], 1)\n",
    "X_test = pd.concat([X_test_ohe, X_test_scaled], 1)"
   ]
  },
  {
   "cell_type": "code",
   "execution_count": 22,
   "metadata": {
    "scrolled": true
   },
   "outputs": [
    {
     "name": "stdout",
     "output_type": "stream",
     "text": [
      "(214995, 303)\n"
     ]
    },
    {
     "data": {
      "text/html": [
       "<div>\n",
       "<style scoped>\n",
       "    .dataframe tbody tr th:only-of-type {\n",
       "        vertical-align: middle;\n",
       "    }\n",
       "\n",
       "    .dataframe tbody tr th {\n",
       "        vertical-align: top;\n",
       "    }\n",
       "\n",
       "    .dataframe thead th {\n",
       "        text-align: right;\n",
       "    }\n",
       "</style>\n",
       "<table border=\"1\" class=\"dataframe\">\n",
       "  <thead>\n",
       "    <tr style=\"text-align: right;\">\n",
       "      <th></th>\n",
       "      <th>VehicleType_convertible</th>\n",
       "      <th>VehicleType_coupe</th>\n",
       "      <th>VehicleType_other</th>\n",
       "      <th>VehicleType_sedan</th>\n",
       "      <th>VehicleType_small</th>\n",
       "      <th>VehicleType_suv</th>\n",
       "      <th>VehicleType_wagon</th>\n",
       "      <th>Gearbox_manual</th>\n",
       "      <th>FuelType_electric</th>\n",
       "      <th>FuelType_hybrid</th>\n",
       "      <th>...</th>\n",
       "      <th>Model_x_type</th>\n",
       "      <th>Model_xc_reihe</th>\n",
       "      <th>Model_yaris</th>\n",
       "      <th>Model_yeti</th>\n",
       "      <th>Model_ypsilon</th>\n",
       "      <th>Model_z_reihe</th>\n",
       "      <th>Model_zafira</th>\n",
       "      <th>Power</th>\n",
       "      <th>Kilometer</th>\n",
       "      <th>RegistrationYear</th>\n",
       "    </tr>\n",
       "  </thead>\n",
       "  <tbody>\n",
       "    <tr>\n",
       "      <th>78777</th>\n",
       "      <td>0.0</td>\n",
       "      <td>0.0</td>\n",
       "      <td>0.0</td>\n",
       "      <td>1.0</td>\n",
       "      <td>0.0</td>\n",
       "      <td>0.0</td>\n",
       "      <td>0.0</td>\n",
       "      <td>0.0</td>\n",
       "      <td>0.0</td>\n",
       "      <td>0.0</td>\n",
       "      <td>...</td>\n",
       "      <td>0.0</td>\n",
       "      <td>0.0</td>\n",
       "      <td>0.0</td>\n",
       "      <td>0.0</td>\n",
       "      <td>0.0</td>\n",
       "      <td>0.0</td>\n",
       "      <td>0.0</td>\n",
       "      <td>0.380528</td>\n",
       "      <td>0.588733</td>\n",
       "      <td>-0.643730</td>\n",
       "    </tr>\n",
       "    <tr>\n",
       "      <th>105006</th>\n",
       "      <td>0.0</td>\n",
       "      <td>0.0</td>\n",
       "      <td>0.0</td>\n",
       "      <td>0.0</td>\n",
       "      <td>0.0</td>\n",
       "      <td>0.0</td>\n",
       "      <td>1.0</td>\n",
       "      <td>1.0</td>\n",
       "      <td>0.0</td>\n",
       "      <td>0.0</td>\n",
       "      <td>...</td>\n",
       "      <td>0.0</td>\n",
       "      <td>0.0</td>\n",
       "      <td>0.0</td>\n",
       "      <td>0.0</td>\n",
       "      <td>0.0</td>\n",
       "      <td>0.0</td>\n",
       "      <td>0.0</td>\n",
       "      <td>-0.268630</td>\n",
       "      <td>0.588733</td>\n",
       "      <td>1.109611</td>\n",
       "    </tr>\n",
       "    <tr>\n",
       "      <th>149999</th>\n",
       "      <td>0.0</td>\n",
       "      <td>0.0</td>\n",
       "      <td>0.0</td>\n",
       "      <td>1.0</td>\n",
       "      <td>0.0</td>\n",
       "      <td>0.0</td>\n",
       "      <td>0.0</td>\n",
       "      <td>1.0</td>\n",
       "      <td>0.0</td>\n",
       "      <td>0.0</td>\n",
       "      <td>...</td>\n",
       "      <td>0.0</td>\n",
       "      <td>0.0</td>\n",
       "      <td>0.0</td>\n",
       "      <td>0.0</td>\n",
       "      <td>0.0</td>\n",
       "      <td>0.0</td>\n",
       "      <td>0.0</td>\n",
       "      <td>1.163337</td>\n",
       "      <td>-1.050742</td>\n",
       "      <td>1.428400</td>\n",
       "    </tr>\n",
       "  </tbody>\n",
       "</table>\n",
       "<p>3 rows × 303 columns</p>\n",
       "</div>"
      ],
      "text/plain": [
       "        VehicleType_convertible  VehicleType_coupe  VehicleType_other  \\\n",
       "78777                       0.0                0.0                0.0   \n",
       "105006                      0.0                0.0                0.0   \n",
       "149999                      0.0                0.0                0.0   \n",
       "\n",
       "        VehicleType_sedan  VehicleType_small  VehicleType_suv  \\\n",
       "78777                 1.0                0.0              0.0   \n",
       "105006                0.0                0.0              0.0   \n",
       "149999                1.0                0.0              0.0   \n",
       "\n",
       "        VehicleType_wagon  Gearbox_manual  FuelType_electric  FuelType_hybrid  \\\n",
       "78777                 0.0             0.0                0.0              0.0   \n",
       "105006                1.0             1.0                0.0              0.0   \n",
       "149999                0.0             1.0                0.0              0.0   \n",
       "\n",
       "        ...  Model_x_type  Model_xc_reihe  Model_yaris  Model_yeti  \\\n",
       "78777   ...           0.0             0.0          0.0         0.0   \n",
       "105006  ...           0.0             0.0          0.0         0.0   \n",
       "149999  ...           0.0             0.0          0.0         0.0   \n",
       "\n",
       "        Model_ypsilon  Model_z_reihe  Model_zafira     Power  Kilometer  \\\n",
       "78777             0.0            0.0           0.0  0.380528   0.588733   \n",
       "105006            0.0            0.0           0.0 -0.268630   0.588733   \n",
       "149999            0.0            0.0           0.0  1.163337  -1.050742   \n",
       "\n",
       "        RegistrationYear  \n",
       "78777          -0.643730  \n",
       "105006          1.109611  \n",
       "149999          1.428400  \n",
       "\n",
       "[3 rows x 303 columns]"
      ]
     },
     "metadata": {},
     "output_type": "display_data"
    },
    {
     "name": "stdout",
     "output_type": "stream",
     "text": [
      "(71665, 303)\n"
     ]
    },
    {
     "data": {
      "text/html": [
       "<div>\n",
       "<style scoped>\n",
       "    .dataframe tbody tr th:only-of-type {\n",
       "        vertical-align: middle;\n",
       "    }\n",
       "\n",
       "    .dataframe tbody tr th {\n",
       "        vertical-align: top;\n",
       "    }\n",
       "\n",
       "    .dataframe thead th {\n",
       "        text-align: right;\n",
       "    }\n",
       "</style>\n",
       "<table border=\"1\" class=\"dataframe\">\n",
       "  <thead>\n",
       "    <tr style=\"text-align: right;\">\n",
       "      <th></th>\n",
       "      <th>VehicleType_convertible</th>\n",
       "      <th>VehicleType_coupe</th>\n",
       "      <th>VehicleType_other</th>\n",
       "      <th>VehicleType_sedan</th>\n",
       "      <th>VehicleType_small</th>\n",
       "      <th>VehicleType_suv</th>\n",
       "      <th>VehicleType_wagon</th>\n",
       "      <th>Gearbox_manual</th>\n",
       "      <th>FuelType_electric</th>\n",
       "      <th>FuelType_hybrid</th>\n",
       "      <th>...</th>\n",
       "      <th>Model_x_type</th>\n",
       "      <th>Model_xc_reihe</th>\n",
       "      <th>Model_yaris</th>\n",
       "      <th>Model_yeti</th>\n",
       "      <th>Model_ypsilon</th>\n",
       "      <th>Model_z_reihe</th>\n",
       "      <th>Model_zafira</th>\n",
       "      <th>Power</th>\n",
       "      <th>Kilometer</th>\n",
       "      <th>RegistrationYear</th>\n",
       "    </tr>\n",
       "  </thead>\n",
       "  <tbody>\n",
       "    <tr>\n",
       "      <th>68392</th>\n",
       "      <td>0.0</td>\n",
       "      <td>0.0</td>\n",
       "      <td>0.0</td>\n",
       "      <td>0.0</td>\n",
       "      <td>1.0</td>\n",
       "      <td>0.0</td>\n",
       "      <td>0.0</td>\n",
       "      <td>1.0</td>\n",
       "      <td>0.0</td>\n",
       "      <td>0.0</td>\n",
       "      <td>...</td>\n",
       "      <td>0.0</td>\n",
       "      <td>0.0</td>\n",
       "      <td>0.0</td>\n",
       "      <td>0.0</td>\n",
       "      <td>0.0</td>\n",
       "      <td>0.0</td>\n",
       "      <td>0.0</td>\n",
       "      <td>-0.345002</td>\n",
       "      <td>0.588733</td>\n",
       "      <td>1.269005</td>\n",
       "    </tr>\n",
       "    <tr>\n",
       "      <th>19442</th>\n",
       "      <td>1.0</td>\n",
       "      <td>0.0</td>\n",
       "      <td>0.0</td>\n",
       "      <td>0.0</td>\n",
       "      <td>0.0</td>\n",
       "      <td>0.0</td>\n",
       "      <td>0.0</td>\n",
       "      <td>1.0</td>\n",
       "      <td>0.0</td>\n",
       "      <td>0.0</td>\n",
       "      <td>...</td>\n",
       "      <td>0.0</td>\n",
       "      <td>0.0</td>\n",
       "      <td>0.0</td>\n",
       "      <td>0.0</td>\n",
       "      <td>0.0</td>\n",
       "      <td>0.0</td>\n",
       "      <td>0.0</td>\n",
       "      <td>-0.421373</td>\n",
       "      <td>0.588733</td>\n",
       "      <td>-0.643730</td>\n",
       "    </tr>\n",
       "    <tr>\n",
       "      <th>58940</th>\n",
       "      <td>0.0</td>\n",
       "      <td>0.0</td>\n",
       "      <td>0.0</td>\n",
       "      <td>0.0</td>\n",
       "      <td>0.0</td>\n",
       "      <td>0.0</td>\n",
       "      <td>0.0</td>\n",
       "      <td>1.0</td>\n",
       "      <td>0.0</td>\n",
       "      <td>0.0</td>\n",
       "      <td>...</td>\n",
       "      <td>0.0</td>\n",
       "      <td>0.0</td>\n",
       "      <td>0.0</td>\n",
       "      <td>0.0</td>\n",
       "      <td>0.0</td>\n",
       "      <td>0.0</td>\n",
       "      <td>0.0</td>\n",
       "      <td>-0.345002</td>\n",
       "      <td>0.588733</td>\n",
       "      <td>1.109611</td>\n",
       "    </tr>\n",
       "  </tbody>\n",
       "</table>\n",
       "<p>3 rows × 303 columns</p>\n",
       "</div>"
      ],
      "text/plain": [
       "       VehicleType_convertible  VehicleType_coupe  VehicleType_other  \\\n",
       "68392                      0.0                0.0                0.0   \n",
       "19442                      1.0                0.0                0.0   \n",
       "58940                      0.0                0.0                0.0   \n",
       "\n",
       "       VehicleType_sedan  VehicleType_small  VehicleType_suv  \\\n",
       "68392                0.0                1.0              0.0   \n",
       "19442                0.0                0.0              0.0   \n",
       "58940                0.0                0.0              0.0   \n",
       "\n",
       "       VehicleType_wagon  Gearbox_manual  FuelType_electric  FuelType_hybrid  \\\n",
       "68392                0.0             1.0                0.0              0.0   \n",
       "19442                0.0             1.0                0.0              0.0   \n",
       "58940                0.0             1.0                0.0              0.0   \n",
       "\n",
       "       ...  Model_x_type  Model_xc_reihe  Model_yaris  Model_yeti  \\\n",
       "68392  ...           0.0             0.0          0.0         0.0   \n",
       "19442  ...           0.0             0.0          0.0         0.0   \n",
       "58940  ...           0.0             0.0          0.0         0.0   \n",
       "\n",
       "       Model_ypsilon  Model_z_reihe  Model_zafira     Power  Kilometer  \\\n",
       "68392            0.0            0.0           0.0 -0.345002   0.588733   \n",
       "19442            0.0            0.0           0.0 -0.421373   0.588733   \n",
       "58940            0.0            0.0           0.0 -0.345002   0.588733   \n",
       "\n",
       "       RegistrationYear  \n",
       "68392          1.269005  \n",
       "19442         -0.643730  \n",
       "58940          1.109611  \n",
       "\n",
       "[3 rows x 303 columns]"
      ]
     },
     "metadata": {},
     "output_type": "display_data"
    }
   ],
   "source": [
    "print(X_train.shape)\n",
    "display(X_train.sample(3))\n",
    "print(X_test.shape)\n",
    "display(X_test.sample(3))"
   ]
  },
  {
   "cell_type": "markdown",
   "metadata": {},
   "source": [
    "**Вывод** Данные для обучения модели были разделены в соотношении 3:1. Было проведено кодирование категориальных данных, а также проведено масштабированние численных данных."
   ]
  },
  {
   "cell_type": "markdown",
   "metadata": {},
   "source": [
    "## Обучение моделей\n",
    "Обучите разные модели, одна из которых — LightGBM, как минимум одна — не бустинг. Для каждой модели попробуйте разные гиперпараметры.\n",
    "\n",
    "Проанализируйте время обучения, время предсказания и качество моделей."
   ]
  },
  {
   "cell_type": "markdown",
   "metadata": {},
   "source": [
    "### LinearRegression"
   ]
  },
  {
   "cell_type": "code",
   "execution_count": 23,
   "metadata": {},
   "outputs": [],
   "source": [
    "model_lr = LinearRegression()"
   ]
  },
  {
   "cell_type": "code",
   "execution_count": 24,
   "metadata": {},
   "outputs": [
    {
     "name": "stdout",
     "output_type": "stream",
     "text": [
      "19.74 sec\n"
     ]
    }
   ],
   "source": [
    "# Время обучения\n",
    "\n",
    "start = time()\n",
    "\n",
    "model_lr.fit(X_train, y_train)\n",
    "\n",
    "end = time()\n",
    "\n",
    "fit_time_lr = round(end - start, 2)\n",
    "print(fit_time_lr, 'sec')"
   ]
  },
  {
   "cell_type": "code",
   "execution_count": 25,
   "metadata": {},
   "outputs": [
    {
     "name": "stdout",
     "output_type": "stream",
     "text": [
      "rmse = 2662\n",
      "19.51 sec\n"
     ]
    }
   ],
   "source": [
    "# Время предсказания\n",
    "\n",
    "start = time()\n",
    "rmse_lr = cross_val_score(model_lr, X_train, y_train, scoring='neg_root_mean_squared_error', cv=2)\n",
    "end = time()\n",
    "\n",
    "rmse_lr = round(abs(rmse_lr).mean())\n",
    "print('rmse =', rmse_lr)\n",
    "\n",
    "pred_time_lr = round(end - start, 2)\n",
    "print(pred_time_lr, 'sec')"
   ]
  },
  {
   "cell_type": "markdown",
   "metadata": {},
   "source": [
    "### LightGBM"
   ]
  },
  {
   "cell_type": "code",
   "execution_count": 40,
   "metadata": {},
   "outputs": [
    {
     "name": "stdout",
     "output_type": "stream",
     "text": [
      "148.32 sec\n"
     ]
    }
   ],
   "source": [
    "lgbm_r = LGBMRegressor(random_state=RANDOM_STATE)\n",
    "\n",
    "parameters = {\n",
    "    \"max_depth\": [20, 80],\n",
    "    \"learning_rate\" : [0.1, 0.15],\n",
    "    \"n_estimators\": [80, 150]\n",
    "}\n",
    "\n",
    "gs_lgbm_r = GridSearchCV(\n",
    "    lgbm_r,\n",
    "    parameters,\n",
    "    cv=2,\n",
    "    scoring='neg_root_mean_squared_error'\n",
    ")\n",
    "\n",
    "# Возьмём лучшие парраметры и время сколько уходит на подбор\n",
    "\n",
    "start = time()\n",
    "\n",
    "gs_lgbm_r.fit(X_train, y_train)\n",
    "\n",
    "end = time()\n",
    "\n",
    "bst_prm_lgbm = round(end - start, 2)\n",
    "print(bst_prm_lgbm, 'sec')"
   ]
  },
  {
   "cell_type": "code",
   "execution_count": null,
   "metadata": {},
   "outputs": [],
   "source": [
    "lgbm_r = gs_lgbm_r"
   ]
  },
  {
   "cell_type": "code",
   "execution_count": 53,
   "metadata": {},
   "outputs": [
    {
     "name": "stdout",
     "output_type": "stream",
     "text": [
      "10.55 sec\n"
     ]
    }
   ],
   "source": [
    "lgbm_r_params = gs_lgbm_r.best_params_\n",
    "lgbm_r_params\n",
    "\n",
    "# с гиперпараметрами\n",
    "lgbm_r = LGBMRegressor(max_depth = lgbm_r_params['max_depth'],\n",
    "                             learning_rate = lgbm_r_params['learning_rate'],\n",
    "                             n_estimators = lgbm_r_params['n_estimators'], \n",
    "                             random_state = RANDOM_STATE)\n",
    "\n",
    "# Время обучения\n",
    "\n",
    "start = time()\n",
    "\n",
    "lgbm_r.fit(X_train, y_train)\n",
    "\n",
    "end = time()\n",
    "\n",
    "fit_time_lgbm_r = round(end - start, 2)\n",
    "print(fit_time_lgbm_r, 'sec')"
   ]
  },
  {
   "cell_type": "code",
   "execution_count": 54,
   "metadata": {},
   "outputs": [
    {
     "name": "stdout",
     "output_type": "stream",
     "text": [
      "rmse = 1659\n",
      "38.32 sec\n"
     ]
    }
   ],
   "source": [
    "# Время предсказания\n",
    "\n",
    "start = time()\n",
    "rmse_lgbm_r = cross_val_score(lgbm_r, X_train, y_train, scoring='neg_root_mean_squared_error', cv=2)\n",
    "end = time()\n",
    "\n",
    "rmse_lgbm_r = round(abs(rmse_lgbm_r).mean())\n",
    "print('rmse =', rmse_lgbm_r)\n",
    "\n",
    "pred_time_lgbm_r = round(end - start, 2)\n",
    "print(pred_time_lgbm_r, 'sec')"
   ]
  },
  {
   "cell_type": "markdown",
   "metadata": {},
   "source": [
    "### CatBoost"
   ]
  },
  {
   "cell_type": "code",
   "execution_count": 66,
   "metadata": {
    "collapsed": true,
    "jupyter": {
     "outputs_hidden": true
    }
   },
   "outputs": [
    {
     "name": "stdout",
     "output_type": "stream",
     "text": [
      "0:\tlearn: 4308.7595883\ttotal: 28.6ms\tremaining: 2.26s\n",
      "1:\tlearn: 4025.5854740\ttotal: 51.1ms\tremaining: 1.99s\n",
      "2:\tlearn: 3777.3628627\ttotal: 71.3ms\tremaining: 1.83s\n",
      "3:\tlearn: 3560.5234175\ttotal: 90.8ms\tremaining: 1.72s\n",
      "4:\tlearn: 3368.4646490\ttotal: 111ms\tremaining: 1.66s\n",
      "5:\tlearn: 3205.6537194\ttotal: 130ms\tremaining: 1.61s\n",
      "6:\tlearn: 3054.2959611\ttotal: 150ms\tremaining: 1.56s\n",
      "7:\tlearn: 2926.3578692\ttotal: 169ms\tremaining: 1.52s\n",
      "8:\tlearn: 2811.0019041\ttotal: 188ms\tremaining: 1.48s\n",
      "9:\tlearn: 2707.4527060\ttotal: 207ms\tremaining: 1.45s\n",
      "10:\tlearn: 2621.9254656\ttotal: 227ms\tremaining: 1.42s\n",
      "11:\tlearn: 2544.9273289\ttotal: 247ms\tremaining: 1.4s\n",
      "12:\tlearn: 2476.0085894\ttotal: 265ms\tremaining: 1.37s\n",
      "13:\tlearn: 2418.9182762\ttotal: 284ms\tremaining: 1.34s\n",
      "14:\tlearn: 2366.0038368\ttotal: 303ms\tremaining: 1.31s\n",
      "15:\tlearn: 2316.8138782\ttotal: 324ms\tremaining: 1.29s\n",
      "16:\tlearn: 2273.0054866\ttotal: 343ms\tremaining: 1.27s\n",
      "17:\tlearn: 2236.4545079\ttotal: 370ms\tremaining: 1.27s\n",
      "18:\tlearn: 2201.0465651\ttotal: 391ms\tremaining: 1.25s\n",
      "19:\tlearn: 2173.7573959\ttotal: 411ms\tremaining: 1.23s\n",
      "20:\tlearn: 2146.7673196\ttotal: 430ms\tremaining: 1.21s\n",
      "21:\tlearn: 2114.9400394\ttotal: 450ms\tremaining: 1.19s\n",
      "22:\tlearn: 2093.5981294\ttotal: 468ms\tremaining: 1.16s\n",
      "23:\tlearn: 2072.0416116\ttotal: 488ms\tremaining: 1.14s\n",
      "24:\tlearn: 2053.9261460\ttotal: 515ms\tremaining: 1.13s\n",
      "25:\tlearn: 2034.4209649\ttotal: 541ms\tremaining: 1.12s\n",
      "26:\tlearn: 2019.0920330\ttotal: 560ms\tremaining: 1.1s\n",
      "27:\tlearn: 2004.7465286\ttotal: 578ms\tremaining: 1.07s\n",
      "28:\tlearn: 1992.1157201\ttotal: 598ms\tremaining: 1.05s\n",
      "29:\tlearn: 1980.8285341\ttotal: 617ms\tremaining: 1.03s\n",
      "30:\tlearn: 1970.1748590\ttotal: 635ms\tremaining: 1s\n",
      "31:\tlearn: 1960.3928624\ttotal: 653ms\tremaining: 980ms\n",
      "32:\tlearn: 1951.4822995\ttotal: 672ms\tremaining: 956ms\n",
      "33:\tlearn: 1943.4994737\ttotal: 691ms\tremaining: 934ms\n",
      "34:\tlearn: 1936.4020132\ttotal: 707ms\tremaining: 909ms\n",
      "35:\tlearn: 1928.2581104\ttotal: 725ms\tremaining: 886ms\n",
      "36:\tlearn: 1922.2893054\ttotal: 740ms\tremaining: 860ms\n",
      "37:\tlearn: 1913.4081109\ttotal: 758ms\tremaining: 838ms\n",
      "38:\tlearn: 1907.6002040\ttotal: 775ms\tremaining: 815ms\n",
      "39:\tlearn: 1903.1564793\ttotal: 791ms\tremaining: 791ms\n",
      "40:\tlearn: 1898.0757006\ttotal: 808ms\tremaining: 769ms\n",
      "41:\tlearn: 1893.5043399\ttotal: 825ms\tremaining: 747ms\n",
      "42:\tlearn: 1888.3769128\ttotal: 841ms\tremaining: 724ms\n",
      "43:\tlearn: 1882.5005563\ttotal: 859ms\tremaining: 703ms\n",
      "44:\tlearn: 1877.4853718\ttotal: 877ms\tremaining: 682ms\n",
      "45:\tlearn: 1873.3076735\ttotal: 894ms\tremaining: 661ms\n",
      "46:\tlearn: 1868.9843104\ttotal: 912ms\tremaining: 640ms\n",
      "47:\tlearn: 1864.7295769\ttotal: 930ms\tremaining: 620ms\n",
      "48:\tlearn: 1861.0848975\ttotal: 947ms\tremaining: 599ms\n",
      "49:\tlearn: 1855.9342871\ttotal: 967ms\tremaining: 580ms\n",
      "50:\tlearn: 1851.7766658\ttotal: 985ms\tremaining: 560ms\n",
      "51:\tlearn: 1849.1419353\ttotal: 1s\tremaining: 540ms\n",
      "52:\tlearn: 1844.7754319\ttotal: 1.02s\tremaining: 521ms\n",
      "53:\tlearn: 1840.3602113\ttotal: 1.04s\tremaining: 502ms\n",
      "54:\tlearn: 1837.3477609\ttotal: 1.06s\tremaining: 482ms\n",
      "55:\tlearn: 1834.4789392\ttotal: 1.08s\tremaining: 462ms\n",
      "56:\tlearn: 1832.3607052\ttotal: 1.09s\tremaining: 442ms\n",
      "57:\tlearn: 1830.3871491\ttotal: 1.11s\tremaining: 422ms\n",
      "58:\tlearn: 1828.2144269\ttotal: 1.13s\tremaining: 403ms\n",
      "59:\tlearn: 1826.3368293\ttotal: 1.15s\tremaining: 383ms\n",
      "60:\tlearn: 1824.5482057\ttotal: 1.17s\tremaining: 363ms\n",
      "61:\tlearn: 1822.9118606\ttotal: 1.18s\tremaining: 343ms\n",
      "62:\tlearn: 1821.5476853\ttotal: 1.2s\tremaining: 323ms\n",
      "63:\tlearn: 1819.0975880\ttotal: 1.22s\tremaining: 304ms\n",
      "64:\tlearn: 1816.9294079\ttotal: 1.24s\tremaining: 285ms\n",
      "65:\tlearn: 1812.2918710\ttotal: 1.25s\tremaining: 266ms\n",
      "66:\tlearn: 1810.4248106\ttotal: 1.27s\tremaining: 247ms\n",
      "67:\tlearn: 1808.5254129\ttotal: 1.29s\tremaining: 228ms\n",
      "68:\tlearn: 1805.2485504\ttotal: 1.31s\tremaining: 209ms\n",
      "69:\tlearn: 1803.5174254\ttotal: 1.33s\tremaining: 189ms\n",
      "70:\tlearn: 1799.5129826\ttotal: 1.34s\tremaining: 171ms\n",
      "71:\tlearn: 1798.0904483\ttotal: 1.36s\tremaining: 151ms\n",
      "72:\tlearn: 1796.1999570\ttotal: 1.38s\tremaining: 133ms\n",
      "73:\tlearn: 1794.2986565\ttotal: 1.4s\tremaining: 114ms\n",
      "74:\tlearn: 1792.1426002\ttotal: 1.42s\tremaining: 94.6ms\n",
      "75:\tlearn: 1789.6489388\ttotal: 1.44s\tremaining: 75.6ms\n",
      "76:\tlearn: 1787.2255870\ttotal: 1.45s\tremaining: 56.7ms\n",
      "77:\tlearn: 1785.7237834\ttotal: 1.47s\tremaining: 37.8ms\n",
      "78:\tlearn: 1784.4628628\ttotal: 1.49s\tremaining: 18.9ms\n",
      "79:\tlearn: 1782.8791174\ttotal: 1.51s\tremaining: 0us\n",
      "0:\tlearn: 4313.0000737\ttotal: 20.3ms\tremaining: 1.6s\n",
      "1:\tlearn: 4034.6497675\ttotal: 39.8ms\tremaining: 1.55s\n",
      "2:\tlearn: 3783.9363943\ttotal: 58.8ms\tremaining: 1.51s\n",
      "3:\tlearn: 3564.8982896\ttotal: 83.4ms\tremaining: 1.58s\n",
      "4:\tlearn: 3370.3522847\ttotal: 103ms\tremaining: 1.55s\n",
      "5:\tlearn: 3202.1505218\ttotal: 122ms\tremaining: 1.51s\n",
      "6:\tlearn: 3049.9560139\ttotal: 141ms\tremaining: 1.48s\n",
      "7:\tlearn: 2917.4189619\ttotal: 161ms\tremaining: 1.45s\n",
      "8:\tlearn: 2804.2204736\ttotal: 181ms\tremaining: 1.43s\n",
      "9:\tlearn: 2705.1537753\ttotal: 201ms\tremaining: 1.4s\n",
      "10:\tlearn: 2615.6989131\ttotal: 222ms\tremaining: 1.39s\n",
      "11:\tlearn: 2541.2729963\ttotal: 244ms\tremaining: 1.38s\n",
      "12:\tlearn: 2472.3695952\ttotal: 264ms\tremaining: 1.36s\n",
      "13:\tlearn: 2413.7339961\ttotal: 283ms\tremaining: 1.33s\n",
      "14:\tlearn: 2359.2022954\ttotal: 304ms\tremaining: 1.32s\n",
      "15:\tlearn: 2312.6275807\ttotal: 325ms\tremaining: 1.3s\n",
      "16:\tlearn: 2269.4842046\ttotal: 344ms\tremaining: 1.27s\n",
      "17:\tlearn: 2233.1279146\ttotal: 364ms\tremaining: 1.25s\n",
      "18:\tlearn: 2192.9603427\ttotal: 384ms\tremaining: 1.23s\n",
      "19:\tlearn: 2162.2735714\ttotal: 403ms\tremaining: 1.21s\n",
      "20:\tlearn: 2133.7246997\ttotal: 422ms\tremaining: 1.19s\n",
      "21:\tlearn: 2108.5173704\ttotal: 440ms\tremaining: 1.16s\n",
      "22:\tlearn: 2087.7995000\ttotal: 458ms\tremaining: 1.13s\n",
      "23:\tlearn: 2069.9935979\ttotal: 476ms\tremaining: 1.11s\n",
      "24:\tlearn: 2046.9240948\ttotal: 495ms\tremaining: 1.09s\n",
      "25:\tlearn: 2030.9593661\ttotal: 514ms\tremaining: 1.07s\n",
      "26:\tlearn: 2012.7921313\ttotal: 533ms\tremaining: 1.04s\n",
      "27:\tlearn: 1999.7224392\ttotal: 551ms\tremaining: 1.02s\n",
      "28:\tlearn: 1987.0512025\ttotal: 570ms\tremaining: 1s\n",
      "29:\tlearn: 1976.8622677\ttotal: 589ms\tremaining: 981ms\n",
      "30:\tlearn: 1965.9603505\ttotal: 607ms\tremaining: 960ms\n",
      "31:\tlearn: 1954.2044577\ttotal: 626ms\tremaining: 939ms\n",
      "32:\tlearn: 1943.6453719\ttotal: 645ms\tremaining: 919ms\n",
      "33:\tlearn: 1936.2929690\ttotal: 669ms\tremaining: 905ms\n",
      "34:\tlearn: 1928.2525541\ttotal: 692ms\tremaining: 889ms\n",
      "35:\tlearn: 1921.2111927\ttotal: 715ms\tremaining: 874ms\n",
      "36:\tlearn: 1915.3389719\ttotal: 733ms\tremaining: 852ms\n",
      "37:\tlearn: 1908.7651103\ttotal: 751ms\tremaining: 830ms\n",
      "38:\tlearn: 1903.3977042\ttotal: 769ms\tremaining: 808ms\n",
      "39:\tlearn: 1898.5274635\ttotal: 789ms\tremaining: 789ms\n",
      "40:\tlearn: 1893.1346345\ttotal: 814ms\tremaining: 774ms\n",
      "41:\tlearn: 1887.9323380\ttotal: 834ms\tremaining: 755ms\n",
      "42:\tlearn: 1883.5610529\ttotal: 853ms\tremaining: 734ms\n",
      "43:\tlearn: 1878.8539651\ttotal: 872ms\tremaining: 713ms\n",
      "44:\tlearn: 1874.6023297\ttotal: 895ms\tremaining: 696ms\n",
      "45:\tlearn: 1869.5487196\ttotal: 914ms\tremaining: 676ms\n",
      "46:\tlearn: 1865.9225104\ttotal: 932ms\tremaining: 655ms\n",
      "47:\tlearn: 1861.9313139\ttotal: 951ms\tremaining: 634ms\n",
      "48:\tlearn: 1858.3234161\ttotal: 969ms\tremaining: 613ms\n",
      "49:\tlearn: 1854.2103598\ttotal: 988ms\tremaining: 593ms\n",
      "50:\tlearn: 1848.3337148\ttotal: 1.01s\tremaining: 572ms\n",
      "51:\tlearn: 1844.5758753\ttotal: 1.02s\tremaining: 552ms\n",
      "52:\tlearn: 1840.8812084\ttotal: 1.04s\tremaining: 531ms\n",
      "53:\tlearn: 1837.6001224\ttotal: 1.06s\tremaining: 512ms\n",
      "54:\tlearn: 1835.3280603\ttotal: 1.08s\tremaining: 491ms\n",
      "55:\tlearn: 1830.9586937\ttotal: 1.1s\tremaining: 470ms\n",
      "56:\tlearn: 1828.4537776\ttotal: 1.11s\tremaining: 450ms\n",
      "57:\tlearn: 1826.2069631\ttotal: 1.13s\tremaining: 429ms\n",
      "58:\tlearn: 1824.2145790\ttotal: 1.15s\tremaining: 409ms\n",
      "59:\tlearn: 1821.0396982\ttotal: 1.17s\tremaining: 389ms\n",
      "60:\tlearn: 1818.1333792\ttotal: 1.18s\tremaining: 369ms\n",
      "61:\tlearn: 1814.2687318\ttotal: 1.2s\tremaining: 349ms\n",
      "62:\tlearn: 1811.9597267\ttotal: 1.22s\tremaining: 330ms\n",
      "63:\tlearn: 1809.4162029\ttotal: 1.24s\tremaining: 310ms\n",
      "64:\tlearn: 1807.0062657\ttotal: 1.26s\tremaining: 291ms\n",
      "65:\tlearn: 1804.2276444\ttotal: 1.28s\tremaining: 272ms\n",
      "66:\tlearn: 1801.8562561\ttotal: 1.3s\tremaining: 253ms\n",
      "67:\tlearn: 1799.2478712\ttotal: 1.32s\tremaining: 234ms\n",
      "68:\tlearn: 1797.9526266\ttotal: 1.34s\tremaining: 214ms\n",
      "69:\tlearn: 1795.5500344\ttotal: 1.36s\tremaining: 194ms\n",
      "70:\tlearn: 1793.5513920\ttotal: 1.38s\tremaining: 175ms\n",
      "71:\tlearn: 1791.4185824\ttotal: 1.4s\tremaining: 155ms\n",
      "72:\tlearn: 1789.3884292\ttotal: 1.41s\tremaining: 136ms\n",
      "73:\tlearn: 1786.8989470\ttotal: 1.43s\tremaining: 116ms\n",
      "74:\tlearn: 1785.4576487\ttotal: 1.45s\tremaining: 96.7ms\n",
      "75:\tlearn: 1783.8604542\ttotal: 1.47s\tremaining: 77.3ms\n",
      "76:\tlearn: 1782.7380160\ttotal: 1.48s\tremaining: 57.8ms\n",
      "77:\tlearn: 1780.1587696\ttotal: 1.5s\tremaining: 38.5ms\n",
      "78:\tlearn: 1778.6552554\ttotal: 1.52s\tremaining: 19.2ms\n",
      "79:\tlearn: 1777.1853029\ttotal: 1.53s\tremaining: 0us\n",
      "0:\tlearn: 4308.7595883\ttotal: 19.3ms\tremaining: 2.88s\n",
      "1:\tlearn: 4025.5854740\ttotal: 38.1ms\tremaining: 2.82s\n",
      "2:\tlearn: 3777.3628627\ttotal: 57.3ms\tremaining: 2.81s\n",
      "3:\tlearn: 3560.5234175\ttotal: 75.6ms\tremaining: 2.76s\n",
      "4:\tlearn: 3368.4646490\ttotal: 94.6ms\tremaining: 2.74s\n",
      "5:\tlearn: 3205.6537194\ttotal: 114ms\tremaining: 2.72s\n",
      "6:\tlearn: 3054.2959611\ttotal: 132ms\tremaining: 2.7s\n",
      "7:\tlearn: 2926.3578692\ttotal: 151ms\tremaining: 2.69s\n",
      "8:\tlearn: 2811.0019041\ttotal: 170ms\tremaining: 2.67s\n",
      "9:\tlearn: 2707.4527060\ttotal: 189ms\tremaining: 2.65s\n",
      "10:\tlearn: 2621.9254656\ttotal: 210ms\tremaining: 2.65s\n",
      "11:\tlearn: 2544.9273289\ttotal: 230ms\tremaining: 2.64s\n",
      "12:\tlearn: 2476.0085894\ttotal: 249ms\tremaining: 2.62s\n",
      "13:\tlearn: 2418.9182762\ttotal: 268ms\tremaining: 2.6s\n",
      "14:\tlearn: 2366.0038368\ttotal: 286ms\tremaining: 2.57s\n",
      "15:\tlearn: 2316.8138782\ttotal: 305ms\tremaining: 2.55s\n",
      "16:\tlearn: 2273.0054866\ttotal: 324ms\tremaining: 2.53s\n",
      "17:\tlearn: 2236.4545079\ttotal: 343ms\tremaining: 2.52s\n",
      "18:\tlearn: 2201.0465651\ttotal: 361ms\tremaining: 2.49s\n",
      "19:\tlearn: 2173.7573959\ttotal: 379ms\tremaining: 2.46s\n",
      "20:\tlearn: 2146.7673196\ttotal: 397ms\tremaining: 2.44s\n",
      "21:\tlearn: 2114.9400394\ttotal: 416ms\tremaining: 2.42s\n",
      "22:\tlearn: 2093.5981294\ttotal: 435ms\tremaining: 2.4s\n",
      "23:\tlearn: 2072.0416116\ttotal: 452ms\tremaining: 2.38s\n",
      "24:\tlearn: 2053.9261460\ttotal: 470ms\tremaining: 2.35s\n",
      "25:\tlearn: 2034.4209649\ttotal: 490ms\tremaining: 2.33s\n",
      "26:\tlearn: 2019.0920330\ttotal: 509ms\tremaining: 2.32s\n",
      "27:\tlearn: 2004.7465286\ttotal: 528ms\tremaining: 2.3s\n",
      "28:\tlearn: 1992.1157201\ttotal: 547ms\tremaining: 2.28s\n",
      "29:\tlearn: 1980.8285341\ttotal: 567ms\tremaining: 2.27s\n",
      "30:\tlearn: 1970.1748590\ttotal: 584ms\tremaining: 2.24s\n",
      "31:\tlearn: 1960.3928624\ttotal: 603ms\tremaining: 2.22s\n",
      "32:\tlearn: 1951.4822995\ttotal: 621ms\tremaining: 2.2s\n",
      "33:\tlearn: 1943.4994737\ttotal: 641ms\tremaining: 2.19s\n",
      "34:\tlearn: 1936.4020132\ttotal: 658ms\tremaining: 2.16s\n",
      "35:\tlearn: 1928.2581104\ttotal: 677ms\tremaining: 2.14s\n",
      "36:\tlearn: 1922.2893054\ttotal: 694ms\tremaining: 2.12s\n",
      "37:\tlearn: 1913.4081109\ttotal: 713ms\tremaining: 2.1s\n",
      "38:\tlearn: 1907.6002040\ttotal: 731ms\tremaining: 2.08s\n",
      "39:\tlearn: 1903.1564793\ttotal: 748ms\tremaining: 2.06s\n",
      "40:\tlearn: 1898.0757006\ttotal: 765ms\tremaining: 2.03s\n",
      "41:\tlearn: 1893.5043399\ttotal: 783ms\tremaining: 2.01s\n",
      "42:\tlearn: 1888.3769128\ttotal: 801ms\tremaining: 1.99s\n",
      "43:\tlearn: 1882.5005563\ttotal: 820ms\tremaining: 1.98s\n",
      "44:\tlearn: 1877.4853718\ttotal: 839ms\tremaining: 1.96s\n",
      "45:\tlearn: 1873.3076735\ttotal: 856ms\tremaining: 1.93s\n",
      "46:\tlearn: 1868.9843104\ttotal: 873ms\tremaining: 1.91s\n",
      "47:\tlearn: 1864.7295769\ttotal: 891ms\tremaining: 1.89s\n",
      "48:\tlearn: 1861.0848975\ttotal: 909ms\tremaining: 1.87s\n",
      "49:\tlearn: 1855.9342871\ttotal: 928ms\tremaining: 1.85s\n",
      "50:\tlearn: 1851.7766658\ttotal: 947ms\tremaining: 1.84s\n",
      "51:\tlearn: 1849.1419353\ttotal: 970ms\tremaining: 1.83s\n",
      "52:\tlearn: 1844.7754319\ttotal: 989ms\tremaining: 1.81s\n",
      "53:\tlearn: 1840.3602113\ttotal: 1.01s\tremaining: 1.79s\n",
      "54:\tlearn: 1837.3477609\ttotal: 1.03s\tremaining: 1.78s\n",
      "55:\tlearn: 1834.4789392\ttotal: 1.05s\tremaining: 1.76s\n",
      "56:\tlearn: 1832.3607052\ttotal: 1.07s\tremaining: 1.74s\n",
      "57:\tlearn: 1830.3871491\ttotal: 1.08s\tremaining: 1.72s\n",
      "58:\tlearn: 1828.2144269\ttotal: 1.1s\tremaining: 1.7s\n",
      "59:\tlearn: 1826.3368293\ttotal: 1.12s\tremaining: 1.68s\n",
      "60:\tlearn: 1824.5482057\ttotal: 1.14s\tremaining: 1.67s\n",
      "61:\tlearn: 1822.9118606\ttotal: 1.16s\tremaining: 1.65s\n",
      "62:\tlearn: 1821.5476853\ttotal: 1.18s\tremaining: 1.63s\n",
      "63:\tlearn: 1819.0975880\ttotal: 1.2s\tremaining: 1.61s\n",
      "64:\tlearn: 1816.9294079\ttotal: 1.21s\tremaining: 1.58s\n",
      "65:\tlearn: 1812.2918710\ttotal: 1.23s\tremaining: 1.57s\n",
      "66:\tlearn: 1810.4248106\ttotal: 1.25s\tremaining: 1.54s\n",
      "67:\tlearn: 1808.5254129\ttotal: 1.26s\tremaining: 1.52s\n",
      "68:\tlearn: 1805.2485504\ttotal: 1.28s\tremaining: 1.51s\n",
      "69:\tlearn: 1803.5174254\ttotal: 1.3s\tremaining: 1.49s\n",
      "70:\tlearn: 1799.5129826\ttotal: 1.32s\tremaining: 1.47s\n",
      "71:\tlearn: 1798.0904483\ttotal: 1.33s\tremaining: 1.45s\n",
      "72:\tlearn: 1796.1999570\ttotal: 1.35s\tremaining: 1.43s\n",
      "73:\tlearn: 1794.2986565\ttotal: 1.37s\tremaining: 1.41s\n",
      "74:\tlearn: 1792.1426002\ttotal: 1.39s\tremaining: 1.39s\n",
      "75:\tlearn: 1789.6489388\ttotal: 1.41s\tremaining: 1.37s\n",
      "76:\tlearn: 1787.2255870\ttotal: 1.42s\tremaining: 1.35s\n",
      "77:\tlearn: 1785.7237834\ttotal: 1.44s\tremaining: 1.33s\n",
      "78:\tlearn: 1784.4628628\ttotal: 1.46s\tremaining: 1.31s\n",
      "79:\tlearn: 1782.8791174\ttotal: 1.48s\tremaining: 1.29s\n",
      "80:\tlearn: 1781.8661545\ttotal: 1.49s\tremaining: 1.27s\n",
      "81:\tlearn: 1780.5808990\ttotal: 1.51s\tremaining: 1.25s\n",
      "82:\tlearn: 1779.4070007\ttotal: 1.52s\tremaining: 1.23s\n",
      "83:\tlearn: 1777.0638084\ttotal: 1.54s\tremaining: 1.21s\n",
      "84:\tlearn: 1774.5790780\ttotal: 1.56s\tremaining: 1.19s\n",
      "85:\tlearn: 1773.1561557\ttotal: 1.57s\tremaining: 1.17s\n",
      "86:\tlearn: 1771.8190026\ttotal: 1.59s\tremaining: 1.15s\n",
      "87:\tlearn: 1769.7490308\ttotal: 1.61s\tremaining: 1.14s\n",
      "88:\tlearn: 1768.1182660\ttotal: 1.63s\tremaining: 1.12s\n",
      "89:\tlearn: 1766.8431644\ttotal: 1.65s\tremaining: 1.1s\n",
      "90:\tlearn: 1765.9662213\ttotal: 1.66s\tremaining: 1.08s\n",
      "91:\tlearn: 1764.6150317\ttotal: 1.68s\tremaining: 1.06s\n",
      "92:\tlearn: 1762.7985726\ttotal: 1.7s\tremaining: 1.04s\n",
      "93:\tlearn: 1761.5313989\ttotal: 1.72s\tremaining: 1.02s\n",
      "94:\tlearn: 1760.3637855\ttotal: 1.73s\tremaining: 1s\n",
      "95:\tlearn: 1759.0828973\ttotal: 1.75s\tremaining: 984ms\n",
      "96:\tlearn: 1758.1668066\ttotal: 1.77s\tremaining: 966ms\n",
      "97:\tlearn: 1756.4642509\ttotal: 1.79s\tremaining: 948ms\n",
      "98:\tlearn: 1754.1920535\ttotal: 1.8s\tremaining: 930ms\n",
      "99:\tlearn: 1753.5365824\ttotal: 1.82s\tremaining: 911ms\n",
      "100:\tlearn: 1752.3198300\ttotal: 1.84s\tremaining: 892ms\n",
      "101:\tlearn: 1751.3783828\ttotal: 1.85s\tremaining: 873ms\n",
      "102:\tlearn: 1749.6419802\ttotal: 1.87s\tremaining: 855ms\n",
      "103:\tlearn: 1748.4451309\ttotal: 1.89s\tremaining: 837ms\n",
      "104:\tlearn: 1746.7973987\ttotal: 1.91s\tremaining: 818ms\n",
      "105:\tlearn: 1745.1993791\ttotal: 1.93s\tremaining: 800ms\n",
      "106:\tlearn: 1743.1614418\ttotal: 1.95s\tremaining: 783ms\n",
      "107:\tlearn: 1742.3700619\ttotal: 1.97s\tremaining: 764ms\n",
      "108:\tlearn: 1741.1168840\ttotal: 1.98s\tremaining: 747ms\n",
      "109:\tlearn: 1740.3087318\ttotal: 2s\tremaining: 728ms\n",
      "110:\tlearn: 1739.1646340\ttotal: 2.02s\tremaining: 710ms\n",
      "111:\tlearn: 1738.3974683\ttotal: 2.04s\tremaining: 691ms\n",
      "112:\tlearn: 1737.0114704\ttotal: 2.05s\tremaining: 672ms\n",
      "113:\tlearn: 1735.2417521\ttotal: 2.07s\tremaining: 654ms\n",
      "114:\tlearn: 1734.2348833\ttotal: 2.09s\tremaining: 636ms\n",
      "115:\tlearn: 1733.0041761\ttotal: 2.1s\tremaining: 617ms\n",
      "116:\tlearn: 1732.3791665\ttotal: 2.12s\tremaining: 599ms\n",
      "117:\tlearn: 1731.3337680\ttotal: 2.14s\tremaining: 580ms\n",
      "118:\tlearn: 1729.9202114\ttotal: 2.16s\tremaining: 562ms\n",
      "119:\tlearn: 1728.6348359\ttotal: 2.18s\tremaining: 544ms\n",
      "120:\tlearn: 1727.8935012\ttotal: 2.19s\tremaining: 526ms\n",
      "121:\tlearn: 1726.8655154\ttotal: 2.21s\tremaining: 508ms\n",
      "122:\tlearn: 1725.0343239\ttotal: 2.23s\tremaining: 490ms\n",
      "123:\tlearn: 1724.2759216\ttotal: 2.25s\tremaining: 471ms\n",
      "124:\tlearn: 1723.5528519\ttotal: 2.27s\tremaining: 453ms\n",
      "125:\tlearn: 1721.8652563\ttotal: 2.29s\tremaining: 436ms\n",
      "126:\tlearn: 1720.7289526\ttotal: 2.31s\tremaining: 418ms\n",
      "127:\tlearn: 1719.2799421\ttotal: 2.32s\tremaining: 400ms\n",
      "128:\tlearn: 1718.3999758\ttotal: 2.34s\tremaining: 381ms\n",
      "129:\tlearn: 1717.3566182\ttotal: 2.36s\tremaining: 363ms\n",
      "130:\tlearn: 1716.7268383\ttotal: 2.38s\tremaining: 345ms\n",
      "131:\tlearn: 1715.0318601\ttotal: 2.4s\tremaining: 327ms\n",
      "132:\tlearn: 1713.7932334\ttotal: 2.42s\tremaining: 309ms\n",
      "133:\tlearn: 1712.2855289\ttotal: 2.44s\tremaining: 291ms\n",
      "134:\tlearn: 1711.1960635\ttotal: 2.45s\tremaining: 273ms\n",
      "135:\tlearn: 1710.4155983\ttotal: 2.47s\tremaining: 254ms\n",
      "136:\tlearn: 1709.7958586\ttotal: 2.49s\tremaining: 236ms\n",
      "137:\tlearn: 1708.6247280\ttotal: 2.52s\tremaining: 219ms\n",
      "138:\tlearn: 1707.7159445\ttotal: 2.53s\tremaining: 200ms\n",
      "139:\tlearn: 1706.8093037\ttotal: 2.55s\tremaining: 182ms\n",
      "140:\tlearn: 1705.0670250\ttotal: 2.57s\tremaining: 164ms\n",
      "141:\tlearn: 1704.1468621\ttotal: 2.59s\tremaining: 146ms\n",
      "142:\tlearn: 1703.3962321\ttotal: 2.61s\tremaining: 128ms\n",
      "143:\tlearn: 1702.4678430\ttotal: 2.63s\tremaining: 109ms\n",
      "144:\tlearn: 1700.9561829\ttotal: 2.65s\tremaining: 91.2ms\n",
      "145:\tlearn: 1700.3128332\ttotal: 2.66s\tremaining: 72.9ms\n",
      "146:\tlearn: 1699.2463220\ttotal: 2.68s\tremaining: 54.7ms\n",
      "147:\tlearn: 1698.4602452\ttotal: 2.7s\tremaining: 36.5ms\n",
      "148:\tlearn: 1697.4354793\ttotal: 2.72s\tremaining: 18.2ms\n",
      "149:\tlearn: 1695.8208376\ttotal: 2.74s\tremaining: 0us\n",
      "0:\tlearn: 4313.0000737\ttotal: 19ms\tremaining: 2.83s\n",
      "1:\tlearn: 4034.6497675\ttotal: 38.2ms\tremaining: 2.83s\n",
      "2:\tlearn: 3783.9363943\ttotal: 57.4ms\tremaining: 2.81s\n",
      "3:\tlearn: 3564.8982896\ttotal: 77.7ms\tremaining: 2.84s\n",
      "4:\tlearn: 3370.3522847\ttotal: 96.7ms\tremaining: 2.8s\n",
      "5:\tlearn: 3202.1505218\ttotal: 116ms\tremaining: 2.79s\n",
      "6:\tlearn: 3049.9560139\ttotal: 135ms\tremaining: 2.75s\n",
      "7:\tlearn: 2917.4189619\ttotal: 151ms\tremaining: 2.68s\n",
      "8:\tlearn: 2804.2204736\ttotal: 169ms\tremaining: 2.65s\n",
      "9:\tlearn: 2705.1537753\ttotal: 187ms\tremaining: 2.62s\n",
      "10:\tlearn: 2615.6989131\ttotal: 206ms\tremaining: 2.6s\n",
      "11:\tlearn: 2541.2729963\ttotal: 225ms\tremaining: 2.59s\n",
      "12:\tlearn: 2472.3695952\ttotal: 244ms\tremaining: 2.57s\n",
      "13:\tlearn: 2413.7339961\ttotal: 262ms\tremaining: 2.54s\n",
      "14:\tlearn: 2359.2022954\ttotal: 281ms\tremaining: 2.53s\n",
      "15:\tlearn: 2312.6275807\ttotal: 300ms\tremaining: 2.51s\n",
      "16:\tlearn: 2269.4842046\ttotal: 319ms\tremaining: 2.5s\n",
      "17:\tlearn: 2233.1279146\ttotal: 337ms\tremaining: 2.47s\n",
      "18:\tlearn: 2192.9603427\ttotal: 355ms\tremaining: 2.45s\n",
      "19:\tlearn: 2162.2735714\ttotal: 373ms\tremaining: 2.42s\n",
      "20:\tlearn: 2133.7246997\ttotal: 391ms\tremaining: 2.4s\n",
      "21:\tlearn: 2108.5173704\ttotal: 410ms\tremaining: 2.38s\n",
      "22:\tlearn: 2087.7995000\ttotal: 427ms\tremaining: 2.36s\n",
      "23:\tlearn: 2069.9935979\ttotal: 447ms\tremaining: 2.34s\n",
      "24:\tlearn: 2046.9240948\ttotal: 466ms\tremaining: 2.33s\n",
      "25:\tlearn: 2030.9593661\ttotal: 484ms\tremaining: 2.31s\n",
      "26:\tlearn: 2012.7921313\ttotal: 504ms\tremaining: 2.29s\n",
      "27:\tlearn: 1999.7224392\ttotal: 522ms\tremaining: 2.28s\n",
      "28:\tlearn: 1987.0512025\ttotal: 541ms\tremaining: 2.25s\n",
      "29:\tlearn: 1976.8622677\ttotal: 558ms\tremaining: 2.23s\n",
      "30:\tlearn: 1965.9603505\ttotal: 577ms\tremaining: 2.21s\n",
      "31:\tlearn: 1954.2044577\ttotal: 595ms\tremaining: 2.19s\n",
      "32:\tlearn: 1943.6453719\ttotal: 614ms\tremaining: 2.18s\n",
      "33:\tlearn: 1936.2929690\ttotal: 631ms\tremaining: 2.15s\n",
      "34:\tlearn: 1928.2525541\ttotal: 648ms\tremaining: 2.13s\n",
      "35:\tlearn: 1921.2111927\ttotal: 666ms\tremaining: 2.11s\n",
      "36:\tlearn: 1915.3389719\ttotal: 683ms\tremaining: 2.09s\n",
      "37:\tlearn: 1908.7651103\ttotal: 701ms\tremaining: 2.06s\n",
      "38:\tlearn: 1903.3977042\ttotal: 718ms\tremaining: 2.04s\n",
      "39:\tlearn: 1898.5274635\ttotal: 735ms\tremaining: 2.02s\n",
      "40:\tlearn: 1893.1346345\ttotal: 751ms\tremaining: 2s\n",
      "41:\tlearn: 1887.9323380\ttotal: 768ms\tremaining: 1.98s\n",
      "42:\tlearn: 1883.5610529\ttotal: 787ms\tremaining: 1.96s\n",
      "43:\tlearn: 1878.8539651\ttotal: 805ms\tremaining: 1.94s\n",
      "44:\tlearn: 1874.6023297\ttotal: 822ms\tremaining: 1.92s\n",
      "45:\tlearn: 1869.5487196\ttotal: 847ms\tremaining: 1.92s\n",
      "46:\tlearn: 1865.9225104\ttotal: 866ms\tremaining: 1.9s\n",
      "47:\tlearn: 1861.9313139\ttotal: 883ms\tremaining: 1.88s\n",
      "48:\tlearn: 1858.3234161\ttotal: 902ms\tremaining: 1.86s\n",
      "49:\tlearn: 1854.2103598\ttotal: 920ms\tremaining: 1.84s\n",
      "50:\tlearn: 1848.3337148\ttotal: 940ms\tremaining: 1.82s\n",
      "51:\tlearn: 1844.5758753\ttotal: 959ms\tremaining: 1.81s\n",
      "52:\tlearn: 1840.8812084\ttotal: 979ms\tremaining: 1.79s\n",
      "53:\tlearn: 1837.6001224\ttotal: 998ms\tremaining: 1.77s\n",
      "54:\tlearn: 1835.3280603\ttotal: 1.01s\tremaining: 1.75s\n",
      "55:\tlearn: 1830.9586937\ttotal: 1.03s\tremaining: 1.73s\n",
      "56:\tlearn: 1828.4537776\ttotal: 1.05s\tremaining: 1.71s\n",
      "57:\tlearn: 1826.2069631\ttotal: 1.07s\tremaining: 1.69s\n",
      "58:\tlearn: 1824.2145790\ttotal: 1.08s\tremaining: 1.67s\n",
      "59:\tlearn: 1821.0396982\ttotal: 1.1s\tremaining: 1.65s\n",
      "60:\tlearn: 1818.1333792\ttotal: 1.12s\tremaining: 1.63s\n",
      "61:\tlearn: 1814.2687318\ttotal: 1.14s\tremaining: 1.62s\n",
      "62:\tlearn: 1811.9597267\ttotal: 1.16s\tremaining: 1.6s\n",
      "63:\tlearn: 1809.4162029\ttotal: 1.17s\tremaining: 1.58s\n",
      "64:\tlearn: 1807.0062657\ttotal: 1.19s\tremaining: 1.56s\n",
      "65:\tlearn: 1804.2276444\ttotal: 1.21s\tremaining: 1.54s\n",
      "66:\tlearn: 1801.8562561\ttotal: 1.23s\tremaining: 1.52s\n",
      "67:\tlearn: 1799.2478712\ttotal: 1.25s\tremaining: 1.51s\n",
      "68:\tlearn: 1797.9526266\ttotal: 1.27s\tremaining: 1.49s\n",
      "69:\tlearn: 1795.5500344\ttotal: 1.29s\tremaining: 1.47s\n",
      "70:\tlearn: 1793.5513920\ttotal: 1.3s\tremaining: 1.45s\n",
      "71:\tlearn: 1791.4185824\ttotal: 1.32s\tremaining: 1.43s\n",
      "72:\tlearn: 1789.3884292\ttotal: 1.34s\tremaining: 1.42s\n",
      "73:\tlearn: 1786.8989470\ttotal: 1.36s\tremaining: 1.4s\n",
      "74:\tlearn: 1785.4576487\ttotal: 1.38s\tremaining: 1.38s\n",
      "75:\tlearn: 1783.8604542\ttotal: 1.4s\tremaining: 1.36s\n",
      "76:\tlearn: 1782.7380160\ttotal: 1.42s\tremaining: 1.34s\n",
      "77:\tlearn: 1780.1587696\ttotal: 1.43s\tremaining: 1.32s\n",
      "78:\tlearn: 1778.6552554\ttotal: 1.45s\tremaining: 1.31s\n",
      "79:\tlearn: 1777.1853029\ttotal: 1.48s\tremaining: 1.29s\n",
      "80:\tlearn: 1775.9722027\ttotal: 1.49s\tremaining: 1.27s\n",
      "81:\tlearn: 1773.8808136\ttotal: 1.51s\tremaining: 1.25s\n",
      "82:\tlearn: 1772.3413778\ttotal: 1.53s\tremaining: 1.23s\n",
      "83:\tlearn: 1771.1805328\ttotal: 1.55s\tremaining: 1.22s\n",
      "84:\tlearn: 1769.1682530\ttotal: 1.57s\tremaining: 1.2s\n",
      "85:\tlearn: 1767.7371623\ttotal: 1.59s\tremaining: 1.18s\n",
      "86:\tlearn: 1765.8998715\ttotal: 1.6s\tremaining: 1.16s\n",
      "87:\tlearn: 1764.6119790\ttotal: 1.62s\tremaining: 1.14s\n",
      "88:\tlearn: 1763.2346522\ttotal: 1.64s\tremaining: 1.12s\n",
      "89:\tlearn: 1761.2490820\ttotal: 1.66s\tremaining: 1.11s\n",
      "90:\tlearn: 1760.1987837\ttotal: 1.68s\tremaining: 1.09s\n",
      "91:\tlearn: 1759.1875944\ttotal: 1.69s\tremaining: 1.07s\n",
      "92:\tlearn: 1757.3764048\ttotal: 1.71s\tremaining: 1.05s\n",
      "93:\tlearn: 1756.3844413\ttotal: 1.73s\tremaining: 1.03s\n",
      "94:\tlearn: 1755.4564148\ttotal: 1.75s\tremaining: 1.01s\n",
      "95:\tlearn: 1753.7103511\ttotal: 1.77s\tremaining: 994ms\n",
      "96:\tlearn: 1752.5435643\ttotal: 1.78s\tremaining: 975ms\n",
      "97:\tlearn: 1751.3740496\ttotal: 1.8s\tremaining: 956ms\n",
      "98:\tlearn: 1750.0555104\ttotal: 1.82s\tremaining: 937ms\n",
      "99:\tlearn: 1748.4410956\ttotal: 1.84s\tremaining: 918ms\n",
      "100:\tlearn: 1746.6919938\ttotal: 1.85s\tremaining: 900ms\n",
      "101:\tlearn: 1745.5370666\ttotal: 1.87s\tremaining: 882ms\n",
      "102:\tlearn: 1744.2377973\ttotal: 1.89s\tremaining: 863ms\n",
      "103:\tlearn: 1742.9127073\ttotal: 1.91s\tremaining: 845ms\n",
      "104:\tlearn: 1741.1602263\ttotal: 1.93s\tremaining: 826ms\n",
      "105:\tlearn: 1739.7144447\ttotal: 1.95s\tremaining: 808ms\n",
      "106:\tlearn: 1739.0663365\ttotal: 1.96s\tremaining: 789ms\n",
      "107:\tlearn: 1737.9671997\ttotal: 1.98s\tremaining: 770ms\n",
      "108:\tlearn: 1736.3683071\ttotal: 2s\tremaining: 751ms\n",
      "109:\tlearn: 1735.1066954\ttotal: 2.01s\tremaining: 732ms\n",
      "110:\tlearn: 1733.4322044\ttotal: 2.03s\tremaining: 714ms\n",
      "111:\tlearn: 1732.1642318\ttotal: 2.05s\tremaining: 695ms\n",
      "112:\tlearn: 1731.2598997\ttotal: 2.07s\tremaining: 677ms\n",
      "113:\tlearn: 1730.1233072\ttotal: 2.08s\tremaining: 659ms\n",
      "114:\tlearn: 1728.8159084\ttotal: 2.1s\tremaining: 640ms\n",
      "115:\tlearn: 1727.9571790\ttotal: 2.12s\tremaining: 622ms\n",
      "116:\tlearn: 1726.5724780\ttotal: 2.14s\tremaining: 603ms\n",
      "117:\tlearn: 1725.2511449\ttotal: 2.16s\tremaining: 585ms\n",
      "118:\tlearn: 1724.2866065\ttotal: 2.17s\tremaining: 567ms\n",
      "119:\tlearn: 1723.1399300\ttotal: 2.19s\tremaining: 548ms\n",
      "120:\tlearn: 1722.0290527\ttotal: 2.21s\tremaining: 530ms\n",
      "121:\tlearn: 1720.4455931\ttotal: 2.23s\tremaining: 512ms\n",
      "122:\tlearn: 1719.6502837\ttotal: 2.25s\tremaining: 493ms\n",
      "123:\tlearn: 1718.9310547\ttotal: 2.26s\tremaining: 475ms\n",
      "124:\tlearn: 1718.1127881\ttotal: 2.28s\tremaining: 456ms\n",
      "125:\tlearn: 1717.0294602\ttotal: 2.3s\tremaining: 438ms\n",
      "126:\tlearn: 1715.7989400\ttotal: 2.31s\tremaining: 419ms\n",
      "127:\tlearn: 1714.8016863\ttotal: 2.33s\tremaining: 401ms\n",
      "128:\tlearn: 1713.1185091\ttotal: 2.35s\tremaining: 383ms\n",
      "129:\tlearn: 1711.8564318\ttotal: 2.37s\tremaining: 365ms\n",
      "130:\tlearn: 1711.2494038\ttotal: 2.39s\tremaining: 347ms\n",
      "131:\tlearn: 1710.2837967\ttotal: 2.41s\tremaining: 328ms\n",
      "132:\tlearn: 1709.1484276\ttotal: 2.42s\tremaining: 310ms\n",
      "133:\tlearn: 1707.8038052\ttotal: 2.44s\tremaining: 292ms\n",
      "134:\tlearn: 1706.8702929\ttotal: 2.46s\tremaining: 274ms\n",
      "135:\tlearn: 1706.0974898\ttotal: 2.48s\tremaining: 255ms\n",
      "136:\tlearn: 1705.2017958\ttotal: 2.5s\tremaining: 237ms\n",
      "137:\tlearn: 1703.8563496\ttotal: 2.52s\tremaining: 219ms\n",
      "138:\tlearn: 1702.5307533\ttotal: 2.54s\tremaining: 201ms\n",
      "139:\tlearn: 1701.6092672\ttotal: 2.56s\tremaining: 183ms\n",
      "140:\tlearn: 1700.6867913\ttotal: 2.57s\tremaining: 164ms\n",
      "141:\tlearn: 1699.4514189\ttotal: 2.59s\tremaining: 146ms\n",
      "142:\tlearn: 1698.6549458\ttotal: 2.61s\tremaining: 128ms\n",
      "143:\tlearn: 1698.0920893\ttotal: 2.63s\tremaining: 110ms\n",
      "144:\tlearn: 1697.1167348\ttotal: 2.65s\tremaining: 91.5ms\n",
      "145:\tlearn: 1696.0923693\ttotal: 2.67s\tremaining: 73.2ms\n",
      "146:\tlearn: 1695.4815510\ttotal: 2.69s\tremaining: 54.9ms\n",
      "147:\tlearn: 1694.8918031\ttotal: 2.71s\tremaining: 36.6ms\n",
      "148:\tlearn: 1693.9785285\ttotal: 2.73s\tremaining: 18.3ms\n",
      "149:\tlearn: 1692.9123446\ttotal: 2.75s\tremaining: 0us\n",
      "0:\tlearn: 4285.2259421\ttotal: 134ms\tremaining: 10.6s\n",
      "1:\tlearn: 3984.6533550\ttotal: 253ms\tremaining: 9.86s\n",
      "2:\tlearn: 3714.8012368\ttotal: 371ms\tremaining: 9.52s\n",
      "3:\tlearn: 3480.7397828\ttotal: 499ms\tremaining: 9.48s\n",
      "4:\tlearn: 3271.1847609\ttotal: 625ms\tremaining: 9.38s\n",
      "5:\tlearn: 3089.9972895\ttotal: 746ms\tremaining: 9.2s\n",
      "6:\tlearn: 2931.5729556\ttotal: 866ms\tremaining: 9.03s\n",
      "7:\tlearn: 2789.6895043\ttotal: 992ms\tremaining: 8.92s\n",
      "8:\tlearn: 2667.7214741\ttotal: 1.11s\tremaining: 8.79s\n",
      "9:\tlearn: 2551.3699628\ttotal: 1.23s\tremaining: 8.64s\n",
      "10:\tlearn: 2457.7051800\ttotal: 1.36s\tremaining: 8.51s\n",
      "11:\tlearn: 2376.1651502\ttotal: 1.47s\tremaining: 8.36s\n",
      "12:\tlearn: 2303.8582461\ttotal: 1.59s\tremaining: 8.2s\n",
      "13:\tlearn: 2233.0282079\ttotal: 1.71s\tremaining: 8.05s\n",
      "14:\tlearn: 2171.9320321\ttotal: 1.83s\tremaining: 7.93s\n",
      "15:\tlearn: 2126.8641592\ttotal: 1.95s\tremaining: 7.79s\n",
      "16:\tlearn: 2079.7075088\ttotal: 2.07s\tremaining: 7.67s\n",
      "17:\tlearn: 2040.8933512\ttotal: 2.21s\tremaining: 7.61s\n",
      "18:\tlearn: 2007.1550271\ttotal: 2.33s\tremaining: 7.47s\n",
      "19:\tlearn: 1977.8194001\ttotal: 2.44s\tremaining: 7.34s\n",
      "20:\tlearn: 1951.2335753\ttotal: 2.56s\tremaining: 7.19s\n",
      "21:\tlearn: 1927.7341909\ttotal: 2.69s\tremaining: 7.1s\n",
      "22:\tlearn: 1908.1132227\ttotal: 2.81s\tremaining: 6.96s\n",
      "23:\tlearn: 1891.4853736\ttotal: 2.92s\tremaining: 6.82s\n",
      "24:\tlearn: 1872.2704772\ttotal: 3.03s\tremaining: 6.67s\n",
      "25:\tlearn: 1857.8502810\ttotal: 3.15s\tremaining: 6.54s\n",
      "26:\tlearn: 1842.7371448\ttotal: 3.27s\tremaining: 6.42s\n",
      "27:\tlearn: 1832.3848684\ttotal: 3.38s\tremaining: 6.28s\n",
      "28:\tlearn: 1819.3458060\ttotal: 3.5s\tremaining: 6.16s\n",
      "29:\tlearn: 1810.6424162\ttotal: 3.62s\tremaining: 6.03s\n",
      "30:\tlearn: 1800.4486998\ttotal: 3.75s\tremaining: 5.92s\n",
      "31:\tlearn: 1791.3750337\ttotal: 3.87s\tremaining: 5.8s\n",
      "32:\tlearn: 1783.5291032\ttotal: 3.99s\tremaining: 5.68s\n",
      "33:\tlearn: 1776.1482165\ttotal: 4.11s\tremaining: 5.56s\n",
      "34:\tlearn: 1769.8799902\ttotal: 4.23s\tremaining: 5.44s\n",
      "35:\tlearn: 1763.9560157\ttotal: 4.34s\tremaining: 5.31s\n",
      "36:\tlearn: 1758.7544173\ttotal: 4.47s\tremaining: 5.19s\n",
      "37:\tlearn: 1754.3394960\ttotal: 4.59s\tremaining: 5.07s\n",
      "38:\tlearn: 1749.7051731\ttotal: 4.71s\tremaining: 4.95s\n",
      "39:\tlearn: 1744.4772132\ttotal: 4.82s\tremaining: 4.82s\n",
      "40:\tlearn: 1739.9330064\ttotal: 4.97s\tremaining: 4.73s\n",
      "41:\tlearn: 1735.7264406\ttotal: 5.11s\tremaining: 4.62s\n",
      "42:\tlearn: 1732.1490070\ttotal: 5.25s\tremaining: 4.52s\n",
      "43:\tlearn: 1728.3621689\ttotal: 5.37s\tremaining: 4.4s\n",
      "44:\tlearn: 1725.5244111\ttotal: 5.49s\tremaining: 4.27s\n",
      "45:\tlearn: 1721.7964427\ttotal: 5.62s\tremaining: 4.15s\n",
      "46:\tlearn: 1719.3046943\ttotal: 5.74s\tremaining: 4.03s\n",
      "47:\tlearn: 1716.7529251\ttotal: 5.86s\tremaining: 3.91s\n",
      "48:\tlearn: 1713.3043220\ttotal: 5.98s\tremaining: 3.79s\n",
      "49:\tlearn: 1710.9877513\ttotal: 6.1s\tremaining: 3.66s\n",
      "50:\tlearn: 1708.2538710\ttotal: 6.23s\tremaining: 3.54s\n",
      "51:\tlearn: 1705.6851310\ttotal: 6.36s\tremaining: 3.42s\n",
      "52:\tlearn: 1703.3933321\ttotal: 6.48s\tremaining: 3.3s\n",
      "53:\tlearn: 1700.7409873\ttotal: 6.62s\tremaining: 3.19s\n",
      "54:\tlearn: 1698.1661818\ttotal: 6.74s\tremaining: 3.06s\n",
      "55:\tlearn: 1695.2160639\ttotal: 6.89s\tremaining: 2.95s\n",
      "56:\tlearn: 1692.5112412\ttotal: 7.02s\tremaining: 2.83s\n",
      "57:\tlearn: 1689.8671593\ttotal: 7.14s\tremaining: 2.71s\n",
      "58:\tlearn: 1688.4348083\ttotal: 7.26s\tremaining: 2.59s\n",
      "59:\tlearn: 1686.6855958\ttotal: 7.39s\tremaining: 2.46s\n",
      "60:\tlearn: 1684.9640815\ttotal: 7.52s\tremaining: 2.34s\n",
      "61:\tlearn: 1683.0524543\ttotal: 7.64s\tremaining: 2.22s\n",
      "62:\tlearn: 1680.1348600\ttotal: 7.76s\tremaining: 2.09s\n",
      "63:\tlearn: 1677.3694879\ttotal: 7.88s\tremaining: 1.97s\n",
      "64:\tlearn: 1675.9446966\ttotal: 8.01s\tremaining: 1.85s\n",
      "65:\tlearn: 1673.2210726\ttotal: 8.13s\tremaining: 1.73s\n",
      "66:\tlearn: 1671.2180255\ttotal: 8.26s\tremaining: 1.6s\n",
      "67:\tlearn: 1668.0768628\ttotal: 8.38s\tremaining: 1.48s\n",
      "68:\tlearn: 1666.1567464\ttotal: 8.52s\tremaining: 1.36s\n",
      "69:\tlearn: 1664.6517183\ttotal: 8.65s\tremaining: 1.24s\n",
      "70:\tlearn: 1661.3538123\ttotal: 8.77s\tremaining: 1.11s\n",
      "71:\tlearn: 1659.7973213\ttotal: 8.89s\tremaining: 988ms\n",
      "72:\tlearn: 1657.7437137\ttotal: 9.01s\tremaining: 864ms\n",
      "73:\tlearn: 1657.4825589\ttotal: 9.03s\tremaining: 732ms\n",
      "74:\tlearn: 1656.3286218\ttotal: 9.15s\tremaining: 610ms\n",
      "75:\tlearn: 1654.5205200\ttotal: 9.27s\tremaining: 488ms\n",
      "76:\tlearn: 1653.1565647\ttotal: 9.4s\tremaining: 366ms\n",
      "77:\tlearn: 1651.5645217\ttotal: 9.52s\tremaining: 244ms\n",
      "78:\tlearn: 1650.0476650\ttotal: 9.67s\tremaining: 122ms\n",
      "79:\tlearn: 1648.4259091\ttotal: 9.82s\tremaining: 0us\n",
      "0:\tlearn: 4293.9382396\ttotal: 115ms\tremaining: 9.08s\n",
      "1:\tlearn: 3988.4752870\ttotal: 228ms\tremaining: 8.9s\n",
      "2:\tlearn: 3722.5985192\ttotal: 365ms\tremaining: 9.36s\n",
      "3:\tlearn: 3487.2142865\ttotal: 485ms\tremaining: 9.21s\n",
      "4:\tlearn: 3280.4026034\ttotal: 600ms\tremaining: 9s\n",
      "5:\tlearn: 3095.5205354\ttotal: 715ms\tremaining: 8.81s\n",
      "6:\tlearn: 2931.7507151\ttotal: 835ms\tremaining: 8.71s\n",
      "7:\tlearn: 2794.7116362\ttotal: 954ms\tremaining: 8.59s\n",
      "8:\tlearn: 2670.2087145\ttotal: 1.07s\tremaining: 8.46s\n",
      "9:\tlearn: 2555.2039916\ttotal: 1.2s\tremaining: 8.42s\n",
      "10:\tlearn: 2459.9217875\ttotal: 1.32s\tremaining: 8.28s\n",
      "11:\tlearn: 2373.9601626\ttotal: 1.44s\tremaining: 8.14s\n",
      "12:\tlearn: 2300.7827030\ttotal: 1.56s\tremaining: 8.02s\n",
      "13:\tlearn: 2231.4720684\ttotal: 1.68s\tremaining: 7.91s\n",
      "14:\tlearn: 2176.1701000\ttotal: 1.8s\tremaining: 7.79s\n",
      "15:\tlearn: 2128.4917133\ttotal: 1.93s\tremaining: 7.71s\n",
      "16:\tlearn: 2086.5126298\ttotal: 2.05s\tremaining: 7.59s\n",
      "17:\tlearn: 2052.0936332\ttotal: 2.17s\tremaining: 7.47s\n",
      "18:\tlearn: 2017.2995508\ttotal: 2.28s\tremaining: 7.33s\n",
      "19:\tlearn: 1984.1064111\ttotal: 2.4s\tremaining: 7.2s\n",
      "20:\tlearn: 1953.1355781\ttotal: 2.52s\tremaining: 7.09s\n",
      "21:\tlearn: 1929.3592801\ttotal: 2.64s\tremaining: 6.96s\n",
      "22:\tlearn: 1909.3946543\ttotal: 2.75s\tremaining: 6.83s\n",
      "23:\tlearn: 1890.1748493\ttotal: 2.87s\tremaining: 6.71s\n",
      "24:\tlearn: 1873.8984059\ttotal: 2.99s\tremaining: 6.58s\n",
      "25:\tlearn: 1857.7297700\ttotal: 3.11s\tremaining: 6.46s\n",
      "26:\tlearn: 1842.8205911\ttotal: 3.23s\tremaining: 6.34s\n",
      "27:\tlearn: 1832.2681075\ttotal: 3.37s\tremaining: 6.25s\n",
      "28:\tlearn: 1821.1022025\ttotal: 3.48s\tremaining: 6.13s\n",
      "29:\tlearn: 1809.2517077\ttotal: 3.62s\tremaining: 6.03s\n",
      "30:\tlearn: 1799.5804277\ttotal: 3.74s\tremaining: 5.91s\n",
      "31:\tlearn: 1792.5980361\ttotal: 3.85s\tremaining: 5.78s\n",
      "32:\tlearn: 1785.7191816\ttotal: 3.97s\tremaining: 5.65s\n",
      "33:\tlearn: 1778.4371420\ttotal: 4.08s\tremaining: 5.53s\n",
      "34:\tlearn: 1772.5532605\ttotal: 4.2s\tremaining: 5.4s\n",
      "35:\tlearn: 1766.9367955\ttotal: 4.32s\tremaining: 5.28s\n",
      "36:\tlearn: 1760.7791332\ttotal: 4.44s\tremaining: 5.16s\n",
      "37:\tlearn: 1756.1756475\ttotal: 4.56s\tremaining: 5.04s\n",
      "38:\tlearn: 1749.9104337\ttotal: 4.67s\tremaining: 4.91s\n",
      "39:\tlearn: 1745.6002795\ttotal: 4.8s\tremaining: 4.8s\n",
      "40:\tlearn: 1741.1945634\ttotal: 4.91s\tremaining: 4.67s\n",
      "41:\tlearn: 1737.2138547\ttotal: 5.03s\tremaining: 4.55s\n",
      "42:\tlearn: 1733.4242992\ttotal: 5.16s\tremaining: 4.44s\n",
      "43:\tlearn: 1728.5745880\ttotal: 5.28s\tremaining: 4.32s\n",
      "44:\tlearn: 1725.5278400\ttotal: 5.4s\tremaining: 4.2s\n",
      "45:\tlearn: 1721.7308538\ttotal: 5.52s\tremaining: 4.08s\n",
      "46:\tlearn: 1717.7536656\ttotal: 5.64s\tremaining: 3.96s\n",
      "47:\tlearn: 1713.8508883\ttotal: 5.76s\tremaining: 3.84s\n",
      "48:\tlearn: 1711.0977002\ttotal: 5.87s\tremaining: 3.72s\n",
      "49:\tlearn: 1707.5785851\ttotal: 5.99s\tremaining: 3.6s\n",
      "50:\tlearn: 1705.1682296\ttotal: 6.11s\tremaining: 3.47s\n",
      "51:\tlearn: 1701.2862986\ttotal: 6.22s\tremaining: 3.35s\n",
      "52:\tlearn: 1699.1788419\ttotal: 6.34s\tremaining: 3.23s\n",
      "53:\tlearn: 1697.3818423\ttotal: 6.49s\tremaining: 3.13s\n",
      "54:\tlearn: 1695.0763510\ttotal: 6.61s\tremaining: 3s\n",
      "55:\tlearn: 1693.4335082\ttotal: 6.76s\tremaining: 2.9s\n",
      "56:\tlearn: 1690.2424358\ttotal: 6.88s\tremaining: 2.77s\n",
      "57:\tlearn: 1688.3519127\ttotal: 7s\tremaining: 2.65s\n",
      "58:\tlearn: 1684.5571798\ttotal: 7.12s\tremaining: 2.54s\n",
      "59:\tlearn: 1682.7639227\ttotal: 7.25s\tremaining: 2.42s\n",
      "60:\tlearn: 1679.8611585\ttotal: 7.37s\tremaining: 2.29s\n",
      "61:\tlearn: 1678.1100212\ttotal: 7.49s\tremaining: 2.17s\n",
      "62:\tlearn: 1676.7221776\ttotal: 7.61s\tremaining: 2.05s\n",
      "63:\tlearn: 1674.5116721\ttotal: 7.72s\tremaining: 1.93s\n",
      "64:\tlearn: 1672.1476651\ttotal: 7.84s\tremaining: 1.81s\n",
      "65:\tlearn: 1670.2145853\ttotal: 7.96s\tremaining: 1.69s\n",
      "66:\tlearn: 1667.5771816\ttotal: 8.08s\tremaining: 1.57s\n",
      "67:\tlearn: 1665.0467253\ttotal: 8.2s\tremaining: 1.45s\n",
      "68:\tlearn: 1662.9672284\ttotal: 8.34s\tremaining: 1.33s\n",
      "69:\tlearn: 1660.0089031\ttotal: 8.47s\tremaining: 1.21s\n",
      "70:\tlearn: 1657.2153519\ttotal: 8.59s\tremaining: 1.09s\n",
      "71:\tlearn: 1654.6902514\ttotal: 8.71s\tremaining: 967ms\n",
      "72:\tlearn: 1653.4402787\ttotal: 8.82s\tremaining: 846ms\n",
      "73:\tlearn: 1652.3945443\ttotal: 8.94s\tremaining: 725ms\n",
      "74:\tlearn: 1650.8049686\ttotal: 9.06s\tremaining: 604ms\n",
      "75:\tlearn: 1648.7836285\ttotal: 9.19s\tremaining: 484ms\n",
      "76:\tlearn: 1647.6343547\ttotal: 9.31s\tremaining: 363ms\n",
      "77:\tlearn: 1646.7122413\ttotal: 9.43s\tremaining: 242ms\n",
      "78:\tlearn: 1644.8378951\ttotal: 9.54s\tremaining: 121ms\n",
      "79:\tlearn: 1642.9054570\ttotal: 9.66s\tremaining: 0us\n",
      "0:\tlearn: 4285.2259421\ttotal: 117ms\tremaining: 17.4s\n",
      "1:\tlearn: 3984.6533550\ttotal: 237ms\tremaining: 17.6s\n",
      "2:\tlearn: 3714.8012368\ttotal: 383ms\tremaining: 18.7s\n",
      "3:\tlearn: 3480.7397828\ttotal: 497ms\tremaining: 18.2s\n",
      "4:\tlearn: 3271.1847609\ttotal: 612ms\tremaining: 17.8s\n",
      "5:\tlearn: 3089.9972895\ttotal: 728ms\tremaining: 17.5s\n",
      "6:\tlearn: 2931.5729556\ttotal: 842ms\tremaining: 17.2s\n",
      "7:\tlearn: 2789.6895043\ttotal: 955ms\tremaining: 16.9s\n",
      "8:\tlearn: 2667.7214741\ttotal: 1.07s\tremaining: 16.8s\n",
      "9:\tlearn: 2551.3699628\ttotal: 1.19s\tremaining: 16.6s\n",
      "10:\tlearn: 2457.7051800\ttotal: 1.3s\tremaining: 16.5s\n",
      "11:\tlearn: 2376.1651502\ttotal: 1.43s\tremaining: 16.4s\n",
      "12:\tlearn: 2303.8582461\ttotal: 1.54s\tremaining: 16.3s\n",
      "13:\tlearn: 2233.0282079\ttotal: 1.66s\tremaining: 16.1s\n",
      "14:\tlearn: 2171.9320321\ttotal: 1.78s\tremaining: 16s\n",
      "15:\tlearn: 2126.8641592\ttotal: 1.91s\tremaining: 16s\n",
      "16:\tlearn: 2079.7075088\ttotal: 2.04s\tremaining: 16s\n",
      "17:\tlearn: 2040.8933512\ttotal: 2.16s\tremaining: 15.8s\n",
      "18:\tlearn: 2007.1550271\ttotal: 2.28s\tremaining: 15.7s\n",
      "19:\tlearn: 1977.8194001\ttotal: 2.4s\tremaining: 15.6s\n",
      "20:\tlearn: 1951.2335753\ttotal: 2.53s\tremaining: 15.6s\n",
      "21:\tlearn: 1927.7341909\ttotal: 2.66s\tremaining: 15.5s\n",
      "22:\tlearn: 1908.1132227\ttotal: 2.78s\tremaining: 15.4s\n",
      "23:\tlearn: 1891.4853736\ttotal: 2.9s\tremaining: 15.3s\n",
      "24:\tlearn: 1872.2704772\ttotal: 3.03s\tremaining: 15.2s\n",
      "25:\tlearn: 1857.8502810\ttotal: 3.15s\tremaining: 15s\n",
      "26:\tlearn: 1842.7371448\ttotal: 3.27s\tremaining: 14.9s\n",
      "27:\tlearn: 1832.3848684\ttotal: 3.43s\tremaining: 14.9s\n",
      "28:\tlearn: 1819.3458060\ttotal: 3.56s\tremaining: 14.8s\n",
      "29:\tlearn: 1810.6424162\ttotal: 3.67s\tremaining: 14.7s\n",
      "30:\tlearn: 1800.4486998\ttotal: 3.79s\tremaining: 14.6s\n",
      "31:\tlearn: 1791.3750337\ttotal: 3.91s\tremaining: 14.4s\n",
      "32:\tlearn: 1783.5291032\ttotal: 4.03s\tremaining: 14.3s\n",
      "33:\tlearn: 1776.1482165\ttotal: 4.15s\tremaining: 14.1s\n",
      "34:\tlearn: 1769.8799902\ttotal: 4.28s\tremaining: 14.1s\n",
      "35:\tlearn: 1763.9560157\ttotal: 4.4s\tremaining: 13.9s\n",
      "36:\tlearn: 1758.7544173\ttotal: 4.51s\tremaining: 13.8s\n",
      "37:\tlearn: 1754.3394960\ttotal: 4.63s\tremaining: 13.6s\n",
      "38:\tlearn: 1749.7051731\ttotal: 4.74s\tremaining: 13.5s\n",
      "39:\tlearn: 1744.4772132\ttotal: 4.86s\tremaining: 13.4s\n",
      "40:\tlearn: 1739.9330064\ttotal: 4.98s\tremaining: 13.2s\n",
      "41:\tlearn: 1735.7264406\ttotal: 5.11s\tremaining: 13.1s\n",
      "42:\tlearn: 1732.1490070\ttotal: 5.23s\tremaining: 13s\n",
      "43:\tlearn: 1728.3621689\ttotal: 5.35s\tremaining: 12.9s\n",
      "44:\tlearn: 1725.5244111\ttotal: 5.47s\tremaining: 12.8s\n",
      "45:\tlearn: 1721.7964427\ttotal: 5.59s\tremaining: 12.6s\n",
      "46:\tlearn: 1719.3046943\ttotal: 5.71s\tremaining: 12.5s\n",
      "47:\tlearn: 1716.7529251\ttotal: 5.84s\tremaining: 12.4s\n",
      "48:\tlearn: 1713.3043220\ttotal: 5.97s\tremaining: 12.3s\n",
      "49:\tlearn: 1710.9877513\ttotal: 6.08s\tremaining: 12.2s\n",
      "50:\tlearn: 1708.2538710\ttotal: 6.2s\tremaining: 12s\n",
      "51:\tlearn: 1705.6851310\ttotal: 6.32s\tremaining: 11.9s\n",
      "52:\tlearn: 1703.3933321\ttotal: 6.46s\tremaining: 11.8s\n",
      "53:\tlearn: 1700.7409873\ttotal: 6.58s\tremaining: 11.7s\n",
      "54:\tlearn: 1698.1661818\ttotal: 6.7s\tremaining: 11.6s\n",
      "55:\tlearn: 1695.2160639\ttotal: 6.82s\tremaining: 11.5s\n",
      "56:\tlearn: 1692.5112412\ttotal: 6.95s\tremaining: 11.3s\n",
      "57:\tlearn: 1689.8671593\ttotal: 7.07s\tremaining: 11.2s\n",
      "58:\tlearn: 1688.4348083\ttotal: 7.2s\tremaining: 11.1s\n",
      "59:\tlearn: 1686.6855958\ttotal: 7.32s\tremaining: 11s\n",
      "60:\tlearn: 1684.9640815\ttotal: 7.44s\tremaining: 10.9s\n",
      "61:\tlearn: 1683.0524543\ttotal: 7.55s\tremaining: 10.7s\n",
      "62:\tlearn: 1680.1348600\ttotal: 7.67s\tremaining: 10.6s\n",
      "63:\tlearn: 1677.3694879\ttotal: 7.8s\tremaining: 10.5s\n",
      "64:\tlearn: 1675.9446966\ttotal: 7.93s\tremaining: 10.4s\n",
      "65:\tlearn: 1673.2210726\ttotal: 8.04s\tremaining: 10.2s\n",
      "66:\tlearn: 1671.2180255\ttotal: 8.17s\tremaining: 10.1s\n",
      "67:\tlearn: 1668.0768628\ttotal: 8.3s\tremaining: 10s\n",
      "68:\tlearn: 1666.1567464\ttotal: 8.42s\tremaining: 9.88s\n",
      "69:\tlearn: 1664.6517183\ttotal: 8.54s\tremaining: 9.76s\n",
      "70:\tlearn: 1661.3538123\ttotal: 8.66s\tremaining: 9.63s\n",
      "71:\tlearn: 1659.7973213\ttotal: 8.77s\tremaining: 9.5s\n",
      "72:\tlearn: 1657.7437137\ttotal: 8.89s\tremaining: 9.38s\n",
      "73:\tlearn: 1657.4825589\ttotal: 8.91s\tremaining: 9.15s\n",
      "74:\tlearn: 1656.3286218\ttotal: 9.03s\tremaining: 9.03s\n",
      "75:\tlearn: 1654.5205200\ttotal: 9.14s\tremaining: 8.9s\n",
      "76:\tlearn: 1653.1565647\ttotal: 9.26s\tremaining: 8.78s\n",
      "77:\tlearn: 1651.5645217\ttotal: 9.38s\tremaining: 8.66s\n",
      "78:\tlearn: 1650.0476650\ttotal: 9.49s\tremaining: 8.53s\n",
      "79:\tlearn: 1648.4259091\ttotal: 9.62s\tremaining: 8.42s\n",
      "80:\tlearn: 1646.4947078\ttotal: 9.75s\tremaining: 8.3s\n",
      "81:\tlearn: 1644.9517351\ttotal: 9.88s\tremaining: 8.2s\n",
      "82:\tlearn: 1644.1869669\ttotal: 10s\tremaining: 8.08s\n",
      "83:\tlearn: 1642.8947850\ttotal: 10.1s\tremaining: 7.96s\n",
      "84:\tlearn: 1641.7716529\ttotal: 10.2s\tremaining: 7.83s\n",
      "85:\tlearn: 1640.1006872\ttotal: 10.4s\tremaining: 7.71s\n",
      "86:\tlearn: 1637.8630607\ttotal: 10.5s\tremaining: 7.59s\n",
      "87:\tlearn: 1636.1596190\ttotal: 10.6s\tremaining: 7.47s\n",
      "88:\tlearn: 1634.3411817\ttotal: 10.7s\tremaining: 7.34s\n",
      "89:\tlearn: 1633.4277402\ttotal: 10.8s\tremaining: 7.22s\n",
      "90:\tlearn: 1631.0423823\ttotal: 11s\tremaining: 7.1s\n",
      "91:\tlearn: 1629.7618430\ttotal: 11.1s\tremaining: 6.98s\n",
      "92:\tlearn: 1627.2538651\ttotal: 11.2s\tremaining: 6.86s\n",
      "93:\tlearn: 1625.5581535\ttotal: 11.3s\tremaining: 6.75s\n",
      "94:\tlearn: 1623.5956749\ttotal: 11.5s\tremaining: 6.63s\n",
      "95:\tlearn: 1622.4010834\ttotal: 11.6s\tremaining: 6.51s\n",
      "96:\tlearn: 1620.4259390\ttotal: 11.7s\tremaining: 6.38s\n",
      "97:\tlearn: 1618.7701083\ttotal: 11.8s\tremaining: 6.26s\n",
      "98:\tlearn: 1617.7360813\ttotal: 11.9s\tremaining: 6.14s\n",
      "99:\tlearn: 1616.4981374\ttotal: 12s\tremaining: 6.02s\n",
      "100:\tlearn: 1615.2279264\ttotal: 12.2s\tremaining: 5.9s\n",
      "101:\tlearn: 1613.7854841\ttotal: 12.3s\tremaining: 5.78s\n",
      "102:\tlearn: 1612.9459774\ttotal: 12.4s\tremaining: 5.66s\n",
      "103:\tlearn: 1611.1783229\ttotal: 12.5s\tremaining: 5.54s\n",
      "104:\tlearn: 1609.6288799\ttotal: 12.7s\tremaining: 5.43s\n",
      "105:\tlearn: 1607.7388795\ttotal: 12.8s\tremaining: 5.31s\n",
      "106:\tlearn: 1606.3211688\ttotal: 12.9s\tremaining: 5.19s\n",
      "107:\tlearn: 1605.3959542\ttotal: 13s\tremaining: 5.07s\n",
      "108:\tlearn: 1603.9321452\ttotal: 13.2s\tremaining: 4.95s\n",
      "109:\tlearn: 1603.1920189\ttotal: 13.3s\tremaining: 4.83s\n",
      "110:\tlearn: 1602.1876575\ttotal: 13.4s\tremaining: 4.71s\n",
      "111:\tlearn: 1601.6062180\ttotal: 13.5s\tremaining: 4.59s\n",
      "112:\tlearn: 1599.5958013\ttotal: 13.6s\tremaining: 4.47s\n",
      "113:\tlearn: 1598.2825600\ttotal: 13.8s\tremaining: 4.34s\n",
      "114:\tlearn: 1597.2510594\ttotal: 13.9s\tremaining: 4.22s\n",
      "115:\tlearn: 1595.7718562\ttotal: 14s\tremaining: 4.1s\n",
      "116:\tlearn: 1594.7197644\ttotal: 14.1s\tremaining: 3.98s\n",
      "117:\tlearn: 1593.2318193\ttotal: 14.2s\tremaining: 3.86s\n",
      "118:\tlearn: 1591.5953139\ttotal: 14.4s\tremaining: 3.74s\n",
      "119:\tlearn: 1590.4982195\ttotal: 14.5s\tremaining: 3.62s\n",
      "120:\tlearn: 1588.4515318\ttotal: 14.6s\tremaining: 3.5s\n",
      "121:\tlearn: 1586.7715243\ttotal: 14.7s\tremaining: 3.38s\n",
      "122:\tlearn: 1585.9599017\ttotal: 14.8s\tremaining: 3.26s\n",
      "123:\tlearn: 1584.1995339\ttotal: 15s\tremaining: 3.14s\n",
      "124:\tlearn: 1582.4710876\ttotal: 15.1s\tremaining: 3.02s\n",
      "125:\tlearn: 1581.5290835\ttotal: 15.2s\tremaining: 2.9s\n",
      "126:\tlearn: 1580.3792411\ttotal: 15.3s\tremaining: 2.77s\n",
      "127:\tlearn: 1578.8885439\ttotal: 15.4s\tremaining: 2.65s\n",
      "128:\tlearn: 1578.0212527\ttotal: 15.6s\tremaining: 2.53s\n",
      "129:\tlearn: 1577.0568314\ttotal: 15.7s\tremaining: 2.41s\n",
      "130:\tlearn: 1576.0556001\ttotal: 15.8s\tremaining: 2.29s\n",
      "131:\tlearn: 1574.4219559\ttotal: 16s\tremaining: 2.18s\n",
      "132:\tlearn: 1572.7011657\ttotal: 16.1s\tremaining: 2.06s\n",
      "133:\tlearn: 1571.6780763\ttotal: 16.2s\tremaining: 1.94s\n",
      "134:\tlearn: 1570.3920202\ttotal: 16.4s\tremaining: 1.82s\n",
      "135:\tlearn: 1569.2893236\ttotal: 16.5s\tremaining: 1.7s\n",
      "136:\tlearn: 1568.2474418\ttotal: 16.6s\tremaining: 1.57s\n",
      "137:\tlearn: 1567.1556891\ttotal: 16.7s\tremaining: 1.45s\n",
      "138:\tlearn: 1565.9065112\ttotal: 16.8s\tremaining: 1.33s\n",
      "139:\tlearn: 1564.7340229\ttotal: 17s\tremaining: 1.21s\n",
      "140:\tlearn: 1563.5303100\ttotal: 17.1s\tremaining: 1.09s\n",
      "141:\tlearn: 1562.4783116\ttotal: 17.2s\tremaining: 970ms\n",
      "142:\tlearn: 1561.5365275\ttotal: 17.3s\tremaining: 849ms\n",
      "143:\tlearn: 1560.5743972\ttotal: 17.5s\tremaining: 728ms\n",
      "144:\tlearn: 1559.5812513\ttotal: 17.6s\tremaining: 607ms\n",
      "145:\tlearn: 1558.4064152\ttotal: 17.7s\tremaining: 485ms\n",
      "146:\tlearn: 1557.5772938\ttotal: 17.9s\tremaining: 365ms\n",
      "147:\tlearn: 1556.4546956\ttotal: 18s\tremaining: 243ms\n",
      "148:\tlearn: 1555.6148219\ttotal: 18.1s\tremaining: 121ms\n",
      "149:\tlearn: 1554.5506213\ttotal: 18.2s\tremaining: 0us\n",
      "0:\tlearn: 4293.9382396\ttotal: 152ms\tremaining: 22.7s\n",
      "1:\tlearn: 3988.4752870\ttotal: 276ms\tremaining: 20.4s\n",
      "2:\tlearn: 3722.5985192\ttotal: 410ms\tremaining: 20.1s\n",
      "3:\tlearn: 3487.2142865\ttotal: 526ms\tremaining: 19.2s\n",
      "4:\tlearn: 3280.4026034\ttotal: 638ms\tremaining: 18.5s\n",
      "5:\tlearn: 3095.5205354\ttotal: 754ms\tremaining: 18.1s\n",
      "6:\tlearn: 2931.7507151\ttotal: 873ms\tremaining: 17.8s\n",
      "7:\tlearn: 2794.7116362\ttotal: 989ms\tremaining: 17.6s\n",
      "8:\tlearn: 2670.2087145\ttotal: 1.11s\tremaining: 17.4s\n",
      "9:\tlearn: 2555.2039916\ttotal: 1.24s\tremaining: 17.3s\n",
      "10:\tlearn: 2459.9217875\ttotal: 1.36s\tremaining: 17.3s\n",
      "11:\tlearn: 2373.9601626\ttotal: 1.48s\tremaining: 17.1s\n",
      "12:\tlearn: 2300.7827030\ttotal: 1.6s\tremaining: 16.9s\n",
      "13:\tlearn: 2231.4720684\ttotal: 1.72s\tremaining: 16.7s\n",
      "14:\tlearn: 2176.1701000\ttotal: 1.84s\tremaining: 16.5s\n",
      "15:\tlearn: 2128.4917133\ttotal: 1.96s\tremaining: 16.4s\n",
      "16:\tlearn: 2086.5126298\ttotal: 2.08s\tremaining: 16.3s\n",
      "17:\tlearn: 2052.0936332\ttotal: 2.19s\tremaining: 16.1s\n",
      "18:\tlearn: 2017.2995508\ttotal: 2.31s\tremaining: 16s\n",
      "19:\tlearn: 1984.1064111\ttotal: 2.43s\tremaining: 15.8s\n",
      "20:\tlearn: 1953.1355781\ttotal: 2.56s\tremaining: 15.7s\n",
      "21:\tlearn: 1929.3592801\ttotal: 2.68s\tremaining: 15.6s\n",
      "22:\tlearn: 1909.3946543\ttotal: 2.81s\tremaining: 15.5s\n",
      "23:\tlearn: 1890.1748493\ttotal: 2.94s\tremaining: 15.4s\n",
      "24:\tlearn: 1873.8984059\ttotal: 3.06s\tremaining: 15.3s\n",
      "25:\tlearn: 1857.7297700\ttotal: 3.18s\tremaining: 15.2s\n",
      "26:\tlearn: 1842.8205911\ttotal: 3.29s\tremaining: 15s\n",
      "27:\tlearn: 1832.2681075\ttotal: 3.41s\tremaining: 14.8s\n",
      "28:\tlearn: 1821.1022025\ttotal: 3.52s\tremaining: 14.7s\n",
      "29:\tlearn: 1809.2517077\ttotal: 3.64s\tremaining: 14.6s\n",
      "30:\tlearn: 1799.5804277\ttotal: 3.76s\tremaining: 14.4s\n",
      "31:\tlearn: 1792.5980361\ttotal: 3.88s\tremaining: 14.3s\n",
      "32:\tlearn: 1785.7191816\ttotal: 4.03s\tremaining: 14.3s\n",
      "33:\tlearn: 1778.4371420\ttotal: 4.15s\tremaining: 14.2s\n",
      "34:\tlearn: 1772.5532605\ttotal: 4.27s\tremaining: 14s\n",
      "35:\tlearn: 1766.9367955\ttotal: 4.38s\tremaining: 13.9s\n",
      "36:\tlearn: 1760.7791332\ttotal: 4.53s\tremaining: 13.8s\n",
      "37:\tlearn: 1756.1756475\ttotal: 4.64s\tremaining: 13.7s\n",
      "38:\tlearn: 1749.9104337\ttotal: 4.77s\tremaining: 13.6s\n",
      "39:\tlearn: 1745.6002795\ttotal: 4.88s\tremaining: 13.4s\n",
      "40:\tlearn: 1741.1945634\ttotal: 5s\tremaining: 13.3s\n",
      "41:\tlearn: 1737.2138547\ttotal: 5.12s\tremaining: 13.2s\n",
      "42:\tlearn: 1733.4242992\ttotal: 5.23s\tremaining: 13s\n",
      "43:\tlearn: 1728.5745880\ttotal: 5.35s\tremaining: 12.9s\n",
      "44:\tlearn: 1725.5278400\ttotal: 5.47s\tremaining: 12.8s\n",
      "45:\tlearn: 1721.7308538\ttotal: 5.59s\tremaining: 12.7s\n",
      "46:\tlearn: 1717.7536656\ttotal: 5.72s\tremaining: 12.5s\n",
      "47:\tlearn: 1713.8508883\ttotal: 5.84s\tremaining: 12.4s\n",
      "48:\tlearn: 1711.0977002\ttotal: 5.97s\tremaining: 12.3s\n",
      "49:\tlearn: 1707.5785851\ttotal: 6.12s\tremaining: 12.2s\n",
      "50:\tlearn: 1705.1682296\ttotal: 6.24s\tremaining: 12.1s\n",
      "51:\tlearn: 1701.2862986\ttotal: 6.35s\tremaining: 12s\n",
      "52:\tlearn: 1699.1788419\ttotal: 6.47s\tremaining: 11.8s\n",
      "53:\tlearn: 1697.3818423\ttotal: 6.58s\tremaining: 11.7s\n",
      "54:\tlearn: 1695.0763510\ttotal: 6.7s\tremaining: 11.6s\n",
      "55:\tlearn: 1693.4335082\ttotal: 6.82s\tremaining: 11.4s\n",
      "56:\tlearn: 1690.2424358\ttotal: 6.95s\tremaining: 11.3s\n",
      "57:\tlearn: 1688.3519127\ttotal: 7.07s\tremaining: 11.2s\n",
      "58:\tlearn: 1684.5571798\ttotal: 7.21s\tremaining: 11.1s\n",
      "59:\tlearn: 1682.7639227\ttotal: 7.33s\tremaining: 11s\n",
      "60:\tlearn: 1679.8611585\ttotal: 7.46s\tremaining: 10.9s\n",
      "61:\tlearn: 1678.1100212\ttotal: 7.57s\tremaining: 10.8s\n",
      "62:\tlearn: 1676.7221776\ttotal: 7.7s\tremaining: 10.6s\n",
      "63:\tlearn: 1674.5116721\ttotal: 7.82s\tremaining: 10.5s\n",
      "64:\tlearn: 1672.1476651\ttotal: 7.95s\tremaining: 10.4s\n",
      "65:\tlearn: 1670.2145853\ttotal: 8.07s\tremaining: 10.3s\n",
      "66:\tlearn: 1667.5771816\ttotal: 8.19s\tremaining: 10.1s\n",
      "67:\tlearn: 1665.0467253\ttotal: 8.3s\tremaining: 10s\n",
      "68:\tlearn: 1662.9672284\ttotal: 8.41s\tremaining: 9.88s\n",
      "69:\tlearn: 1660.0089031\ttotal: 8.53s\tremaining: 9.75s\n",
      "70:\tlearn: 1657.2153519\ttotal: 8.65s\tremaining: 9.63s\n",
      "71:\tlearn: 1654.6902514\ttotal: 8.78s\tremaining: 9.51s\n",
      "72:\tlearn: 1653.4402787\ttotal: 8.89s\tremaining: 9.38s\n",
      "73:\tlearn: 1652.3945443\ttotal: 9.02s\tremaining: 9.26s\n",
      "74:\tlearn: 1650.8049686\ttotal: 9.15s\tremaining: 9.15s\n",
      "75:\tlearn: 1648.7836285\ttotal: 9.29s\tremaining: 9.04s\n",
      "76:\tlearn: 1647.6343547\ttotal: 9.41s\tremaining: 8.92s\n",
      "77:\tlearn: 1646.7122413\ttotal: 9.53s\tremaining: 8.8s\n",
      "78:\tlearn: 1644.8378951\ttotal: 9.65s\tremaining: 8.67s\n",
      "79:\tlearn: 1642.9054570\ttotal: 9.77s\tremaining: 8.54s\n",
      "80:\tlearn: 1641.6117873\ttotal: 9.88s\tremaining: 8.42s\n",
      "81:\tlearn: 1640.4642281\ttotal: 10s\tremaining: 8.31s\n",
      "82:\tlearn: 1638.9170918\ttotal: 10.1s\tremaining: 8.19s\n",
      "83:\tlearn: 1637.8136568\ttotal: 10.3s\tremaining: 8.06s\n",
      "84:\tlearn: 1636.2348749\ttotal: 10.4s\tremaining: 7.94s\n",
      "85:\tlearn: 1634.0716903\ttotal: 10.5s\tremaining: 7.81s\n",
      "86:\tlearn: 1632.4601014\ttotal: 10.6s\tremaining: 7.69s\n",
      "87:\tlearn: 1630.0402680\ttotal: 10.7s\tremaining: 7.57s\n",
      "88:\tlearn: 1629.0673186\ttotal: 10.9s\tremaining: 7.46s\n",
      "89:\tlearn: 1627.2436054\ttotal: 11s\tremaining: 7.34s\n",
      "90:\tlearn: 1626.2746361\ttotal: 11.1s\tremaining: 7.21s\n",
      "91:\tlearn: 1624.9896026\ttotal: 11.2s\tremaining: 7.09s\n",
      "92:\tlearn: 1623.5157975\ttotal: 11.4s\tremaining: 6.96s\n",
      "93:\tlearn: 1621.8780402\ttotal: 11.5s\tremaining: 6.84s\n",
      "94:\tlearn: 1621.1015360\ttotal: 11.6s\tremaining: 6.72s\n",
      "95:\tlearn: 1619.3907301\ttotal: 11.7s\tremaining: 6.59s\n",
      "96:\tlearn: 1618.0486098\ttotal: 11.8s\tremaining: 6.47s\n",
      "97:\tlearn: 1616.5149710\ttotal: 12s\tremaining: 6.35s\n",
      "98:\tlearn: 1614.7552907\ttotal: 12.1s\tremaining: 6.23s\n",
      "99:\tlearn: 1613.6475663\ttotal: 12.2s\tremaining: 6.11s\n",
      "100:\tlearn: 1612.0051458\ttotal: 12.3s\tremaining: 5.99s\n",
      "101:\tlearn: 1610.9575002\ttotal: 12.5s\tremaining: 5.87s\n",
      "102:\tlearn: 1609.5986553\ttotal: 12.6s\tremaining: 5.75s\n",
      "103:\tlearn: 1608.6524320\ttotal: 12.7s\tremaining: 5.63s\n",
      "104:\tlearn: 1607.7538928\ttotal: 12.9s\tremaining: 5.51s\n",
      "105:\tlearn: 1606.1367866\ttotal: 13s\tremaining: 5.39s\n",
      "106:\tlearn: 1605.3371323\ttotal: 13.1s\tremaining: 5.27s\n",
      "107:\tlearn: 1603.5246435\ttotal: 13.2s\tremaining: 5.14s\n",
      "108:\tlearn: 1602.4869216\ttotal: 13.3s\tremaining: 5.02s\n",
      "109:\tlearn: 1601.5510533\ttotal: 13.5s\tremaining: 4.9s\n",
      "110:\tlearn: 1600.0917922\ttotal: 13.6s\tremaining: 4.78s\n",
      "111:\tlearn: 1599.2386700\ttotal: 13.7s\tremaining: 4.65s\n",
      "112:\tlearn: 1598.4002567\ttotal: 13.8s\tremaining: 4.53s\n",
      "113:\tlearn: 1597.2976158\ttotal: 14s\tremaining: 4.41s\n",
      "114:\tlearn: 1596.0045495\ttotal: 14.1s\tremaining: 4.29s\n",
      "115:\tlearn: 1594.6448238\ttotal: 14.2s\tremaining: 4.17s\n",
      "116:\tlearn: 1593.2963998\ttotal: 14.3s\tremaining: 4.04s\n",
      "117:\tlearn: 1592.3000210\ttotal: 14.5s\tremaining: 3.92s\n",
      "118:\tlearn: 1591.1022237\ttotal: 14.6s\tremaining: 3.8s\n",
      "119:\tlearn: 1590.0716364\ttotal: 14.7s\tremaining: 3.68s\n",
      "120:\tlearn: 1589.2148657\ttotal: 14.8s\tremaining: 3.55s\n",
      "121:\tlearn: 1588.4971988\ttotal: 14.9s\tremaining: 3.43s\n",
      "122:\tlearn: 1587.1366269\ttotal: 15.1s\tremaining: 3.31s\n",
      "123:\tlearn: 1585.8192753\ttotal: 15.2s\tremaining: 3.18s\n",
      "124:\tlearn: 1584.7707237\ttotal: 15.3s\tremaining: 3.06s\n",
      "125:\tlearn: 1583.8889626\ttotal: 15.4s\tremaining: 2.94s\n",
      "126:\tlearn: 1582.5019246\ttotal: 15.6s\tremaining: 2.82s\n",
      "127:\tlearn: 1581.0964644\ttotal: 15.7s\tremaining: 2.69s\n",
      "128:\tlearn: 1580.2827467\ttotal: 15.8s\tremaining: 2.57s\n",
      "129:\tlearn: 1579.0827699\ttotal: 15.9s\tremaining: 2.45s\n",
      "130:\tlearn: 1577.4765289\ttotal: 16.1s\tremaining: 2.33s\n",
      "131:\tlearn: 1576.9423649\ttotal: 16.2s\tremaining: 2.21s\n",
      "132:\tlearn: 1575.7912518\ttotal: 16.3s\tremaining: 2.08s\n",
      "133:\tlearn: 1574.7715831\ttotal: 16.4s\tremaining: 1.96s\n",
      "134:\tlearn: 1573.7136396\ttotal: 16.5s\tremaining: 1.84s\n",
      "135:\tlearn: 1572.6267922\ttotal: 16.7s\tremaining: 1.72s\n",
      "136:\tlearn: 1571.7446888\ttotal: 16.8s\tremaining: 1.59s\n",
      "137:\tlearn: 1570.8899804\ttotal: 16.9s\tremaining: 1.47s\n",
      "138:\tlearn: 1569.4850538\ttotal: 17s\tremaining: 1.35s\n",
      "139:\tlearn: 1568.7443921\ttotal: 17.2s\tremaining: 1.23s\n",
      "140:\tlearn: 1567.5072727\ttotal: 17.3s\tremaining: 1.1s\n",
      "141:\tlearn: 1566.2689045\ttotal: 17.4s\tremaining: 983ms\n",
      "142:\tlearn: 1565.0551654\ttotal: 17.6s\tremaining: 860ms\n",
      "143:\tlearn: 1564.0070345\ttotal: 17.7s\tremaining: 737ms\n",
      "144:\tlearn: 1562.8068550\ttotal: 17.8s\tremaining: 614ms\n",
      "145:\tlearn: 1561.7478085\ttotal: 17.9s\tremaining: 491ms\n",
      "146:\tlearn: 1560.7918367\ttotal: 18.1s\tremaining: 369ms\n",
      "147:\tlearn: 1559.4785755\ttotal: 18.2s\tremaining: 246ms\n",
      "148:\tlearn: 1558.7329695\ttotal: 18.3s\tremaining: 123ms\n",
      "149:\tlearn: 1557.8637742\ttotal: 18.4s\tremaining: 0us\n",
      "0:\tlearn: 4153.7896662\ttotal: 20ms\tremaining: 1.58s\n",
      "1:\tlearn: 3759.9800912\ttotal: 39.2ms\tremaining: 1.53s\n",
      "2:\tlearn: 3441.3363393\ttotal: 59.5ms\tremaining: 1.53s\n",
      "3:\tlearn: 3179.5059480\ttotal: 79.7ms\tremaining: 1.51s\n",
      "4:\tlearn: 2972.8218862\ttotal: 99.3ms\tremaining: 1.49s\n",
      "5:\tlearn: 2802.5879827\ttotal: 119ms\tremaining: 1.47s\n",
      "6:\tlearn: 2653.2401800\ttotal: 139ms\tremaining: 1.45s\n",
      "7:\tlearn: 2536.6468602\ttotal: 159ms\tremaining: 1.43s\n",
      "8:\tlearn: 2436.8505148\ttotal: 178ms\tremaining: 1.41s\n",
      "9:\tlearn: 2356.2217884\ttotal: 198ms\tremaining: 1.39s\n",
      "10:\tlearn: 2279.8411452\ttotal: 219ms\tremaining: 1.37s\n",
      "11:\tlearn: 2227.4884623\ttotal: 239ms\tremaining: 1.35s\n",
      "12:\tlearn: 2180.9093906\ttotal: 267ms\tremaining: 1.38s\n",
      "13:\tlearn: 2139.6196117\ttotal: 287ms\tremaining: 1.35s\n",
      "14:\tlearn: 2108.1257644\ttotal: 306ms\tremaining: 1.33s\n",
      "15:\tlearn: 2069.4020041\ttotal: 325ms\tremaining: 1.3s\n",
      "16:\tlearn: 2043.2344676\ttotal: 344ms\tremaining: 1.27s\n",
      "17:\tlearn: 2020.1100364\ttotal: 362ms\tremaining: 1.25s\n",
      "18:\tlearn: 1996.6077993\ttotal: 385ms\tremaining: 1.24s\n",
      "19:\tlearn: 1979.4426153\ttotal: 409ms\tremaining: 1.23s\n",
      "20:\tlearn: 1967.1527521\ttotal: 427ms\tremaining: 1.2s\n",
      "21:\tlearn: 1951.4994820\ttotal: 449ms\tremaining: 1.18s\n",
      "22:\tlearn: 1938.8896349\ttotal: 470ms\tremaining: 1.17s\n",
      "23:\tlearn: 1928.4718813\ttotal: 489ms\tremaining: 1.14s\n",
      "24:\tlearn: 1917.5670018\ttotal: 508ms\tremaining: 1.12s\n",
      "25:\tlearn: 1908.8764466\ttotal: 527ms\tremaining: 1.09s\n",
      "26:\tlearn: 1902.6300788\ttotal: 545ms\tremaining: 1.07s\n",
      "27:\tlearn: 1893.5336570\ttotal: 565ms\tremaining: 1.05s\n",
      "28:\tlearn: 1885.6269753\ttotal: 585ms\tremaining: 1.03s\n",
      "29:\tlearn: 1879.5536076\ttotal: 603ms\tremaining: 1s\n",
      "30:\tlearn: 1872.5763191\ttotal: 622ms\tremaining: 984ms\n",
      "31:\tlearn: 1867.8577913\ttotal: 647ms\tremaining: 970ms\n",
      "32:\tlearn: 1858.6478729\ttotal: 668ms\tremaining: 951ms\n",
      "33:\tlearn: 1852.8154676\ttotal: 687ms\tremaining: 930ms\n",
      "34:\tlearn: 1848.8214632\ttotal: 705ms\tremaining: 906ms\n",
      "35:\tlearn: 1843.7321344\ttotal: 724ms\tremaining: 885ms\n",
      "36:\tlearn: 1840.3146506\ttotal: 741ms\tremaining: 861ms\n",
      "37:\tlearn: 1834.8552205\ttotal: 761ms\tremaining: 841ms\n",
      "38:\tlearn: 1829.0981063\ttotal: 781ms\tremaining: 821ms\n",
      "39:\tlearn: 1824.8533332\ttotal: 800ms\tremaining: 800ms\n",
      "40:\tlearn: 1821.8944262\ttotal: 819ms\tremaining: 779ms\n",
      "41:\tlearn: 1816.9867832\ttotal: 839ms\tremaining: 759ms\n",
      "42:\tlearn: 1814.6168236\ttotal: 857ms\tremaining: 737ms\n",
      "43:\tlearn: 1811.3769686\ttotal: 875ms\tremaining: 716ms\n",
      "44:\tlearn: 1808.9435520\ttotal: 893ms\tremaining: 694ms\n",
      "45:\tlearn: 1805.5940819\ttotal: 911ms\tremaining: 673ms\n",
      "46:\tlearn: 1803.7270963\ttotal: 927ms\tremaining: 651ms\n",
      "47:\tlearn: 1800.7190375\ttotal: 946ms\tremaining: 631ms\n",
      "48:\tlearn: 1797.3334057\ttotal: 965ms\tremaining: 610ms\n",
      "49:\tlearn: 1794.9197683\ttotal: 983ms\tremaining: 590ms\n",
      "50:\tlearn: 1792.7560722\ttotal: 1s\tremaining: 569ms\n",
      "51:\tlearn: 1790.4188006\ttotal: 1.02s\tremaining: 549ms\n",
      "52:\tlearn: 1787.5996179\ttotal: 1.04s\tremaining: 529ms\n",
      "53:\tlearn: 1784.2012792\ttotal: 1.06s\tremaining: 510ms\n",
      "54:\tlearn: 1782.5955141\ttotal: 1.08s\tremaining: 489ms\n",
      "55:\tlearn: 1779.9252856\ttotal: 1.09s\tremaining: 470ms\n",
      "56:\tlearn: 1776.0689676\ttotal: 1.11s\tremaining: 450ms\n",
      "57:\tlearn: 1771.9075869\ttotal: 1.14s\tremaining: 431ms\n",
      "58:\tlearn: 1768.9222407\ttotal: 1.16s\tremaining: 411ms\n",
      "59:\tlearn: 1767.3623536\ttotal: 1.17s\tremaining: 391ms\n",
      "60:\tlearn: 1765.1325294\ttotal: 1.2s\tremaining: 374ms\n",
      "61:\tlearn: 1762.7521070\ttotal: 1.23s\tremaining: 356ms\n",
      "62:\tlearn: 1760.5890602\ttotal: 1.25s\tremaining: 336ms\n",
      "63:\tlearn: 1758.6849083\ttotal: 1.26s\tremaining: 316ms\n",
      "64:\tlearn: 1756.3354932\ttotal: 1.28s\tremaining: 296ms\n",
      "65:\tlearn: 1754.2911280\ttotal: 1.3s\tremaining: 276ms\n",
      "66:\tlearn: 1752.8634719\ttotal: 1.32s\tremaining: 256ms\n",
      "67:\tlearn: 1750.5801666\ttotal: 1.34s\tremaining: 236ms\n",
      "68:\tlearn: 1748.5486243\ttotal: 1.36s\tremaining: 217ms\n",
      "69:\tlearn: 1745.8511680\ttotal: 1.38s\tremaining: 197ms\n",
      "70:\tlearn: 1743.2129908\ttotal: 1.39s\tremaining: 177ms\n",
      "71:\tlearn: 1740.1842678\ttotal: 1.41s\tremaining: 157ms\n",
      "72:\tlearn: 1738.6301179\ttotal: 1.43s\tremaining: 137ms\n",
      "73:\tlearn: 1737.4860425\ttotal: 1.45s\tremaining: 118ms\n",
      "74:\tlearn: 1733.8550025\ttotal: 1.48s\tremaining: 98.5ms\n",
      "75:\tlearn: 1732.6384196\ttotal: 1.51s\tremaining: 79.3ms\n",
      "76:\tlearn: 1730.6431401\ttotal: 1.54s\tremaining: 59.9ms\n",
      "77:\tlearn: 1728.5326427\ttotal: 1.56s\tremaining: 40ms\n",
      "78:\tlearn: 1727.0056250\ttotal: 1.58s\tremaining: 20ms\n",
      "79:\tlearn: 1725.8699691\ttotal: 1.59s\tremaining: 0us\n",
      "0:\tlearn: 4157.4781604\ttotal: 20.8ms\tremaining: 1.64s\n",
      "1:\tlearn: 3770.6774834\ttotal: 41.2ms\tremaining: 1.61s\n",
      "2:\tlearn: 3443.9850286\ttotal: 61.8ms\tremaining: 1.59s\n",
      "3:\tlearn: 3183.7375679\ttotal: 82.5ms\tremaining: 1.57s\n",
      "4:\tlearn: 2970.5871103\ttotal: 104ms\tremaining: 1.56s\n",
      "5:\tlearn: 2798.6656802\ttotal: 125ms\tremaining: 1.55s\n",
      "6:\tlearn: 2650.0447506\ttotal: 147ms\tremaining: 1.53s\n",
      "7:\tlearn: 2531.5487976\ttotal: 167ms\tremaining: 1.5s\n",
      "8:\tlearn: 2431.9350723\ttotal: 194ms\tremaining: 1.53s\n",
      "9:\tlearn: 2351.3150026\ttotal: 215ms\tremaining: 1.51s\n",
      "10:\tlearn: 2284.8028525\ttotal: 236ms\tremaining: 1.48s\n",
      "11:\tlearn: 2231.0764449\ttotal: 264ms\tremaining: 1.5s\n",
      "12:\tlearn: 2177.9408138\ttotal: 284ms\tremaining: 1.47s\n",
      "13:\tlearn: 2134.5577899\ttotal: 304ms\tremaining: 1.43s\n",
      "14:\tlearn: 2097.5821650\ttotal: 323ms\tremaining: 1.4s\n",
      "15:\tlearn: 2067.9961079\ttotal: 344ms\tremaining: 1.37s\n",
      "16:\tlearn: 2044.0843826\ttotal: 363ms\tremaining: 1.34s\n",
      "17:\tlearn: 2020.8872517\ttotal: 382ms\tremaining: 1.32s\n",
      "18:\tlearn: 1995.3802608\ttotal: 403ms\tremaining: 1.29s\n",
      "19:\tlearn: 1978.8980177\ttotal: 422ms\tremaining: 1.27s\n",
      "20:\tlearn: 1960.8082108\ttotal: 445ms\tremaining: 1.25s\n",
      "21:\tlearn: 1947.8681849\ttotal: 465ms\tremaining: 1.23s\n",
      "22:\tlearn: 1936.3253078\ttotal: 484ms\tremaining: 1.2s\n",
      "23:\tlearn: 1927.0612757\ttotal: 502ms\tremaining: 1.17s\n",
      "24:\tlearn: 1912.4087896\ttotal: 523ms\tremaining: 1.15s\n",
      "25:\tlearn: 1902.8849639\ttotal: 543ms\tremaining: 1.13s\n",
      "26:\tlearn: 1895.1412752\ttotal: 562ms\tremaining: 1.1s\n",
      "27:\tlearn: 1887.8353537\ttotal: 591ms\tremaining: 1.1s\n",
      "28:\tlearn: 1878.0556145\ttotal: 616ms\tremaining: 1.08s\n",
      "29:\tlearn: 1871.5051219\ttotal: 639ms\tremaining: 1.06s\n",
      "30:\tlearn: 1864.4656855\ttotal: 658ms\tremaining: 1.04s\n",
      "31:\tlearn: 1859.1433214\ttotal: 685ms\tremaining: 1.03s\n",
      "32:\tlearn: 1854.6506956\ttotal: 710ms\tremaining: 1.01s\n",
      "33:\tlearn: 1848.7964112\ttotal: 731ms\tremaining: 989ms\n",
      "34:\tlearn: 1841.7223564\ttotal: 751ms\tremaining: 965ms\n",
      "35:\tlearn: 1837.6096573\ttotal: 770ms\tremaining: 941ms\n",
      "36:\tlearn: 1834.4748174\ttotal: 788ms\tremaining: 915ms\n",
      "37:\tlearn: 1831.7109333\ttotal: 805ms\tremaining: 890ms\n",
      "38:\tlearn: 1828.5365373\ttotal: 823ms\tremaining: 866ms\n",
      "39:\tlearn: 1824.3643491\ttotal: 842ms\tremaining: 842ms\n",
      "40:\tlearn: 1820.4450829\ttotal: 860ms\tremaining: 819ms\n",
      "41:\tlearn: 1816.7942864\ttotal: 878ms\tremaining: 795ms\n",
      "42:\tlearn: 1812.4752517\ttotal: 898ms\tremaining: 772ms\n",
      "43:\tlearn: 1807.8997475\ttotal: 917ms\tremaining: 750ms\n",
      "44:\tlearn: 1802.4077374\ttotal: 937ms\tremaining: 729ms\n",
      "45:\tlearn: 1800.0901531\ttotal: 955ms\tremaining: 706ms\n",
      "46:\tlearn: 1796.6253655\ttotal: 973ms\tremaining: 683ms\n",
      "47:\tlearn: 1794.1073635\ttotal: 992ms\tremaining: 661ms\n",
      "48:\tlearn: 1791.7185562\ttotal: 1.01s\tremaining: 639ms\n",
      "49:\tlearn: 1788.4414361\ttotal: 1.03s\tremaining: 618ms\n",
      "50:\tlearn: 1785.9241220\ttotal: 1.05s\tremaining: 596ms\n",
      "51:\tlearn: 1783.2711486\ttotal: 1.07s\tremaining: 575ms\n",
      "52:\tlearn: 1780.3475913\ttotal: 1.09s\tremaining: 554ms\n",
      "53:\tlearn: 1777.4907558\ttotal: 1.11s\tremaining: 533ms\n",
      "54:\tlearn: 1775.5028950\ttotal: 1.12s\tremaining: 511ms\n",
      "55:\tlearn: 1771.5761672\ttotal: 1.14s\tremaining: 490ms\n",
      "56:\tlearn: 1770.0370345\ttotal: 1.16s\tremaining: 468ms\n",
      "57:\tlearn: 1765.4924517\ttotal: 1.18s\tremaining: 448ms\n",
      "58:\tlearn: 1762.5418264\ttotal: 1.2s\tremaining: 427ms\n",
      "59:\tlearn: 1759.9073956\ttotal: 1.22s\tremaining: 406ms\n",
      "60:\tlearn: 1757.9410628\ttotal: 1.24s\tremaining: 386ms\n",
      "61:\tlearn: 1755.6430128\ttotal: 1.26s\tremaining: 365ms\n",
      "62:\tlearn: 1753.6285072\ttotal: 1.28s\tremaining: 345ms\n",
      "63:\tlearn: 1750.7842730\ttotal: 1.3s\tremaining: 325ms\n",
      "64:\tlearn: 1749.3447785\ttotal: 1.32s\tremaining: 304ms\n",
      "65:\tlearn: 1747.2935957\ttotal: 1.34s\tremaining: 283ms\n",
      "66:\tlearn: 1745.8343570\ttotal: 1.35s\tremaining: 263ms\n",
      "67:\tlearn: 1742.7459969\ttotal: 1.37s\tremaining: 243ms\n",
      "68:\tlearn: 1741.7979375\ttotal: 1.39s\tremaining: 222ms\n",
      "69:\tlearn: 1740.0277578\ttotal: 1.41s\tremaining: 202ms\n",
      "70:\tlearn: 1738.5012009\ttotal: 1.43s\tremaining: 181ms\n",
      "71:\tlearn: 1737.3555550\ttotal: 1.45s\tremaining: 161ms\n",
      "72:\tlearn: 1734.8497906\ttotal: 1.47s\tremaining: 141ms\n",
      "73:\tlearn: 1733.5515557\ttotal: 1.49s\tremaining: 121ms\n",
      "74:\tlearn: 1732.0523884\ttotal: 1.5s\tremaining: 100ms\n",
      "75:\tlearn: 1729.3725304\ttotal: 1.52s\tremaining: 80.3ms\n",
      "76:\tlearn: 1727.2001079\ttotal: 1.54s\tremaining: 60.2ms\n",
      "77:\tlearn: 1725.5078639\ttotal: 1.56s\tremaining: 40.1ms\n",
      "78:\tlearn: 1724.2732627\ttotal: 1.58s\tremaining: 20ms\n",
      "79:\tlearn: 1722.1523586\ttotal: 1.6s\tremaining: 0us\n",
      "0:\tlearn: 4153.7896662\ttotal: 20.4ms\tremaining: 3.04s\n",
      "1:\tlearn: 3759.9800912\ttotal: 40.7ms\tremaining: 3.01s\n",
      "2:\tlearn: 3441.3363393\ttotal: 61.5ms\tremaining: 3.01s\n",
      "3:\tlearn: 3179.5059480\ttotal: 82.1ms\tremaining: 3s\n",
      "4:\tlearn: 2972.8218862\ttotal: 101ms\tremaining: 2.94s\n",
      "5:\tlearn: 2802.5879827\ttotal: 121ms\tremaining: 2.89s\n",
      "6:\tlearn: 2653.2401800\ttotal: 140ms\tremaining: 2.87s\n",
      "7:\tlearn: 2536.6468602\ttotal: 161ms\tremaining: 2.85s\n",
      "8:\tlearn: 2436.8505148\ttotal: 182ms\tremaining: 2.85s\n",
      "9:\tlearn: 2356.2217884\ttotal: 202ms\tremaining: 2.83s\n",
      "10:\tlearn: 2279.8411452\ttotal: 223ms\tremaining: 2.81s\n",
      "11:\tlearn: 2227.4884623\ttotal: 242ms\tremaining: 2.79s\n",
      "12:\tlearn: 2180.9093906\ttotal: 262ms\tremaining: 2.76s\n",
      "13:\tlearn: 2139.6196117\ttotal: 282ms\tremaining: 2.74s\n",
      "14:\tlearn: 2108.1257644\ttotal: 300ms\tremaining: 2.7s\n",
      "15:\tlearn: 2069.4020041\ttotal: 319ms\tremaining: 2.67s\n",
      "16:\tlearn: 2043.2344676\ttotal: 338ms\tremaining: 2.65s\n",
      "17:\tlearn: 2020.1100364\ttotal: 357ms\tremaining: 2.62s\n",
      "18:\tlearn: 1996.6077993\ttotal: 377ms\tremaining: 2.6s\n",
      "19:\tlearn: 1979.4426153\ttotal: 395ms\tremaining: 2.57s\n",
      "20:\tlearn: 1967.1527521\ttotal: 413ms\tremaining: 2.54s\n",
      "21:\tlearn: 1951.4994820\ttotal: 434ms\tremaining: 2.52s\n",
      "22:\tlearn: 1938.8896349\ttotal: 453ms\tremaining: 2.5s\n",
      "23:\tlearn: 1928.4718813\ttotal: 472ms\tremaining: 2.48s\n",
      "24:\tlearn: 1917.5670018\ttotal: 491ms\tremaining: 2.46s\n",
      "25:\tlearn: 1908.8764466\ttotal: 514ms\tremaining: 2.45s\n",
      "26:\tlearn: 1902.6300788\ttotal: 542ms\tremaining: 2.47s\n",
      "27:\tlearn: 1893.5336570\ttotal: 565ms\tremaining: 2.46s\n",
      "28:\tlearn: 1885.6269753\ttotal: 583ms\tremaining: 2.43s\n",
      "29:\tlearn: 1879.5536076\ttotal: 601ms\tremaining: 2.4s\n",
      "30:\tlearn: 1872.5763191\ttotal: 622ms\tremaining: 2.39s\n",
      "31:\tlearn: 1867.8577913\ttotal: 648ms\tremaining: 2.39s\n",
      "32:\tlearn: 1858.6478729\ttotal: 669ms\tremaining: 2.37s\n",
      "33:\tlearn: 1852.8154676\ttotal: 687ms\tremaining: 2.35s\n",
      "34:\tlearn: 1848.8214632\ttotal: 711ms\tremaining: 2.34s\n",
      "35:\tlearn: 1843.7321344\ttotal: 736ms\tremaining: 2.33s\n",
      "36:\tlearn: 1840.3146506\ttotal: 762ms\tremaining: 2.33s\n",
      "37:\tlearn: 1834.8552205\ttotal: 782ms\tremaining: 2.3s\n",
      "38:\tlearn: 1829.0981063\ttotal: 801ms\tremaining: 2.28s\n",
      "39:\tlearn: 1824.8533332\ttotal: 819ms\tremaining: 2.25s\n",
      "40:\tlearn: 1821.8944262\ttotal: 836ms\tremaining: 2.22s\n",
      "41:\tlearn: 1816.9867832\ttotal: 855ms\tremaining: 2.2s\n",
      "42:\tlearn: 1814.6168236\ttotal: 872ms\tremaining: 2.17s\n",
      "43:\tlearn: 1811.3769686\ttotal: 889ms\tremaining: 2.14s\n",
      "44:\tlearn: 1808.9435520\ttotal: 908ms\tremaining: 2.12s\n",
      "45:\tlearn: 1805.5940819\ttotal: 927ms\tremaining: 2.1s\n",
      "46:\tlearn: 1803.7270963\ttotal: 944ms\tremaining: 2.07s\n",
      "47:\tlearn: 1800.7190375\ttotal: 963ms\tremaining: 2.04s\n",
      "48:\tlearn: 1797.3334057\ttotal: 981ms\tremaining: 2.02s\n",
      "49:\tlearn: 1794.9197683\ttotal: 998ms\tremaining: 2s\n",
      "50:\tlearn: 1792.7560722\ttotal: 1.01s\tremaining: 1.97s\n",
      "51:\tlearn: 1790.4188006\ttotal: 1.03s\tremaining: 1.95s\n",
      "52:\tlearn: 1787.5996179\ttotal: 1.05s\tremaining: 1.93s\n",
      "53:\tlearn: 1784.2012792\ttotal: 1.07s\tremaining: 1.91s\n",
      "54:\tlearn: 1782.5955141\ttotal: 1.09s\tremaining: 1.88s\n",
      "55:\tlearn: 1779.9252856\ttotal: 1.11s\tremaining: 1.86s\n",
      "56:\tlearn: 1776.0689676\ttotal: 1.13s\tremaining: 1.84s\n",
      "57:\tlearn: 1771.9075869\ttotal: 1.15s\tremaining: 1.82s\n",
      "58:\tlearn: 1768.9222407\ttotal: 1.16s\tremaining: 1.8s\n",
      "59:\tlearn: 1767.3623536\ttotal: 1.18s\tremaining: 1.77s\n",
      "60:\tlearn: 1765.1325294\ttotal: 1.2s\tremaining: 1.75s\n",
      "61:\tlearn: 1762.7521070\ttotal: 1.22s\tremaining: 1.73s\n",
      "62:\tlearn: 1760.5890602\ttotal: 1.24s\tremaining: 1.71s\n",
      "63:\tlearn: 1758.6849083\ttotal: 1.25s\tremaining: 1.69s\n",
      "64:\tlearn: 1756.3354932\ttotal: 1.27s\tremaining: 1.66s\n",
      "65:\tlearn: 1754.2911280\ttotal: 1.29s\tremaining: 1.64s\n",
      "66:\tlearn: 1752.8634719\ttotal: 1.31s\tremaining: 1.62s\n",
      "67:\tlearn: 1750.5801666\ttotal: 1.33s\tremaining: 1.6s\n",
      "68:\tlearn: 1748.5486243\ttotal: 1.34s\tremaining: 1.58s\n",
      "69:\tlearn: 1745.8511680\ttotal: 1.36s\tremaining: 1.56s\n",
      "70:\tlearn: 1743.2129908\ttotal: 1.38s\tremaining: 1.54s\n",
      "71:\tlearn: 1740.1842678\ttotal: 1.4s\tremaining: 1.52s\n",
      "72:\tlearn: 1738.6301179\ttotal: 1.42s\tremaining: 1.5s\n",
      "73:\tlearn: 1737.4860425\ttotal: 1.44s\tremaining: 1.48s\n",
      "74:\tlearn: 1733.8550025\ttotal: 1.46s\tremaining: 1.46s\n",
      "75:\tlearn: 1732.6384196\ttotal: 1.48s\tremaining: 1.44s\n",
      "76:\tlearn: 1730.6431401\ttotal: 1.5s\tremaining: 1.42s\n",
      "77:\tlearn: 1728.5326427\ttotal: 1.52s\tremaining: 1.41s\n",
      "78:\tlearn: 1727.0056250\ttotal: 1.54s\tremaining: 1.39s\n",
      "79:\tlearn: 1725.8699691\ttotal: 1.56s\tremaining: 1.37s\n",
      "80:\tlearn: 1724.1011574\ttotal: 1.58s\tremaining: 1.35s\n",
      "81:\tlearn: 1723.3261538\ttotal: 1.6s\tremaining: 1.32s\n",
      "82:\tlearn: 1722.0886185\ttotal: 1.62s\tremaining: 1.3s\n",
      "83:\tlearn: 1721.1977375\ttotal: 1.63s\tremaining: 1.28s\n",
      "84:\tlearn: 1719.3504700\ttotal: 1.65s\tremaining: 1.26s\n",
      "85:\tlearn: 1717.7228276\ttotal: 1.67s\tremaining: 1.24s\n",
      "86:\tlearn: 1715.7372019\ttotal: 1.69s\tremaining: 1.22s\n",
      "87:\tlearn: 1713.9241096\ttotal: 1.7s\tremaining: 1.2s\n",
      "88:\tlearn: 1711.9506891\ttotal: 1.73s\tremaining: 1.18s\n",
      "89:\tlearn: 1709.9519368\ttotal: 1.75s\tremaining: 1.16s\n",
      "90:\tlearn: 1708.5290885\ttotal: 1.76s\tremaining: 1.14s\n",
      "91:\tlearn: 1707.6889562\ttotal: 1.78s\tremaining: 1.12s\n",
      "92:\tlearn: 1705.9213977\ttotal: 1.8s\tremaining: 1.1s\n",
      "93:\tlearn: 1704.5290526\ttotal: 1.81s\tremaining: 1.08s\n",
      "94:\tlearn: 1703.0343777\ttotal: 1.83s\tremaining: 1.06s\n",
      "95:\tlearn: 1701.9040046\ttotal: 1.85s\tremaining: 1.04s\n",
      "96:\tlearn: 1700.6498042\ttotal: 1.87s\tremaining: 1.02s\n",
      "97:\tlearn: 1699.3051320\ttotal: 1.89s\tremaining: 1s\n",
      "98:\tlearn: 1698.2993797\ttotal: 1.9s\tremaining: 980ms\n",
      "99:\tlearn: 1697.0770765\ttotal: 1.92s\tremaining: 961ms\n",
      "100:\tlearn: 1695.8934548\ttotal: 1.94s\tremaining: 941ms\n",
      "101:\tlearn: 1694.4264056\ttotal: 1.96s\tremaining: 921ms\n",
      "102:\tlearn: 1693.0657702\ttotal: 1.98s\tremaining: 902ms\n",
      "103:\tlearn: 1691.8217557\ttotal: 1.99s\tremaining: 882ms\n",
      "104:\tlearn: 1690.6159529\ttotal: 2.01s\tremaining: 862ms\n",
      "105:\tlearn: 1689.5785778\ttotal: 2.03s\tremaining: 843ms\n",
      "106:\tlearn: 1687.3665887\ttotal: 2.05s\tremaining: 824ms\n",
      "107:\tlearn: 1686.1641264\ttotal: 2.07s\tremaining: 805ms\n",
      "108:\tlearn: 1684.5831019\ttotal: 2.1s\tremaining: 789ms\n",
      "109:\tlearn: 1682.2233508\ttotal: 2.12s\tremaining: 769ms\n",
      "110:\tlearn: 1681.1049690\ttotal: 2.13s\tremaining: 750ms\n",
      "111:\tlearn: 1680.2100943\ttotal: 2.15s\tremaining: 731ms\n",
      "112:\tlearn: 1679.4435559\ttotal: 2.17s\tremaining: 711ms\n",
      "113:\tlearn: 1678.4017097\ttotal: 2.19s\tremaining: 692ms\n",
      "114:\tlearn: 1677.6391620\ttotal: 2.21s\tremaining: 672ms\n",
      "115:\tlearn: 1675.8646740\ttotal: 2.24s\tremaining: 656ms\n",
      "116:\tlearn: 1674.5463264\ttotal: 2.25s\tremaining: 636ms\n",
      "117:\tlearn: 1673.0688185\ttotal: 2.27s\tremaining: 617ms\n",
      "118:\tlearn: 1671.9215299\ttotal: 2.29s\tremaining: 598ms\n",
      "119:\tlearn: 1670.4824644\ttotal: 2.31s\tremaining: 579ms\n",
      "120:\tlearn: 1669.6013769\ttotal: 2.33s\tremaining: 560ms\n",
      "121:\tlearn: 1668.3234384\ttotal: 2.35s\tremaining: 540ms\n",
      "122:\tlearn: 1667.4764580\ttotal: 2.37s\tremaining: 521ms\n",
      "123:\tlearn: 1666.4968794\ttotal: 2.39s\tremaining: 502ms\n",
      "124:\tlearn: 1665.4394213\ttotal: 2.41s\tremaining: 483ms\n",
      "125:\tlearn: 1664.2345592\ttotal: 2.43s\tremaining: 463ms\n",
      "126:\tlearn: 1663.0921644\ttotal: 2.45s\tremaining: 444ms\n",
      "127:\tlearn: 1661.9909015\ttotal: 2.47s\tremaining: 424ms\n",
      "128:\tlearn: 1660.9206759\ttotal: 2.49s\tremaining: 405ms\n",
      "129:\tlearn: 1660.2459188\ttotal: 2.5s\tremaining: 385ms\n",
      "130:\tlearn: 1659.3044079\ttotal: 2.52s\tremaining: 366ms\n",
      "131:\tlearn: 1657.9451794\ttotal: 2.54s\tremaining: 346ms\n",
      "132:\tlearn: 1656.7088067\ttotal: 2.56s\tremaining: 327ms\n",
      "133:\tlearn: 1655.1609016\ttotal: 2.58s\tremaining: 308ms\n",
      "134:\tlearn: 1654.2204085\ttotal: 2.6s\tremaining: 289ms\n",
      "135:\tlearn: 1653.1402170\ttotal: 2.62s\tremaining: 269ms\n",
      "136:\tlearn: 1652.1661318\ttotal: 2.63s\tremaining: 250ms\n",
      "137:\tlearn: 1651.5102437\ttotal: 2.65s\tremaining: 231ms\n",
      "138:\tlearn: 1650.3963956\ttotal: 2.67s\tremaining: 211ms\n",
      "139:\tlearn: 1649.4755642\ttotal: 2.69s\tremaining: 192ms\n",
      "140:\tlearn: 1648.4436751\ttotal: 2.71s\tremaining: 173ms\n",
      "141:\tlearn: 1647.2038795\ttotal: 2.72s\tremaining: 153ms\n",
      "142:\tlearn: 1646.7038669\ttotal: 2.74s\tremaining: 134ms\n",
      "143:\tlearn: 1645.0252191\ttotal: 2.76s\tremaining: 115ms\n",
      "144:\tlearn: 1644.2141849\ttotal: 2.78s\tremaining: 95.8ms\n",
      "145:\tlearn: 1643.0634749\ttotal: 2.8s\tremaining: 76.6ms\n",
      "146:\tlearn: 1642.3318589\ttotal: 2.81s\tremaining: 57.5ms\n",
      "147:\tlearn: 1641.3394917\ttotal: 2.83s\tremaining: 38.3ms\n",
      "148:\tlearn: 1640.4552139\ttotal: 2.85s\tremaining: 19.1ms\n",
      "149:\tlearn: 1639.7982654\ttotal: 2.87s\tremaining: 0us\n",
      "0:\tlearn: 4157.4781604\ttotal: 20ms\tremaining: 2.98s\n",
      "1:\tlearn: 3770.6774834\ttotal: 40ms\tremaining: 2.96s\n",
      "2:\tlearn: 3443.9850286\ttotal: 59.3ms\tremaining: 2.91s\n",
      "3:\tlearn: 3183.7375679\ttotal: 79.1ms\tremaining: 2.89s\n",
      "4:\tlearn: 2970.5871103\ttotal: 98.1ms\tremaining: 2.85s\n",
      "5:\tlearn: 2798.6656802\ttotal: 119ms\tremaining: 2.85s\n",
      "6:\tlearn: 2650.0447506\ttotal: 138ms\tremaining: 2.82s\n",
      "7:\tlearn: 2531.5487976\ttotal: 157ms\tremaining: 2.79s\n",
      "8:\tlearn: 2431.9350723\ttotal: 175ms\tremaining: 2.75s\n",
      "9:\tlearn: 2351.3150026\ttotal: 195ms\tremaining: 2.73s\n",
      "10:\tlearn: 2284.8028525\ttotal: 215ms\tremaining: 2.71s\n",
      "11:\tlearn: 2231.0764449\ttotal: 235ms\tremaining: 2.7s\n",
      "12:\tlearn: 2177.9408138\ttotal: 258ms\tremaining: 2.71s\n",
      "13:\tlearn: 2134.5577899\ttotal: 276ms\tremaining: 2.68s\n",
      "14:\tlearn: 2097.5821650\ttotal: 295ms\tremaining: 2.65s\n",
      "15:\tlearn: 2067.9961079\ttotal: 314ms\tremaining: 2.63s\n",
      "16:\tlearn: 2044.0843826\ttotal: 331ms\tremaining: 2.59s\n",
      "17:\tlearn: 2020.8872517\ttotal: 349ms\tremaining: 2.56s\n",
      "18:\tlearn: 1995.3802608\ttotal: 367ms\tremaining: 2.53s\n",
      "19:\tlearn: 1978.8980177\ttotal: 385ms\tremaining: 2.5s\n",
      "20:\tlearn: 1960.8082108\ttotal: 404ms\tremaining: 2.48s\n",
      "21:\tlearn: 1947.8681849\ttotal: 421ms\tremaining: 2.45s\n",
      "22:\tlearn: 1936.3253078\ttotal: 439ms\tremaining: 2.42s\n",
      "23:\tlearn: 1927.0612757\ttotal: 456ms\tremaining: 2.4s\n",
      "24:\tlearn: 1912.4087896\ttotal: 476ms\tremaining: 2.38s\n",
      "25:\tlearn: 1902.8849639\ttotal: 493ms\tremaining: 2.35s\n",
      "26:\tlearn: 1895.1412752\ttotal: 511ms\tremaining: 2.33s\n",
      "27:\tlearn: 1887.8353537\ttotal: 529ms\tremaining: 2.3s\n",
      "28:\tlearn: 1878.0556145\ttotal: 554ms\tremaining: 2.31s\n",
      "29:\tlearn: 1871.5051219\ttotal: 573ms\tremaining: 2.29s\n",
      "30:\tlearn: 1864.4656855\ttotal: 593ms\tremaining: 2.27s\n",
      "31:\tlearn: 1859.1433214\ttotal: 613ms\tremaining: 2.26s\n",
      "32:\tlearn: 1854.6506956\ttotal: 631ms\tremaining: 2.24s\n",
      "33:\tlearn: 1848.7964112\ttotal: 650ms\tremaining: 2.22s\n",
      "34:\tlearn: 1841.7223564\ttotal: 669ms\tremaining: 2.2s\n",
      "35:\tlearn: 1837.6096573\ttotal: 688ms\tremaining: 2.18s\n",
      "36:\tlearn: 1834.4748174\ttotal: 705ms\tremaining: 2.15s\n",
      "37:\tlearn: 1831.7109333\ttotal: 722ms\tremaining: 2.13s\n",
      "38:\tlearn: 1828.5365373\ttotal: 739ms\tremaining: 2.1s\n",
      "39:\tlearn: 1824.3643491\ttotal: 759ms\tremaining: 2.09s\n",
      "40:\tlearn: 1820.4450829\ttotal: 778ms\tremaining: 2.07s\n",
      "41:\tlearn: 1816.7942864\ttotal: 796ms\tremaining: 2.05s\n",
      "42:\tlearn: 1812.4752517\ttotal: 814ms\tremaining: 2.03s\n",
      "43:\tlearn: 1807.8997475\ttotal: 833ms\tremaining: 2.01s\n",
      "44:\tlearn: 1802.4077374\ttotal: 852ms\tremaining: 1.99s\n",
      "45:\tlearn: 1800.0901531\ttotal: 869ms\tremaining: 1.96s\n",
      "46:\tlearn: 1796.6253655\ttotal: 887ms\tremaining: 1.94s\n",
      "47:\tlearn: 1794.1073635\ttotal: 905ms\tremaining: 1.92s\n",
      "48:\tlearn: 1791.7185562\ttotal: 923ms\tremaining: 1.9s\n",
      "49:\tlearn: 1788.4414361\ttotal: 941ms\tremaining: 1.88s\n",
      "50:\tlearn: 1785.9241220\ttotal: 960ms\tremaining: 1.86s\n",
      "51:\tlearn: 1783.2711486\ttotal: 979ms\tremaining: 1.84s\n",
      "52:\tlearn: 1780.3475913\ttotal: 1s\tremaining: 1.84s\n",
      "53:\tlearn: 1777.4907558\ttotal: 1.03s\tremaining: 1.83s\n",
      "54:\tlearn: 1775.5028950\ttotal: 1.05s\tremaining: 1.82s\n",
      "55:\tlearn: 1771.5761672\ttotal: 1.08s\tremaining: 1.81s\n",
      "56:\tlearn: 1770.0370345\ttotal: 1.1s\tremaining: 1.79s\n",
      "57:\tlearn: 1765.4924517\ttotal: 1.12s\tremaining: 1.77s\n",
      "58:\tlearn: 1762.5418264\ttotal: 1.14s\tremaining: 1.75s\n",
      "59:\tlearn: 1759.9073956\ttotal: 1.15s\tremaining: 1.73s\n",
      "60:\tlearn: 1757.9410628\ttotal: 1.17s\tremaining: 1.71s\n",
      "61:\tlearn: 1755.6430128\ttotal: 1.19s\tremaining: 1.69s\n",
      "62:\tlearn: 1753.6285072\ttotal: 1.21s\tremaining: 1.67s\n",
      "63:\tlearn: 1750.7842730\ttotal: 1.23s\tremaining: 1.65s\n",
      "64:\tlearn: 1749.3447785\ttotal: 1.24s\tremaining: 1.63s\n",
      "65:\tlearn: 1747.2935957\ttotal: 1.26s\tremaining: 1.6s\n",
      "66:\tlearn: 1745.8343570\ttotal: 1.28s\tremaining: 1.58s\n",
      "67:\tlearn: 1742.7459969\ttotal: 1.3s\tremaining: 1.57s\n",
      "68:\tlearn: 1741.7979375\ttotal: 1.32s\tremaining: 1.54s\n",
      "69:\tlearn: 1740.0277578\ttotal: 1.33s\tremaining: 1.52s\n",
      "70:\tlearn: 1738.5012009\ttotal: 1.35s\tremaining: 1.5s\n",
      "71:\tlearn: 1737.3555550\ttotal: 1.37s\tremaining: 1.48s\n",
      "72:\tlearn: 1734.8497906\ttotal: 1.39s\tremaining: 1.47s\n",
      "73:\tlearn: 1733.5515557\ttotal: 1.41s\tremaining: 1.45s\n",
      "74:\tlearn: 1732.0523884\ttotal: 1.43s\tremaining: 1.43s\n",
      "75:\tlearn: 1729.3725304\ttotal: 1.44s\tremaining: 1.41s\n",
      "76:\tlearn: 1727.2001079\ttotal: 1.46s\tremaining: 1.39s\n",
      "77:\tlearn: 1725.5078639\ttotal: 1.48s\tremaining: 1.37s\n",
      "78:\tlearn: 1724.2732627\ttotal: 1.5s\tremaining: 1.35s\n",
      "79:\tlearn: 1722.1523586\ttotal: 1.52s\tremaining: 1.33s\n",
      "80:\tlearn: 1720.4626073\ttotal: 1.53s\tremaining: 1.31s\n",
      "81:\tlearn: 1719.2391748\ttotal: 1.55s\tremaining: 1.29s\n",
      "82:\tlearn: 1717.9815623\ttotal: 1.57s\tremaining: 1.27s\n",
      "83:\tlearn: 1716.3329522\ttotal: 1.59s\tremaining: 1.25s\n",
      "84:\tlearn: 1714.4092405\ttotal: 1.6s\tremaining: 1.23s\n",
      "85:\tlearn: 1712.7904750\ttotal: 1.62s\tremaining: 1.21s\n",
      "86:\tlearn: 1711.2651337\ttotal: 1.64s\tremaining: 1.19s\n",
      "87:\tlearn: 1709.8882164\ttotal: 1.66s\tremaining: 1.17s\n",
      "88:\tlearn: 1707.8533009\ttotal: 1.68s\tremaining: 1.15s\n",
      "89:\tlearn: 1706.1085074\ttotal: 1.7s\tremaining: 1.13s\n",
      "90:\tlearn: 1704.5320871\ttotal: 1.72s\tremaining: 1.11s\n",
      "91:\tlearn: 1702.6746640\ttotal: 1.74s\tremaining: 1.09s\n",
      "92:\tlearn: 1701.0422977\ttotal: 1.76s\tremaining: 1.08s\n",
      "93:\tlearn: 1699.3492273\ttotal: 1.77s\tremaining: 1.06s\n",
      "94:\tlearn: 1698.4957263\ttotal: 1.79s\tremaining: 1.04s\n",
      "95:\tlearn: 1697.6025404\ttotal: 1.81s\tremaining: 1.02s\n",
      "96:\tlearn: 1695.7865743\ttotal: 1.83s\tremaining: 1000ms\n",
      "97:\tlearn: 1694.8192552\ttotal: 1.85s\tremaining: 980ms\n",
      "98:\tlearn: 1693.0424316\ttotal: 1.87s\tremaining: 962ms\n",
      "99:\tlearn: 1691.5353413\ttotal: 1.89s\tremaining: 943ms\n",
      "100:\tlearn: 1690.4515597\ttotal: 1.9s\tremaining: 923ms\n",
      "101:\tlearn: 1688.6994908\ttotal: 1.92s\tremaining: 905ms\n",
      "102:\tlearn: 1687.4534044\ttotal: 1.94s\tremaining: 886ms\n",
      "103:\tlearn: 1686.3939033\ttotal: 1.96s\tremaining: 867ms\n",
      "104:\tlearn: 1685.3030406\ttotal: 1.98s\tremaining: 849ms\n",
      "105:\tlearn: 1684.3553939\ttotal: 2s\tremaining: 830ms\n",
      "106:\tlearn: 1683.4033131\ttotal: 2.02s\tremaining: 810ms\n",
      "107:\tlearn: 1681.8172888\ttotal: 2.04s\tremaining: 792ms\n",
      "108:\tlearn: 1680.4181757\ttotal: 2.05s\tremaining: 773ms\n",
      "109:\tlearn: 1678.9782981\ttotal: 2.08s\tremaining: 755ms\n",
      "110:\tlearn: 1677.4688531\ttotal: 2.1s\tremaining: 737ms\n",
      "111:\tlearn: 1676.4330765\ttotal: 2.12s\tremaining: 719ms\n",
      "112:\tlearn: 1675.6027342\ttotal: 2.14s\tremaining: 700ms\n",
      "113:\tlearn: 1674.8513442\ttotal: 2.15s\tremaining: 681ms\n",
      "114:\tlearn: 1673.3607992\ttotal: 2.17s\tremaining: 662ms\n",
      "115:\tlearn: 1672.3828987\ttotal: 2.19s\tremaining: 643ms\n",
      "116:\tlearn: 1670.2901372\ttotal: 2.21s\tremaining: 625ms\n",
      "117:\tlearn: 1669.6142634\ttotal: 2.23s\tremaining: 606ms\n",
      "118:\tlearn: 1668.0473602\ttotal: 2.25s\tremaining: 587ms\n",
      "119:\tlearn: 1666.8489145\ttotal: 2.27s\tremaining: 568ms\n",
      "120:\tlearn: 1665.8227697\ttotal: 2.29s\tremaining: 549ms\n",
      "121:\tlearn: 1664.9787546\ttotal: 2.31s\tremaining: 530ms\n",
      "122:\tlearn: 1663.8286258\ttotal: 2.33s\tremaining: 511ms\n",
      "123:\tlearn: 1662.8014174\ttotal: 2.35s\tremaining: 492ms\n",
      "124:\tlearn: 1661.6073016\ttotal: 2.37s\tremaining: 474ms\n",
      "125:\tlearn: 1660.8931465\ttotal: 2.39s\tremaining: 455ms\n",
      "126:\tlearn: 1659.7039102\ttotal: 2.41s\tremaining: 436ms\n",
      "127:\tlearn: 1658.3815519\ttotal: 2.43s\tremaining: 418ms\n",
      "128:\tlearn: 1657.7679323\ttotal: 2.45s\tremaining: 399ms\n",
      "129:\tlearn: 1656.5430369\ttotal: 2.47s\tremaining: 380ms\n",
      "130:\tlearn: 1655.4505335\ttotal: 2.49s\tremaining: 361ms\n",
      "131:\tlearn: 1654.2632635\ttotal: 2.51s\tremaining: 342ms\n",
      "132:\tlearn: 1652.5730262\ttotal: 2.53s\tremaining: 323ms\n",
      "133:\tlearn: 1651.2475530\ttotal: 2.55s\tremaining: 304ms\n",
      "134:\tlearn: 1650.3633917\ttotal: 2.57s\tremaining: 285ms\n",
      "135:\tlearn: 1649.9070019\ttotal: 2.58s\tremaining: 266ms\n",
      "136:\tlearn: 1649.2901296\ttotal: 2.61s\tremaining: 247ms\n",
      "137:\tlearn: 1648.4623644\ttotal: 2.63s\tremaining: 229ms\n",
      "138:\tlearn: 1647.2540121\ttotal: 2.65s\tremaining: 210ms\n",
      "139:\tlearn: 1646.1619485\ttotal: 2.67s\tremaining: 191ms\n",
      "140:\tlearn: 1645.1878845\ttotal: 2.69s\tremaining: 172ms\n",
      "141:\tlearn: 1644.0431402\ttotal: 2.72s\tremaining: 153ms\n",
      "142:\tlearn: 1642.9729420\ttotal: 2.74s\tremaining: 134ms\n",
      "143:\tlearn: 1641.6504864\ttotal: 2.76s\tremaining: 115ms\n",
      "144:\tlearn: 1640.8461665\ttotal: 2.78s\tremaining: 95.7ms\n",
      "145:\tlearn: 1639.8440678\ttotal: 2.79s\tremaining: 76.6ms\n",
      "146:\tlearn: 1639.2216582\ttotal: 2.81s\tremaining: 57.4ms\n",
      "147:\tlearn: 1638.6187481\ttotal: 2.83s\tremaining: 38.2ms\n",
      "148:\tlearn: 1637.9324830\ttotal: 2.85s\tremaining: 19.1ms\n",
      "149:\tlearn: 1637.2592633\ttotal: 2.87s\tremaining: 0us\n",
      "0:\tlearn: 4117.9686266\ttotal: 123ms\tremaining: 9.74s\n",
      "1:\tlearn: 3700.6655030\ttotal: 249ms\tremaining: 9.69s\n",
      "2:\tlearn: 3351.1605286\ttotal: 372ms\tremaining: 9.54s\n",
      "3:\tlearn: 3070.7662805\ttotal: 498ms\tremaining: 9.46s\n",
      "4:\tlearn: 2836.6812045\ttotal: 622ms\tremaining: 9.32s\n",
      "5:\tlearn: 2641.1835288\ttotal: 745ms\tremaining: 9.19s\n",
      "6:\tlearn: 2483.1545762\ttotal: 865ms\tremaining: 9.03s\n",
      "7:\tlearn: 2351.1189273\ttotal: 984ms\tremaining: 8.86s\n",
      "8:\tlearn: 2243.8697880\ttotal: 1.11s\tremaining: 8.74s\n",
      "9:\tlearn: 2160.1683615\ttotal: 1.23s\tremaining: 8.6s\n",
      "10:\tlearn: 2091.8290640\ttotal: 1.36s\tremaining: 8.56s\n",
      "11:\tlearn: 2034.3038850\ttotal: 1.49s\tremaining: 8.47s\n",
      "12:\tlearn: 1989.1656360\ttotal: 1.62s\tremaining: 8.36s\n",
      "13:\tlearn: 1946.8862872\ttotal: 1.75s\tremaining: 8.23s\n",
      "14:\tlearn: 1913.8678025\ttotal: 1.89s\tremaining: 8.21s\n",
      "15:\tlearn: 1889.5537135\ttotal: 2.01s\tremaining: 8.06s\n",
      "16:\tlearn: 1865.4028819\ttotal: 2.13s\tremaining: 7.91s\n",
      "17:\tlearn: 1842.5152415\ttotal: 2.25s\tremaining: 7.75s\n",
      "18:\tlearn: 1827.3795232\ttotal: 2.37s\tremaining: 7.6s\n",
      "19:\tlearn: 1813.3654838\ttotal: 2.49s\tremaining: 7.47s\n",
      "20:\tlearn: 1802.4120005\ttotal: 2.62s\tremaining: 7.36s\n",
      "21:\tlearn: 1788.0448249\ttotal: 2.77s\tremaining: 7.3s\n",
      "22:\tlearn: 1778.0181121\ttotal: 2.89s\tremaining: 7.17s\n",
      "23:\tlearn: 1769.1008107\ttotal: 3.02s\tremaining: 7.05s\n",
      "24:\tlearn: 1761.8858010\ttotal: 3.15s\tremaining: 6.93s\n",
      "25:\tlearn: 1753.7067079\ttotal: 3.28s\tremaining: 6.81s\n",
      "26:\tlearn: 1748.1924174\ttotal: 3.41s\tremaining: 6.69s\n",
      "27:\tlearn: 1743.0573110\ttotal: 3.53s\tremaining: 6.55s\n",
      "28:\tlearn: 1736.9817052\ttotal: 3.65s\tremaining: 6.41s\n",
      "29:\tlearn: 1731.5956534\ttotal: 3.77s\tremaining: 6.28s\n",
      "30:\tlearn: 1726.4945493\ttotal: 3.89s\tremaining: 6.15s\n",
      "31:\tlearn: 1722.4705088\ttotal: 4.01s\tremaining: 6.02s\n",
      "32:\tlearn: 1718.3882778\ttotal: 4.13s\tremaining: 5.88s\n",
      "33:\tlearn: 1713.5905668\ttotal: 4.25s\tremaining: 5.74s\n",
      "34:\tlearn: 1710.2307992\ttotal: 4.4s\tremaining: 5.66s\n",
      "35:\tlearn: 1706.4725690\ttotal: 4.52s\tremaining: 5.53s\n",
      "36:\tlearn: 1703.0315650\ttotal: 4.67s\tremaining: 5.42s\n",
      "37:\tlearn: 1698.1798181\ttotal: 4.8s\tremaining: 5.31s\n",
      "38:\tlearn: 1695.7570200\ttotal: 4.94s\tremaining: 5.2s\n",
      "39:\tlearn: 1691.8346795\ttotal: 5.06s\tremaining: 5.06s\n",
      "40:\tlearn: 1688.0216356\ttotal: 5.18s\tremaining: 4.93s\n",
      "41:\tlearn: 1684.0917164\ttotal: 5.3s\tremaining: 4.8s\n",
      "42:\tlearn: 1679.4328867\ttotal: 5.42s\tremaining: 4.66s\n",
      "43:\tlearn: 1676.8132570\ttotal: 5.54s\tremaining: 4.53s\n",
      "44:\tlearn: 1674.6283379\ttotal: 5.66s\tremaining: 4.4s\n",
      "45:\tlearn: 1672.4423259\ttotal: 5.77s\tremaining: 4.27s\n",
      "46:\tlearn: 1670.6598492\ttotal: 5.89s\tremaining: 4.14s\n",
      "47:\tlearn: 1667.5741401\ttotal: 6.02s\tremaining: 4.01s\n",
      "48:\tlearn: 1664.9801135\ttotal: 6.15s\tremaining: 3.89s\n",
      "49:\tlearn: 1663.3976826\ttotal: 6.27s\tremaining: 3.76s\n",
      "50:\tlearn: 1660.8718580\ttotal: 6.41s\tremaining: 3.64s\n",
      "51:\tlearn: 1655.1106719\ttotal: 6.54s\tremaining: 3.52s\n",
      "52:\tlearn: 1652.1715829\ttotal: 6.66s\tremaining: 3.39s\n",
      "53:\tlearn: 1649.2303517\ttotal: 6.78s\tremaining: 3.27s\n",
      "54:\tlearn: 1647.0289242\ttotal: 6.9s\tremaining: 3.14s\n",
      "55:\tlearn: 1645.0858107\ttotal: 7.02s\tremaining: 3.01s\n",
      "56:\tlearn: 1642.2114006\ttotal: 7.14s\tremaining: 2.88s\n",
      "57:\tlearn: 1640.7843128\ttotal: 7.27s\tremaining: 2.76s\n",
      "58:\tlearn: 1639.1794193\ttotal: 7.39s\tremaining: 2.63s\n",
      "59:\tlearn: 1636.6964041\ttotal: 7.51s\tremaining: 2.5s\n",
      "60:\tlearn: 1634.5571017\ttotal: 7.64s\tremaining: 2.38s\n",
      "61:\tlearn: 1633.0178209\ttotal: 7.79s\tremaining: 2.26s\n",
      "62:\tlearn: 1630.6156545\ttotal: 7.91s\tremaining: 2.13s\n",
      "63:\tlearn: 1627.2376473\ttotal: 8.04s\tremaining: 2.01s\n",
      "64:\tlearn: 1624.4414800\ttotal: 8.2s\tremaining: 1.89s\n",
      "65:\tlearn: 1621.8649833\ttotal: 8.35s\tremaining: 1.77s\n",
      "66:\tlearn: 1620.6562957\ttotal: 8.5s\tremaining: 1.65s\n",
      "67:\tlearn: 1617.7661131\ttotal: 8.63s\tremaining: 1.52s\n",
      "68:\tlearn: 1615.3358860\ttotal: 8.76s\tremaining: 1.4s\n",
      "69:\tlearn: 1613.9545136\ttotal: 8.88s\tremaining: 1.27s\n",
      "70:\tlearn: 1612.2938847\ttotal: 9s\tremaining: 1.14s\n",
      "71:\tlearn: 1610.8159322\ttotal: 9.13s\tremaining: 1.01s\n",
      "72:\tlearn: 1609.4442353\ttotal: 9.24s\tremaining: 886ms\n",
      "73:\tlearn: 1606.8500620\ttotal: 9.38s\tremaining: 760ms\n",
      "74:\tlearn: 1604.1913690\ttotal: 9.51s\tremaining: 634ms\n",
      "75:\tlearn: 1602.7298036\ttotal: 9.65s\tremaining: 508ms\n",
      "76:\tlearn: 1601.0018775\ttotal: 9.78s\tremaining: 381ms\n",
      "77:\tlearn: 1598.2593178\ttotal: 9.9s\tremaining: 254ms\n",
      "78:\tlearn: 1596.6481853\ttotal: 10s\tremaining: 127ms\n",
      "79:\tlearn: 1594.5883824\ttotal: 10.1s\tremaining: 0us\n",
      "0:\tlearn: 4128.4559231\ttotal: 135ms\tremaining: 10.7s\n",
      "1:\tlearn: 3702.3106611\ttotal: 266ms\tremaining: 10.4s\n",
      "2:\tlearn: 3354.9955848\ttotal: 382ms\tremaining: 9.81s\n",
      "3:\tlearn: 3066.5296162\ttotal: 498ms\tremaining: 9.46s\n",
      "4:\tlearn: 2831.8156584\ttotal: 613ms\tremaining: 9.2s\n",
      "5:\tlearn: 2628.6634897\ttotal: 734ms\tremaining: 9.05s\n",
      "6:\tlearn: 2473.2772698\ttotal: 861ms\tremaining: 8.98s\n",
      "7:\tlearn: 2353.0879549\ttotal: 991ms\tremaining: 8.92s\n",
      "8:\tlearn: 2251.0690085\ttotal: 1.13s\tremaining: 8.9s\n",
      "9:\tlearn: 2156.4521540\ttotal: 1.26s\tremaining: 8.83s\n",
      "10:\tlearn: 2093.0836002\ttotal: 1.41s\tremaining: 8.86s\n",
      "11:\tlearn: 2039.4777072\ttotal: 1.53s\tremaining: 8.7s\n",
      "12:\tlearn: 1986.1774828\ttotal: 1.65s\tremaining: 8.52s\n",
      "13:\tlearn: 1945.4282099\ttotal: 1.78s\tremaining: 8.38s\n",
      "14:\tlearn: 1916.1492385\ttotal: 1.9s\tremaining: 8.25s\n",
      "15:\tlearn: 1889.0272717\ttotal: 2.03s\tremaining: 8.12s\n",
      "16:\tlearn: 1867.7492380\ttotal: 2.15s\tremaining: 7.99s\n",
      "17:\tlearn: 1841.9191008\ttotal: 2.28s\tremaining: 7.86s\n",
      "18:\tlearn: 1827.3748842\ttotal: 2.41s\tremaining: 7.73s\n",
      "19:\tlearn: 1813.9642248\ttotal: 2.53s\tremaining: 7.59s\n",
      "20:\tlearn: 1798.2497433\ttotal: 2.66s\tremaining: 7.47s\n",
      "21:\tlearn: 1787.9320436\ttotal: 2.79s\tremaining: 7.36s\n",
      "22:\tlearn: 1778.4097579\ttotal: 2.92s\tremaining: 7.25s\n",
      "23:\tlearn: 1770.2139255\ttotal: 3.05s\tremaining: 7.12s\n",
      "24:\tlearn: 1762.4354907\ttotal: 3.2s\tremaining: 7.05s\n",
      "25:\tlearn: 1755.0575720\ttotal: 3.33s\tremaining: 6.91s\n",
      "26:\tlearn: 1748.3237576\ttotal: 3.45s\tremaining: 6.77s\n",
      "27:\tlearn: 1743.0376534\ttotal: 3.57s\tremaining: 6.63s\n",
      "28:\tlearn: 1736.9580833\ttotal: 3.69s\tremaining: 6.49s\n",
      "29:\tlearn: 1730.2812317\ttotal: 3.81s\tremaining: 6.36s\n",
      "30:\tlearn: 1723.0911265\ttotal: 3.94s\tremaining: 6.22s\n",
      "31:\tlearn: 1718.9051217\ttotal: 4.06s\tremaining: 6.09s\n",
      "32:\tlearn: 1715.5164576\ttotal: 4.18s\tremaining: 5.96s\n",
      "33:\tlearn: 1711.7738175\ttotal: 4.3s\tremaining: 5.82s\n",
      "34:\tlearn: 1707.7089127\ttotal: 4.42s\tremaining: 5.69s\n",
      "35:\tlearn: 1704.5154060\ttotal: 4.55s\tremaining: 5.56s\n",
      "36:\tlearn: 1700.7114591\ttotal: 4.67s\tremaining: 5.43s\n",
      "37:\tlearn: 1697.8315436\ttotal: 4.79s\tremaining: 5.29s\n",
      "38:\tlearn: 1695.3129105\ttotal: 4.92s\tremaining: 5.18s\n",
      "39:\tlearn: 1691.5878188\ttotal: 5.06s\tremaining: 5.06s\n",
      "40:\tlearn: 1687.8321421\ttotal: 5.18s\tremaining: 4.93s\n",
      "41:\tlearn: 1684.2709842\ttotal: 5.31s\tremaining: 4.8s\n",
      "42:\tlearn: 1680.6694577\ttotal: 5.43s\tremaining: 4.67s\n",
      "43:\tlearn: 1678.2256367\ttotal: 5.55s\tremaining: 4.54s\n",
      "44:\tlearn: 1675.8034917\ttotal: 5.68s\tremaining: 4.42s\n",
      "45:\tlearn: 1673.0421318\ttotal: 5.8s\tremaining: 4.29s\n",
      "46:\tlearn: 1669.6792902\ttotal: 5.93s\tremaining: 4.17s\n",
      "47:\tlearn: 1665.6203440\ttotal: 6.06s\tremaining: 4.04s\n",
      "48:\tlearn: 1661.8910381\ttotal: 6.2s\tremaining: 3.92s\n",
      "49:\tlearn: 1658.7463432\ttotal: 6.33s\tremaining: 3.8s\n",
      "50:\tlearn: 1656.2585959\ttotal: 6.45s\tremaining: 3.67s\n",
      "51:\tlearn: 1652.5745826\ttotal: 6.58s\tremaining: 3.54s\n",
      "52:\tlearn: 1650.5335052\ttotal: 6.7s\tremaining: 3.41s\n",
      "53:\tlearn: 1648.7016421\ttotal: 6.83s\tremaining: 3.29s\n",
      "54:\tlearn: 1646.0471963\ttotal: 6.95s\tremaining: 3.16s\n",
      "55:\tlearn: 1644.8956234\ttotal: 7.08s\tremaining: 3.03s\n",
      "56:\tlearn: 1642.6717945\ttotal: 7.21s\tremaining: 2.91s\n",
      "57:\tlearn: 1640.5778768\ttotal: 7.34s\tremaining: 2.78s\n",
      "58:\tlearn: 1638.0189190\ttotal: 7.46s\tremaining: 2.65s\n",
      "59:\tlearn: 1636.2876306\ttotal: 7.58s\tremaining: 2.53s\n",
      "60:\tlearn: 1632.7190168\ttotal: 7.73s\tremaining: 2.41s\n",
      "61:\tlearn: 1630.0973012\ttotal: 7.85s\tremaining: 2.28s\n",
      "62:\tlearn: 1627.1771603\ttotal: 7.97s\tremaining: 2.15s\n",
      "63:\tlearn: 1625.6820374\ttotal: 8.09s\tremaining: 2.02s\n",
      "64:\tlearn: 1624.3548885\ttotal: 8.21s\tremaining: 1.9s\n",
      "65:\tlearn: 1622.5571384\ttotal: 8.34s\tremaining: 1.77s\n",
      "66:\tlearn: 1619.5419243\ttotal: 8.46s\tremaining: 1.64s\n",
      "67:\tlearn: 1617.4772629\ttotal: 8.58s\tremaining: 1.51s\n",
      "68:\tlearn: 1615.1006426\ttotal: 8.71s\tremaining: 1.39s\n",
      "69:\tlearn: 1613.1387563\ttotal: 8.84s\tremaining: 1.26s\n",
      "70:\tlearn: 1611.2312057\ttotal: 8.99s\tremaining: 1.14s\n",
      "71:\tlearn: 1609.8140162\ttotal: 9.12s\tremaining: 1.01s\n",
      "72:\tlearn: 1607.7389044\ttotal: 9.24s\tremaining: 886ms\n",
      "73:\tlearn: 1606.2522807\ttotal: 9.38s\tremaining: 761ms\n",
      "74:\tlearn: 1603.9423842\ttotal: 9.51s\tremaining: 634ms\n",
      "75:\tlearn: 1602.0159310\ttotal: 9.63s\tremaining: 507ms\n",
      "76:\tlearn: 1600.2210522\ttotal: 9.75s\tremaining: 380ms\n",
      "77:\tlearn: 1598.8041933\ttotal: 9.88s\tremaining: 253ms\n",
      "78:\tlearn: 1597.4891284\ttotal: 10s\tremaining: 127ms\n",
      "79:\tlearn: 1596.0918837\ttotal: 10.1s\tremaining: 0us\n",
      "0:\tlearn: 4117.9686266\ttotal: 118ms\tremaining: 17.6s\n",
      "1:\tlearn: 3700.6655030\ttotal: 245ms\tremaining: 18.1s\n",
      "2:\tlearn: 3351.1605286\ttotal: 370ms\tremaining: 18.1s\n",
      "3:\tlearn: 3070.7662805\ttotal: 492ms\tremaining: 17.9s\n",
      "4:\tlearn: 2836.6812045\ttotal: 615ms\tremaining: 17.8s\n",
      "5:\tlearn: 2641.1835288\ttotal: 741ms\tremaining: 17.8s\n",
      "6:\tlearn: 2483.1545762\ttotal: 873ms\tremaining: 17.8s\n",
      "7:\tlearn: 2351.1189273\ttotal: 997ms\tremaining: 17.7s\n",
      "8:\tlearn: 2243.8697880\ttotal: 1.12s\tremaining: 17.5s\n",
      "9:\tlearn: 2160.1683615\ttotal: 1.24s\tremaining: 17.3s\n",
      "10:\tlearn: 2091.8290640\ttotal: 1.36s\tremaining: 17.2s\n",
      "11:\tlearn: 2034.3038850\ttotal: 1.49s\tremaining: 17.1s\n",
      "12:\tlearn: 1989.1656360\ttotal: 1.61s\tremaining: 17s\n",
      "13:\tlearn: 1946.8862872\ttotal: 1.75s\tremaining: 17s\n",
      "14:\tlearn: 1913.8678025\ttotal: 1.89s\tremaining: 17s\n",
      "15:\tlearn: 1889.5537135\ttotal: 2.02s\tremaining: 16.9s\n",
      "16:\tlearn: 1865.4028819\ttotal: 2.16s\tremaining: 16.9s\n",
      "17:\tlearn: 1842.5152415\ttotal: 2.28s\tremaining: 16.7s\n",
      "18:\tlearn: 1827.3795232\ttotal: 2.41s\tremaining: 16.6s\n",
      "19:\tlearn: 1813.3654838\ttotal: 2.53s\tremaining: 16.5s\n",
      "20:\tlearn: 1802.4120005\ttotal: 2.65s\tremaining: 16.3s\n",
      "21:\tlearn: 1788.0448249\ttotal: 2.78s\tremaining: 16.2s\n",
      "22:\tlearn: 1778.0181121\ttotal: 2.9s\tremaining: 16s\n",
      "23:\tlearn: 1769.1008107\ttotal: 3.04s\tremaining: 16s\n",
      "24:\tlearn: 1761.8858010\ttotal: 3.16s\tremaining: 15.8s\n",
      "25:\tlearn: 1753.7067079\ttotal: 3.28s\tremaining: 15.6s\n",
      "26:\tlearn: 1748.1924174\ttotal: 3.4s\tremaining: 15.5s\n",
      "27:\tlearn: 1743.0573110\ttotal: 3.52s\tremaining: 15.3s\n",
      "28:\tlearn: 1736.9817052\ttotal: 3.63s\tremaining: 15.2s\n",
      "29:\tlearn: 1731.5956534\ttotal: 3.75s\tremaining: 15s\n",
      "30:\tlearn: 1726.4945493\ttotal: 3.87s\tremaining: 14.8s\n",
      "31:\tlearn: 1722.4705088\ttotal: 3.99s\tremaining: 14.7s\n",
      "32:\tlearn: 1718.3882778\ttotal: 4.11s\tremaining: 14.6s\n",
      "33:\tlearn: 1713.5905668\ttotal: 4.23s\tremaining: 14.4s\n",
      "34:\tlearn: 1710.2307992\ttotal: 4.34s\tremaining: 14.3s\n",
      "35:\tlearn: 1706.4725690\ttotal: 4.46s\tremaining: 14.1s\n",
      "36:\tlearn: 1703.0315650\ttotal: 4.58s\tremaining: 14s\n",
      "37:\tlearn: 1698.1798181\ttotal: 4.69s\tremaining: 13.8s\n",
      "38:\tlearn: 1695.7570200\ttotal: 4.82s\tremaining: 13.7s\n",
      "39:\tlearn: 1691.8346795\ttotal: 4.94s\tremaining: 13.6s\n",
      "40:\tlearn: 1688.0216356\ttotal: 5.07s\tremaining: 13.5s\n",
      "41:\tlearn: 1684.0917164\ttotal: 5.19s\tremaining: 13.4s\n",
      "42:\tlearn: 1679.4328867\ttotal: 5.31s\tremaining: 13.2s\n",
      "43:\tlearn: 1676.8132570\ttotal: 5.43s\tremaining: 13.1s\n",
      "44:\tlearn: 1674.6283379\ttotal: 5.57s\tremaining: 13s\n",
      "45:\tlearn: 1672.4423259\ttotal: 5.69s\tremaining: 12.9s\n",
      "46:\tlearn: 1670.6598492\ttotal: 5.8s\tremaining: 12.7s\n",
      "47:\tlearn: 1667.5741401\ttotal: 5.92s\tremaining: 12.6s\n",
      "48:\tlearn: 1664.9801135\ttotal: 6.04s\tremaining: 12.5s\n",
      "49:\tlearn: 1663.3976826\ttotal: 6.16s\tremaining: 12.3s\n",
      "50:\tlearn: 1660.8718580\ttotal: 6.28s\tremaining: 12.2s\n",
      "51:\tlearn: 1655.1106719\ttotal: 6.41s\tremaining: 12.1s\n",
      "52:\tlearn: 1652.1715829\ttotal: 6.53s\tremaining: 11.9s\n",
      "53:\tlearn: 1649.2303517\ttotal: 6.65s\tremaining: 11.8s\n",
      "54:\tlearn: 1647.0289242\ttotal: 6.77s\tremaining: 11.7s\n",
      "55:\tlearn: 1645.0858107\ttotal: 6.89s\tremaining: 11.6s\n",
      "56:\tlearn: 1642.2114006\ttotal: 7.01s\tremaining: 11.4s\n",
      "57:\tlearn: 1640.7843128\ttotal: 7.14s\tremaining: 11.3s\n",
      "58:\tlearn: 1639.1794193\ttotal: 7.28s\tremaining: 11.2s\n",
      "59:\tlearn: 1636.6964041\ttotal: 7.4s\tremaining: 11.1s\n",
      "60:\tlearn: 1634.5571017\ttotal: 7.51s\tremaining: 11s\n",
      "61:\tlearn: 1633.0178209\ttotal: 7.63s\tremaining: 10.8s\n",
      "62:\tlearn: 1630.6156545\ttotal: 7.75s\tremaining: 10.7s\n",
      "63:\tlearn: 1627.2376473\ttotal: 7.86s\tremaining: 10.6s\n",
      "64:\tlearn: 1624.4414800\ttotal: 7.98s\tremaining: 10.4s\n",
      "65:\tlearn: 1621.8649833\ttotal: 8.12s\tremaining: 10.3s\n",
      "66:\tlearn: 1620.6562957\ttotal: 8.23s\tremaining: 10.2s\n",
      "67:\tlearn: 1617.7661131\ttotal: 8.35s\tremaining: 10.1s\n",
      "68:\tlearn: 1615.3358860\ttotal: 8.47s\tremaining: 9.94s\n",
      "69:\tlearn: 1613.9545136\ttotal: 8.59s\tremaining: 9.82s\n",
      "70:\tlearn: 1612.2938847\ttotal: 8.71s\tremaining: 9.7s\n",
      "71:\tlearn: 1610.8159322\ttotal: 8.84s\tremaining: 9.57s\n",
      "72:\tlearn: 1609.4442353\ttotal: 8.96s\tremaining: 9.45s\n",
      "73:\tlearn: 1606.8500620\ttotal: 9.08s\tremaining: 9.32s\n",
      "74:\tlearn: 1604.1913690\ttotal: 9.19s\tremaining: 9.19s\n",
      "75:\tlearn: 1602.7298036\ttotal: 9.31s\tremaining: 9.06s\n",
      "76:\tlearn: 1601.0018775\ttotal: 9.43s\tremaining: 8.94s\n",
      "77:\tlearn: 1598.2593178\ttotal: 9.55s\tremaining: 8.81s\n",
      "78:\tlearn: 1596.6481853\ttotal: 9.67s\tremaining: 8.69s\n",
      "79:\tlearn: 1594.5883824\ttotal: 9.79s\tremaining: 8.56s\n",
      "80:\tlearn: 1593.0626594\ttotal: 9.91s\tremaining: 8.44s\n",
      "81:\tlearn: 1591.8450456\ttotal: 10s\tremaining: 8.32s\n",
      "82:\tlearn: 1590.6237619\ttotal: 10.2s\tremaining: 8.2s\n",
      "83:\tlearn: 1588.9441888\ttotal: 10.3s\tremaining: 8.08s\n",
      "84:\tlearn: 1587.0596413\ttotal: 10.4s\tremaining: 7.95s\n",
      "85:\tlearn: 1586.0332217\ttotal: 10.5s\tremaining: 7.83s\n",
      "86:\tlearn: 1584.5894101\ttotal: 10.6s\tremaining: 7.7s\n",
      "87:\tlearn: 1582.6910019\ttotal: 10.8s\tremaining: 7.58s\n",
      "88:\tlearn: 1580.9717372\ttotal: 10.9s\tremaining: 7.45s\n",
      "89:\tlearn: 1579.7616614\ttotal: 11s\tremaining: 7.33s\n",
      "90:\tlearn: 1578.0023382\ttotal: 11.1s\tremaining: 7.21s\n",
      "91:\tlearn: 1576.1557614\ttotal: 11.2s\tremaining: 7.08s\n",
      "92:\tlearn: 1574.0180061\ttotal: 11.4s\tremaining: 6.96s\n",
      "93:\tlearn: 1570.9510426\ttotal: 11.5s\tremaining: 6.84s\n",
      "94:\tlearn: 1569.2628033\ttotal: 11.6s\tremaining: 6.72s\n",
      "95:\tlearn: 1566.9992126\ttotal: 11.7s\tremaining: 6.59s\n",
      "96:\tlearn: 1565.4015600\ttotal: 11.9s\tremaining: 6.48s\n",
      "97:\tlearn: 1563.7334474\ttotal: 12s\tremaining: 6.36s\n",
      "98:\tlearn: 1562.0157052\ttotal: 12.1s\tremaining: 6.23s\n",
      "99:\tlearn: 1559.8385853\ttotal: 12.2s\tremaining: 6.11s\n",
      "100:\tlearn: 1558.5625558\ttotal: 12.3s\tremaining: 5.99s\n",
      "101:\tlearn: 1557.1790623\ttotal: 12.5s\tremaining: 5.86s\n",
      "102:\tlearn: 1556.1612344\ttotal: 12.6s\tremaining: 5.74s\n",
      "103:\tlearn: 1554.5855151\ttotal: 12.7s\tremaining: 5.61s\n",
      "104:\tlearn: 1552.9006115\ttotal: 12.8s\tremaining: 5.49s\n",
      "105:\tlearn: 1551.4814749\ttotal: 12.9s\tremaining: 5.37s\n",
      "106:\tlearn: 1550.4765530\ttotal: 13.1s\tremaining: 5.24s\n",
      "107:\tlearn: 1548.6928041\ttotal: 13.2s\tremaining: 5.12s\n",
      "108:\tlearn: 1547.1309766\ttotal: 13.3s\tremaining: 5s\n",
      "109:\tlearn: 1545.6240084\ttotal: 13.4s\tremaining: 4.88s\n",
      "110:\tlearn: 1542.7969781\ttotal: 13.5s\tremaining: 4.76s\n",
      "111:\tlearn: 1541.7467072\ttotal: 13.7s\tremaining: 4.63s\n",
      "112:\tlearn: 1540.6685475\ttotal: 13.8s\tremaining: 4.51s\n",
      "113:\tlearn: 1539.2770399\ttotal: 13.9s\tremaining: 4.39s\n",
      "114:\tlearn: 1537.9762795\ttotal: 14s\tremaining: 4.26s\n",
      "115:\tlearn: 1537.1308869\ttotal: 14.1s\tremaining: 4.14s\n",
      "116:\tlearn: 1535.4877619\ttotal: 14.2s\tremaining: 4.02s\n",
      "117:\tlearn: 1534.6828586\ttotal: 14.4s\tremaining: 3.9s\n",
      "118:\tlearn: 1533.0436943\ttotal: 14.5s\tremaining: 3.77s\n",
      "119:\tlearn: 1531.9476519\ttotal: 14.6s\tremaining: 3.65s\n",
      "120:\tlearn: 1530.6252735\ttotal: 14.7s\tremaining: 3.53s\n",
      "121:\tlearn: 1528.8827491\ttotal: 14.9s\tremaining: 3.41s\n",
      "122:\tlearn: 1527.6810494\ttotal: 15s\tremaining: 3.29s\n",
      "123:\tlearn: 1526.1030537\ttotal: 15.1s\tremaining: 3.17s\n",
      "124:\tlearn: 1524.3445344\ttotal: 15.2s\tremaining: 3.05s\n",
      "125:\tlearn: 1521.3623808\ttotal: 15.4s\tremaining: 2.93s\n",
      "126:\tlearn: 1519.8219351\ttotal: 15.5s\tremaining: 2.8s\n",
      "127:\tlearn: 1519.0951650\ttotal: 15.6s\tremaining: 2.68s\n",
      "128:\tlearn: 1517.5900872\ttotal: 15.7s\tremaining: 2.56s\n",
      "129:\tlearn: 1516.4939902\ttotal: 15.8s\tremaining: 2.44s\n",
      "130:\tlearn: 1514.1942906\ttotal: 15.9s\tremaining: 2.31s\n",
      "131:\tlearn: 1513.3063581\ttotal: 16.1s\tremaining: 2.19s\n",
      "132:\tlearn: 1512.4113826\ttotal: 16.2s\tremaining: 2.07s\n",
      "133:\tlearn: 1511.3949841\ttotal: 16.3s\tremaining: 1.95s\n",
      "134:\tlearn: 1509.9088511\ttotal: 16.4s\tremaining: 1.83s\n",
      "135:\tlearn: 1508.5747647\ttotal: 16.6s\tremaining: 1.7s\n",
      "136:\tlearn: 1507.3540925\ttotal: 16.7s\tremaining: 1.58s\n",
      "137:\tlearn: 1505.3249794\ttotal: 16.8s\tremaining: 1.46s\n",
      "138:\tlearn: 1504.4452087\ttotal: 17s\tremaining: 1.34s\n",
      "139:\tlearn: 1502.9017863\ttotal: 17.1s\tremaining: 1.22s\n",
      "140:\tlearn: 1501.6800237\ttotal: 17.2s\tremaining: 1.1s\n",
      "141:\tlearn: 1500.0815362\ttotal: 17.3s\tremaining: 975ms\n",
      "142:\tlearn: 1499.0466946\ttotal: 17.4s\tremaining: 853ms\n",
      "143:\tlearn: 1498.1255829\ttotal: 17.5s\tremaining: 731ms\n",
      "144:\tlearn: 1496.9195224\ttotal: 17.7s\tremaining: 609ms\n",
      "145:\tlearn: 1495.9769872\ttotal: 17.8s\tremaining: 488ms\n",
      "146:\tlearn: 1493.7262590\ttotal: 17.9s\tremaining: 366ms\n",
      "147:\tlearn: 1492.5743605\ttotal: 18.1s\tremaining: 244ms\n",
      "148:\tlearn: 1491.5980343\ttotal: 18.2s\tremaining: 122ms\n",
      "149:\tlearn: 1490.3986256\ttotal: 18.3s\tremaining: 0us\n",
      "0:\tlearn: 4128.4559231\ttotal: 125ms\tremaining: 18.6s\n",
      "1:\tlearn: 3702.3106611\ttotal: 248ms\tremaining: 18.3s\n",
      "2:\tlearn: 3354.9955848\ttotal: 368ms\tremaining: 18.1s\n",
      "3:\tlearn: 3066.5296162\ttotal: 486ms\tremaining: 17.7s\n",
      "4:\tlearn: 2831.8156584\ttotal: 603ms\tremaining: 17.5s\n",
      "5:\tlearn: 2628.6634897\ttotal: 722ms\tremaining: 17.3s\n",
      "6:\tlearn: 2473.2772698\ttotal: 838ms\tremaining: 17.1s\n",
      "7:\tlearn: 2353.0879549\ttotal: 972ms\tremaining: 17.2s\n",
      "8:\tlearn: 2251.0690085\ttotal: 1.09s\tremaining: 17s\n",
      "9:\tlearn: 2156.4521540\ttotal: 1.21s\tremaining: 16.9s\n",
      "10:\tlearn: 2093.0836002\ttotal: 1.32s\tremaining: 16.7s\n",
      "11:\tlearn: 2039.4777072\ttotal: 1.45s\tremaining: 16.7s\n",
      "12:\tlearn: 1986.1774828\ttotal: 1.58s\tremaining: 16.7s\n",
      "13:\tlearn: 1945.4282099\ttotal: 1.7s\tremaining: 16.5s\n",
      "14:\tlearn: 1916.1492385\ttotal: 1.82s\tremaining: 16.4s\n",
      "15:\tlearn: 1889.0272717\ttotal: 1.93s\tremaining: 16.2s\n",
      "16:\tlearn: 1867.7492380\ttotal: 2.05s\tremaining: 16s\n",
      "17:\tlearn: 1841.9191008\ttotal: 2.17s\tremaining: 15.9s\n",
      "18:\tlearn: 1827.3748842\ttotal: 2.29s\tremaining: 15.8s\n",
      "19:\tlearn: 1813.9642248\ttotal: 2.41s\tremaining: 15.7s\n",
      "20:\tlearn: 1798.2497433\ttotal: 2.52s\tremaining: 15.5s\n",
      "21:\tlearn: 1787.9320436\ttotal: 2.64s\tremaining: 15.4s\n",
      "22:\tlearn: 1778.4097579\ttotal: 2.77s\tremaining: 15.3s\n",
      "23:\tlearn: 1770.2139255\ttotal: 2.89s\tremaining: 15.2s\n",
      "24:\tlearn: 1762.4354907\ttotal: 3s\tremaining: 15s\n",
      "25:\tlearn: 1755.0575720\ttotal: 3.15s\tremaining: 15s\n",
      "26:\tlearn: 1748.3237576\ttotal: 3.27s\tremaining: 14.9s\n",
      "27:\tlearn: 1743.0376534\ttotal: 3.39s\tremaining: 14.8s\n",
      "28:\tlearn: 1736.9580833\ttotal: 3.51s\tremaining: 14.6s\n",
      "29:\tlearn: 1730.2812317\ttotal: 3.63s\tremaining: 14.5s\n",
      "30:\tlearn: 1723.0911265\ttotal: 3.75s\tremaining: 14.4s\n",
      "31:\tlearn: 1718.9051217\ttotal: 3.87s\tremaining: 14.3s\n",
      "32:\tlearn: 1715.5164576\ttotal: 3.99s\tremaining: 14.2s\n",
      "33:\tlearn: 1711.7738175\ttotal: 4.12s\tremaining: 14.1s\n",
      "34:\tlearn: 1707.7089127\ttotal: 4.24s\tremaining: 13.9s\n",
      "35:\tlearn: 1704.5154060\ttotal: 4.37s\tremaining: 13.8s\n",
      "36:\tlearn: 1700.7114591\ttotal: 4.49s\tremaining: 13.7s\n",
      "37:\tlearn: 1697.8315436\ttotal: 4.6s\tremaining: 13.6s\n",
      "38:\tlearn: 1695.3129105\ttotal: 4.73s\tremaining: 13.5s\n",
      "39:\tlearn: 1691.5878188\ttotal: 4.85s\tremaining: 13.3s\n",
      "40:\tlearn: 1687.8321421\ttotal: 4.98s\tremaining: 13.2s\n",
      "41:\tlearn: 1684.2709842\ttotal: 5.1s\tremaining: 13.1s\n",
      "42:\tlearn: 1680.6694577\ttotal: 5.22s\tremaining: 13s\n",
      "43:\tlearn: 1678.2256367\ttotal: 5.34s\tremaining: 12.9s\n",
      "44:\tlearn: 1675.8034917\ttotal: 5.46s\tremaining: 12.7s\n",
      "45:\tlearn: 1673.0421318\ttotal: 5.58s\tremaining: 12.6s\n",
      "46:\tlearn: 1669.6792902\ttotal: 5.7s\tremaining: 12.5s\n",
      "47:\tlearn: 1665.6203440\ttotal: 5.82s\tremaining: 12.4s\n",
      "48:\tlearn: 1661.8910381\ttotal: 5.95s\tremaining: 12.3s\n",
      "49:\tlearn: 1658.7463432\ttotal: 6.07s\tremaining: 12.1s\n",
      "50:\tlearn: 1656.2585959\ttotal: 6.19s\tremaining: 12s\n",
      "51:\tlearn: 1652.5745826\ttotal: 6.33s\tremaining: 11.9s\n",
      "52:\tlearn: 1650.5335052\ttotal: 6.45s\tremaining: 11.8s\n",
      "53:\tlearn: 1648.7016421\ttotal: 6.57s\tremaining: 11.7s\n",
      "54:\tlearn: 1646.0471963\ttotal: 6.69s\tremaining: 11.6s\n",
      "55:\tlearn: 1644.8956234\ttotal: 6.82s\tremaining: 11.4s\n",
      "56:\tlearn: 1642.6717945\ttotal: 6.96s\tremaining: 11.4s\n",
      "57:\tlearn: 1640.5778768\ttotal: 7.08s\tremaining: 11.2s\n",
      "58:\tlearn: 1638.0189190\ttotal: 7.2s\tremaining: 11.1s\n",
      "59:\tlearn: 1636.2876306\ttotal: 7.32s\tremaining: 11s\n",
      "60:\tlearn: 1632.7190168\ttotal: 7.44s\tremaining: 10.9s\n",
      "61:\tlearn: 1630.0973012\ttotal: 7.56s\tremaining: 10.7s\n",
      "62:\tlearn: 1627.1771603\ttotal: 7.68s\tremaining: 10.6s\n",
      "63:\tlearn: 1625.6820374\ttotal: 7.8s\tremaining: 10.5s\n",
      "64:\tlearn: 1624.3548885\ttotal: 7.94s\tremaining: 10.4s\n",
      "65:\tlearn: 1622.5571384\ttotal: 8.07s\tremaining: 10.3s\n",
      "66:\tlearn: 1619.5419243\ttotal: 8.2s\tremaining: 10.2s\n",
      "67:\tlearn: 1617.4772629\ttotal: 8.32s\tremaining: 10s\n",
      "68:\tlearn: 1615.1006426\ttotal: 8.44s\tremaining: 9.91s\n",
      "69:\tlearn: 1613.1387563\ttotal: 8.56s\tremaining: 9.78s\n",
      "70:\tlearn: 1611.2312057\ttotal: 8.68s\tremaining: 9.65s\n",
      "71:\tlearn: 1609.8140162\ttotal: 8.79s\tremaining: 9.53s\n",
      "72:\tlearn: 1607.7389044\ttotal: 8.91s\tremaining: 9.4s\n",
      "73:\tlearn: 1606.2522807\ttotal: 9.04s\tremaining: 9.28s\n",
      "74:\tlearn: 1603.9423842\ttotal: 9.16s\tremaining: 9.16s\n",
      "75:\tlearn: 1602.0159310\ttotal: 9.29s\tremaining: 9.04s\n",
      "76:\tlearn: 1600.2210522\ttotal: 9.41s\tremaining: 8.92s\n",
      "77:\tlearn: 1598.8041933\ttotal: 9.55s\tremaining: 8.81s\n",
      "78:\tlearn: 1597.4891284\ttotal: 9.66s\tremaining: 8.69s\n",
      "79:\tlearn: 1596.0918837\ttotal: 9.78s\tremaining: 8.56s\n",
      "80:\tlearn: 1594.6780449\ttotal: 9.9s\tremaining: 8.43s\n",
      "81:\tlearn: 1593.3818833\ttotal: 10s\tremaining: 8.31s\n",
      "82:\tlearn: 1591.0538424\ttotal: 10.1s\tremaining: 8.19s\n",
      "83:\tlearn: 1588.9155179\ttotal: 10.3s\tremaining: 8.06s\n",
      "84:\tlearn: 1587.8083847\ttotal: 10.4s\tremaining: 7.93s\n",
      "85:\tlearn: 1585.6811754\ttotal: 10.5s\tremaining: 7.8s\n",
      "86:\tlearn: 1583.9616933\ttotal: 10.6s\tremaining: 7.67s\n",
      "87:\tlearn: 1582.9163875\ttotal: 10.7s\tremaining: 7.55s\n",
      "88:\tlearn: 1581.5812010\ttotal: 10.8s\tremaining: 7.43s\n",
      "89:\tlearn: 1580.4328061\ttotal: 11s\tremaining: 7.33s\n",
      "90:\tlearn: 1578.9660690\ttotal: 11.1s\tremaining: 7.22s\n",
      "91:\tlearn: 1577.2673817\ttotal: 11.2s\tremaining: 7.09s\n",
      "92:\tlearn: 1576.0233724\ttotal: 11.4s\tremaining: 6.96s\n",
      "93:\tlearn: 1574.3805374\ttotal: 11.5s\tremaining: 6.83s\n",
      "94:\tlearn: 1571.3425204\ttotal: 11.6s\tremaining: 6.71s\n",
      "95:\tlearn: 1569.7601929\ttotal: 11.7s\tremaining: 6.58s\n",
      "96:\tlearn: 1568.2094685\ttotal: 11.8s\tremaining: 6.46s\n",
      "97:\tlearn: 1566.2128996\ttotal: 11.9s\tremaining: 6.34s\n",
      "98:\tlearn: 1564.4099388\ttotal: 12.1s\tremaining: 6.21s\n",
      "99:\tlearn: 1562.2548752\ttotal: 12.2s\tremaining: 6.08s\n",
      "100:\tlearn: 1561.0231964\ttotal: 12.3s\tremaining: 5.96s\n",
      "101:\tlearn: 1559.7695070\ttotal: 12.4s\tremaining: 5.85s\n",
      "102:\tlearn: 1558.8905994\ttotal: 12.6s\tremaining: 5.73s\n",
      "103:\tlearn: 1558.1080392\ttotal: 12.7s\tremaining: 5.61s\n",
      "104:\tlearn: 1556.2882053\ttotal: 12.8s\tremaining: 5.48s\n",
      "105:\tlearn: 1555.1481770\ttotal: 12.9s\tremaining: 5.36s\n",
      "106:\tlearn: 1553.1784129\ttotal: 13s\tremaining: 5.24s\n",
      "107:\tlearn: 1550.3819399\ttotal: 13.2s\tremaining: 5.11s\n",
      "108:\tlearn: 1548.1317996\ttotal: 13.3s\tremaining: 4.99s\n",
      "109:\tlearn: 1546.9720206\ttotal: 13.4s\tremaining: 4.87s\n",
      "110:\tlearn: 1545.5960897\ttotal: 13.5s\tremaining: 4.75s\n",
      "111:\tlearn: 1544.9109542\ttotal: 13.6s\tremaining: 4.62s\n",
      "112:\tlearn: 1543.2959869\ttotal: 13.7s\tremaining: 4.5s\n",
      "113:\tlearn: 1541.6506021\ttotal: 13.9s\tremaining: 4.38s\n",
      "114:\tlearn: 1539.7879468\ttotal: 14s\tremaining: 4.25s\n",
      "115:\tlearn: 1539.1256676\ttotal: 14.1s\tremaining: 4.14s\n",
      "116:\tlearn: 1537.8925219\ttotal: 14.2s\tremaining: 4.02s\n",
      "117:\tlearn: 1536.6907713\ttotal: 14.4s\tremaining: 3.89s\n",
      "118:\tlearn: 1535.5559378\ttotal: 14.5s\tremaining: 3.77s\n",
      "119:\tlearn: 1534.5446727\ttotal: 14.6s\tremaining: 3.65s\n",
      "120:\tlearn: 1533.4163586\ttotal: 14.7s\tremaining: 3.52s\n",
      "121:\tlearn: 1532.7952267\ttotal: 14.8s\tremaining: 3.4s\n",
      "122:\tlearn: 1531.3861562\ttotal: 14.9s\tremaining: 3.28s\n",
      "123:\tlearn: 1530.2023220\ttotal: 15.1s\tremaining: 3.16s\n",
      "124:\tlearn: 1529.1367399\ttotal: 15.2s\tremaining: 3.03s\n",
      "125:\tlearn: 1527.1276704\ttotal: 15.3s\tremaining: 2.91s\n",
      "126:\tlearn: 1525.8318244\ttotal: 15.4s\tremaining: 2.79s\n",
      "127:\tlearn: 1524.2848658\ttotal: 15.5s\tremaining: 2.67s\n",
      "128:\tlearn: 1523.0609812\ttotal: 15.7s\tremaining: 2.55s\n",
      "129:\tlearn: 1521.8864637\ttotal: 15.8s\tremaining: 2.43s\n",
      "130:\tlearn: 1520.8712232\ttotal: 15.9s\tremaining: 2.31s\n",
      "131:\tlearn: 1519.8552823\ttotal: 16s\tremaining: 2.19s\n",
      "132:\tlearn: 1519.4320334\ttotal: 16.1s\tremaining: 2.06s\n",
      "133:\tlearn: 1518.3186929\ttotal: 16.3s\tremaining: 1.94s\n",
      "134:\tlearn: 1517.7492400\ttotal: 16.4s\tremaining: 1.82s\n",
      "135:\tlearn: 1516.9016722\ttotal: 16.5s\tremaining: 1.7s\n",
      "136:\tlearn: 1516.0763140\ttotal: 16.6s\tremaining: 1.58s\n",
      "137:\tlearn: 1515.0564901\ttotal: 16.8s\tremaining: 1.46s\n",
      "138:\tlearn: 1513.9676719\ttotal: 16.9s\tremaining: 1.34s\n",
      "139:\tlearn: 1512.8967219\ttotal: 17s\tremaining: 1.22s\n",
      "140:\tlearn: 1511.1900037\ttotal: 17.1s\tremaining: 1.09s\n",
      "141:\tlearn: 1509.6328946\ttotal: 17.3s\tremaining: 973ms\n",
      "142:\tlearn: 1508.5326243\ttotal: 17.4s\tremaining: 852ms\n",
      "143:\tlearn: 1507.3708073\ttotal: 17.5s\tremaining: 730ms\n",
      "144:\tlearn: 1506.6170857\ttotal: 17.6s\tremaining: 609ms\n",
      "145:\tlearn: 1505.9149727\ttotal: 17.8s\tremaining: 487ms\n",
      "146:\tlearn: 1504.8781522\ttotal: 17.9s\tremaining: 365ms\n",
      "147:\tlearn: 1503.8604105\ttotal: 18s\tremaining: 244ms\n",
      "148:\tlearn: 1502.8355533\ttotal: 18.1s\tremaining: 122ms\n",
      "149:\tlearn: 1502.0227111\ttotal: 18.3s\tremaining: 0us\n",
      "0:\tlearn: 4123.8024561\ttotal: 153ms\tremaining: 22.8s\n",
      "1:\tlearn: 3699.1661998\ttotal: 308ms\tremaining: 22.8s\n",
      "2:\tlearn: 3348.2405629\ttotal: 484ms\tremaining: 23.7s\n",
      "3:\tlearn: 3056.8380359\ttotal: 652ms\tremaining: 23.8s\n",
      "4:\tlearn: 2814.7690347\ttotal: 826ms\tremaining: 23.9s\n",
      "5:\tlearn: 2615.5988954\ttotal: 981ms\tremaining: 23.5s\n",
      "6:\tlearn: 2456.8738909\ttotal: 1.14s\tremaining: 23.2s\n",
      "7:\tlearn: 2335.0516518\ttotal: 1.29s\tremaining: 22.9s\n",
      "8:\tlearn: 2229.1354994\ttotal: 1.44s\tremaining: 22.6s\n",
      "9:\tlearn: 2146.2656530\ttotal: 1.59s\tremaining: 22.2s\n",
      "10:\tlearn: 2071.2776561\ttotal: 1.74s\tremaining: 21.9s\n",
      "11:\tlearn: 2017.4259314\ttotal: 1.89s\tremaining: 21.7s\n",
      "12:\tlearn: 1974.6975468\ttotal: 2.06s\tremaining: 21.7s\n",
      "13:\tlearn: 1936.1333389\ttotal: 2.21s\tremaining: 21.5s\n",
      "14:\tlearn: 1901.4652955\ttotal: 2.35s\tremaining: 21.2s\n",
      "15:\tlearn: 1878.1212815\ttotal: 2.5s\tremaining: 21s\n",
      "16:\tlearn: 1856.9632045\ttotal: 2.66s\tremaining: 20.8s\n",
      "17:\tlearn: 1838.8922361\ttotal: 2.81s\tremaining: 20.6s\n",
      "18:\tlearn: 1824.4200965\ttotal: 2.96s\tremaining: 20.4s\n",
      "19:\tlearn: 1810.9046541\ttotal: 3.12s\tremaining: 20.3s\n",
      "20:\tlearn: 1796.8894607\ttotal: 3.28s\tremaining: 20.1s\n",
      "21:\tlearn: 1784.7222993\ttotal: 3.43s\tremaining: 19.9s\n",
      "22:\tlearn: 1776.3056232\ttotal: 3.59s\tremaining: 19.8s\n",
      "23:\tlearn: 1767.3272916\ttotal: 3.74s\tremaining: 19.6s\n",
      "24:\tlearn: 1760.6280119\ttotal: 3.89s\tremaining: 19.5s\n",
      "25:\tlearn: 1754.3226947\ttotal: 4.04s\tremaining: 19.3s\n",
      "26:\tlearn: 1745.7039853\ttotal: 4.2s\tremaining: 19.1s\n",
      "27:\tlearn: 1740.4014963\ttotal: 4.35s\tremaining: 19s\n",
      "28:\tlearn: 1734.9787672\ttotal: 4.51s\tremaining: 18.8s\n",
      "29:\tlearn: 1730.5141625\ttotal: 4.68s\tremaining: 18.7s\n",
      "30:\tlearn: 1726.9546342\ttotal: 4.84s\tremaining: 18.6s\n",
      "31:\tlearn: 1723.4346361\ttotal: 5s\tremaining: 18.4s\n",
      "32:\tlearn: 1718.6209270\ttotal: 5.2s\tremaining: 18.4s\n",
      "33:\tlearn: 1715.5092572\ttotal: 5.34s\tremaining: 18.2s\n",
      "34:\tlearn: 1712.4224454\ttotal: 5.49s\tremaining: 18s\n",
      "35:\tlearn: 1708.6659340\ttotal: 5.63s\tremaining: 17.8s\n",
      "36:\tlearn: 1705.9288547\ttotal: 5.78s\tremaining: 17.6s\n",
      "37:\tlearn: 1702.9235285\ttotal: 5.93s\tremaining: 17.5s\n",
      "38:\tlearn: 1699.9869849\ttotal: 6.09s\tremaining: 17.3s\n",
      "39:\tlearn: 1697.8490151\ttotal: 6.24s\tremaining: 17.2s\n",
      "40:\tlearn: 1693.9712776\ttotal: 6.39s\tremaining: 17s\n",
      "41:\tlearn: 1689.7316208\ttotal: 6.55s\tremaining: 16.8s\n",
      "42:\tlearn: 1687.1255057\ttotal: 6.73s\tremaining: 16.8s\n",
      "43:\tlearn: 1684.8900921\ttotal: 6.9s\tremaining: 16.6s\n",
      "44:\tlearn: 1681.7905676\ttotal: 7.05s\tremaining: 16.5s\n",
      "45:\tlearn: 1679.4618090\ttotal: 7.21s\tremaining: 16.3s\n",
      "46:\tlearn: 1676.7685972\ttotal: 7.37s\tremaining: 16.1s\n",
      "47:\tlearn: 1674.0983218\ttotal: 7.52s\tremaining: 16s\n",
      "48:\tlearn: 1671.6667914\ttotal: 7.67s\tremaining: 15.8s\n",
      "49:\tlearn: 1668.8937941\ttotal: 7.84s\tremaining: 15.7s\n",
      "50:\tlearn: 1666.4168455\ttotal: 8s\tremaining: 15.5s\n",
      "51:\tlearn: 1662.9688605\ttotal: 8.15s\tremaining: 15.4s\n",
      "52:\tlearn: 1661.1924569\ttotal: 8.3s\tremaining: 15.2s\n",
      "53:\tlearn: 1658.8464912\ttotal: 8.46s\tremaining: 15s\n",
      "54:\tlearn: 1657.2872271\ttotal: 8.62s\tremaining: 14.9s\n",
      "55:\tlearn: 1655.1683049\ttotal: 8.78s\tremaining: 14.7s\n",
      "56:\tlearn: 1653.4689662\ttotal: 8.94s\tremaining: 14.6s\n",
      "57:\tlearn: 1651.7603635\ttotal: 9.09s\tremaining: 14.4s\n",
      "58:\tlearn: 1649.6987052\ttotal: 9.24s\tremaining: 14.3s\n",
      "59:\tlearn: 1647.3484216\ttotal: 9.41s\tremaining: 14.1s\n",
      "60:\tlearn: 1645.5640928\ttotal: 9.58s\tremaining: 14s\n",
      "61:\tlearn: 1643.9024279\ttotal: 9.73s\tremaining: 13.8s\n",
      "62:\tlearn: 1641.8518759\ttotal: 9.9s\tremaining: 13.7s\n",
      "63:\tlearn: 1638.3095242\ttotal: 10.1s\tremaining: 13.5s\n",
      "64:\tlearn: 1635.4120544\ttotal: 10.2s\tremaining: 13.4s\n",
      "65:\tlearn: 1633.5232475\ttotal: 10.4s\tremaining: 13.2s\n",
      "66:\tlearn: 1632.4691620\ttotal: 10.5s\tremaining: 13.1s\n",
      "67:\tlearn: 1630.8100137\ttotal: 10.7s\tremaining: 12.9s\n",
      "68:\tlearn: 1629.1869417\ttotal: 10.8s\tremaining: 12.7s\n",
      "69:\tlearn: 1627.6714602\ttotal: 11s\tremaining: 12.6s\n",
      "70:\tlearn: 1625.9831629\ttotal: 11.1s\tremaining: 12.4s\n",
      "71:\tlearn: 1624.2580791\ttotal: 11.3s\tremaining: 12.2s\n",
      "72:\tlearn: 1622.6444846\ttotal: 11.4s\tremaining: 12.1s\n",
      "73:\tlearn: 1621.1793797\ttotal: 11.6s\tremaining: 11.9s\n",
      "74:\tlearn: 1619.2164682\ttotal: 11.8s\tremaining: 11.8s\n",
      "75:\tlearn: 1616.9029883\ttotal: 11.9s\tremaining: 11.6s\n",
      "76:\tlearn: 1615.0264472\ttotal: 12.1s\tremaining: 11.4s\n",
      "77:\tlearn: 1612.2286446\ttotal: 12.2s\tremaining: 11.3s\n",
      "78:\tlearn: 1610.5794252\ttotal: 12.3s\tremaining: 11.1s\n",
      "79:\tlearn: 1608.9599159\ttotal: 12.5s\tremaining: 10.9s\n",
      "80:\tlearn: 1607.8948967\ttotal: 12.7s\tremaining: 10.8s\n",
      "81:\tlearn: 1606.6215779\ttotal: 12.8s\tremaining: 10.6s\n",
      "82:\tlearn: 1605.3633056\ttotal: 13s\tremaining: 10.5s\n",
      "83:\tlearn: 1603.0453567\ttotal: 13.1s\tremaining: 10.3s\n",
      "84:\tlearn: 1601.8252153\ttotal: 13.3s\tremaining: 10.2s\n",
      "85:\tlearn: 1600.3906601\ttotal: 13.4s\tremaining: 10s\n",
      "86:\tlearn: 1599.0245188\ttotal: 13.6s\tremaining: 9.84s\n",
      "87:\tlearn: 1598.2452285\ttotal: 13.7s\tremaining: 9.68s\n",
      "88:\tlearn: 1596.2518095\ttotal: 13.9s\tremaining: 9.52s\n",
      "89:\tlearn: 1594.7519442\ttotal: 14s\tremaining: 9.36s\n",
      "90:\tlearn: 1593.1034498\ttotal: 14.2s\tremaining: 9.2s\n",
      "91:\tlearn: 1590.3741085\ttotal: 14.3s\tremaining: 9.05s\n",
      "92:\tlearn: 1588.5919447\ttotal: 14.5s\tremaining: 8.89s\n",
      "93:\tlearn: 1587.7912599\ttotal: 14.7s\tremaining: 8.74s\n",
      "94:\tlearn: 1586.3935263\ttotal: 14.8s\tremaining: 8.58s\n",
      "95:\tlearn: 1584.4323186\ttotal: 15s\tremaining: 8.44s\n",
      "96:\tlearn: 1582.9385376\ttotal: 15.2s\tremaining: 8.28s\n",
      "97:\tlearn: 1581.5117946\ttotal: 15.3s\tremaining: 8.12s\n",
      "98:\tlearn: 1580.1275532\ttotal: 15.5s\tremaining: 7.96s\n",
      "99:\tlearn: 1578.8792167\ttotal: 15.6s\tremaining: 7.8s\n",
      "100:\tlearn: 1577.7486625\ttotal: 15.8s\tremaining: 7.64s\n",
      "101:\tlearn: 1576.2727524\ttotal: 15.9s\tremaining: 7.49s\n",
      "102:\tlearn: 1575.2048343\ttotal: 16.1s\tremaining: 7.33s\n",
      "103:\tlearn: 1573.7714673\ttotal: 16.2s\tremaining: 7.17s\n",
      "104:\tlearn: 1572.6784477\ttotal: 16.4s\tremaining: 7.03s\n",
      "105:\tlearn: 1571.5503269\ttotal: 16.6s\tremaining: 6.88s\n",
      "106:\tlearn: 1569.8875017\ttotal: 16.7s\tremaining: 6.72s\n",
      "107:\tlearn: 1568.2952841\ttotal: 16.9s\tremaining: 6.57s\n",
      "108:\tlearn: 1567.4085350\ttotal: 17s\tremaining: 6.41s\n",
      "109:\tlearn: 1566.3125643\ttotal: 17.2s\tremaining: 6.25s\n",
      "110:\tlearn: 1565.2891551\ttotal: 17.3s\tremaining: 6.09s\n",
      "111:\tlearn: 1564.5835971\ttotal: 17.5s\tremaining: 5.93s\n",
      "112:\tlearn: 1563.4841862\ttotal: 17.6s\tremaining: 5.78s\n",
      "113:\tlearn: 1562.6614973\ttotal: 17.8s\tremaining: 5.63s\n",
      "114:\tlearn: 1561.2021912\ttotal: 18s\tremaining: 5.47s\n",
      "115:\tlearn: 1560.2356760\ttotal: 18.1s\tremaining: 5.32s\n",
      "116:\tlearn: 1559.4564703\ttotal: 18.3s\tremaining: 5.16s\n",
      "117:\tlearn: 1558.2393738\ttotal: 18.4s\tremaining: 5s\n",
      "118:\tlearn: 1557.2175082\ttotal: 18.6s\tremaining: 4.85s\n",
      "119:\tlearn: 1555.9208919\ttotal: 18.8s\tremaining: 4.69s\n",
      "120:\tlearn: 1554.5637986\ttotal: 18.9s\tremaining: 4.53s\n",
      "121:\tlearn: 1553.2836362\ttotal: 19.1s\tremaining: 4.37s\n",
      "122:\tlearn: 1552.3027156\ttotal: 19.2s\tremaining: 4.22s\n",
      "123:\tlearn: 1551.0082124\ttotal: 19.4s\tremaining: 4.06s\n",
      "124:\tlearn: 1549.6736419\ttotal: 19.5s\tremaining: 3.91s\n",
      "125:\tlearn: 1548.9080378\ttotal: 19.7s\tremaining: 3.75s\n",
      "126:\tlearn: 1547.4707298\ttotal: 19.8s\tremaining: 3.59s\n",
      "127:\tlearn: 1546.1735568\ttotal: 20s\tremaining: 3.43s\n",
      "128:\tlearn: 1545.0873657\ttotal: 20.1s\tremaining: 3.28s\n",
      "129:\tlearn: 1544.2675394\ttotal: 20.3s\tremaining: 3.12s\n",
      "130:\tlearn: 1543.0943131\ttotal: 20.4s\tremaining: 2.96s\n",
      "131:\tlearn: 1542.0835281\ttotal: 20.6s\tremaining: 2.81s\n",
      "132:\tlearn: 1541.5349371\ttotal: 20.7s\tremaining: 2.65s\n",
      "133:\tlearn: 1540.8637738\ttotal: 20.9s\tremaining: 2.49s\n",
      "134:\tlearn: 1539.5682505\ttotal: 21s\tremaining: 2.34s\n",
      "135:\tlearn: 1538.3626674\ttotal: 21.2s\tremaining: 2.18s\n",
      "136:\tlearn: 1537.5897770\ttotal: 21.3s\tremaining: 2.02s\n",
      "137:\tlearn: 1536.2608363\ttotal: 21.5s\tremaining: 1.87s\n",
      "138:\tlearn: 1535.4914122\ttotal: 21.6s\tremaining: 1.71s\n",
      "139:\tlearn: 1534.7152335\ttotal: 21.8s\tremaining: 1.56s\n",
      "140:\tlearn: 1533.9748033\ttotal: 21.9s\tremaining: 1.4s\n",
      "141:\tlearn: 1532.2539097\ttotal: 22.1s\tremaining: 1.25s\n",
      "142:\tlearn: 1531.0330106\ttotal: 22.3s\tremaining: 1.09s\n",
      "143:\tlearn: 1530.0861877\ttotal: 22.4s\tremaining: 934ms\n",
      "144:\tlearn: 1529.5427173\ttotal: 22.6s\tremaining: 778ms\n",
      "145:\tlearn: 1528.8190621\ttotal: 22.7s\tremaining: 622ms\n",
      "146:\tlearn: 1527.4321007\ttotal: 22.9s\tremaining: 467ms\n",
      "147:\tlearn: 1526.4094258\ttotal: 23s\tremaining: 311ms\n",
      "148:\tlearn: 1525.8752288\ttotal: 23.2s\tremaining: 155ms\n",
      "149:\tlearn: 1525.2938918\ttotal: 23.3s\tremaining: 0us\n",
      "181.37 sec\n"
     ]
    }
   ],
   "source": [
    "cb_r = CatBoostRegressor(random_state=RANDOM_STATE)\n",
    "\n",
    "parameters = {\n",
    "    \"max_depth\": [8, 13],\n",
    "    \"learning_rate\" : [0.1, 0.15],\n",
    "    \"n_estimators\": [80, 150]\n",
    "}\n",
    "\n",
    "gs_cb_r = GridSearchCV(\n",
    "    cb_r,\n",
    "    parameters,\n",
    "    cv=2,\n",
    "    scoring='neg_root_mean_squared_error'\n",
    ")\n",
    "\n",
    "# Возьмём лучшие парраметры и время сколько уходит на подбор\n",
    "\n",
    "start = time()\n",
    "\n",
    "gs_cb_r.fit(X_train, y_train)\n",
    "\n",
    "end = time()\n",
    "\n",
    "bst_prm_cb_r = round(end - start, 2)\n",
    "print(bst_prm_cb_r, 'sec')"
   ]
  },
  {
   "cell_type": "code",
   "execution_count": 70,
   "metadata": {},
   "outputs": [],
   "source": [
    "gs_cb_r_params = gs_cb_r.best_params_"
   ]
  },
  {
   "cell_type": "code",
   "execution_count": 71,
   "metadata": {
    "collapsed": true,
    "jupyter": {
     "outputs_hidden": true
    }
   },
   "outputs": [
    {
     "name": "stdout",
     "output_type": "stream",
     "text": [
      "0:\tlearn: 4123.8024561\ttotal: 207ms\tremaining: 30.8s\n",
      "1:\tlearn: 3699.1661998\ttotal: 372ms\tremaining: 27.5s\n",
      "2:\tlearn: 3348.2405629\ttotal: 522ms\tremaining: 25.6s\n",
      "3:\tlearn: 3056.8380359\ttotal: 669ms\tremaining: 24.4s\n",
      "4:\tlearn: 2814.7690347\ttotal: 812ms\tremaining: 23.6s\n",
      "5:\tlearn: 2615.5988954\ttotal: 957ms\tremaining: 23s\n",
      "6:\tlearn: 2456.8738909\ttotal: 1.1s\tremaining: 22.5s\n",
      "7:\tlearn: 2335.0516518\ttotal: 1.25s\tremaining: 22.1s\n",
      "8:\tlearn: 2229.1354994\ttotal: 1.39s\tremaining: 21.8s\n",
      "9:\tlearn: 2146.2656530\ttotal: 1.54s\tremaining: 21.6s\n",
      "10:\tlearn: 2071.2776561\ttotal: 1.69s\tremaining: 21.4s\n",
      "11:\tlearn: 2017.4259314\ttotal: 1.84s\tremaining: 21.2s\n",
      "12:\tlearn: 1974.6975468\ttotal: 2.01s\tremaining: 21.2s\n",
      "13:\tlearn: 1936.1333389\ttotal: 2.16s\tremaining: 21s\n",
      "14:\tlearn: 1901.4652955\ttotal: 2.31s\tremaining: 20.8s\n",
      "15:\tlearn: 1878.1212815\ttotal: 2.45s\tremaining: 20.5s\n",
      "16:\tlearn: 1856.9632045\ttotal: 2.6s\tremaining: 20.3s\n",
      "17:\tlearn: 1838.8922361\ttotal: 2.75s\tremaining: 20.1s\n",
      "18:\tlearn: 1824.4200965\ttotal: 2.91s\tremaining: 20s\n",
      "19:\tlearn: 1810.9046541\ttotal: 3.07s\tremaining: 19.9s\n",
      "20:\tlearn: 1796.8894607\ttotal: 3.22s\tremaining: 19.8s\n",
      "21:\tlearn: 1784.7222993\ttotal: 3.37s\tremaining: 19.6s\n",
      "22:\tlearn: 1776.3056232\ttotal: 3.53s\tremaining: 19.5s\n",
      "23:\tlearn: 1767.3272916\ttotal: 3.68s\tremaining: 19.3s\n",
      "24:\tlearn: 1760.6280119\ttotal: 3.84s\tremaining: 19.2s\n",
      "25:\tlearn: 1754.3226947\ttotal: 3.99s\tremaining: 19s\n",
      "26:\tlearn: 1745.7039853\ttotal: 4.14s\tremaining: 18.9s\n",
      "27:\tlearn: 1740.4014963\ttotal: 4.3s\tremaining: 18.7s\n",
      "28:\tlearn: 1734.9787672\ttotal: 4.45s\tremaining: 18.5s\n",
      "29:\tlearn: 1730.5141625\ttotal: 4.59s\tremaining: 18.4s\n",
      "30:\tlearn: 1726.9546342\ttotal: 4.78s\tremaining: 18.4s\n",
      "31:\tlearn: 1723.4346361\ttotal: 4.93s\tremaining: 18.2s\n",
      "32:\tlearn: 1718.6209270\ttotal: 5.09s\tremaining: 18s\n",
      "33:\tlearn: 1715.5092572\ttotal: 5.25s\tremaining: 17.9s\n",
      "34:\tlearn: 1712.4224454\ttotal: 5.4s\tremaining: 17.7s\n",
      "35:\tlearn: 1708.6659340\ttotal: 5.54s\tremaining: 17.6s\n",
      "36:\tlearn: 1705.9288547\ttotal: 5.69s\tremaining: 17.4s\n",
      "37:\tlearn: 1702.9235285\ttotal: 5.84s\tremaining: 17.2s\n",
      "38:\tlearn: 1699.9869849\ttotal: 5.98s\tremaining: 17s\n",
      "39:\tlearn: 1697.8490151\ttotal: 6.13s\tremaining: 16.9s\n",
      "40:\tlearn: 1693.9712776\ttotal: 6.28s\tremaining: 16.7s\n",
      "41:\tlearn: 1689.7316208\ttotal: 6.44s\tremaining: 16.6s\n",
      "42:\tlearn: 1687.1255057\ttotal: 6.59s\tremaining: 16.4s\n",
      "43:\tlearn: 1684.8900921\ttotal: 6.74s\tremaining: 16.2s\n",
      "44:\tlearn: 1681.7905676\ttotal: 6.9s\tremaining: 16.1s\n",
      "45:\tlearn: 1679.4618090\ttotal: 7.05s\tremaining: 15.9s\n",
      "46:\tlearn: 1676.7685972\ttotal: 7.21s\tremaining: 15.8s\n",
      "47:\tlearn: 1674.0983218\ttotal: 7.36s\tremaining: 15.6s\n",
      "48:\tlearn: 1671.6667914\ttotal: 7.51s\tremaining: 15.5s\n",
      "49:\tlearn: 1668.8937941\ttotal: 7.66s\tremaining: 15.3s\n",
      "50:\tlearn: 1666.4168455\ttotal: 7.81s\tremaining: 15.2s\n",
      "51:\tlearn: 1662.9688605\ttotal: 7.95s\tremaining: 15s\n",
      "52:\tlearn: 1661.1924569\ttotal: 8.1s\tremaining: 14.8s\n",
      "53:\tlearn: 1658.8464912\ttotal: 8.25s\tremaining: 14.7s\n",
      "54:\tlearn: 1657.2872271\ttotal: 8.41s\tremaining: 14.5s\n",
      "55:\tlearn: 1655.1683049\ttotal: 8.56s\tremaining: 14.4s\n",
      "56:\tlearn: 1653.4689662\ttotal: 8.7s\tremaining: 14.2s\n",
      "57:\tlearn: 1651.7603635\ttotal: 8.86s\tremaining: 14.1s\n",
      "58:\tlearn: 1649.6987052\ttotal: 9.03s\tremaining: 13.9s\n",
      "59:\tlearn: 1647.3484216\ttotal: 9.18s\tremaining: 13.8s\n",
      "60:\tlearn: 1645.5640928\ttotal: 9.33s\tremaining: 13.6s\n",
      "61:\tlearn: 1643.9024279\ttotal: 9.48s\tremaining: 13.5s\n",
      "62:\tlearn: 1641.8518759\ttotal: 9.63s\tremaining: 13.3s\n",
      "63:\tlearn: 1638.3095242\ttotal: 9.79s\tremaining: 13.2s\n",
      "64:\tlearn: 1635.4120544\ttotal: 9.95s\tremaining: 13s\n",
      "65:\tlearn: 1633.5232475\ttotal: 10.1s\tremaining: 12.9s\n",
      "66:\tlearn: 1632.4691620\ttotal: 10.3s\tremaining: 12.7s\n",
      "67:\tlearn: 1630.8100137\ttotal: 10.4s\tremaining: 12.6s\n",
      "68:\tlearn: 1629.1869417\ttotal: 10.6s\tremaining: 12.4s\n",
      "69:\tlearn: 1627.6714602\ttotal: 10.7s\tremaining: 12.2s\n",
      "70:\tlearn: 1625.9831629\ttotal: 10.9s\tremaining: 12.1s\n",
      "71:\tlearn: 1624.2580791\ttotal: 11s\tremaining: 11.9s\n",
      "72:\tlearn: 1622.6444846\ttotal: 11.2s\tremaining: 11.8s\n",
      "73:\tlearn: 1621.1793797\ttotal: 11.3s\tremaining: 11.6s\n",
      "74:\tlearn: 1619.2164682\ttotal: 11.5s\tremaining: 11.5s\n",
      "75:\tlearn: 1616.9029883\ttotal: 11.6s\tremaining: 11.3s\n",
      "76:\tlearn: 1615.0264472\ttotal: 11.8s\tremaining: 11.2s\n",
      "77:\tlearn: 1612.2286446\ttotal: 11.9s\tremaining: 11s\n",
      "78:\tlearn: 1610.5794252\ttotal: 12.1s\tremaining: 10.8s\n",
      "79:\tlearn: 1608.9599159\ttotal: 12.2s\tremaining: 10.7s\n",
      "80:\tlearn: 1607.8948967\ttotal: 12.4s\tremaining: 10.5s\n",
      "81:\tlearn: 1606.6215779\ttotal: 12.5s\tremaining: 10.4s\n",
      "82:\tlearn: 1605.3633056\ttotal: 12.6s\tremaining: 10.2s\n",
      "83:\tlearn: 1603.0453567\ttotal: 12.8s\tremaining: 10s\n",
      "84:\tlearn: 1601.8252153\ttotal: 12.9s\tremaining: 9.89s\n",
      "85:\tlearn: 1600.3906601\ttotal: 13.1s\tremaining: 9.74s\n",
      "86:\tlearn: 1599.0245188\ttotal: 13.2s\tremaining: 9.58s\n",
      "87:\tlearn: 1598.2452285\ttotal: 13.4s\tremaining: 9.42s\n",
      "88:\tlearn: 1596.2518095\ttotal: 13.5s\tremaining: 9.27s\n",
      "89:\tlearn: 1594.7519442\ttotal: 13.7s\tremaining: 9.11s\n",
      "90:\tlearn: 1593.1034498\ttotal: 13.8s\tremaining: 8.95s\n",
      "91:\tlearn: 1590.3741085\ttotal: 14s\tremaining: 8.8s\n",
      "92:\tlearn: 1588.5919447\ttotal: 14.1s\tremaining: 8.65s\n",
      "93:\tlearn: 1587.7912599\ttotal: 14.3s\tremaining: 8.5s\n",
      "94:\tlearn: 1586.3935263\ttotal: 14.4s\tremaining: 8.35s\n",
      "95:\tlearn: 1584.4323186\ttotal: 14.6s\tremaining: 8.2s\n",
      "96:\tlearn: 1582.9385376\ttotal: 14.7s\tremaining: 8.05s\n",
      "97:\tlearn: 1581.5117946\ttotal: 14.9s\tremaining: 7.91s\n",
      "98:\tlearn: 1580.1275532\ttotal: 15s\tremaining: 7.75s\n",
      "99:\tlearn: 1578.8792167\ttotal: 15.2s\tremaining: 7.6s\n",
      "100:\tlearn: 1577.7486625\ttotal: 15.4s\tremaining: 7.45s\n",
      "101:\tlearn: 1576.2727524\ttotal: 15.5s\tremaining: 7.29s\n",
      "102:\tlearn: 1575.2048343\ttotal: 15.6s\tremaining: 7.14s\n",
      "103:\tlearn: 1573.7714673\ttotal: 15.8s\tremaining: 6.99s\n",
      "104:\tlearn: 1572.6784477\ttotal: 16s\tremaining: 6.84s\n",
      "105:\tlearn: 1571.5503269\ttotal: 16.1s\tremaining: 6.68s\n",
      "106:\tlearn: 1569.8875017\ttotal: 16.3s\tremaining: 6.54s\n",
      "107:\tlearn: 1568.2952841\ttotal: 16.4s\tremaining: 6.38s\n",
      "108:\tlearn: 1567.4085350\ttotal: 16.6s\tremaining: 6.23s\n",
      "109:\tlearn: 1566.3125643\ttotal: 16.7s\tremaining: 6.08s\n",
      "110:\tlearn: 1565.2891551\ttotal: 16.9s\tremaining: 5.93s\n",
      "111:\tlearn: 1564.5835971\ttotal: 17s\tremaining: 5.78s\n",
      "112:\tlearn: 1563.4841862\ttotal: 17.2s\tremaining: 5.63s\n",
      "113:\tlearn: 1562.6614973\ttotal: 17.3s\tremaining: 5.47s\n",
      "114:\tlearn: 1561.2021912\ttotal: 17.5s\tremaining: 5.32s\n",
      "115:\tlearn: 1560.2356760\ttotal: 17.6s\tremaining: 5.17s\n",
      "116:\tlearn: 1559.4564703\ttotal: 17.8s\tremaining: 5.02s\n",
      "117:\tlearn: 1558.2393738\ttotal: 18s\tremaining: 4.87s\n",
      "118:\tlearn: 1557.2175082\ttotal: 18.1s\tremaining: 4.72s\n",
      "119:\tlearn: 1555.9208919\ttotal: 18.3s\tremaining: 4.57s\n",
      "120:\tlearn: 1554.5637986\ttotal: 18.4s\tremaining: 4.42s\n",
      "121:\tlearn: 1553.2836362\ttotal: 18.6s\tremaining: 4.26s\n",
      "122:\tlearn: 1552.3027156\ttotal: 18.7s\tremaining: 4.11s\n",
      "123:\tlearn: 1551.0082124\ttotal: 18.9s\tremaining: 3.96s\n",
      "124:\tlearn: 1549.6736419\ttotal: 19.1s\tremaining: 3.81s\n",
      "125:\tlearn: 1548.9080378\ttotal: 19.2s\tremaining: 3.66s\n",
      "126:\tlearn: 1547.4707298\ttotal: 19.4s\tremaining: 3.51s\n",
      "127:\tlearn: 1546.1735568\ttotal: 19.5s\tremaining: 3.36s\n",
      "128:\tlearn: 1545.0873657\ttotal: 19.7s\tremaining: 3.21s\n",
      "129:\tlearn: 1544.2675394\ttotal: 19.8s\tremaining: 3.05s\n",
      "130:\tlearn: 1543.0943131\ttotal: 20s\tremaining: 2.9s\n",
      "131:\tlearn: 1542.0835281\ttotal: 20.2s\tremaining: 2.75s\n",
      "132:\tlearn: 1541.5349371\ttotal: 20.3s\tremaining: 2.6s\n",
      "133:\tlearn: 1540.8637738\ttotal: 20.5s\tremaining: 2.45s\n",
      "134:\tlearn: 1539.5682505\ttotal: 20.6s\tremaining: 2.29s\n",
      "135:\tlearn: 1538.3626674\ttotal: 20.8s\tremaining: 2.14s\n",
      "136:\tlearn: 1537.5897770\ttotal: 21s\tremaining: 1.99s\n",
      "137:\tlearn: 1536.2608363\ttotal: 21.1s\tremaining: 1.84s\n",
      "138:\tlearn: 1535.4914122\ttotal: 21.3s\tremaining: 1.68s\n",
      "139:\tlearn: 1534.7152335\ttotal: 21.4s\tremaining: 1.53s\n",
      "140:\tlearn: 1533.9748033\ttotal: 21.6s\tremaining: 1.38s\n",
      "141:\tlearn: 1532.2539097\ttotal: 21.7s\tremaining: 1.23s\n",
      "142:\tlearn: 1531.0330106\ttotal: 21.9s\tremaining: 1.07s\n",
      "143:\tlearn: 1530.0861877\ttotal: 22.1s\tremaining: 919ms\n",
      "144:\tlearn: 1529.5427173\ttotal: 22.2s\tremaining: 766ms\n",
      "145:\tlearn: 1528.8190621\ttotal: 22.4s\tremaining: 613ms\n",
      "146:\tlearn: 1527.4321007\ttotal: 22.5s\tremaining: 460ms\n",
      "147:\tlearn: 1526.4094258\ttotal: 22.7s\tremaining: 307ms\n",
      "148:\tlearn: 1525.8752288\ttotal: 22.9s\tremaining: 153ms\n",
      "149:\tlearn: 1525.2938918\ttotal: 23s\tremaining: 0us\n",
      "25.01 sec\n"
     ]
    }
   ],
   "source": [
    "# с гиперпараметрами\n",
    "cb_r = CatBoostRegressor(max_depth = gs_cb_r_params['max_depth'],\n",
    "                             learning_rate = gs_cb_r_params['learning_rate'],\n",
    "                             n_estimators = gs_cb_r_params['n_estimators'], \n",
    "                             random_state = RANDOM_STATE)\n",
    "\n",
    "# Время обучения\n",
    "\n",
    "start = time()\n",
    "\n",
    "cb_r.fit(X_train, y_train)\n",
    "\n",
    "end = time()\n",
    "\n",
    "fit_time_cb_r = round(end - start, 2)\n",
    "print(fit_time_cb_r, 'sec')"
   ]
  },
  {
   "cell_type": "code",
   "execution_count": 72,
   "metadata": {
    "scrolled": true
   },
   "outputs": [
    {
     "name": "stdout",
     "output_type": "stream",
     "text": [
      "0:\tlearn: 4117.9686266\ttotal: 136ms\tremaining: 20.3s\n",
      "1:\tlearn: 3700.6655030\ttotal: 258ms\tremaining: 19.1s\n",
      "2:\tlearn: 3351.1605286\ttotal: 376ms\tremaining: 18.4s\n",
      "3:\tlearn: 3070.7662805\ttotal: 493ms\tremaining: 18s\n",
      "4:\tlearn: 2836.6812045\ttotal: 613ms\tremaining: 17.8s\n",
      "5:\tlearn: 2641.1835288\ttotal: 746ms\tremaining: 17.9s\n",
      "6:\tlearn: 2483.1545762\ttotal: 865ms\tremaining: 17.7s\n",
      "7:\tlearn: 2351.1189273\ttotal: 982ms\tremaining: 17.4s\n",
      "8:\tlearn: 2243.8697880\ttotal: 1.1s\tremaining: 17.3s\n",
      "9:\tlearn: 2160.1683615\ttotal: 1.23s\tremaining: 17.2s\n",
      "10:\tlearn: 2091.8290640\ttotal: 1.35s\tremaining: 17.1s\n",
      "11:\tlearn: 2034.3038850\ttotal: 1.48s\tremaining: 17s\n",
      "12:\tlearn: 1989.1656360\ttotal: 1.61s\tremaining: 17s\n",
      "13:\tlearn: 1946.8862872\ttotal: 1.75s\tremaining: 17s\n",
      "14:\tlearn: 1913.8678025\ttotal: 1.88s\tremaining: 16.9s\n",
      "15:\tlearn: 1889.5537135\ttotal: 2.02s\tremaining: 16.9s\n",
      "16:\tlearn: 1865.4028819\ttotal: 2.16s\tremaining: 16.9s\n",
      "17:\tlearn: 1842.5152415\ttotal: 2.28s\tremaining: 16.7s\n",
      "18:\tlearn: 1827.3795232\ttotal: 2.42s\tremaining: 16.7s\n",
      "19:\tlearn: 1813.3654838\ttotal: 2.54s\tremaining: 16.5s\n",
      "20:\tlearn: 1802.4120005\ttotal: 2.67s\tremaining: 16.4s\n",
      "21:\tlearn: 1788.0448249\ttotal: 2.79s\tremaining: 16.3s\n",
      "22:\tlearn: 1778.0181121\ttotal: 2.92s\tremaining: 16.1s\n",
      "23:\tlearn: 1769.1008107\ttotal: 3.05s\tremaining: 16s\n",
      "24:\tlearn: 1761.8858010\ttotal: 3.17s\tremaining: 15.9s\n",
      "25:\tlearn: 1753.7067079\ttotal: 3.29s\tremaining: 15.7s\n",
      "26:\tlearn: 1748.1924174\ttotal: 3.42s\tremaining: 15.6s\n",
      "27:\tlearn: 1743.0573110\ttotal: 3.56s\tremaining: 15.5s\n",
      "28:\tlearn: 1736.9817052\ttotal: 3.69s\tremaining: 15.4s\n",
      "29:\tlearn: 1731.5956534\ttotal: 3.85s\tremaining: 15.4s\n",
      "30:\tlearn: 1726.4945493\ttotal: 4s\tremaining: 15.4s\n",
      "31:\tlearn: 1722.4705088\ttotal: 4.14s\tremaining: 15.3s\n",
      "32:\tlearn: 1718.3882778\ttotal: 4.26s\tremaining: 15.1s\n",
      "33:\tlearn: 1713.5905668\ttotal: 4.38s\tremaining: 15s\n",
      "34:\tlearn: 1710.2307992\ttotal: 4.51s\tremaining: 14.8s\n",
      "35:\tlearn: 1706.4725690\ttotal: 4.63s\tremaining: 14.7s\n",
      "36:\tlearn: 1703.0315650\ttotal: 4.75s\tremaining: 14.5s\n",
      "37:\tlearn: 1698.1798181\ttotal: 4.87s\tremaining: 14.4s\n",
      "38:\tlearn: 1695.7570200\ttotal: 4.99s\tremaining: 14.2s\n",
      "39:\tlearn: 1691.8346795\ttotal: 5.1s\tremaining: 14s\n",
      "40:\tlearn: 1688.0216356\ttotal: 5.23s\tremaining: 13.9s\n",
      "41:\tlearn: 1684.0917164\ttotal: 5.35s\tremaining: 13.8s\n",
      "42:\tlearn: 1679.4328867\ttotal: 5.46s\tremaining: 13.6s\n",
      "43:\tlearn: 1676.8132570\ttotal: 5.59s\tremaining: 13.5s\n",
      "44:\tlearn: 1674.6283379\ttotal: 5.73s\tremaining: 13.4s\n",
      "45:\tlearn: 1672.4423259\ttotal: 5.86s\tremaining: 13.2s\n",
      "46:\tlearn: 1670.6598492\ttotal: 5.97s\tremaining: 13.1s\n",
      "47:\tlearn: 1667.5741401\ttotal: 6.09s\tremaining: 12.9s\n",
      "48:\tlearn: 1664.9801135\ttotal: 6.21s\tremaining: 12.8s\n",
      "49:\tlearn: 1663.3976826\ttotal: 6.33s\tremaining: 12.7s\n",
      "50:\tlearn: 1660.8718580\ttotal: 6.45s\tremaining: 12.5s\n",
      "51:\tlearn: 1655.1106719\ttotal: 6.57s\tremaining: 12.4s\n",
      "52:\tlearn: 1652.1715829\ttotal: 6.7s\tremaining: 12.3s\n",
      "53:\tlearn: 1649.2303517\ttotal: 6.82s\tremaining: 12.1s\n",
      "54:\tlearn: 1647.0289242\ttotal: 6.94s\tremaining: 12s\n",
      "55:\tlearn: 1645.0858107\ttotal: 7.07s\tremaining: 11.9s\n",
      "56:\tlearn: 1642.2114006\ttotal: 7.21s\tremaining: 11.8s\n",
      "57:\tlearn: 1640.7843128\ttotal: 7.34s\tremaining: 11.6s\n",
      "58:\tlearn: 1639.1794193\ttotal: 7.48s\tremaining: 11.5s\n",
      "59:\tlearn: 1636.6964041\ttotal: 7.6s\tremaining: 11.4s\n",
      "60:\tlearn: 1634.5571017\ttotal: 7.72s\tremaining: 11.3s\n",
      "61:\tlearn: 1633.0178209\ttotal: 7.83s\tremaining: 11.1s\n",
      "62:\tlearn: 1630.6156545\ttotal: 7.95s\tremaining: 11s\n",
      "63:\tlearn: 1627.2376473\ttotal: 8.07s\tremaining: 10.8s\n",
      "64:\tlearn: 1624.4414800\ttotal: 8.19s\tremaining: 10.7s\n",
      "65:\tlearn: 1621.8649833\ttotal: 8.31s\tremaining: 10.6s\n",
      "66:\tlearn: 1620.6562957\ttotal: 8.45s\tremaining: 10.5s\n",
      "67:\tlearn: 1617.7661131\ttotal: 8.58s\tremaining: 10.3s\n",
      "68:\tlearn: 1615.3358860\ttotal: 8.71s\tremaining: 10.2s\n",
      "69:\tlearn: 1613.9545136\ttotal: 8.83s\tremaining: 10.1s\n",
      "70:\tlearn: 1612.2938847\ttotal: 8.95s\tremaining: 9.96s\n",
      "71:\tlearn: 1610.8159322\ttotal: 9.09s\tremaining: 9.84s\n",
      "72:\tlearn: 1609.4442353\ttotal: 9.21s\tremaining: 9.71s\n",
      "73:\tlearn: 1606.8500620\ttotal: 9.33s\tremaining: 9.58s\n",
      "74:\tlearn: 1604.1913690\ttotal: 9.45s\tremaining: 9.45s\n",
      "75:\tlearn: 1602.7298036\ttotal: 9.57s\tremaining: 9.32s\n",
      "76:\tlearn: 1601.0018775\ttotal: 9.69s\tremaining: 9.18s\n",
      "77:\tlearn: 1598.2593178\ttotal: 9.8s\tremaining: 9.05s\n",
      "78:\tlearn: 1596.6481853\ttotal: 9.92s\tremaining: 8.92s\n",
      "79:\tlearn: 1594.5883824\ttotal: 10s\tremaining: 8.79s\n",
      "80:\tlearn: 1593.0626594\ttotal: 10.2s\tremaining: 8.67s\n",
      "81:\tlearn: 1591.8450456\ttotal: 10.3s\tremaining: 8.54s\n",
      "82:\tlearn: 1590.6237619\ttotal: 10.4s\tremaining: 8.41s\n",
      "83:\tlearn: 1588.9441888\ttotal: 10.5s\tremaining: 8.28s\n",
      "84:\tlearn: 1587.0596413\ttotal: 10.7s\tremaining: 8.16s\n",
      "85:\tlearn: 1586.0332217\ttotal: 10.8s\tremaining: 8.03s\n",
      "86:\tlearn: 1584.5894101\ttotal: 10.9s\tremaining: 7.9s\n",
      "87:\tlearn: 1582.6910019\ttotal: 11s\tremaining: 7.77s\n",
      "88:\tlearn: 1580.9717372\ttotal: 11.1s\tremaining: 7.64s\n",
      "89:\tlearn: 1579.7616614\ttotal: 11.3s\tremaining: 7.51s\n",
      "90:\tlearn: 1578.0023382\ttotal: 11.4s\tremaining: 7.39s\n",
      "91:\tlearn: 1576.1557614\ttotal: 11.5s\tremaining: 7.26s\n",
      "92:\tlearn: 1574.0180061\ttotal: 11.6s\tremaining: 7.13s\n",
      "93:\tlearn: 1570.9510426\ttotal: 11.8s\tremaining: 7s\n",
      "94:\tlearn: 1569.2628033\ttotal: 11.9s\tremaining: 6.88s\n",
      "95:\tlearn: 1566.9992126\ttotal: 12s\tremaining: 6.75s\n",
      "96:\tlearn: 1565.4015600\ttotal: 12.1s\tremaining: 6.62s\n",
      "97:\tlearn: 1563.7334474\ttotal: 12.2s\tremaining: 6.5s\n",
      "98:\tlearn: 1562.0157052\ttotal: 12.4s\tremaining: 6.37s\n",
      "99:\tlearn: 1559.8385853\ttotal: 12.5s\tremaining: 6.25s\n",
      "100:\tlearn: 1558.5625558\ttotal: 12.6s\tremaining: 6.12s\n",
      "101:\tlearn: 1557.1790623\ttotal: 12.7s\tremaining: 6s\n",
      "102:\tlearn: 1556.1612344\ttotal: 12.9s\tremaining: 5.87s\n",
      "103:\tlearn: 1554.5855151\ttotal: 13s\tremaining: 5.74s\n",
      "104:\tlearn: 1552.9006115\ttotal: 13.1s\tremaining: 5.62s\n",
      "105:\tlearn: 1551.4814749\ttotal: 13.2s\tremaining: 5.5s\n",
      "106:\tlearn: 1550.4765530\ttotal: 13.4s\tremaining: 5.37s\n",
      "107:\tlearn: 1548.6928041\ttotal: 13.5s\tremaining: 5.25s\n",
      "108:\tlearn: 1547.1309766\ttotal: 13.6s\tremaining: 5.12s\n",
      "109:\tlearn: 1545.6240084\ttotal: 13.7s\tremaining: 4.99s\n",
      "110:\tlearn: 1542.7969781\ttotal: 13.9s\tremaining: 4.87s\n",
      "111:\tlearn: 1541.7467072\ttotal: 14s\tremaining: 4.75s\n",
      "112:\tlearn: 1540.6685475\ttotal: 14.1s\tremaining: 4.62s\n",
      "113:\tlearn: 1539.2770399\ttotal: 14.2s\tremaining: 4.49s\n",
      "114:\tlearn: 1537.9762795\ttotal: 14.4s\tremaining: 4.37s\n",
      "115:\tlearn: 1537.1308869\ttotal: 14.5s\tremaining: 4.24s\n",
      "116:\tlearn: 1535.4877619\ttotal: 14.6s\tremaining: 4.12s\n",
      "117:\tlearn: 1534.6828586\ttotal: 14.7s\tremaining: 3.99s\n",
      "118:\tlearn: 1533.0436943\ttotal: 14.8s\tremaining: 3.87s\n",
      "119:\tlearn: 1531.9476519\ttotal: 15s\tremaining: 3.74s\n",
      "120:\tlearn: 1530.6252735\ttotal: 15.1s\tremaining: 3.61s\n",
      "121:\tlearn: 1528.8827491\ttotal: 15.2s\tremaining: 3.49s\n",
      "122:\tlearn: 1527.6810494\ttotal: 15.3s\tremaining: 3.36s\n",
      "123:\tlearn: 1526.1030537\ttotal: 15.5s\tremaining: 3.24s\n",
      "124:\tlearn: 1524.3445344\ttotal: 15.6s\tremaining: 3.12s\n",
      "125:\tlearn: 1521.3623808\ttotal: 15.7s\tremaining: 2.99s\n",
      "126:\tlearn: 1519.8219351\ttotal: 15.8s\tremaining: 2.87s\n",
      "127:\tlearn: 1519.0951650\ttotal: 16s\tremaining: 2.74s\n",
      "128:\tlearn: 1517.5900872\ttotal: 16.1s\tremaining: 2.62s\n",
      "129:\tlearn: 1516.4939902\ttotal: 16.2s\tremaining: 2.49s\n",
      "130:\tlearn: 1514.1942906\ttotal: 16.3s\tremaining: 2.37s\n",
      "131:\tlearn: 1513.3063581\ttotal: 16.4s\tremaining: 2.24s\n",
      "132:\tlearn: 1512.4113826\ttotal: 16.6s\tremaining: 2.12s\n",
      "133:\tlearn: 1511.3949841\ttotal: 16.7s\tremaining: 1.99s\n",
      "134:\tlearn: 1509.9088511\ttotal: 16.8s\tremaining: 1.87s\n",
      "135:\tlearn: 1508.5747647\ttotal: 16.9s\tremaining: 1.74s\n",
      "136:\tlearn: 1507.3540925\ttotal: 17.1s\tremaining: 1.62s\n",
      "137:\tlearn: 1505.3249794\ttotal: 17.2s\tremaining: 1.5s\n",
      "138:\tlearn: 1504.4452087\ttotal: 17.3s\tremaining: 1.37s\n",
      "139:\tlearn: 1502.9017863\ttotal: 17.4s\tremaining: 1.25s\n",
      "140:\tlearn: 1501.6800237\ttotal: 17.6s\tremaining: 1.12s\n",
      "141:\tlearn: 1500.0815362\ttotal: 17.7s\tremaining: 997ms\n",
      "142:\tlearn: 1499.0466946\ttotal: 17.8s\tremaining: 872ms\n",
      "143:\tlearn: 1498.1255829\ttotal: 17.9s\tremaining: 747ms\n",
      "144:\tlearn: 1496.9195224\ttotal: 18.1s\tremaining: 623ms\n",
      "145:\tlearn: 1495.9769872\ttotal: 18.2s\tremaining: 498ms\n",
      "146:\tlearn: 1493.7262590\ttotal: 18.3s\tremaining: 373ms\n",
      "147:\tlearn: 1492.5743605\ttotal: 18.4s\tremaining: 249ms\n",
      "148:\tlearn: 1491.5980343\ttotal: 18.6s\tremaining: 125ms\n",
      "149:\tlearn: 1490.3986256\ttotal: 18.7s\tremaining: 0us\n",
      "0:\tlearn: 4128.4559231\ttotal: 124ms\tremaining: 18.5s\n",
      "1:\tlearn: 3702.3106611\ttotal: 243ms\tremaining: 18s\n",
      "2:\tlearn: 3354.9955848\ttotal: 365ms\tremaining: 17.9s\n",
      "3:\tlearn: 3066.5296162\ttotal: 483ms\tremaining: 17.6s\n",
      "4:\tlearn: 2831.8156584\ttotal: 602ms\tremaining: 17.4s\n",
      "5:\tlearn: 2628.6634897\ttotal: 720ms\tremaining: 17.3s\n",
      "6:\tlearn: 2473.2772698\ttotal: 838ms\tremaining: 17.1s\n",
      "7:\tlearn: 2353.0879549\ttotal: 964ms\tremaining: 17.1s\n",
      "8:\tlearn: 2251.0690085\ttotal: 1.09s\tremaining: 17.2s\n",
      "9:\tlearn: 2156.4521540\ttotal: 1.22s\tremaining: 17.1s\n",
      "10:\tlearn: 2093.0836002\ttotal: 1.34s\tremaining: 17s\n",
      "11:\tlearn: 2039.4777072\ttotal: 1.46s\tremaining: 16.8s\n",
      "12:\tlearn: 1986.1774828\ttotal: 1.6s\tremaining: 16.8s\n",
      "13:\tlearn: 1945.4282099\ttotal: 1.72s\tremaining: 16.7s\n",
      "14:\tlearn: 1916.1492385\ttotal: 1.83s\tremaining: 16.5s\n",
      "15:\tlearn: 1889.0272717\ttotal: 1.95s\tremaining: 16.4s\n",
      "16:\tlearn: 1867.7492380\ttotal: 2.07s\tremaining: 16.2s\n",
      "17:\tlearn: 1841.9191008\ttotal: 2.2s\tremaining: 16.1s\n",
      "18:\tlearn: 1827.3748842\ttotal: 2.32s\tremaining: 16s\n",
      "19:\tlearn: 1813.9642248\ttotal: 2.44s\tremaining: 15.9s\n",
      "20:\tlearn: 1798.2497433\ttotal: 2.56s\tremaining: 15.7s\n",
      "21:\tlearn: 1787.9320436\ttotal: 2.69s\tremaining: 15.7s\n",
      "22:\tlearn: 1778.4097579\ttotal: 2.82s\tremaining: 15.6s\n",
      "23:\tlearn: 1770.2139255\ttotal: 2.94s\tremaining: 15.4s\n",
      "24:\tlearn: 1762.4354907\ttotal: 3.06s\tremaining: 15.3s\n",
      "25:\tlearn: 1755.0575720\ttotal: 3.21s\tremaining: 15.3s\n",
      "26:\tlearn: 1748.3237576\ttotal: 3.34s\tremaining: 15.2s\n",
      "27:\tlearn: 1743.0376534\ttotal: 3.46s\tremaining: 15.1s\n",
      "28:\tlearn: 1736.9580833\ttotal: 3.59s\tremaining: 15s\n",
      "29:\tlearn: 1730.2812317\ttotal: 3.71s\tremaining: 14.9s\n",
      "30:\tlearn: 1723.0911265\ttotal: 3.84s\tremaining: 14.7s\n",
      "31:\tlearn: 1718.9051217\ttotal: 3.97s\tremaining: 14.6s\n",
      "32:\tlearn: 1715.5164576\ttotal: 4.09s\tremaining: 14.5s\n",
      "33:\tlearn: 1711.7738175\ttotal: 4.22s\tremaining: 14.4s\n",
      "34:\tlearn: 1707.7089127\ttotal: 4.34s\tremaining: 14.3s\n",
      "35:\tlearn: 1704.5154060\ttotal: 4.48s\tremaining: 14.2s\n",
      "36:\tlearn: 1700.7114591\ttotal: 4.61s\tremaining: 14.1s\n",
      "37:\tlearn: 1697.8315436\ttotal: 4.74s\tremaining: 14s\n",
      "38:\tlearn: 1695.3129105\ttotal: 4.88s\tremaining: 13.9s\n",
      "39:\tlearn: 1691.5878188\ttotal: 5.03s\tremaining: 13.8s\n",
      "40:\tlearn: 1687.8321421\ttotal: 5.16s\tremaining: 13.7s\n",
      "41:\tlearn: 1684.2709842\ttotal: 5.28s\tremaining: 13.6s\n",
      "42:\tlearn: 1680.6694577\ttotal: 5.41s\tremaining: 13.4s\n",
      "43:\tlearn: 1678.2256367\ttotal: 5.53s\tremaining: 13.3s\n",
      "44:\tlearn: 1675.8034917\ttotal: 5.65s\tremaining: 13.2s\n",
      "45:\tlearn: 1673.0421318\ttotal: 5.78s\tremaining: 13.1s\n",
      "46:\tlearn: 1669.6792902\ttotal: 5.9s\tremaining: 12.9s\n",
      "47:\tlearn: 1665.6203440\ttotal: 6.03s\tremaining: 12.8s\n",
      "48:\tlearn: 1661.8910381\ttotal: 6.15s\tremaining: 12.7s\n",
      "49:\tlearn: 1658.7463432\ttotal: 6.28s\tremaining: 12.6s\n",
      "50:\tlearn: 1656.2585959\ttotal: 6.41s\tremaining: 12.4s\n",
      "51:\tlearn: 1652.5745826\ttotal: 6.55s\tremaining: 12.3s\n",
      "52:\tlearn: 1650.5335052\ttotal: 6.67s\tremaining: 12.2s\n",
      "53:\tlearn: 1648.7016421\ttotal: 6.8s\tremaining: 12.1s\n",
      "54:\tlearn: 1646.0471963\ttotal: 6.92s\tremaining: 12s\n",
      "55:\tlearn: 1644.8956234\ttotal: 7.05s\tremaining: 11.8s\n",
      "56:\tlearn: 1642.6717945\ttotal: 7.18s\tremaining: 11.7s\n",
      "57:\tlearn: 1640.5778768\ttotal: 7.31s\tremaining: 11.6s\n",
      "58:\tlearn: 1638.0189190\ttotal: 7.43s\tremaining: 11.5s\n",
      "59:\tlearn: 1636.2876306\ttotal: 7.56s\tremaining: 11.3s\n",
      "60:\tlearn: 1632.7190168\ttotal: 7.7s\tremaining: 11.2s\n",
      "61:\tlearn: 1630.0973012\ttotal: 7.82s\tremaining: 11.1s\n",
      "62:\tlearn: 1627.1771603\ttotal: 7.94s\tremaining: 11s\n",
      "63:\tlearn: 1625.6820374\ttotal: 8.09s\tremaining: 10.9s\n",
      "64:\tlearn: 1624.3548885\ttotal: 8.23s\tremaining: 10.8s\n",
      "65:\tlearn: 1622.5571384\ttotal: 8.36s\tremaining: 10.6s\n",
      "66:\tlearn: 1619.5419243\ttotal: 8.48s\tremaining: 10.5s\n",
      "67:\tlearn: 1617.4772629\ttotal: 8.61s\tremaining: 10.4s\n",
      "68:\tlearn: 1615.1006426\ttotal: 8.72s\tremaining: 10.2s\n",
      "69:\tlearn: 1613.1387563\ttotal: 8.84s\tremaining: 10.1s\n",
      "70:\tlearn: 1611.2312057\ttotal: 8.97s\tremaining: 9.98s\n",
      "71:\tlearn: 1609.8140162\ttotal: 9.09s\tremaining: 9.84s\n",
      "72:\tlearn: 1607.7389044\ttotal: 9.21s\tremaining: 9.71s\n",
      "73:\tlearn: 1606.2522807\ttotal: 9.33s\tremaining: 9.58s\n",
      "74:\tlearn: 1603.9423842\ttotal: 9.45s\tremaining: 9.45s\n",
      "75:\tlearn: 1602.0159310\ttotal: 9.58s\tremaining: 9.32s\n",
      "76:\tlearn: 1600.2210522\ttotal: 9.7s\tremaining: 9.2s\n",
      "77:\tlearn: 1598.8041933\ttotal: 9.83s\tremaining: 9.07s\n",
      "78:\tlearn: 1597.4891284\ttotal: 9.95s\tremaining: 8.95s\n",
      "79:\tlearn: 1596.0918837\ttotal: 10.1s\tremaining: 8.83s\n",
      "80:\tlearn: 1594.6780449\ttotal: 10.2s\tremaining: 8.7s\n",
      "81:\tlearn: 1593.3818833\ttotal: 10.3s\tremaining: 8.57s\n",
      "82:\tlearn: 1591.0538424\ttotal: 10.5s\tremaining: 8.44s\n",
      "83:\tlearn: 1588.9155179\ttotal: 10.6s\tremaining: 8.31s\n",
      "84:\tlearn: 1587.8083847\ttotal: 10.7s\tremaining: 8.18s\n",
      "85:\tlearn: 1585.6811754\ttotal: 10.8s\tremaining: 8.05s\n",
      "86:\tlearn: 1583.9616933\ttotal: 10.9s\tremaining: 7.92s\n",
      "87:\tlearn: 1582.9163875\ttotal: 11.1s\tremaining: 7.79s\n",
      "88:\tlearn: 1581.5812010\ttotal: 11.2s\tremaining: 7.66s\n",
      "89:\tlearn: 1580.4328061\ttotal: 11.3s\tremaining: 7.57s\n",
      "90:\tlearn: 1578.9660690\ttotal: 11.5s\tremaining: 7.44s\n",
      "91:\tlearn: 1577.2673817\ttotal: 11.6s\tremaining: 7.31s\n",
      "92:\tlearn: 1576.0233724\ttotal: 11.7s\tremaining: 7.18s\n",
      "93:\tlearn: 1574.3805374\ttotal: 11.8s\tremaining: 7.05s\n",
      "94:\tlearn: 1571.3425204\ttotal: 12s\tremaining: 6.92s\n",
      "95:\tlearn: 1569.7601929\ttotal: 12.1s\tremaining: 6.79s\n",
      "96:\tlearn: 1568.2094685\ttotal: 12.2s\tremaining: 6.67s\n",
      "97:\tlearn: 1566.2128996\ttotal: 12.3s\tremaining: 6.54s\n",
      "98:\tlearn: 1564.4099388\ttotal: 12.4s\tremaining: 6.41s\n",
      "99:\tlearn: 1562.2548752\ttotal: 12.6s\tremaining: 6.28s\n",
      "100:\tlearn: 1561.0231964\ttotal: 12.7s\tremaining: 6.16s\n",
      "101:\tlearn: 1559.7695070\ttotal: 12.8s\tremaining: 6.03s\n",
      "102:\tlearn: 1558.8905994\ttotal: 13s\tremaining: 5.91s\n",
      "103:\tlearn: 1558.1080392\ttotal: 13.1s\tremaining: 5.78s\n",
      "104:\tlearn: 1556.2882053\ttotal: 13.2s\tremaining: 5.66s\n",
      "105:\tlearn: 1555.1481770\ttotal: 13.3s\tremaining: 5.53s\n",
      "106:\tlearn: 1553.1784129\ttotal: 13.4s\tremaining: 5.4s\n",
      "107:\tlearn: 1550.3819399\ttotal: 13.6s\tremaining: 5.27s\n",
      "108:\tlearn: 1548.1317996\ttotal: 13.7s\tremaining: 5.14s\n",
      "109:\tlearn: 1546.9720206\ttotal: 13.8s\tremaining: 5.01s\n",
      "110:\tlearn: 1545.5960897\ttotal: 13.9s\tremaining: 4.89s\n",
      "111:\tlearn: 1544.9109542\ttotal: 14s\tremaining: 4.76s\n",
      "112:\tlearn: 1543.2959869\ttotal: 14.2s\tremaining: 4.64s\n",
      "113:\tlearn: 1541.6506021\ttotal: 14.3s\tremaining: 4.51s\n",
      "114:\tlearn: 1539.7879468\ttotal: 14.4s\tremaining: 4.38s\n",
      "115:\tlearn: 1539.1256676\ttotal: 14.5s\tremaining: 4.26s\n",
      "116:\tlearn: 1537.8925219\ttotal: 14.7s\tremaining: 4.13s\n",
      "117:\tlearn: 1536.6907713\ttotal: 14.8s\tremaining: 4.01s\n",
      "118:\tlearn: 1535.5559378\ttotal: 14.9s\tremaining: 3.88s\n",
      "119:\tlearn: 1534.5446727\ttotal: 15s\tremaining: 3.75s\n",
      "120:\tlearn: 1533.4163586\ttotal: 15.1s\tremaining: 3.63s\n",
      "121:\tlearn: 1532.7952267\ttotal: 15.3s\tremaining: 3.5s\n",
      "122:\tlearn: 1531.3861562\ttotal: 15.4s\tremaining: 3.38s\n",
      "123:\tlearn: 1530.2023220\ttotal: 15.5s\tremaining: 3.25s\n",
      "124:\tlearn: 1529.1367399\ttotal: 15.6s\tremaining: 3.12s\n",
      "125:\tlearn: 1527.1276704\ttotal: 15.7s\tremaining: 3s\n",
      "126:\tlearn: 1525.8318244\ttotal: 15.9s\tremaining: 2.87s\n",
      "127:\tlearn: 1524.2848658\ttotal: 16s\tremaining: 2.75s\n",
      "128:\tlearn: 1523.0609812\ttotal: 16.1s\tremaining: 2.62s\n",
      "129:\tlearn: 1521.8864637\ttotal: 16.2s\tremaining: 2.5s\n",
      "130:\tlearn: 1520.8712232\ttotal: 16.4s\tremaining: 2.37s\n",
      "131:\tlearn: 1519.8552823\ttotal: 16.5s\tremaining: 2.25s\n",
      "132:\tlearn: 1519.4320334\ttotal: 16.6s\tremaining: 2.12s\n",
      "133:\tlearn: 1518.3186929\ttotal: 16.7s\tremaining: 2s\n",
      "134:\tlearn: 1517.7492400\ttotal: 16.9s\tremaining: 1.87s\n",
      "135:\tlearn: 1516.9016722\ttotal: 17s\tremaining: 1.75s\n",
      "136:\tlearn: 1516.0763140\ttotal: 17.1s\tremaining: 1.62s\n",
      "137:\tlearn: 1515.0564901\ttotal: 17.2s\tremaining: 1.5s\n",
      "138:\tlearn: 1513.9676719\ttotal: 17.3s\tremaining: 1.37s\n",
      "139:\tlearn: 1512.8967219\ttotal: 17.5s\tremaining: 1.25s\n",
      "140:\tlearn: 1511.1900037\ttotal: 17.6s\tremaining: 1.12s\n",
      "141:\tlearn: 1509.6328946\ttotal: 17.7s\tremaining: 997ms\n",
      "142:\tlearn: 1508.5326243\ttotal: 17.8s\tremaining: 873ms\n",
      "143:\tlearn: 1507.3708073\ttotal: 17.9s\tremaining: 748ms\n",
      "144:\tlearn: 1506.6170857\ttotal: 18.1s\tremaining: 624ms\n",
      "145:\tlearn: 1505.9149727\ttotal: 18.2s\tremaining: 499ms\n",
      "146:\tlearn: 1504.8781522\ttotal: 18.3s\tremaining: 374ms\n",
      "147:\tlearn: 1503.8604105\ttotal: 18.4s\tremaining: 249ms\n",
      "148:\tlearn: 1502.8355533\ttotal: 18.6s\tremaining: 125ms\n",
      "149:\tlearn: 1502.0227111\ttotal: 18.7s\tremaining: 0us\n",
      "rmse = 1626\n",
      "40.77 sec\n"
     ]
    }
   ],
   "source": [
    "# Время предсказания\n",
    "\n",
    "start = time()\n",
    "rmse_cb_r = cross_val_score(cb_r, X_train, y_train, scoring='neg_root_mean_squared_error', cv=2)\n",
    "end = time()\n",
    "\n",
    "rmse_cb_r = round(abs(rmse_cb_r).mean())\n",
    "print('rmse =', rmse_cb_r)\n",
    "\n",
    "pred_time_cb_r = round(end - start, 2)\n",
    "print(pred_time_cb_r, 'sec')"
   ]
  },
  {
   "cell_type": "markdown",
   "metadata": {},
   "source": [
    "**Вывод** Проведено обучение трех моделей LinearRegression, LightGBM, CatBoost. Было расчитано время обучения, время предсказания и качество моделей."
   ]
  },
  {
   "cell_type": "markdown",
   "metadata": {},
   "source": [
    "## Анализ моделей\n",
    "\n",
    "Опираясь на критерии заказчика, выберете лучшую модель, проверьте её качество на тестовой выборке."
   ]
  },
  {
   "cell_type": "code",
   "execution_count": 76,
   "metadata": {},
   "outputs": [
    {
     "data": {
      "text/html": [
       "<div>\n",
       "<style scoped>\n",
       "    .dataframe tbody tr th:only-of-type {\n",
       "        vertical-align: middle;\n",
       "    }\n",
       "\n",
       "    .dataframe tbody tr th {\n",
       "        vertical-align: top;\n",
       "    }\n",
       "\n",
       "    .dataframe thead th {\n",
       "        text-align: right;\n",
       "    }\n",
       "</style>\n",
       "<table border=\"1\" class=\"dataframe\">\n",
       "  <thead>\n",
       "    <tr style=\"text-align: right;\">\n",
       "      <th></th>\n",
       "      <th>Модель</th>\n",
       "      <th>Время обучения, сек</th>\n",
       "      <th>Время предсказания, сек</th>\n",
       "      <th>RMSE</th>\n",
       "    </tr>\n",
       "  </thead>\n",
       "  <tbody>\n",
       "    <tr>\n",
       "      <th>0</th>\n",
       "      <td>LinearRegression</td>\n",
       "      <td>19.74</td>\n",
       "      <td>19.51</td>\n",
       "      <td>2662</td>\n",
       "    </tr>\n",
       "    <tr>\n",
       "      <th>1</th>\n",
       "      <td>LightGBM</td>\n",
       "      <td>10.55</td>\n",
       "      <td>38.32</td>\n",
       "      <td>1659</td>\n",
       "    </tr>\n",
       "    <tr>\n",
       "      <th>2</th>\n",
       "      <td>CatBoost</td>\n",
       "      <td>25.01</td>\n",
       "      <td>40.77</td>\n",
       "      <td>1626</td>\n",
       "    </tr>\n",
       "  </tbody>\n",
       "</table>\n",
       "</div>"
      ],
      "text/plain": [
       "             Модель  Время обучения, сек  Время предсказания, сек  RMSE\n",
       "0  LinearRegression                19.74                    19.51  2662\n",
       "1          LightGBM                10.55                    38.32  1659\n",
       "2          CatBoost                25.01                    40.77  1626"
      ]
     },
     "execution_count": 76,
     "metadata": {},
     "output_type": "execute_result"
    }
   ],
   "source": [
    "columns = ['Модель', 'Время обучения, сек', 'Время предсказания, сек', 'RMSE']\n",
    "regression_model = ['LinearRegression', fit_time_lr, pred_time_lr, rmse_lr]\n",
    "LightGBM_model = ['LightGBM', fit_time_lgbm_r, pred_time_lgbm_r, rmse_lgbm_r]\n",
    "CatBoost_model = ['CatBoost', fit_time_cb_r, pred_time_cb_r, rmse_cb_r]\n",
    "\n",
    "table = pd.DataFrame([regression_model, LightGBM_model, CatBoost_model], columns = columns)\n",
    "\n",
    "table"
   ]
  },
  {
   "cell_type": "code",
   "execution_count": 77,
   "metadata": {},
   "outputs": [
    {
     "name": "stdout",
     "output_type": "stream",
     "text": [
      "RMSE LightGBM = 1637\n"
     ]
    }
   ],
   "source": [
    "best_predictions = lgbm_r.predict(X_test)\n",
    "best_rmse = round(root_mean_squared_error(y_test, best_predictions))\n",
    "print(f'RMSE LightGBM = {best_rmse}')"
   ]
  },
  {
   "cell_type": "markdown",
   "metadata": {},
   "source": [
    "## Заключение\n",
    "\n",
    "**Предобработка и анализ данных**\n",
    "\n",
    "Было выявлено:\n",
    "* Все данные соответствуют свои значениям\n",
    "* Наибольшие пропуски в признаке `Repaired` около 20%, связаны с человеческим фактором. Машина не ремонтировалась, так что данная строка не была заполнена некоторыми пользователями\n",
    "* Убраны лишние признаки `PostalCode, LastSeen, RegistrationMonth , DateCrawled`, не нужны для определения стоимости авто\n",
    "* Для устранения мультиколлинеарности в итоговой таблице были вытеснены два столбца `VehicleType и Brand`\n",
    "\n",
    "**Обучение и тестирование моделей**\n",
    "\n",
    "Во время Обучение модели было выявлено:\n",
    "\n",
    "* В качестве обучающих моделей использовались LinearRegression, LightGBM, CatBoostRegressor\n",
    "* Наилучшей оказалась модель CatBoostRegressor, точность модели состовляет RMSE=1626\n",
    "\n",
    "Во время тестирования модели было выявлено:\n",
    "\n",
    "* Значение RMSE на тестовых данных составила 1637, что удовлетворяет условию заказчика и ниже значения 2500"
   ]
  },
  {
   "cell_type": "markdown",
   "metadata": {},
   "source": []
  }
 ],
 "metadata": {
  "ExecuteTimeLog": [
   {
    "duration": 10,
    "start_time": "2024-08-27T09:13:12.444Z"
   },
   {
    "duration": 53,
    "start_time": "2024-08-27T09:13:45.100Z"
   },
   {
    "duration": 4,
    "start_time": "2024-08-27T09:13:53.029Z"
   },
   {
    "duration": 6,
    "start_time": "2024-08-27T09:13:58.461Z"
   },
   {
    "duration": 4,
    "start_time": "2024-08-27T09:14:17.949Z"
   },
   {
    "duration": 97,
    "start_time": "2024-08-27T09:14:22.241Z"
   },
   {
    "duration": 67,
    "start_time": "2024-08-27T09:14:25.265Z"
   },
   {
    "duration": 64,
    "start_time": "2024-08-27T09:14:27.074Z"
   },
   {
    "duration": 5,
    "start_time": "2024-08-27T09:14:28.657Z"
   },
   {
    "duration": 5,
    "start_time": "2024-08-27T09:14:48.417Z"
   },
   {
    "duration": 5,
    "start_time": "2024-08-27T09:14:58.961Z"
   },
   {
    "duration": 9,
    "start_time": "2024-08-27T11:43:31.622Z"
   },
   {
    "duration": 6,
    "start_time": "2024-08-27T11:43:36.330Z"
   },
   {
    "duration": 5,
    "start_time": "2024-08-27T11:43:36.474Z"
   },
   {
    "duration": 6,
    "start_time": "2024-08-27T11:43:42.898Z"
   },
   {
    "duration": 435,
    "start_time": "2024-08-27T11:43:48.474Z"
   },
   {
    "duration": 2917,
    "start_time": "2024-08-27T11:43:48.912Z"
   },
   {
    "duration": 369,
    "start_time": "2024-08-27T11:50:46.213Z"
   },
   {
    "duration": 904,
    "start_time": "2024-08-27T11:50:46.884Z"
   },
   {
    "duration": 31,
    "start_time": "2024-08-27T11:50:47.790Z"
   },
   {
    "duration": 19,
    "start_time": "2024-08-27T11:50:57.121Z"
   },
   {
    "duration": 147,
    "start_time": "2024-08-27T11:51:12.989Z"
   },
   {
    "duration": 70,
    "start_time": "2024-08-27T11:57:30.283Z"
   },
   {
    "duration": 11,
    "start_time": "2024-08-27T11:57:42.872Z"
   },
   {
    "duration": 928,
    "start_time": "2024-08-27T11:57:47.571Z"
   },
   {
    "duration": 23,
    "start_time": "2024-08-27T11:57:50.287Z"
   },
   {
    "duration": 130,
    "start_time": "2024-08-27T11:57:51.495Z"
   },
   {
    "duration": 2,
    "start_time": "2024-08-27T11:59:20.328Z"
   },
   {
    "duration": 149,
    "start_time": "2024-08-27T11:59:58.085Z"
   },
   {
    "duration": 137,
    "start_time": "2024-08-27T12:01:12.925Z"
   },
   {
    "duration": 118,
    "start_time": "2024-08-27T12:01:24.405Z"
   },
   {
    "duration": 128,
    "start_time": "2024-08-27T12:01:55.853Z"
   },
   {
    "duration": 123,
    "start_time": "2024-08-27T12:01:59.817Z"
   },
   {
    "duration": 118,
    "start_time": "2024-08-27T12:02:06.985Z"
   },
   {
    "duration": 122,
    "start_time": "2024-08-27T12:02:20.022Z"
   },
   {
    "duration": 906,
    "start_time": "2024-08-27T12:04:33.202Z"
   },
   {
    "duration": 152,
    "start_time": "2024-08-27T12:04:34.110Z"
   },
   {
    "duration": 147,
    "start_time": "2024-08-27T12:04:39.554Z"
   },
   {
    "duration": 1978,
    "start_time": "2024-08-27T12:04:40.955Z"
   },
   {
    "duration": 143,
    "start_time": "2024-08-27T12:05:00.955Z"
   },
   {
    "duration": 142,
    "start_time": "2024-08-27T12:05:04.538Z"
   },
   {
    "duration": 123,
    "start_time": "2024-08-27T12:05:10.947Z"
   },
   {
    "duration": 126,
    "start_time": "2024-08-27T12:05:14.219Z"
   },
   {
    "duration": 136,
    "start_time": "2024-08-27T12:05:37.675Z"
   },
   {
    "duration": 158,
    "start_time": "2024-08-27T12:05:46.434Z"
   },
   {
    "duration": 131,
    "start_time": "2024-08-27T12:06:10.199Z"
   },
   {
    "duration": 134,
    "start_time": "2024-08-27T12:06:18.903Z"
   },
   {
    "duration": 165,
    "start_time": "2024-08-27T12:06:27.839Z"
   },
   {
    "duration": 126,
    "start_time": "2024-08-27T12:07:04.487Z"
   },
   {
    "duration": 122,
    "start_time": "2024-08-27T12:07:10.908Z"
   },
   {
    "duration": 131,
    "start_time": "2024-08-27T12:07:14.019Z"
   },
   {
    "duration": 121,
    "start_time": "2024-08-27T12:07:20.772Z"
   },
   {
    "duration": 117,
    "start_time": "2024-08-27T12:07:35.644Z"
   },
   {
    "duration": 131,
    "start_time": "2024-08-27T12:07:54.676Z"
   },
   {
    "duration": 176,
    "start_time": "2024-08-27T12:08:01.203Z"
   },
   {
    "duration": 147,
    "start_time": "2024-08-27T12:08:21.660Z"
   },
   {
    "duration": 127,
    "start_time": "2024-08-27T12:08:34.707Z"
   },
   {
    "duration": 7,
    "start_time": "2024-08-27T12:09:49.984Z"
   },
   {
    "duration": 6,
    "start_time": "2024-08-27T12:09:55.420Z"
   },
   {
    "duration": 10,
    "start_time": "2024-08-27T12:09:57.969Z"
   },
   {
    "duration": 5,
    "start_time": "2024-08-27T12:15:49.058Z"
   },
   {
    "duration": 24,
    "start_time": "2024-08-27T12:15:53.131Z"
   },
   {
    "duration": 94,
    "start_time": "2024-08-27T12:17:47.451Z"
   },
   {
    "duration": 621,
    "start_time": "2024-08-27T12:18:08.776Z"
   },
   {
    "duration": 626,
    "start_time": "2024-08-27T12:18:33.836Z"
   },
   {
    "duration": 667,
    "start_time": "2024-08-27T12:18:46.584Z"
   },
   {
    "duration": 86,
    "start_time": "2024-08-27T12:19:03.576Z"
   },
   {
    "duration": 653,
    "start_time": "2024-08-27T12:19:07.528Z"
   },
   {
    "duration": 5,
    "start_time": "2024-08-27T12:19:30.440Z"
   },
   {
    "duration": 6,
    "start_time": "2024-08-27T12:19:36.057Z"
   },
   {
    "duration": 5,
    "start_time": "2024-08-27T12:19:42.233Z"
   },
   {
    "duration": 5,
    "start_time": "2024-08-27T12:22:07.437Z"
   },
   {
    "duration": 7,
    "start_time": "2024-08-27T12:22:18.021Z"
   },
   {
    "duration": 9,
    "start_time": "2024-08-27T12:22:31.669Z"
   },
   {
    "duration": 6,
    "start_time": "2024-08-27T12:22:35.534Z"
   },
   {
    "duration": 9,
    "start_time": "2024-08-27T12:22:40.590Z"
   },
   {
    "duration": 9,
    "start_time": "2024-08-27T12:22:43.277Z"
   },
   {
    "duration": 8,
    "start_time": "2024-08-27T12:23:12.758Z"
   },
   {
    "duration": 9,
    "start_time": "2024-08-27T12:23:53.994Z"
   },
   {
    "duration": 5,
    "start_time": "2024-08-27T12:24:25.866Z"
   },
   {
    "duration": 7,
    "start_time": "2024-08-27T12:24:28.410Z"
   },
   {
    "duration": 5,
    "start_time": "2024-08-27T12:24:34.298Z"
   },
   {
    "duration": 9,
    "start_time": "2024-08-27T12:24:39.370Z"
   },
   {
    "duration": 6,
    "start_time": "2024-08-27T12:24:43.835Z"
   },
   {
    "duration": 5,
    "start_time": "2024-08-27T12:24:47.602Z"
   },
   {
    "duration": 6,
    "start_time": "2024-08-27T12:24:59.786Z"
   },
   {
    "duration": 8,
    "start_time": "2024-08-27T12:25:03.274Z"
   },
   {
    "duration": 4,
    "start_time": "2024-08-27T12:25:08.451Z"
   },
   {
    "duration": 8,
    "start_time": "2024-08-27T12:25:10.723Z"
   },
   {
    "duration": 5,
    "start_time": "2024-08-27T12:25:42.170Z"
   },
   {
    "duration": 5,
    "start_time": "2024-08-27T12:25:48.199Z"
   },
   {
    "duration": 6,
    "start_time": "2024-08-27T12:25:51.554Z"
   },
   {
    "duration": 5,
    "start_time": "2024-08-27T12:25:55.538Z"
   },
   {
    "duration": 6,
    "start_time": "2024-08-27T12:26:12.563Z"
   },
   {
    "duration": 6,
    "start_time": "2024-08-27T12:26:26.427Z"
   },
   {
    "duration": 6,
    "start_time": "2024-08-27T12:26:37.955Z"
   },
   {
    "duration": 10,
    "start_time": "2024-08-27T12:26:59.339Z"
   },
   {
    "duration": 8,
    "start_time": "2024-08-27T12:27:03.483Z"
   },
   {
    "duration": 14,
    "start_time": "2024-08-27T12:27:10.499Z"
   },
   {
    "duration": 10,
    "start_time": "2024-08-27T12:27:24.203Z"
   },
   {
    "duration": 10,
    "start_time": "2024-08-27T12:27:28.007Z"
   },
   {
    "duration": 4,
    "start_time": "2024-08-27T12:27:30.423Z"
   },
   {
    "duration": 9,
    "start_time": "2024-08-27T12:28:31.671Z"
   },
   {
    "duration": 2,
    "start_time": "2024-08-27T12:28:41.288Z"
   },
   {
    "duration": 9,
    "start_time": "2024-08-27T12:28:45.592Z"
   },
   {
    "duration": 8,
    "start_time": "2024-08-27T12:28:53.492Z"
   },
   {
    "duration": 6,
    "start_time": "2024-08-27T12:28:57.584Z"
   },
   {
    "duration": 7,
    "start_time": "2024-08-27T12:29:17.604Z"
   },
   {
    "duration": 6,
    "start_time": "2024-08-27T12:29:22.348Z"
   },
   {
    "duration": 205,
    "start_time": "2024-08-27T13:13:35.074Z"
   },
   {
    "duration": 174,
    "start_time": "2024-08-27T13:14:03.978Z"
   },
   {
    "duration": 142,
    "start_time": "2024-08-27T13:14:12.638Z"
   },
   {
    "duration": 676,
    "start_time": "2024-08-27T13:14:36.066Z"
   },
   {
    "duration": 100,
    "start_time": "2024-08-27T13:15:05.142Z"
   },
   {
    "duration": 50,
    "start_time": "2024-08-27T13:15:23.234Z"
   },
   {
    "duration": 1023,
    "start_time": "2024-08-27T13:15:58.158Z"
   },
   {
    "duration": 127,
    "start_time": "2024-08-27T13:15:59.182Z"
   },
   {
    "duration": 63,
    "start_time": "2024-08-27T13:16:07.951Z"
   },
   {
    "duration": 413,
    "start_time": "2024-08-27T13:16:18.119Z"
   },
   {
    "duration": 342,
    "start_time": "2024-08-27T13:16:51.463Z"
   },
   {
    "duration": 96,
    "start_time": "2024-08-27T13:17:04.035Z"
   },
   {
    "duration": 95,
    "start_time": "2024-08-27T13:17:57.491Z"
   },
   {
    "duration": 95,
    "start_time": "2024-08-27T13:18:05.427Z"
   },
   {
    "duration": 298,
    "start_time": "2024-08-27T13:18:10.104Z"
   },
   {
    "duration": 148,
    "start_time": "2024-08-27T13:18:37.175Z"
   },
   {
    "duration": 144,
    "start_time": "2024-08-27T13:18:40.960Z"
   },
   {
    "duration": 134,
    "start_time": "2024-08-27T13:18:45.179Z"
   },
   {
    "duration": 316,
    "start_time": "2024-08-27T13:19:37.536Z"
   },
   {
    "duration": 390,
    "start_time": "2024-08-27T13:19:45.236Z"
   },
   {
    "duration": 573,
    "start_time": "2024-08-27T13:20:38.149Z"
   },
   {
    "duration": 709,
    "start_time": "2024-08-27T13:20:59.228Z"
   },
   {
    "duration": 423,
    "start_time": "2024-08-27T13:22:11.277Z"
   },
   {
    "duration": 89,
    "start_time": "2024-08-27T13:22:18.189Z"
   },
   {
    "duration": 143,
    "start_time": "2024-08-27T13:24:31.390Z"
   },
   {
    "duration": 536,
    "start_time": "2024-08-27T13:25:34.918Z"
   },
   {
    "duration": 599,
    "start_time": "2024-08-27T13:26:28.791Z"
   },
   {
    "duration": 511,
    "start_time": "2024-08-27T13:26:58.411Z"
   },
   {
    "duration": 858,
    "start_time": "2024-08-27T13:27:44.867Z"
   },
   {
    "duration": 381,
    "start_time": "2024-08-27T13:27:50.243Z"
   },
   {
    "duration": 142,
    "start_time": "2024-08-27T13:27:50.662Z"
   },
   {
    "duration": 850,
    "start_time": "2024-08-27T13:27:51.211Z"
   },
   {
    "duration": 88,
    "start_time": "2024-08-27T13:31:40.381Z"
   },
   {
    "duration": 7,
    "start_time": "2024-08-27T13:32:12.620Z"
   },
   {
    "duration": 8,
    "start_time": "2024-08-27T13:33:39.000Z"
   },
   {
    "duration": 6,
    "start_time": "2024-08-27T13:33:51.953Z"
   },
   {
    "duration": 9,
    "start_time": "2024-08-27T13:34:16.669Z"
   },
   {
    "duration": 5,
    "start_time": "2024-08-27T13:34:23.649Z"
   },
   {
    "duration": 4,
    "start_time": "2024-08-27T13:34:42.289Z"
   },
   {
    "duration": 8,
    "start_time": "2024-08-27T13:34:46.889Z"
   },
   {
    "duration": 4,
    "start_time": "2024-08-27T13:35:03.158Z"
   },
   {
    "duration": 7,
    "start_time": "2024-08-27T13:35:06.690Z"
   },
   {
    "duration": 6,
    "start_time": "2024-08-27T13:37:24.726Z"
   },
   {
    "duration": 8,
    "start_time": "2024-08-27T13:37:29.895Z"
   },
   {
    "duration": 47,
    "start_time": "2024-08-27T13:38:29.943Z"
   },
   {
    "duration": 7,
    "start_time": "2024-08-27T13:38:37.199Z"
   },
   {
    "duration": 3,
    "start_time": "2024-08-27T13:38:40.523Z"
   },
   {
    "duration": 45,
    "start_time": "2024-08-27T13:39:02.607Z"
   },
   {
    "duration": 6,
    "start_time": "2024-08-27T13:39:12.339Z"
   },
   {
    "duration": 5,
    "start_time": "2024-08-27T13:39:25.344Z"
   },
   {
    "duration": 6,
    "start_time": "2024-08-27T13:39:28.527Z"
   },
   {
    "duration": 5,
    "start_time": "2024-08-27T13:39:31.760Z"
   },
   {
    "duration": 34,
    "start_time": "2024-08-27T13:41:57.940Z"
   },
   {
    "duration": 38,
    "start_time": "2024-08-27T13:42:34.412Z"
   },
   {
    "duration": 46,
    "start_time": "2024-08-27T13:42:38.141Z"
   },
   {
    "duration": 40,
    "start_time": "2024-08-27T13:43:46.633Z"
   },
   {
    "duration": 38,
    "start_time": "2024-08-27T13:43:49.277Z"
   },
   {
    "duration": 402,
    "start_time": "2024-08-27T13:43:54.105Z"
   },
   {
    "duration": 167,
    "start_time": "2024-08-27T13:43:54.508Z"
   },
   {
    "duration": 840,
    "start_time": "2024-08-27T13:43:54.677Z"
   },
   {
    "duration": 90,
    "start_time": "2024-08-27T13:43:55.519Z"
   },
   {
    "duration": 56,
    "start_time": "2024-08-27T13:43:55.611Z"
   },
   {
    "duration": 41,
    "start_time": "2024-08-27T13:43:55.669Z"
   },
   {
    "duration": 4,
    "start_time": "2024-08-27T13:45:15.010Z"
   },
   {
    "duration": 5,
    "start_time": "2024-08-27T13:45:23.557Z"
   },
   {
    "duration": 8,
    "start_time": "2024-08-27T13:45:27.393Z"
   },
   {
    "duration": 8,
    "start_time": "2024-08-27T13:45:52.234Z"
   },
   {
    "duration": 11,
    "start_time": "2024-08-27T13:45:56.091Z"
   },
   {
    "duration": 11,
    "start_time": "2024-08-27T13:46:05.638Z"
   },
   {
    "duration": 9,
    "start_time": "2024-08-27T13:46:11.494Z"
   },
   {
    "duration": 7,
    "start_time": "2024-08-27T13:46:15.618Z"
   },
   {
    "duration": 50,
    "start_time": "2024-08-27T15:59:38.087Z"
   },
   {
    "duration": 11,
    "start_time": "2024-08-27T15:59:44.564Z"
   },
   {
    "duration": 160,
    "start_time": "2024-08-27T16:02:45.054Z"
   },
   {
    "duration": 4,
    "start_time": "2024-08-27T16:03:06.054Z"
   },
   {
    "duration": 128,
    "start_time": "2024-08-27T16:03:11.170Z"
   },
   {
    "duration": 155,
    "start_time": "2024-08-27T16:03:29.814Z"
   },
   {
    "duration": 123,
    "start_time": "2024-08-27T16:03:35.998Z"
   },
   {
    "duration": 132,
    "start_time": "2024-08-27T16:03:39.614Z"
   },
   {
    "duration": 160,
    "start_time": "2024-08-27T16:04:01.879Z"
   },
   {
    "duration": 17,
    "start_time": "2024-08-27T16:04:09.290Z"
   },
   {
    "duration": 216,
    "start_time": "2024-08-27T16:04:25.223Z"
   },
   {
    "duration": 15,
    "start_time": "2024-08-27T16:04:31.163Z"
   },
   {
    "duration": 15,
    "start_time": "2024-08-27T16:04:35.971Z"
   },
   {
    "duration": 169,
    "start_time": "2024-08-27T16:04:40.639Z"
   },
   {
    "duration": 39,
    "start_time": "2024-08-27T16:06:26.059Z"
   },
   {
    "duration": 5,
    "start_time": "2024-08-27T16:06:42.960Z"
   },
   {
    "duration": 14,
    "start_time": "2024-08-27T16:08:23.968Z"
   },
   {
    "duration": 492,
    "start_time": "2024-08-27T16:08:35.384Z"
   },
   {
    "duration": 3,
    "start_time": "2024-08-27T16:08:38.568Z"
   },
   {
    "duration": 49,
    "start_time": "2024-08-27T16:08:42.376Z"
   },
   {
    "duration": 15,
    "start_time": "2024-08-27T16:08:52.536Z"
   },
   {
    "duration": 10,
    "start_time": "2024-08-27T16:09:03.624Z"
   },
   {
    "duration": 20,
    "start_time": "2024-08-27T16:09:21.812Z"
   },
   {
    "duration": 3692,
    "start_time": "2024-08-27T16:09:51.097Z"
   },
   {
    "duration": 73053,
    "start_time": "2024-08-27T16:09:59.805Z"
   },
   {
    "duration": 2,
    "start_time": "2024-08-27T16:13:31.879Z"
   },
   {
    "duration": 90,
    "start_time": "2024-08-27T16:15:27.016Z"
   },
   {
    "duration": 5068,
    "start_time": "2024-08-27T16:15:32.419Z"
   },
   {
    "duration": 3,
    "start_time": "2024-08-27T16:19:31.073Z"
   },
   {
    "duration": 4472,
    "start_time": "2024-08-27T16:19:57.309Z"
   },
   {
    "duration": 4412,
    "start_time": "2024-08-27T16:21:16.518Z"
   },
   {
    "duration": 939,
    "start_time": "2024-08-27T16:21:48.662Z"
   },
   {
    "duration": 1228,
    "start_time": "2024-08-27T16:21:52.918Z"
   },
   {
    "duration": 12,
    "start_time": "2024-08-27T16:21:56.365Z"
   },
   {
    "duration": 17,
    "start_time": "2024-08-27T16:22:07.950Z"
   },
   {
    "duration": 10,
    "start_time": "2024-08-27T16:22:11.551Z"
   },
   {
    "duration": 3231,
    "start_time": "2024-08-27T16:22:59.730Z"
   },
   {
    "duration": 4364,
    "start_time": "2024-08-27T16:24:06.307Z"
   },
   {
    "duration": 4256,
    "start_time": "2024-08-27T16:24:20.883Z"
   },
   {
    "duration": 143,
    "start_time": "2024-08-27T16:25:02.588Z"
   },
   {
    "duration": 116,
    "start_time": "2024-08-27T16:25:07.115Z"
   },
   {
    "duration": 346,
    "start_time": "2024-08-27T16:25:16.619Z"
   },
   {
    "duration": 245,
    "start_time": "2024-08-27T16:25:19.171Z"
   },
   {
    "duration": 252,
    "start_time": "2024-08-27T16:25:46.492Z"
   },
   {
    "duration": 264,
    "start_time": "2024-08-27T16:26:02.492Z"
   },
   {
    "duration": 601,
    "start_time": "2024-08-27T16:26:07.676Z"
   },
   {
    "duration": 583,
    "start_time": "2024-08-27T16:26:19.496Z"
   },
   {
    "duration": 724,
    "start_time": "2024-08-27T16:26:24.128Z"
   },
   {
    "duration": 742,
    "start_time": "2024-08-27T16:29:03.809Z"
   },
   {
    "duration": 419,
    "start_time": "2024-08-27T16:29:05.854Z"
   },
   {
    "duration": 139,
    "start_time": "2024-08-27T16:29:06.481Z"
   },
   {
    "duration": 822,
    "start_time": "2024-08-27T16:29:07.001Z"
   },
   {
    "duration": 78,
    "start_time": "2024-08-27T16:29:08.529Z"
   },
   {
    "duration": 45,
    "start_time": "2024-08-27T16:29:09.021Z"
   },
   {
    "duration": 40,
    "start_time": "2024-08-27T16:29:09.068Z"
   },
   {
    "duration": 133,
    "start_time": "2024-08-27T16:29:09.479Z"
   },
   {
    "duration": 40,
    "start_time": "2024-08-27T16:29:09.897Z"
   },
   {
    "duration": 89,
    "start_time": "2024-08-27T16:29:10.501Z"
   },
   {
    "duration": 4449,
    "start_time": "2024-08-27T16:29:10.665Z"
   },
   {
    "duration": 3301,
    "start_time": "2024-08-27T16:29:15.116Z"
   },
   {
    "duration": 119,
    "start_time": "2024-08-27T16:29:26.437Z"
   },
   {
    "duration": 122,
    "start_time": "2024-08-27T16:29:30.517Z"
   },
   {
    "duration": 2,
    "start_time": "2024-08-27T16:34:48.856Z"
   },
   {
    "duration": 85,
    "start_time": "2024-08-27T16:35:43.456Z"
   },
   {
    "duration": 60,
    "start_time": "2024-08-27T16:35:48.945Z"
   },
   {
    "duration": 21,
    "start_time": "2024-08-27T16:35:53.408Z"
   },
   {
    "duration": 2656,
    "start_time": "2024-08-27T16:36:12.437Z"
   },
   {
    "duration": 63,
    "start_time": "2024-08-27T16:36:34.581Z"
   },
   {
    "duration": 72,
    "start_time": "2024-08-27T16:36:42.156Z"
   },
   {
    "duration": 67,
    "start_time": "2024-08-27T16:36:51.788Z"
   },
   {
    "duration": 3,
    "start_time": "2024-08-27T16:37:10.909Z"
   },
   {
    "duration": 12,
    "start_time": "2024-08-27T16:37:54.665Z"
   },
   {
    "duration": 23,
    "start_time": "2024-08-27T16:37:59.802Z"
   },
   {
    "duration": 2328,
    "start_time": "2024-08-27T16:40:07.322Z"
   },
   {
    "duration": 4,
    "start_time": "2024-08-27T16:40:24.139Z"
   },
   {
    "duration": 28,
    "start_time": "2024-08-27T16:40:47.819Z"
   },
   {
    "duration": 16,
    "start_time": "2024-08-27T16:41:04.495Z"
   },
   {
    "duration": 9,
    "start_time": "2024-08-27T16:41:26.823Z"
   },
   {
    "duration": 3,
    "start_time": "2024-08-27T16:41:31.495Z"
   },
   {
    "duration": 19,
    "start_time": "2024-08-27T16:41:33.590Z"
   },
   {
    "duration": 22,
    "start_time": "2024-08-27T16:42:03.951Z"
   },
   {
    "duration": 3,
    "start_time": "2024-08-27T16:42:34.991Z"
   },
   {
    "duration": 16,
    "start_time": "2024-08-27T16:43:20.508Z"
   },
   {
    "duration": 14,
    "start_time": "2024-08-27T16:43:37.267Z"
   },
   {
    "duration": 85,
    "start_time": "2024-08-27T16:45:29.717Z"
   },
   {
    "duration": 4,
    "start_time": "2024-08-27T16:45:41.020Z"
   },
   {
    "duration": 20,
    "start_time": "2024-08-27T16:45:50.117Z"
   },
   {
    "duration": 12,
    "start_time": "2024-08-27T16:45:59.613Z"
   },
   {
    "duration": 19,
    "start_time": "2024-08-27T16:46:06.924Z"
   },
   {
    "duration": 6484,
    "start_time": "2024-08-27T16:46:27.357Z"
   },
   {
    "duration": 18,
    "start_time": "2024-08-27T16:46:36.853Z"
   },
   {
    "duration": 13,
    "start_time": "2024-08-27T16:46:44.509Z"
   },
   {
    "duration": 37,
    "start_time": "2024-08-27T16:46:50.882Z"
   },
   {
    "duration": 12,
    "start_time": "2024-08-27T16:48:24.110Z"
   },
   {
    "duration": 9,
    "start_time": "2024-08-27T16:48:57.546Z"
   },
   {
    "duration": 3,
    "start_time": "2024-08-27T16:49:16.530Z"
   },
   {
    "duration": 2890,
    "start_time": "2024-08-27T16:49:18.594Z"
   },
   {
    "duration": 4,
    "start_time": "2024-08-27T16:49:24.506Z"
   },
   {
    "duration": 16,
    "start_time": "2024-08-27T16:49:26.382Z"
   },
   {
    "duration": 26,
    "start_time": "2024-08-27T16:49:35.474Z"
   },
   {
    "duration": 1568,
    "start_time": "2024-08-27T16:49:46.158Z"
   },
   {
    "duration": 3684,
    "start_time": "2024-08-27T16:49:55.707Z"
   },
   {
    "duration": 4,
    "start_time": "2024-08-27T16:50:17.186Z"
   },
   {
    "duration": 2966,
    "start_time": "2024-08-27T16:50:21.387Z"
   },
   {
    "duration": 4,
    "start_time": "2024-08-27T16:50:30.212Z"
   },
   {
    "duration": 3123,
    "start_time": "2024-08-27T16:50:32.275Z"
   },
   {
    "duration": 4,
    "start_time": "2024-08-27T16:50:36.455Z"
   },
   {
    "duration": 3,
    "start_time": "2024-08-27T16:50:38.803Z"
   },
   {
    "duration": 3,
    "start_time": "2024-08-27T16:50:40.122Z"
   },
   {
    "duration": 4,
    "start_time": "2024-08-27T16:50:40.362Z"
   },
   {
    "duration": 5834,
    "start_time": "2024-08-27T16:50:46.699Z"
   },
   {
    "duration": 4,
    "start_time": "2024-08-27T16:50:52.536Z"
   },
   {
    "duration": 3130,
    "start_time": "2024-08-27T16:50:54.938Z"
   },
   {
    "duration": 60,
    "start_time": "2024-08-27T16:51:01.019Z"
   },
   {
    "duration": 2,
    "start_time": "2024-08-27T16:51:04.807Z"
   },
   {
    "duration": 3,
    "start_time": "2024-08-27T16:51:05.291Z"
   },
   {
    "duration": 3,
    "start_time": "2024-08-27T16:51:05.531Z"
   },
   {
    "duration": 15,
    "start_time": "2024-08-27T16:51:16.991Z"
   },
   {
    "duration": 4,
    "start_time": "2024-08-27T16:51:21.139Z"
   },
   {
    "duration": 4,
    "start_time": "2024-08-27T16:51:29.639Z"
   },
   {
    "duration": 472,
    "start_time": "2024-08-27T16:51:43.027Z"
   },
   {
    "duration": 3,
    "start_time": "2024-08-27T16:52:03.763Z"
   },
   {
    "duration": 3,
    "start_time": "2024-08-27T16:52:06.907Z"
   },
   {
    "duration": 14,
    "start_time": "2024-08-27T16:52:14.160Z"
   },
   {
    "duration": 82,
    "start_time": "2024-08-27T16:52:19.519Z"
   },
   {
    "duration": 4,
    "start_time": "2024-08-27T16:52:19.801Z"
   },
   {
    "duration": 17,
    "start_time": "2024-08-27T16:52:20.563Z"
   },
   {
    "duration": 18,
    "start_time": "2024-08-27T16:52:21.168Z"
   },
   {
    "duration": 3975,
    "start_time": "2024-08-27T16:52:33.744Z"
   },
   {
    "duration": 628,
    "start_time": "2024-08-27T16:53:08.100Z"
   },
   {
    "duration": 47,
    "start_time": "2024-08-27T16:53:23.596Z"
   },
   {
    "duration": 46,
    "start_time": "2024-08-27T16:53:32.992Z"
   },
   {
    "duration": 3053,
    "start_time": "2024-08-27T16:55:27.829Z"
   },
   {
    "duration": 3,
    "start_time": "2024-08-27T16:55:37.558Z"
   },
   {
    "duration": 3,
    "start_time": "2024-08-27T16:55:44.573Z"
   },
   {
    "duration": 21,
    "start_time": "2024-08-27T16:56:06.277Z"
   },
   {
    "duration": 72,
    "start_time": "2024-08-27T16:56:12.345Z"
   },
   {
    "duration": 4,
    "start_time": "2024-08-27T16:56:12.509Z"
   },
   {
    "duration": 20,
    "start_time": "2024-08-27T16:56:13.553Z"
   },
   {
    "duration": 13,
    "start_time": "2024-08-27T16:56:22.275Z"
   },
   {
    "duration": 3591,
    "start_time": "2024-08-27T16:56:55.934Z"
   },
   {
    "duration": 15,
    "start_time": "2024-08-27T16:57:02.050Z"
   },
   {
    "duration": 15,
    "start_time": "2024-08-27T16:57:06.486Z"
   },
   {
    "duration": 69,
    "start_time": "2024-08-27T16:57:09.533Z"
   },
   {
    "duration": 4,
    "start_time": "2024-08-27T16:57:09.674Z"
   },
   {
    "duration": 15,
    "start_time": "2024-08-27T16:57:10.557Z"
   },
   {
    "duration": 19,
    "start_time": "2024-08-27T16:57:14.625Z"
   },
   {
    "duration": 6541,
    "start_time": "2024-08-27T16:58:38.058Z"
   },
   {
    "duration": 106,
    "start_time": "2024-08-27T16:58:45.122Z"
   },
   {
    "duration": 11,
    "start_time": "2024-08-27T16:58:47.391Z"
   },
   {
    "duration": 5134,
    "start_time": "2024-08-27T16:58:55.074Z"
   },
   {
    "duration": 3,
    "start_time": "2024-08-27T16:59:11.079Z"
   },
   {
    "duration": 1066,
    "start_time": "2024-08-27T16:59:21.139Z"
   },
   {
    "duration": 138,
    "start_time": "2024-08-27T16:59:22.207Z"
   },
   {
    "duration": 102,
    "start_time": "2024-08-27T16:59:22.346Z"
   },
   {
    "duration": 997,
    "start_time": "2024-08-27T16:59:22.461Z"
   },
   {
    "duration": 416,
    "start_time": "2024-08-27T16:59:23.461Z"
   },
   {
    "duration": 150,
    "start_time": "2024-08-27T16:59:23.879Z"
   },
   {
    "duration": 877,
    "start_time": "2024-08-27T16:59:24.030Z"
   },
   {
    "duration": 100,
    "start_time": "2024-08-27T16:59:24.909Z"
   },
   {
    "duration": 65,
    "start_time": "2024-08-27T16:59:25.011Z"
   },
   {
    "duration": 41,
    "start_time": "2024-08-27T16:59:25.078Z"
   },
   {
    "duration": 166,
    "start_time": "2024-08-27T16:59:25.121Z"
   },
   {
    "duration": 39,
    "start_time": "2024-08-27T16:59:25.289Z"
   },
   {
    "duration": 111,
    "start_time": "2024-08-27T16:59:25.330Z"
   },
   {
    "duration": 4390,
    "start_time": "2024-08-27T16:59:25.442Z"
   },
   {
    "duration": 3405,
    "start_time": "2024-08-27T16:59:29.834Z"
   },
   {
    "duration": 33,
    "start_time": "2024-08-27T16:59:33.240Z"
   },
   {
    "duration": 0,
    "start_time": "2024-08-27T16:59:33.274Z"
   },
   {
    "duration": 0,
    "start_time": "2024-08-27T16:59:33.275Z"
   },
   {
    "duration": 0,
    "start_time": "2024-08-27T16:59:33.277Z"
   },
   {
    "duration": 0,
    "start_time": "2024-08-27T16:59:33.277Z"
   },
   {
    "duration": 0,
    "start_time": "2024-08-27T16:59:33.279Z"
   },
   {
    "duration": 21,
    "start_time": "2024-08-27T16:59:37.987Z"
   },
   {
    "duration": 66,
    "start_time": "2024-08-27T16:59:47.127Z"
   },
   {
    "duration": 3,
    "start_time": "2024-08-27T16:59:49.171Z"
   },
   {
    "duration": 18,
    "start_time": "2024-08-27T16:59:49.490Z"
   },
   {
    "duration": 16,
    "start_time": "2024-08-27T16:59:59.615Z"
   },
   {
    "duration": 1353,
    "start_time": "2024-08-27T17:00:16.571Z"
   },
   {
    "duration": 3858,
    "start_time": "2024-08-27T17:00:28.467Z"
   },
   {
    "duration": 639,
    "start_time": "2024-08-27T17:00:36.823Z"
   },
   {
    "duration": 2,
    "start_time": "2024-08-27T17:00:37.724Z"
   },
   {
    "duration": 5316,
    "start_time": "2024-08-27T17:07:19.314Z"
   },
   {
    "duration": 4,
    "start_time": "2024-08-27T17:07:26.987Z"
   },
   {
    "duration": 57,
    "start_time": "2024-08-27T17:07:40.294Z"
   },
   {
    "duration": 3,
    "start_time": "2024-08-27T17:10:23.287Z"
   },
   {
    "duration": 2,
    "start_time": "2024-08-27T17:10:27.095Z"
   },
   {
    "duration": 3,
    "start_time": "2024-08-27T17:12:30.472Z"
   },
   {
    "duration": 3,
    "start_time": "2024-08-27T17:13:12.760Z"
   },
   {
    "duration": 3,
    "start_time": "2024-08-27T17:13:47.965Z"
   },
   {
    "duration": 4,
    "start_time": "2024-08-27T17:13:52.252Z"
   },
   {
    "duration": 18865,
    "start_time": "2024-08-27T17:14:20.803Z"
   },
   {
    "duration": 19161,
    "start_time": "2024-08-27T17:14:44.904Z"
   },
   {
    "duration": 68,
    "start_time": "2024-08-27T17:16:19.864Z"
   },
   {
    "duration": 100,
    "start_time": "2024-08-27T17:16:35.061Z"
   },
   {
    "duration": 6,
    "start_time": "2024-08-27T17:19:30.737Z"
   },
   {
    "duration": 38,
    "start_time": "2024-08-27T17:20:49.785Z"
   },
   {
    "duration": 3,
    "start_time": "2024-08-27T17:22:03.410Z"
   },
   {
    "duration": 6,
    "start_time": "2024-08-27T17:22:06.834Z"
   },
   {
    "duration": 4,
    "start_time": "2024-08-27T17:23:57.115Z"
   },
   {
    "duration": 3,
    "start_time": "2024-08-27T17:24:48.871Z"
   },
   {
    "duration": 2,
    "start_time": "2024-08-27T17:24:57.427Z"
   },
   {
    "duration": 11,
    "start_time": "2024-08-27T17:25:01.239Z"
   },
   {
    "duration": 3,
    "start_time": "2024-08-27T17:27:02.560Z"
   },
   {
    "duration": 3,
    "start_time": "2024-08-27T17:27:03.627Z"
   },
   {
    "duration": 12625,
    "start_time": "2024-08-27T17:27:05.139Z"
   },
   {
    "duration": 2,
    "start_time": "2024-08-27T17:27:17.766Z"
   },
   {
    "duration": 9317,
    "start_time": "2024-08-27T17:27:19.456Z"
   },
   {
    "duration": 3,
    "start_time": "2024-08-27T17:27:52.480Z"
   },
   {
    "duration": 2,
    "start_time": "2024-08-27T17:27:53.148Z"
   },
   {
    "duration": 9752,
    "start_time": "2024-08-27T17:27:53.420Z"
   },
   {
    "duration": 830,
    "start_time": "2024-08-27T17:28:31.248Z"
   },
   {
    "duration": 5,
    "start_time": "2024-08-27T17:28:54.392Z"
   },
   {
    "duration": 2,
    "start_time": "2024-08-27T17:30:30.417Z"
   },
   {
    "duration": 2,
    "start_time": "2024-08-27T17:30:31.157Z"
   },
   {
    "duration": 804,
    "start_time": "2024-08-27T17:30:31.489Z"
   },
   {
    "duration": 2,
    "start_time": "2024-08-27T17:30:43.965Z"
   },
   {
    "duration": 10897,
    "start_time": "2024-08-27T17:30:44.765Z"
   },
   {
    "duration": 4,
    "start_time": "2024-08-27T17:31:22.706Z"
   },
   {
    "duration": 3,
    "start_time": "2024-08-27T17:31:35.989Z"
   },
   {
    "duration": 9526,
    "start_time": "2024-08-27T17:31:37.053Z"
   },
   {
    "duration": 895,
    "start_time": "2024-08-27T17:31:46.581Z"
   },
   {
    "duration": 5,
    "start_time": "2024-08-27T17:31:47.478Z"
   },
   {
    "duration": 26,
    "start_time": "2024-08-27T17:32:19.065Z"
   },
   {
    "duration": 4,
    "start_time": "2024-08-27T17:33:30.690Z"
   },
   {
    "duration": 3,
    "start_time": "2024-08-27T17:33:52.182Z"
   },
   {
    "duration": 3,
    "start_time": "2024-08-27T17:36:01.679Z"
   },
   {
    "duration": 29642,
    "start_time": "2024-08-27T17:36:21.503Z"
   },
   {
    "duration": 2220,
    "start_time": "2024-08-27T17:36:57.312Z"
   },
   {
    "duration": 127,
    "start_time": "2024-08-27T17:37:37.348Z"
   },
   {
    "duration": 3,
    "start_time": "2024-08-27T17:38:44.264Z"
   },
   {
    "duration": 4,
    "start_time": "2024-08-27T17:39:19.848Z"
   },
   {
    "duration": 28520,
    "start_time": "2024-08-27T17:39:32.085Z"
   },
   {
    "duration": 28965,
    "start_time": "2024-08-27T17:40:06.557Z"
   },
   {
    "duration": 142,
    "start_time": "2024-08-27T17:41:08.569Z"
   },
   {
    "duration": 5,
    "start_time": "2024-08-27T17:41:53.465Z"
   },
   {
    "duration": 13,
    "start_time": "2024-08-27T17:46:13.079Z"
   },
   {
    "duration": 10,
    "start_time": "2024-08-27T17:46:23.455Z"
   },
   {
    "duration": 10,
    "start_time": "2024-08-27T17:46:27.651Z"
   },
   {
    "duration": 14,
    "start_time": "2024-08-27T17:46:36.916Z"
   },
   {
    "duration": 4,
    "start_time": "2024-08-27T17:46:51.599Z"
   },
   {
    "duration": 5,
    "start_time": "2024-08-27T17:47:12.187Z"
   },
   {
    "duration": 5,
    "start_time": "2024-08-27T17:47:23.451Z"
   },
   {
    "duration": 4,
    "start_time": "2024-08-27T17:47:29.548Z"
   },
   {
    "duration": 5,
    "start_time": "2024-08-27T17:47:32.835Z"
   },
   {
    "duration": 4,
    "start_time": "2024-08-27T17:47:36.252Z"
   },
   {
    "duration": 4,
    "start_time": "2024-08-27T17:47:44.500Z"
   },
   {
    "duration": 5,
    "start_time": "2024-08-27T17:47:58.988Z"
   },
   {
    "duration": 6,
    "start_time": "2024-08-27T17:48:12.412Z"
   },
   {
    "duration": 10,
    "start_time": "2024-08-27T17:48:16.284Z"
   },
   {
    "duration": 10,
    "start_time": "2024-08-27T17:48:22.148Z"
   },
   {
    "duration": 10,
    "start_time": "2024-08-27T17:48:30.892Z"
   },
   {
    "duration": 3,
    "start_time": "2024-08-27T17:52:04.650Z"
   },
   {
    "duration": 2,
    "start_time": "2024-08-27T17:52:05.394Z"
   },
   {
    "duration": 9074,
    "start_time": "2024-08-27T17:52:05.789Z"
   },
   {
    "duration": 3,
    "start_time": "2024-08-27T17:52:26.637Z"
   },
   {
    "duration": 8126,
    "start_time": "2024-08-27T17:52:29.245Z"
   },
   {
    "duration": 2,
    "start_time": "2024-08-27T17:52:48.602Z"
   },
   {
    "duration": 68,
    "start_time": "2024-08-27T17:52:50.338Z"
   },
   {
    "duration": 9209,
    "start_time": "2024-08-27T17:52:57.758Z"
   },
   {
    "duration": 60,
    "start_time": "2024-08-27T17:55:48.339Z"
   },
   {
    "duration": 3,
    "start_time": "2024-08-27T17:55:52.575Z"
   },
   {
    "duration": 3,
    "start_time": "2024-08-27T17:55:53.643Z"
   },
   {
    "duration": 7165,
    "start_time": "2024-08-27T17:55:54.007Z"
   },
   {
    "duration": 3,
    "start_time": "2024-08-27T17:56:07.747Z"
   },
   {
    "duration": 3,
    "start_time": "2024-08-27T17:56:09.223Z"
   },
   {
    "duration": 12399,
    "start_time": "2024-08-27T17:56:09.378Z"
   },
   {
    "duration": 923,
    "start_time": "2024-08-27T17:56:42.752Z"
   },
   {
    "duration": 995,
    "start_time": "2024-08-27T17:56:44.604Z"
   },
   {
    "duration": 4,
    "start_time": "2024-08-27T17:56:46.362Z"
   },
   {
    "duration": 3,
    "start_time": "2024-08-27T17:56:51.804Z"
   },
   {
    "duration": 15440,
    "start_time": "2024-08-27T17:56:52.024Z"
   },
   {
    "duration": 1009,
    "start_time": "2024-08-27T17:57:07.466Z"
   },
   {
    "duration": 4,
    "start_time": "2024-08-27T17:57:08.477Z"
   },
   {
    "duration": 2,
    "start_time": "2024-08-27T17:58:25.072Z"
   },
   {
    "duration": 3,
    "start_time": "2024-08-27T17:58:25.696Z"
   },
   {
    "duration": 75566,
    "start_time": "2024-08-27T17:58:25.965Z"
   },
   {
    "duration": 2,
    "start_time": "2024-08-27T17:59:46.533Z"
   },
   {
    "duration": 58398,
    "start_time": "2024-08-27T17:59:46.773Z"
   },
   {
    "duration": 891,
    "start_time": "2024-08-27T18:00:45.172Z"
   },
   {
    "duration": 4,
    "start_time": "2024-08-27T18:00:46.065Z"
   },
   {
    "duration": 2,
    "start_time": "2024-08-27T18:03:48.403Z"
   },
   {
    "duration": 2,
    "start_time": "2024-08-27T18:03:49.218Z"
   },
   {
    "duration": 3297,
    "start_time": "2024-08-27T18:03:49.566Z"
   },
   {
    "duration": 297,
    "start_time": "2024-08-27T18:03:55.582Z"
   },
   {
    "duration": 4,
    "start_time": "2024-08-27T18:03:56.487Z"
   },
   {
    "duration": 3,
    "start_time": "2024-08-27T18:04:02.214Z"
   },
   {
    "duration": 5791,
    "start_time": "2024-08-27T18:04:02.679Z"
   },
   {
    "duration": 600,
    "start_time": "2024-08-27T18:04:08.473Z"
   },
   {
    "duration": 4,
    "start_time": "2024-08-27T18:04:09.075Z"
   },
   {
    "duration": 2,
    "start_time": "2024-08-27T18:04:15.379Z"
   },
   {
    "duration": 2,
    "start_time": "2024-08-27T18:04:15.971Z"
   },
   {
    "duration": 12499,
    "start_time": "2024-08-27T18:04:16.270Z"
   },
   {
    "duration": 2,
    "start_time": "2024-08-27T18:06:18.072Z"
   },
   {
    "duration": 3,
    "start_time": "2024-08-27T18:06:18.767Z"
   },
   {
    "duration": 2600,
    "start_time": "2024-08-27T18:06:19.068Z"
   },
   {
    "duration": 273,
    "start_time": "2024-08-27T18:06:25.096Z"
   },
   {
    "duration": 243,
    "start_time": "2024-08-27T18:06:26.431Z"
   },
   {
    "duration": 5,
    "start_time": "2024-08-27T18:06:27.247Z"
   },
   {
    "duration": 3,
    "start_time": "2024-08-27T18:06:33.615Z"
   },
   {
    "duration": 3,
    "start_time": "2024-08-27T18:06:34.487Z"
   },
   {
    "duration": 13682,
    "start_time": "2024-08-27T18:06:34.888Z"
   },
   {
    "duration": 1012,
    "start_time": "2024-08-27T18:06:50.752Z"
   },
   {
    "duration": 5,
    "start_time": "2024-08-27T18:06:57.588Z"
   },
   {
    "duration": 3,
    "start_time": "2024-08-27T18:07:32.912Z"
   },
   {
    "duration": 3,
    "start_time": "2024-08-27T18:07:34.564Z"
   },
   {
    "duration": 5841,
    "start_time": "2024-08-27T18:07:42.128Z"
   },
   {
    "duration": 53,
    "start_time": "2024-08-27T18:07:49.700Z"
   },
   {
    "duration": 4,
    "start_time": "2024-08-27T18:07:54.389Z"
   },
   {
    "duration": 3,
    "start_time": "2024-08-27T18:08:05.156Z"
   },
   {
    "duration": 3,
    "start_time": "2024-08-27T18:08:05.861Z"
   },
   {
    "duration": 8956,
    "start_time": "2024-08-27T18:08:06.205Z"
   },
   {
    "duration": 3,
    "start_time": "2024-08-27T18:08:20.860Z"
   },
   {
    "duration": 11336,
    "start_time": "2024-08-27T18:08:22.036Z"
   },
   {
    "duration": 1087,
    "start_time": "2024-08-27T18:08:33.374Z"
   },
   {
    "duration": 4,
    "start_time": "2024-08-27T18:08:34.463Z"
   },
   {
    "duration": 3,
    "start_time": "2024-08-27T18:09:02.981Z"
   },
   {
    "duration": 3,
    "start_time": "2024-08-27T18:09:03.796Z"
   },
   {
    "duration": 5802,
    "start_time": "2024-08-27T18:09:05.100Z"
   },
   {
    "duration": 57,
    "start_time": "2024-08-27T18:09:10.904Z"
   },
   {
    "duration": 4,
    "start_time": "2024-08-27T18:09:10.963Z"
   },
   {
    "duration": 5,
    "start_time": "2024-08-27T18:09:18.645Z"
   },
   {
    "duration": 5866,
    "start_time": "2024-08-27T18:09:18.793Z"
   },
   {
    "duration": 38,
    "start_time": "2024-08-27T18:09:24.661Z"
   },
   {
    "duration": 4,
    "start_time": "2024-08-27T18:09:24.701Z"
   },
   {
    "duration": 11,
    "start_time": "2024-08-27T18:09:34.957Z"
   },
   {
    "duration": 10,
    "start_time": "2024-08-27T18:09:50.781Z"
   },
   {
    "duration": 11,
    "start_time": "2024-08-27T18:10:21.101Z"
   },
   {
    "duration": 10,
    "start_time": "2024-08-27T18:10:31.010Z"
   },
   {
    "duration": 10,
    "start_time": "2024-08-27T18:10:37.801Z"
   },
   {
    "duration": 10,
    "start_time": "2024-08-27T18:10:53.333Z"
   },
   {
    "duration": 995,
    "start_time": "2024-08-27T18:11:18.905Z"
   },
   {
    "duration": 956,
    "start_time": "2024-08-27T18:11:22.630Z"
   },
   {
    "duration": 979,
    "start_time": "2024-08-27T18:11:25.393Z"
   },
   {
    "duration": 10,
    "start_time": "2024-08-27T18:12:05.665Z"
   },
   {
    "duration": 96,
    "start_time": "2024-08-27T18:23:31.575Z"
   },
   {
    "duration": 1674,
    "start_time": "2024-08-27T18:23:50.871Z"
   },
   {
    "duration": 3142,
    "start_time": "2024-08-27T18:23:52.547Z"
   },
   {
    "duration": 117,
    "start_time": "2024-08-27T18:23:55.691Z"
   },
   {
    "duration": 105,
    "start_time": "2024-08-27T18:23:55.811Z"
   },
   {
    "duration": 1001,
    "start_time": "2024-08-27T18:23:55.918Z"
   },
   {
    "duration": 417,
    "start_time": "2024-08-27T18:23:56.921Z"
   },
   {
    "duration": 148,
    "start_time": "2024-08-27T18:23:57.340Z"
   },
   {
    "duration": 875,
    "start_time": "2024-08-27T18:23:57.490Z"
   },
   {
    "duration": 108,
    "start_time": "2024-08-27T18:23:58.366Z"
   },
   {
    "duration": 53,
    "start_time": "2024-08-27T18:23:58.478Z"
   },
   {
    "duration": 58,
    "start_time": "2024-08-27T18:23:58.533Z"
   },
   {
    "duration": 173,
    "start_time": "2024-08-27T18:23:58.592Z"
   },
   {
    "duration": 37,
    "start_time": "2024-08-27T18:23:58.766Z"
   },
   {
    "duration": 109,
    "start_time": "2024-08-27T18:23:58.805Z"
   },
   {
    "duration": 4559,
    "start_time": "2024-08-27T18:23:58.916Z"
   },
   {
    "duration": 3521,
    "start_time": "2024-08-27T18:24:03.476Z"
   },
   {
    "duration": 75,
    "start_time": "2024-08-27T18:24:06.999Z"
   },
   {
    "duration": 3,
    "start_time": "2024-08-27T18:24:07.076Z"
   },
   {
    "duration": 29,
    "start_time": "2024-08-27T18:24:07.081Z"
   },
   {
    "duration": 3965,
    "start_time": "2024-08-27T18:24:07.112Z"
   },
   {
    "duration": 650,
    "start_time": "2024-08-27T18:24:11.079Z"
   },
   {
    "duration": 3,
    "start_time": "2024-08-27T18:24:11.731Z"
   },
   {
    "duration": 19530,
    "start_time": "2024-08-27T18:24:11.736Z"
   },
   {
    "duration": 98,
    "start_time": "2024-08-27T18:24:31.267Z"
   },
   {
    "duration": 6,
    "start_time": "2024-08-27T18:24:31.366Z"
   },
   {
    "duration": 94,
    "start_time": "2024-08-27T18:24:31.373Z"
   },
   {
    "duration": 12212,
    "start_time": "2024-08-27T18:24:31.468Z"
   },
   {
    "duration": 1032,
    "start_time": "2024-08-27T18:24:43.760Z"
   },
   {
    "duration": 5,
    "start_time": "2024-08-27T18:24:44.793Z"
   },
   {
    "duration": 174,
    "start_time": "2024-08-27T18:24:44.799Z"
   },
   {
    "duration": 0,
    "start_time": "2024-08-27T18:24:44.974Z"
   },
   {
    "duration": 0,
    "start_time": "2024-08-27T18:24:44.975Z"
   },
   {
    "duration": 0,
    "start_time": "2024-08-27T18:24:44.977Z"
   },
   {
    "duration": 0,
    "start_time": "2024-08-27T18:24:44.978Z"
   },
   {
    "duration": 23,
    "start_time": "2024-08-27T18:25:39.796Z"
   },
   {
    "duration": 2,
    "start_time": "2024-08-27T18:25:47.768Z"
   },
   {
    "duration": 5997,
    "start_time": "2024-08-27T18:25:47.933Z"
   },
   {
    "duration": 57,
    "start_time": "2024-08-27T18:25:53.932Z"
   },
   {
    "duration": 4,
    "start_time": "2024-08-27T18:25:53.991Z"
   },
   {
    "duration": 12,
    "start_time": "2024-08-27T18:26:07.280Z"
   },
   {
    "duration": 1526,
    "start_time": "2024-08-29T10:21:50.857Z"
   },
   {
    "duration": 10933,
    "start_time": "2024-08-29T10:22:00.238Z"
   },
   {
    "duration": 1429,
    "start_time": "2024-08-29T10:22:11.173Z"
   },
   {
    "duration": 1007,
    "start_time": "2024-08-29T10:22:37.098Z"
   },
   {
    "duration": 29,
    "start_time": "2024-08-29T10:22:41.985Z"
   },
   {
    "duration": 465,
    "start_time": "2024-08-29T10:22:46.090Z"
   },
   {
    "duration": 159,
    "start_time": "2024-08-29T10:22:47.449Z"
   },
   {
    "duration": 919,
    "start_time": "2024-08-29T10:22:51.669Z"
   },
   {
    "duration": 55,
    "start_time": "2024-08-29T10:23:34.758Z"
   },
   {
    "duration": 46,
    "start_time": "2024-08-29T10:23:45.478Z"
   },
   {
    "duration": 955,
    "start_time": "2024-08-29T10:23:52.998Z"
   },
   {
    "duration": 468,
    "start_time": "2024-08-29T10:23:53.955Z"
   },
   {
    "duration": 171,
    "start_time": "2024-08-29T10:23:54.424Z"
   },
   {
    "duration": 950,
    "start_time": "2024-08-29T10:23:54.597Z"
   },
   {
    "duration": 113,
    "start_time": "2024-08-29T10:23:55.549Z"
   },
   {
    "duration": 57,
    "start_time": "2024-08-29T10:23:55.664Z"
   },
   {
    "duration": 44,
    "start_time": "2024-08-29T10:23:55.723Z"
   },
   {
    "duration": 169,
    "start_time": "2024-08-29T10:25:39.434Z"
   },
   {
    "duration": 41,
    "start_time": "2024-08-29T10:25:44.655Z"
   },
   {
    "duration": 25,
    "start_time": "2024-08-29T10:26:57.396Z"
   },
   {
    "duration": 16,
    "start_time": "2024-08-29T10:27:03.072Z"
   },
   {
    "duration": 19,
    "start_time": "2024-08-29T10:27:16.163Z"
   },
   {
    "duration": 32,
    "start_time": "2024-08-29T10:29:49.013Z"
   },
   {
    "duration": 44,
    "start_time": "2024-08-29T10:29:54.404Z"
   },
   {
    "duration": 46,
    "start_time": "2024-08-29T10:30:05.860Z"
   },
   {
    "duration": 36908,
    "start_time": "2024-08-29T10:31:33.762Z"
   },
   {
    "duration": 0,
    "start_time": "2024-08-29T10:32:10.672Z"
   },
   {
    "duration": 1046,
    "start_time": "2024-08-29T10:32:22.954Z"
   },
   {
    "duration": 438,
    "start_time": "2024-08-29T10:32:24.002Z"
   },
   {
    "duration": 164,
    "start_time": "2024-08-29T10:32:24.441Z"
   },
   {
    "duration": 998,
    "start_time": "2024-08-29T10:32:24.607Z"
   },
   {
    "duration": 103,
    "start_time": "2024-08-29T10:32:25.606Z"
   },
   {
    "duration": 55,
    "start_time": "2024-08-29T10:32:25.711Z"
   },
   {
    "duration": 73,
    "start_time": "2024-08-29T10:32:25.767Z"
   },
   {
    "duration": 167,
    "start_time": "2024-08-29T10:32:25.842Z"
   },
   {
    "duration": 42,
    "start_time": "2024-08-29T10:32:26.011Z"
   },
   {
    "duration": 101,
    "start_time": "2024-08-29T10:32:26.606Z"
   },
   {
    "duration": 4559,
    "start_time": "2024-08-29T10:32:26.854Z"
   },
   {
    "duration": 42,
    "start_time": "2024-08-29T10:32:31.415Z"
   },
   {
    "duration": 3599,
    "start_time": "2024-08-29T10:32:31.459Z"
   },
   {
    "duration": 4409,
    "start_time": "2024-08-29T10:32:49.446Z"
   },
   {
    "duration": 66,
    "start_time": "2024-08-29T10:51:34.175Z"
   },
   {
    "duration": 4,
    "start_time": "2024-08-29T10:51:34.586Z"
   },
   {
    "duration": 16,
    "start_time": "2024-08-29T10:51:34.850Z"
   },
   {
    "duration": 3967,
    "start_time": "2024-08-29T10:51:35.474Z"
   },
   {
    "duration": 632,
    "start_time": "2024-08-29T10:51:46.442Z"
   },
   {
    "duration": 3,
    "start_time": "2024-08-29T10:52:01.166Z"
   },
   {
    "duration": 2,
    "start_time": "2024-08-29T10:52:03.606Z"
   },
   {
    "duration": 9340,
    "start_time": "2024-08-29T10:52:08.578Z"
   },
   {
    "duration": 1103,
    "start_time": "2024-08-29T10:52:17.920Z"
   },
   {
    "duration": 2,
    "start_time": "2024-08-29T10:52:31.807Z"
   },
   {
    "duration": 39362,
    "start_time": "2024-08-29T10:53:14.546Z"
   },
   {
    "duration": 14,
    "start_time": "2024-08-29T10:54:09.843Z"
   },
   {
    "duration": 12,
    "start_time": "2024-08-29T10:55:43.581Z"
   },
   {
    "duration": 13,
    "start_time": "2024-08-29T10:55:50.004Z"
   },
   {
    "duration": 17204,
    "start_time": "2024-08-29T10:55:55.628Z"
   },
   {
    "duration": 12896,
    "start_time": "2024-08-29T10:56:29.833Z"
   },
   {
    "duration": 13530,
    "start_time": "2024-08-29T10:57:55.289Z"
   },
   {
    "duration": 13858,
    "start_time": "2024-08-29T10:58:23.373Z"
   },
   {
    "duration": 13558,
    "start_time": "2024-08-29T10:58:49.882Z"
   },
   {
    "duration": 5816,
    "start_time": "2024-08-29T13:11:48.732Z"
   },
   {
    "duration": 4,
    "start_time": "2024-08-29T13:12:31.607Z"
   },
   {
    "duration": 19,
    "start_time": "2024-08-29T13:13:44.939Z"
   },
   {
    "duration": 3,
    "start_time": "2024-08-29T13:13:48.883Z"
   },
   {
    "duration": 25999,
    "start_time": "2024-08-29T13:13:49.815Z"
   },
   {
    "duration": 25942,
    "start_time": "2024-08-29T13:14:24.864Z"
   },
   {
    "duration": 3,
    "start_time": "2024-08-29T13:15:36.528Z"
   },
   {
    "duration": 12,
    "start_time": "2024-08-29T13:15:47.978Z"
   },
   {
    "duration": 3,
    "start_time": "2024-08-29T13:15:58.664Z"
   },
   {
    "duration": 4,
    "start_time": "2024-08-29T13:16:01.896Z"
   },
   {
    "duration": 3,
    "start_time": "2024-08-29T13:16:23.312Z"
   },
   {
    "duration": 3,
    "start_time": "2024-08-29T13:16:33.033Z"
   },
   {
    "duration": 20680,
    "start_time": "2024-08-29T13:18:51.730Z"
   },
   {
    "duration": 5705,
    "start_time": "2024-08-29T13:20:16.962Z"
   },
   {
    "duration": 20047,
    "start_time": "2024-08-29T13:22:38.267Z"
   },
   {
    "duration": 20251,
    "start_time": "2024-08-29T13:23:08.960Z"
   },
   {
    "duration": 19178,
    "start_time": "2024-08-29T13:23:42.228Z"
   },
   {
    "duration": 17,
    "start_time": "2024-08-29T13:24:45.512Z"
   },
   {
    "duration": 11,
    "start_time": "2024-08-29T13:25:30.281Z"
   },
   {
    "duration": 10,
    "start_time": "2024-08-29T13:25:43.409Z"
   },
   {
    "duration": 6,
    "start_time": "2024-08-29T13:27:01.277Z"
   },
   {
    "duration": 20459,
    "start_time": "2024-08-29T13:30:22.646Z"
   },
   {
    "duration": 19650,
    "start_time": "2024-08-29T13:32:58.555Z"
   },
   {
    "duration": 19337,
    "start_time": "2024-08-29T13:34:51.584Z"
   },
   {
    "duration": 20715,
    "start_time": "2024-08-29T13:35:14.100Z"
   },
   {
    "duration": 4,
    "start_time": "2024-08-29T13:35:49.620Z"
   },
   {
    "duration": 61,
    "start_time": "2024-08-29T13:36:11.229Z"
   },
   {
    "duration": 48,
    "start_time": "2024-08-29T13:45:05.585Z"
   },
   {
    "duration": 4,
    "start_time": "2024-08-29T13:45:20.689Z"
   },
   {
    "duration": 13,
    "start_time": "2024-08-29T13:45:27.913Z"
   },
   {
    "duration": 200,
    "start_time": "2024-08-29T13:45:34.777Z"
   },
   {
    "duration": 201,
    "start_time": "2024-08-29T13:46:42.093Z"
   },
   {
    "duration": 68,
    "start_time": "2024-08-29T13:46:45.889Z"
   },
   {
    "duration": 4,
    "start_time": "2024-08-29T13:46:46.473Z"
   },
   {
    "duration": 14,
    "start_time": "2024-08-29T13:46:46.953Z"
   },
   {
    "duration": 95,
    "start_time": "2024-08-29T13:47:05.545Z"
   },
   {
    "duration": 4,
    "start_time": "2024-08-29T13:47:05.797Z"
   },
   {
    "duration": 15,
    "start_time": "2024-08-29T13:47:06.029Z"
   },
   {
    "duration": 3469,
    "start_time": "2024-08-29T13:47:06.574Z"
   },
   {
    "duration": 627,
    "start_time": "2024-08-29T13:47:19.853Z"
   },
   {
    "duration": 193,
    "start_time": "2024-08-29T13:47:27.382Z"
   },
   {
    "duration": 50,
    "start_time": "2024-08-29T13:49:33.446Z"
   },
   {
    "duration": 7637,
    "start_time": "2024-08-29T13:49:39.449Z"
   },
   {
    "duration": 1435,
    "start_time": "2024-08-29T13:49:47.088Z"
   },
   {
    "duration": 129,
    "start_time": "2024-08-29T13:49:48.524Z"
   },
   {
    "duration": 105,
    "start_time": "2024-08-29T13:49:48.655Z"
   },
   {
    "duration": 997,
    "start_time": "2024-08-29T13:49:48.762Z"
   },
   {
    "duration": 455,
    "start_time": "2024-08-29T13:49:49.761Z"
   },
   {
    "duration": 164,
    "start_time": "2024-08-29T13:49:50.217Z"
   },
   {
    "duration": 938,
    "start_time": "2024-08-29T13:49:50.383Z"
   },
   {
    "duration": 106,
    "start_time": "2024-08-29T13:49:51.323Z"
   },
   {
    "duration": 54,
    "start_time": "2024-08-29T13:49:51.433Z"
   },
   {
    "duration": 58,
    "start_time": "2024-08-29T13:49:51.488Z"
   },
   {
    "duration": 180,
    "start_time": "2024-08-29T13:49:51.548Z"
   },
   {
    "duration": 40,
    "start_time": "2024-08-29T13:49:51.730Z"
   },
   {
    "duration": 114,
    "start_time": "2024-08-29T13:49:51.771Z"
   },
   {
    "duration": 4639,
    "start_time": "2024-08-29T13:49:51.887Z"
   },
   {
    "duration": 42,
    "start_time": "2024-08-29T13:49:56.527Z"
   },
   {
    "duration": 3414,
    "start_time": "2024-08-29T13:49:56.570Z"
   },
   {
    "duration": 75,
    "start_time": "2024-08-29T13:49:59.986Z"
   },
   {
    "duration": 3,
    "start_time": "2024-08-29T13:50:00.063Z"
   },
   {
    "duration": 51,
    "start_time": "2024-08-29T13:50:00.068Z"
   },
   {
    "duration": 3706,
    "start_time": "2024-08-29T13:50:00.121Z"
   },
   {
    "duration": 626,
    "start_time": "2024-08-29T13:50:03.829Z"
   },
   {
    "duration": 3,
    "start_time": "2024-08-29T13:50:04.456Z"
   },
   {
    "duration": 20348,
    "start_time": "2024-08-29T13:50:04.460Z"
   },
   {
    "duration": 20202,
    "start_time": "2024-08-29T13:50:24.810Z"
   },
   {
    "duration": 291,
    "start_time": "2024-08-29T13:50:45.015Z"
   },
   {
    "duration": 7516,
    "start_time": "2024-08-29T13:51:18.831Z"
   },
   {
    "duration": 1414,
    "start_time": "2024-08-29T13:51:26.350Z"
   },
   {
    "duration": 135,
    "start_time": "2024-08-29T13:51:27.765Z"
   },
   {
    "duration": 112,
    "start_time": "2024-08-29T13:51:27.905Z"
   },
   {
    "duration": 1000,
    "start_time": "2024-08-29T13:51:28.019Z"
   },
   {
    "duration": 449,
    "start_time": "2024-08-29T13:51:29.021Z"
   },
   {
    "duration": 164,
    "start_time": "2024-08-29T13:51:29.472Z"
   },
   {
    "duration": 989,
    "start_time": "2024-08-29T13:51:29.638Z"
   },
   {
    "duration": 106,
    "start_time": "2024-08-29T13:51:30.629Z"
   },
   {
    "duration": 94,
    "start_time": "2024-08-29T13:51:30.736Z"
   },
   {
    "duration": 45,
    "start_time": "2024-08-29T13:51:30.832Z"
   },
   {
    "duration": 181,
    "start_time": "2024-08-29T13:51:30.879Z"
   },
   {
    "duration": 54,
    "start_time": "2024-08-29T13:51:31.062Z"
   },
   {
    "duration": 106,
    "start_time": "2024-08-29T13:51:31.118Z"
   },
   {
    "duration": 4622,
    "start_time": "2024-08-29T13:51:31.225Z"
   },
   {
    "duration": 56,
    "start_time": "2024-08-29T13:51:35.849Z"
   },
   {
    "duration": 3414,
    "start_time": "2024-08-29T13:51:35.907Z"
   },
   {
    "duration": 67,
    "start_time": "2024-08-29T13:51:39.323Z"
   },
   {
    "duration": 14,
    "start_time": "2024-08-29T13:51:39.392Z"
   },
   {
    "duration": 35,
    "start_time": "2024-08-29T13:51:39.407Z"
   },
   {
    "duration": 3543,
    "start_time": "2024-08-29T13:51:39.444Z"
   },
   {
    "duration": 615,
    "start_time": "2024-08-29T13:51:51.523Z"
   },
   {
    "duration": 52,
    "start_time": "2024-08-29T13:53:33.968Z"
   },
   {
    "duration": 7401,
    "start_time": "2024-08-29T13:53:51.516Z"
   },
   {
    "duration": 82,
    "start_time": "2024-08-29T13:54:12.079Z"
   },
   {
    "duration": 5776,
    "start_time": "2024-08-29T13:54:28.256Z"
   },
   {
    "duration": 1453,
    "start_time": "2024-08-29T13:54:34.034Z"
   },
   {
    "duration": 150,
    "start_time": "2024-08-29T13:54:35.489Z"
   },
   {
    "duration": 112,
    "start_time": "2024-08-29T13:54:35.641Z"
   },
   {
    "duration": 1034,
    "start_time": "2024-08-29T13:54:35.754Z"
   },
   {
    "duration": 468,
    "start_time": "2024-08-29T13:54:36.790Z"
   },
   {
    "duration": 170,
    "start_time": "2024-08-29T13:54:37.260Z"
   },
   {
    "duration": 933,
    "start_time": "2024-08-29T13:54:37.432Z"
   },
   {
    "duration": 102,
    "start_time": "2024-08-29T13:54:38.367Z"
   },
   {
    "duration": 61,
    "start_time": "2024-08-29T13:54:38.472Z"
   },
   {
    "duration": 43,
    "start_time": "2024-08-29T13:54:38.534Z"
   },
   {
    "duration": 183,
    "start_time": "2024-08-29T13:54:38.579Z"
   },
   {
    "duration": 48,
    "start_time": "2024-08-29T13:54:38.764Z"
   },
   {
    "duration": 103,
    "start_time": "2024-08-29T13:54:38.814Z"
   },
   {
    "duration": 7217,
    "start_time": "2024-08-29T13:54:50.595Z"
   },
   {
    "duration": 1106,
    "start_time": "2024-08-29T13:54:57.814Z"
   },
   {
    "duration": 142,
    "start_time": "2024-08-29T13:54:58.922Z"
   },
   {
    "duration": 111,
    "start_time": "2024-08-29T13:54:59.066Z"
   },
   {
    "duration": 1007,
    "start_time": "2024-08-29T13:54:59.179Z"
   },
   {
    "duration": 453,
    "start_time": "2024-08-29T13:55:00.187Z"
   },
   {
    "duration": 164,
    "start_time": "2024-08-29T13:55:00.642Z"
   },
   {
    "duration": 931,
    "start_time": "2024-08-29T13:55:00.807Z"
   },
   {
    "duration": 108,
    "start_time": "2024-08-29T13:55:01.740Z"
   },
   {
    "duration": 58,
    "start_time": "2024-08-29T13:55:01.850Z"
   },
   {
    "duration": 45,
    "start_time": "2024-08-29T13:55:01.910Z"
   },
   {
    "duration": 180,
    "start_time": "2024-08-29T13:55:01.956Z"
   },
   {
    "duration": 38,
    "start_time": "2024-08-29T13:55:02.138Z"
   },
   {
    "duration": 123,
    "start_time": "2024-08-29T13:55:02.178Z"
   },
   {
    "duration": 4625,
    "start_time": "2024-08-29T13:55:02.303Z"
   },
   {
    "duration": 44,
    "start_time": "2024-08-29T13:55:06.930Z"
   },
   {
    "duration": 3525,
    "start_time": "2024-08-29T13:55:06.976Z"
   },
   {
    "duration": 66,
    "start_time": "2024-08-29T13:55:10.502Z"
   },
   {
    "duration": 3,
    "start_time": "2024-08-29T13:55:10.570Z"
   },
   {
    "duration": 34,
    "start_time": "2024-08-29T13:55:10.575Z"
   },
   {
    "duration": 3631,
    "start_time": "2024-08-29T13:55:10.611Z"
   },
   {
    "duration": 619,
    "start_time": "2024-08-29T13:55:14.244Z"
   },
   {
    "duration": 7550,
    "start_time": "2024-08-29T13:55:55.921Z"
   },
   {
    "duration": 1407,
    "start_time": "2024-08-29T13:56:03.474Z"
   },
   {
    "duration": 131,
    "start_time": "2024-08-29T13:56:04.883Z"
   },
   {
    "duration": 109,
    "start_time": "2024-08-29T13:56:05.015Z"
   },
   {
    "duration": 1090,
    "start_time": "2024-08-29T13:56:05.127Z"
   },
   {
    "duration": 456,
    "start_time": "2024-08-29T13:56:06.218Z"
   },
   {
    "duration": 167,
    "start_time": "2024-08-29T13:56:06.675Z"
   },
   {
    "duration": 930,
    "start_time": "2024-08-29T13:56:06.844Z"
   },
   {
    "duration": 104,
    "start_time": "2024-08-29T13:56:07.776Z"
   },
   {
    "duration": 62,
    "start_time": "2024-08-29T13:56:07.881Z"
   },
   {
    "duration": 44,
    "start_time": "2024-08-29T13:56:07.944Z"
   },
   {
    "duration": 177,
    "start_time": "2024-08-29T13:56:07.989Z"
   },
   {
    "duration": 54,
    "start_time": "2024-08-29T13:56:08.168Z"
   },
   {
    "duration": 109,
    "start_time": "2024-08-29T13:56:08.225Z"
   },
   {
    "duration": 4545,
    "start_time": "2024-08-29T13:56:08.336Z"
   },
   {
    "duration": 48,
    "start_time": "2024-08-29T13:56:12.882Z"
   },
   {
    "duration": 3491,
    "start_time": "2024-08-29T13:56:12.932Z"
   },
   {
    "duration": 65,
    "start_time": "2024-08-29T13:56:16.424Z"
   },
   {
    "duration": 14,
    "start_time": "2024-08-29T13:56:16.491Z"
   },
   {
    "duration": 22,
    "start_time": "2024-08-29T13:56:16.507Z"
   },
   {
    "duration": 3565,
    "start_time": "2024-08-29T13:56:16.531Z"
   },
   {
    "duration": 619,
    "start_time": "2024-08-29T13:56:20.098Z"
   },
   {
    "duration": 3,
    "start_time": "2024-08-29T13:56:20.719Z"
   },
   {
    "duration": 20083,
    "start_time": "2024-08-29T13:56:20.723Z"
   },
   {
    "duration": 19997,
    "start_time": "2024-08-29T13:56:40.808Z"
   },
   {
    "duration": 265,
    "start_time": "2024-08-29T13:57:00.807Z"
   },
   {
    "duration": 51,
    "start_time": "2024-08-29T13:57:46.237Z"
   },
   {
    "duration": 6,
    "start_time": "2024-08-29T13:58:07.673Z"
   },
   {
    "duration": 7495,
    "start_time": "2024-08-29T13:58:12.901Z"
   },
   {
    "duration": 1403,
    "start_time": "2024-08-29T13:58:20.398Z"
   },
   {
    "duration": 129,
    "start_time": "2024-08-29T13:58:21.802Z"
   },
   {
    "duration": 107,
    "start_time": "2024-08-29T13:58:21.933Z"
   },
   {
    "duration": 1013,
    "start_time": "2024-08-29T13:58:22.042Z"
   },
   {
    "duration": 442,
    "start_time": "2024-08-29T13:58:23.056Z"
   },
   {
    "duration": 159,
    "start_time": "2024-08-29T13:58:23.506Z"
   },
   {
    "duration": 941,
    "start_time": "2024-08-29T13:58:23.666Z"
   },
   {
    "duration": 103,
    "start_time": "2024-08-29T13:58:24.609Z"
   },
   {
    "duration": 55,
    "start_time": "2024-08-29T13:58:24.715Z"
   },
   {
    "duration": 67,
    "start_time": "2024-08-29T13:58:24.771Z"
   },
   {
    "duration": 180,
    "start_time": "2024-08-29T13:58:24.839Z"
   },
   {
    "duration": 46,
    "start_time": "2024-08-29T13:58:25.021Z"
   },
   {
    "duration": 122,
    "start_time": "2024-08-29T13:58:25.068Z"
   },
   {
    "duration": 4676,
    "start_time": "2024-08-29T13:58:25.192Z"
   },
   {
    "duration": 52,
    "start_time": "2024-08-29T13:58:29.869Z"
   },
   {
    "duration": 3422,
    "start_time": "2024-08-29T13:58:29.923Z"
   },
   {
    "duration": 69,
    "start_time": "2024-08-29T13:58:33.346Z"
   },
   {
    "duration": 6,
    "start_time": "2024-08-29T13:58:33.417Z"
   },
   {
    "duration": 32,
    "start_time": "2024-08-29T13:58:33.425Z"
   },
   {
    "duration": 3587,
    "start_time": "2024-08-29T13:58:33.459Z"
   },
   {
    "duration": 630,
    "start_time": "2024-08-29T13:58:37.047Z"
   },
   {
    "duration": 3,
    "start_time": "2024-08-29T13:58:37.678Z"
   },
   {
    "duration": 19925,
    "start_time": "2024-08-29T13:58:37.682Z"
   },
   {
    "duration": 21004,
    "start_time": "2024-08-29T13:58:57.608Z"
   },
   {
    "duration": 292,
    "start_time": "2024-08-29T13:59:18.614Z"
   },
   {
    "duration": 52,
    "start_time": "2024-08-29T13:59:34.521Z"
   },
   {
    "duration": 6,
    "start_time": "2024-08-29T14:00:01.050Z"
   },
   {
    "duration": 7485,
    "start_time": "2024-08-29T14:00:09.254Z"
   },
   {
    "duration": 1436,
    "start_time": "2024-08-29T14:00:16.741Z"
   },
   {
    "duration": 6054,
    "start_time": "2024-08-29T14:00:46.286Z"
   },
   {
    "duration": 1155,
    "start_time": "2024-08-29T14:00:52.343Z"
   },
   {
    "duration": 141,
    "start_time": "2024-08-29T14:00:53.499Z"
   },
   {
    "duration": 110,
    "start_time": "2024-08-29T14:00:53.642Z"
   },
   {
    "duration": 1016,
    "start_time": "2024-08-29T14:00:53.754Z"
   },
   {
    "duration": 467,
    "start_time": "2024-08-29T14:00:54.771Z"
   },
   {
    "duration": 206,
    "start_time": "2024-08-29T14:00:55.240Z"
   },
   {
    "duration": 965,
    "start_time": "2024-08-29T14:00:55.448Z"
   },
   {
    "duration": 113,
    "start_time": "2024-08-29T14:00:56.415Z"
   },
   {
    "duration": 56,
    "start_time": "2024-08-29T14:00:56.532Z"
   },
   {
    "duration": 59,
    "start_time": "2024-08-29T14:00:56.590Z"
   },
   {
    "duration": 191,
    "start_time": "2024-08-29T14:00:56.651Z"
   },
   {
    "duration": 40,
    "start_time": "2024-08-29T14:00:56.843Z"
   },
   {
    "duration": 123,
    "start_time": "2024-08-29T14:00:56.885Z"
   },
   {
    "duration": 4699,
    "start_time": "2024-08-29T14:00:57.010Z"
   },
   {
    "duration": 46,
    "start_time": "2024-08-29T14:01:01.711Z"
   },
   {
    "duration": 3690,
    "start_time": "2024-08-29T14:01:01.760Z"
   },
   {
    "duration": 98,
    "start_time": "2024-08-29T14:01:05.452Z"
   },
   {
    "duration": 4,
    "start_time": "2024-08-29T14:01:05.552Z"
   },
   {
    "duration": 16,
    "start_time": "2024-08-29T14:01:05.558Z"
   },
   {
    "duration": 3777,
    "start_time": "2024-08-29T14:01:05.576Z"
   },
   {
    "duration": 638,
    "start_time": "2024-08-29T14:01:09.355Z"
   },
   {
    "duration": 11,
    "start_time": "2024-08-29T14:01:09.994Z"
   },
   {
    "duration": 26509,
    "start_time": "2024-08-29T14:01:10.007Z"
   },
   {
    "duration": 0,
    "start_time": "2024-08-29T14:01:36.518Z"
   },
   {
    "duration": 0,
    "start_time": "2024-08-29T14:01:36.519Z"
   },
   {
    "duration": 0,
    "start_time": "2024-08-29T14:01:36.520Z"
   },
   {
    "duration": 3,
    "start_time": "2024-08-29T14:01:43.746Z"
   },
   {
    "duration": 8773,
    "start_time": "2024-08-29T14:01:45.142Z"
   },
   {
    "duration": 13484,
    "start_time": "2024-08-29T14:03:50.523Z"
   },
   {
    "duration": 3,
    "start_time": "2024-08-29T14:06:04.139Z"
   },
   {
    "duration": 3,
    "start_time": "2024-08-29T14:06:05.119Z"
   },
   {
    "duration": 6304,
    "start_time": "2024-08-29T14:06:10.827Z"
   },
   {
    "duration": 7644,
    "start_time": "2024-08-29T14:07:27.508Z"
   },
   {
    "duration": 4,
    "start_time": "2024-08-29T14:08:42.760Z"
   },
   {
    "duration": 9,
    "start_time": "2024-08-29T14:08:49.473Z"
   },
   {
    "duration": 7648,
    "start_time": "2024-08-29T14:09:10.225Z"
   },
   {
    "duration": 57,
    "start_time": "2024-08-29T14:09:49.165Z"
   },
   {
    "duration": 7625,
    "start_time": "2024-08-29T14:09:52.621Z"
   },
   {
    "duration": 15,
    "start_time": "2024-08-29T14:10:15.449Z"
   },
   {
    "duration": 7519,
    "start_time": "2024-08-29T14:10:21.254Z"
   },
   {
    "duration": 7607,
    "start_time": "2024-08-29T14:10:50.518Z"
   },
   {
    "duration": 6438,
    "start_time": "2024-08-29T14:11:47.586Z"
   },
   {
    "duration": 3,
    "start_time": "2024-08-29T14:12:00.226Z"
   },
   {
    "duration": 2,
    "start_time": "2024-08-29T14:12:01.914Z"
   },
   {
    "duration": 6273,
    "start_time": "2024-08-29T14:12:02.406Z"
   },
   {
    "duration": 6335,
    "start_time": "2024-08-29T14:12:13.082Z"
   },
   {
    "duration": 3,
    "start_time": "2024-08-29T14:12:23.226Z"
   },
   {
    "duration": 6118,
    "start_time": "2024-08-29T14:12:24.050Z"
   },
   {
    "duration": 7605,
    "start_time": "2024-08-29T14:12:37.154Z"
   },
   {
    "duration": 12,
    "start_time": "2024-08-29T14:12:47.514Z"
   },
   {
    "duration": 4,
    "start_time": "2024-08-29T14:13:06.086Z"
   },
   {
    "duration": 20811,
    "start_time": "2024-08-29T14:13:06.598Z"
   },
   {
    "duration": 20395,
    "start_time": "2024-08-29T14:13:27.411Z"
   },
   {
    "duration": 12,
    "start_time": "2024-08-29T14:13:47.807Z"
   },
   {
    "duration": 104,
    "start_time": "2024-08-29T14:13:47.821Z"
   },
   {
    "duration": 55,
    "start_time": "2024-08-29T14:15:45.431Z"
   },
   {
    "duration": 3,
    "start_time": "2024-08-29T14:18:46.469Z"
   },
   {
    "duration": 4,
    "start_time": "2024-08-29T14:19:01.496Z"
   },
   {
    "duration": 10422,
    "start_time": "2024-08-29T14:19:06.889Z"
   },
   {
    "duration": 17257,
    "start_time": "2024-08-29T14:19:31.377Z"
   },
   {
    "duration": 11,
    "start_time": "2024-08-29T14:19:57.553Z"
   },
   {
    "duration": 74974,
    "start_time": "2024-08-29T19:16:20.007Z"
   },
   {
    "duration": 3328,
    "start_time": "2024-08-29T19:17:34.983Z"
   },
   {
    "duration": 139,
    "start_time": "2024-08-29T19:17:38.313Z"
   },
   {
    "duration": 102,
    "start_time": "2024-08-29T19:17:38.454Z"
   },
   {
    "duration": 998,
    "start_time": "2024-08-29T19:17:38.558Z"
   },
   {
    "duration": 447,
    "start_time": "2024-08-29T19:17:39.558Z"
   },
   {
    "duration": 167,
    "start_time": "2024-08-29T19:17:40.006Z"
   },
   {
    "duration": 950,
    "start_time": "2024-08-29T19:17:40.175Z"
   },
   {
    "duration": 106,
    "start_time": "2024-08-29T19:17:41.127Z"
   },
   {
    "duration": 54,
    "start_time": "2024-08-29T19:17:41.237Z"
   },
   {
    "duration": 60,
    "start_time": "2024-08-29T19:17:41.292Z"
   },
   {
    "duration": 160,
    "start_time": "2024-08-29T19:17:41.354Z"
   },
   {
    "duration": 56,
    "start_time": "2024-08-29T19:17:41.516Z"
   },
   {
    "duration": 105,
    "start_time": "2024-08-29T19:17:41.574Z"
   },
   {
    "duration": 4737,
    "start_time": "2024-08-29T19:17:41.681Z"
   },
   {
    "duration": 51,
    "start_time": "2024-08-29T19:17:46.420Z"
   },
   {
    "duration": 3605,
    "start_time": "2024-08-29T19:17:46.473Z"
   },
   {
    "duration": 72,
    "start_time": "2024-08-29T19:17:50.080Z"
   },
   {
    "duration": 4,
    "start_time": "2024-08-29T19:17:50.153Z"
   },
   {
    "duration": 54,
    "start_time": "2024-08-29T19:17:50.159Z"
   },
   {
    "duration": 3742,
    "start_time": "2024-08-29T19:17:50.214Z"
   },
   {
    "duration": 618,
    "start_time": "2024-08-29T19:17:53.958Z"
   },
   {
    "duration": 2,
    "start_time": "2024-08-29T19:17:54.578Z"
   },
   {
    "duration": 29360,
    "start_time": "2024-08-29T19:17:54.581Z"
   },
   {
    "duration": 33595,
    "start_time": "2024-08-29T19:18:23.946Z"
   },
   {
    "duration": 6,
    "start_time": "2024-08-29T19:18:57.543Z"
   },
   {
    "duration": 113296,
    "start_time": "2024-08-29T19:18:57.554Z"
   },
   {
    "duration": 189503,
    "start_time": "2024-08-29T19:20:50.853Z"
   },
   {
    "duration": 3,
    "start_time": "2024-08-29T19:24:00.358Z"
   },
   {
    "duration": 5974,
    "start_time": "2024-08-29T19:24:00.363Z"
   },
   {
    "duration": 7137,
    "start_time": "2024-08-29T19:24:06.349Z"
   },
   {
    "duration": 11,
    "start_time": "2024-08-29T19:24:13.488Z"
   },
   {
    "duration": 62,
    "start_time": "2024-08-29T19:24:13.501Z"
   },
   {
    "duration": 14694,
    "start_time": "2024-08-30T11:51:11.897Z"
   },
   {
    "duration": 3180,
    "start_time": "2024-08-30T11:51:35.561Z"
   },
   {
    "duration": 128,
    "start_time": "2024-08-30T11:51:38.744Z"
   },
   {
    "duration": 109,
    "start_time": "2024-08-30T11:51:38.875Z"
   },
   {
    "duration": 977,
    "start_time": "2024-08-30T11:51:38.987Z"
   },
   {
    "duration": 433,
    "start_time": "2024-08-30T11:51:39.966Z"
   },
   {
    "duration": 152,
    "start_time": "2024-08-30T11:51:40.404Z"
   },
   {
    "duration": 954,
    "start_time": "2024-08-30T11:51:40.558Z"
   },
   {
    "duration": 92,
    "start_time": "2024-08-30T11:51:41.514Z"
   },
   {
    "duration": 50,
    "start_time": "2024-08-30T11:51:41.608Z"
   },
   {
    "duration": 60,
    "start_time": "2024-08-30T11:51:41.661Z"
   },
   {
    "duration": 175,
    "start_time": "2024-08-30T11:51:41.723Z"
   },
   {
    "duration": 38,
    "start_time": "2024-08-30T11:51:41.905Z"
   },
   {
    "duration": 109,
    "start_time": "2024-08-30T11:51:41.945Z"
   },
   {
    "duration": 4536,
    "start_time": "2024-08-30T11:51:42.056Z"
   },
   {
    "duration": 41,
    "start_time": "2024-08-30T11:51:46.594Z"
   },
   {
    "duration": 3438,
    "start_time": "2024-08-30T11:51:46.637Z"
   },
   {
    "duration": 72,
    "start_time": "2024-08-30T11:51:50.077Z"
   },
   {
    "duration": 14,
    "start_time": "2024-08-30T11:51:50.151Z"
   },
   {
    "duration": 41,
    "start_time": "2024-08-30T11:51:50.167Z"
   },
   {
    "duration": 3396,
    "start_time": "2024-08-30T11:51:50.210Z"
   },
   {
    "duration": 631,
    "start_time": "2024-08-30T11:51:53.608Z"
   },
   {
    "duration": 2,
    "start_time": "2024-08-30T11:51:54.242Z"
   },
   {
    "duration": 5483,
    "start_time": "2024-08-30T11:55:35.310Z"
   },
   {
    "duration": 999,
    "start_time": "2024-08-30T11:55:40.795Z"
   },
   {
    "duration": 3,
    "start_time": "2024-08-30T11:55:55.646Z"
   },
   {
    "duration": 3,
    "start_time": "2024-08-30T11:56:11.886Z"
   },
   {
    "duration": 116,
    "start_time": "2024-08-30T11:56:21.714Z"
   },
   {
    "duration": 4,
    "start_time": "2024-08-30T11:57:20.131Z"
   },
   {
    "duration": 3,
    "start_time": "2024-08-30T11:58:09.783Z"
   },
   {
    "duration": 3,
    "start_time": "2024-08-30T11:58:14.895Z"
   },
   {
    "duration": 9,
    "start_time": "2024-08-30T11:58:21.099Z"
   },
   {
    "duration": 4,
    "start_time": "2024-08-30T11:58:55.831Z"
   },
   {
    "duration": 3,
    "start_time": "2024-08-30T11:59:21.357Z"
   },
   {
    "duration": 4,
    "start_time": "2024-08-30T11:59:32.983Z"
   },
   {
    "duration": 96565,
    "start_time": "2024-08-30T12:00:01.065Z"
   },
   {
    "duration": 3,
    "start_time": "2024-08-30T12:01:51.609Z"
   },
   {
    "duration": 168642,
    "start_time": "2024-08-30T12:01:53.665Z"
   },
   {
    "duration": 4,
    "start_time": "2024-08-30T12:04:48.698Z"
   },
   {
    "duration": 7349,
    "start_time": "2024-08-30T12:05:04.434Z"
   },
   {
    "duration": 3296,
    "start_time": "2024-08-30T12:05:11.787Z"
   },
   {
    "duration": 135,
    "start_time": "2024-08-30T12:05:15.085Z"
   },
   {
    "duration": 127,
    "start_time": "2024-08-30T12:05:15.222Z"
   },
   {
    "duration": 961,
    "start_time": "2024-08-30T12:05:15.351Z"
   },
   {
    "duration": 431,
    "start_time": "2024-08-30T12:05:16.314Z"
   },
   {
    "duration": 172,
    "start_time": "2024-08-30T12:05:16.747Z"
   },
   {
    "duration": 914,
    "start_time": "2024-08-30T12:05:16.921Z"
   },
   {
    "duration": 97,
    "start_time": "2024-08-30T12:05:17.837Z"
   },
   {
    "duration": 53,
    "start_time": "2024-08-30T12:05:17.937Z"
   },
   {
    "duration": 52,
    "start_time": "2024-08-30T12:05:17.991Z"
   },
   {
    "duration": 178,
    "start_time": "2024-08-30T12:05:18.045Z"
   },
   {
    "duration": 44,
    "start_time": "2024-08-30T12:05:18.225Z"
   },
   {
    "duration": 140,
    "start_time": "2024-08-30T12:05:18.271Z"
   },
   {
    "duration": 4420,
    "start_time": "2024-08-30T12:05:18.413Z"
   },
   {
    "duration": 49,
    "start_time": "2024-08-30T12:05:22.835Z"
   },
   {
    "duration": 3426,
    "start_time": "2024-08-30T12:05:22.886Z"
   },
   {
    "duration": 64,
    "start_time": "2024-08-30T12:05:26.314Z"
   },
   {
    "duration": 4,
    "start_time": "2024-08-30T12:05:26.380Z"
   },
   {
    "duration": 44,
    "start_time": "2024-08-30T12:05:26.405Z"
   },
   {
    "duration": 3598,
    "start_time": "2024-08-30T12:05:26.451Z"
   },
   {
    "duration": 622,
    "start_time": "2024-08-30T12:05:30.051Z"
   },
   {
    "duration": 3,
    "start_time": "2024-08-30T12:05:30.675Z"
   },
   {
    "duration": 19927,
    "start_time": "2024-08-30T12:05:30.679Z"
   },
   {
    "duration": 19599,
    "start_time": "2024-08-30T12:05:50.608Z"
   },
   {
    "duration": 4,
    "start_time": "2024-08-30T12:06:10.209Z"
   },
   {
    "duration": 120774,
    "start_time": "2024-08-30T12:06:10.215Z"
   },
   {
    "duration": 3,
    "start_time": "2024-08-30T12:08:49.580Z"
   },
   {
    "duration": 47843,
    "start_time": "2024-08-30T12:08:50.267Z"
   },
   {
    "duration": 4,
    "start_time": "2024-08-30T12:10:05.852Z"
   },
   {
    "duration": 4,
    "start_time": "2024-08-30T12:10:08.828Z"
   },
   {
    "duration": 5,
    "start_time": "2024-08-30T12:10:22.932Z"
   },
   {
    "duration": 4,
    "start_time": "2024-08-30T12:10:49.956Z"
   },
   {
    "duration": 141990,
    "start_time": "2024-08-30T12:14:49.118Z"
   },
   {
    "duration": 12,
    "start_time": "2024-08-30T12:18:21.739Z"
   },
   {
    "duration": 2,
    "start_time": "2024-08-30T12:18:36.156Z"
   },
   {
    "duration": 9412,
    "start_time": "2024-08-30T12:19:23.104Z"
   },
   {
    "duration": 5,
    "start_time": "2024-08-30T12:19:47.396Z"
   },
   {
    "duration": 5,
    "start_time": "2024-08-30T12:19:59.476Z"
   },
   {
    "duration": 148325,
    "start_time": "2024-08-30T12:20:06.384Z"
   },
   {
    "duration": 2,
    "start_time": "2024-08-30T12:23:21.242Z"
   },
   {
    "duration": 8,
    "start_time": "2024-08-30T12:23:23.457Z"
   },
   {
    "duration": 7,
    "start_time": "2024-08-30T12:23:33.714Z"
   },
   {
    "duration": 4,
    "start_time": "2024-08-30T12:23:46.766Z"
   },
   {
    "duration": 7,
    "start_time": "2024-08-30T12:23:56.173Z"
   },
   {
    "duration": 145305,
    "start_time": "2024-08-30T12:24:02.105Z"
   },
   {
    "duration": 12,
    "start_time": "2024-08-30T12:27:32.743Z"
   },
   {
    "duration": 9,
    "start_time": "2024-08-30T12:27:40.979Z"
   },
   {
    "duration": 9,
    "start_time": "2024-08-30T12:28:11.371Z"
   },
   {
    "duration": 5,
    "start_time": "2024-08-30T12:28:19.215Z"
   },
   {
    "duration": 4,
    "start_time": "2024-08-30T12:28:46.395Z"
   },
   {
    "duration": 4,
    "start_time": "2024-08-30T12:28:51.612Z"
   },
   {
    "duration": 10554,
    "start_time": "2024-08-30T12:29:52.956Z"
   },
   {
    "duration": 38328,
    "start_time": "2024-08-30T12:30:33.892Z"
   },
   {
    "duration": 17,
    "start_time": "2024-08-30T12:34:45.182Z"
   },
   {
    "duration": 15,
    "start_time": "2024-08-30T12:34:54.870Z"
   },
   {
    "duration": 13,
    "start_time": "2024-08-30T12:34:58.990Z"
   },
   {
    "duration": 859,
    "start_time": "2024-08-30T12:35:22.774Z"
   },
   {
    "duration": 14,
    "start_time": "2024-08-30T12:35:46.694Z"
   },
   {
    "duration": 2543,
    "start_time": "2024-08-30T12:35:55.302Z"
   },
   {
    "duration": 14,
    "start_time": "2024-08-30T12:36:21.237Z"
   },
   {
    "duration": 653,
    "start_time": "2024-08-30T12:36:25.277Z"
   },
   {
    "duration": 14,
    "start_time": "2024-08-30T12:36:32.118Z"
   },
   {
    "duration": 566,
    "start_time": "2024-08-30T12:36:45.389Z"
   },
   {
    "duration": 6250,
    "start_time": "2024-08-30T12:36:51.821Z"
   },
   {
    "duration": 181370,
    "start_time": "2024-08-30T12:39:40.559Z"
   },
   {
    "duration": 3,
    "start_time": "2024-08-30T12:43:23.017Z"
   },
   {
    "duration": 4,
    "start_time": "2024-08-30T12:43:43.269Z"
   },
   {
    "duration": 4,
    "start_time": "2024-08-30T12:43:50.500Z"
   },
   {
    "duration": 3,
    "start_time": "2024-08-30T12:43:57.040Z"
   },
   {
    "duration": 25011,
    "start_time": "2024-08-30T12:44:04.365Z"
   },
   {
    "duration": 40776,
    "start_time": "2024-08-30T12:44:36.405Z"
   },
   {
    "duration": 111,
    "start_time": "2024-08-30T12:45:27.681Z"
   },
   {
    "duration": 15,
    "start_time": "2024-08-30T12:45:45.722Z"
   },
   {
    "duration": 1020,
    "start_time": "2024-08-30T12:49:02.598Z"
   },
   {
    "duration": 10,
    "start_time": "2024-08-30T12:49:10.031Z"
   },
   {
    "duration": 989,
    "start_time": "2024-08-30T12:49:53.831Z"
   }
  ],
  "kernelspec": {
   "display_name": "Python [conda env:base] *",
   "language": "python",
   "name": "conda-base-py"
  },
  "language_info": {
   "codemirror_mode": {
    "name": "ipython",
    "version": 3
   },
   "file_extension": ".py",
   "mimetype": "text/x-python",
   "name": "python",
   "nbconvert_exporter": "python",
   "pygments_lexer": "ipython3",
   "version": "3.12.7"
  },
  "toc": {
   "base_numbering": 1,
   "nav_menu": {},
   "number_sections": true,
   "sideBar": true,
   "skip_h1_title": true,
   "title_cell": "Table of Contents",
   "title_sidebar": "Contents",
   "toc_cell": false,
   "toc_position": {},
   "toc_section_display": true,
   "toc_window_display": true
  }
 },
 "nbformat": 4,
 "nbformat_minor": 4
}
